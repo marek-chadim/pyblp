{
 "cells": [
  {
   "cell_type": "markdown",
   "id": "0b46e813-706e-4ce1-98ad-2d0d6c32b08c",
   "metadata": {},
   "source": [
    "## Exercise 2"
   ]
  },
  {
   "cell_type": "markdown",
   "id": "cda50241-5e79-4148-a03d-76658ee3bce2",
   "metadata": {},
   "source": [
    "We'll first just copy relevant code from the last exercise to start where we left off."
   ]
  },
  {
   "cell_type": "code",
   "execution_count": 1,
   "id": "3b32a9b3-4d44-4cae-8007-815ee0530381",
   "metadata": {
    "scrolled": true
   },
   "outputs": [
    {
     "data": {
      "text/html": [
       "<style>pre { white-space: pre !important; }</style>"
      ],
      "text/plain": [
       "<IPython.core.display.HTML object>"
      ]
     },
     "metadata": {},
     "output_type": "display_data"
    }
   ],
   "source": [
    "import pyblp\n",
    "import numpy as np\n",
    "import pandas as pd\n",
    "import statsmodels.formula.api as smf\n",
    "\n",
    "pyblp.options.digits = 3\n",
    "pyblp.options.verbose = False\n",
    "pd.options.display.precision = 3\n",
    "pd.options.display.max_columns = 50\n",
    "\n",
    "import IPython.display\n",
    "IPython.display.display(IPython.display.HTML('<style>pre { white-space: pre !important; }</style>'))\n",
    "\n",
    "# Relevant code from exercise 1.1\n",
    "product_data = pd.read_csv('https://github.com/Mixtape-Sessions/Demand-Estimation/raw/main/Exercises/Data/products.csv')\n",
    "\n",
    "# Relevant code from exercise 1.2\n",
    "product_data['market_size'] = product_data['city_population'] * 90\n",
    "product_data['market_share'] = product_data['servings_sold'] / product_data['market_size']\n",
    "\n",
    "# Relevant code from exercise 1.4\n",
    "product_data = product_data.rename(columns={\n",
    "    'market': 'market_ids',\n",
    "    'product': 'product_ids',\n",
    "    'market_share': 'shares',\n",
    "    'price_per_serving': 'prices',\n",
    "})\n",
    "\n",
    "# Relevant code from exercise 1.6\n",
    "first_stage = smf.ols('prices ~ 0 + price_instrument + C(market_ids) + C(product_ids)', product_data)\n",
    "first_stage_results = first_stage.fit(cov_type='HC0')\n",
    "product_data = product_data.rename(columns={'price_instrument': 'demand_instruments0'})\n",
    "iv_problem = pyblp.Problem(pyblp.Formulation('0 + prices', absorb='C(market_ids) + C(product_ids)'), product_data)\n",
    "iv_results = iv_problem.solve(method='1s')\n",
    "\n",
    "# Relevant code from exercise 1.7\n",
    "counterfactual_market = 'C01Q2'\n",
    "counterfactual_data = product_data.loc[product_data['market_ids'] == counterfactual_market, ['product_ids', 'mushy', 'prices', 'shares']]\n",
    "counterfactual_data['new_prices'] = counterfactual_data['prices']\n",
    "counterfactual_data.loc[counterfactual_data['product_ids'] == 'F1B04', 'new_prices'] /= 2\n",
    "counterfactual_data['new_shares'] = iv_results.compute_shares(market_id=counterfactual_market, prices=counterfactual_data['new_prices'])\n",
    "counterfactual_data['iv_change'] = 100 * (counterfactual_data['new_shares'] - counterfactual_data['shares']) / counterfactual_data['shares']"
   ]
  },
  {
   "cell_type": "markdown",
   "id": "e229ac18-d559-412d-b337-bb3a1276759c",
   "metadata": {},
   "source": [
    "### 1. Describe cross-market variation"
   ]
  },
  {
   "cell_type": "markdown",
   "id": "2b0f3be9-6867-41f7-a64b-b5df6887b737",
   "metadata": {},
   "source": [
    "Let's first look at the amount of cross-market choice set variation."
   ]
  },
  {
   "cell_type": "code",
   "execution_count": 2,
   "id": "1888a73f-d5d5-4bad-a62f-51f87b8ad2f9",
   "metadata": {},
   "outputs": [
    {
     "data": {
      "application/vnd.microsoft.datawrangler.viewer.v0+json": {
       "columns": [
        {
         "name": "index",
         "rawType": "object",
         "type": "string"
        },
        {
         "name": "products",
         "rawType": "float64",
         "type": "float"
        },
        {
         "name": "mushy_mean",
         "rawType": "float64",
         "type": "float"
        },
        {
         "name": "mushy_std",
         "rawType": "float64",
         "type": "float"
        },
        {
         "name": "prices_mean",
         "rawType": "float64",
         "type": "float"
        },
        {
         "name": "prices_std",
         "rawType": "float64",
         "type": "float"
        }
       ],
       "ref": "e10cde7a-bc83-4e9c-8afa-32d8ee1e677b",
       "rows": [
        [
         "count",
         "94.0",
         "94.0",
         "94.0",
         "94.0",
         "94.0"
        ],
        [
         "mean",
         "24.0",
         "0.33333333333333326",
         "0.4815434123430769",
         "0.1257396567881206",
         "0.02896293335244341"
        ],
        [
         "std",
         "0.0",
         "4.464704023073559e-16",
         "3.348528017305169e-16",
         "0.005065770730453546",
         "0.0037571206709809857"
        ],
        [
         "min",
         "24.0",
         "0.3333333333333333",
         "0.4815434123430768",
         "0.11209998004166666",
         "0.021883610574048442"
        ],
        [
         "25%",
         "24.0",
         "0.3333333333333333",
         "0.4815434123430768",
         "0.12167036272916668",
         "0.026265423669281696"
        ],
        [
         "50%",
         "24.0",
         "0.3333333333333333",
         "0.4815434123430768",
         "0.12583420214583332",
         "0.028182141382398773"
        ],
        [
         "75%",
         "24.0",
         "0.3333333333333333",
         "0.4815434123430768",
         "0.12924905610416668",
         "0.03140958636458099"
        ],
        [
         "max",
         "24.0",
         "0.3333333333333333",
         "0.4815434123430768",
         "0.13753183941666666",
         "0.03834076432773894"
        ]
       ],
       "shape": {
        "columns": 5,
        "rows": 8
       }
      },
      "text/html": [
       "<div>\n",
       "<style scoped>\n",
       "    .dataframe tbody tr th:only-of-type {\n",
       "        vertical-align: middle;\n",
       "    }\n",
       "\n",
       "    .dataframe tbody tr th {\n",
       "        vertical-align: top;\n",
       "    }\n",
       "\n",
       "    .dataframe thead th {\n",
       "        text-align: right;\n",
       "    }\n",
       "</style>\n",
       "<table border=\"1\" class=\"dataframe\">\n",
       "  <thead>\n",
       "    <tr style=\"text-align: right;\">\n",
       "      <th></th>\n",
       "      <th>products</th>\n",
       "      <th>mushy_mean</th>\n",
       "      <th>mushy_std</th>\n",
       "      <th>prices_mean</th>\n",
       "      <th>prices_std</th>\n",
       "    </tr>\n",
       "  </thead>\n",
       "  <tbody>\n",
       "    <tr>\n",
       "      <th>count</th>\n",
       "      <td>94.0</td>\n",
       "      <td>9.400e+01</td>\n",
       "      <td>9.400e+01</td>\n",
       "      <td>94.000</td>\n",
       "      <td>94.000</td>\n",
       "    </tr>\n",
       "    <tr>\n",
       "      <th>mean</th>\n",
       "      <td>24.0</td>\n",
       "      <td>3.333e-01</td>\n",
       "      <td>4.815e-01</td>\n",
       "      <td>0.126</td>\n",
       "      <td>0.029</td>\n",
       "    </tr>\n",
       "    <tr>\n",
       "      <th>std</th>\n",
       "      <td>0.0</td>\n",
       "      <td>4.465e-16</td>\n",
       "      <td>3.349e-16</td>\n",
       "      <td>0.005</td>\n",
       "      <td>0.004</td>\n",
       "    </tr>\n",
       "    <tr>\n",
       "      <th>min</th>\n",
       "      <td>24.0</td>\n",
       "      <td>3.333e-01</td>\n",
       "      <td>4.815e-01</td>\n",
       "      <td>0.112</td>\n",
       "      <td>0.022</td>\n",
       "    </tr>\n",
       "    <tr>\n",
       "      <th>25%</th>\n",
       "      <td>24.0</td>\n",
       "      <td>3.333e-01</td>\n",
       "      <td>4.815e-01</td>\n",
       "      <td>0.122</td>\n",
       "      <td>0.026</td>\n",
       "    </tr>\n",
       "    <tr>\n",
       "      <th>50%</th>\n",
       "      <td>24.0</td>\n",
       "      <td>3.333e-01</td>\n",
       "      <td>4.815e-01</td>\n",
       "      <td>0.126</td>\n",
       "      <td>0.028</td>\n",
       "    </tr>\n",
       "    <tr>\n",
       "      <th>75%</th>\n",
       "      <td>24.0</td>\n",
       "      <td>3.333e-01</td>\n",
       "      <td>4.815e-01</td>\n",
       "      <td>0.129</td>\n",
       "      <td>0.031</td>\n",
       "    </tr>\n",
       "    <tr>\n",
       "      <th>max</th>\n",
       "      <td>24.0</td>\n",
       "      <td>3.333e-01</td>\n",
       "      <td>4.815e-01</td>\n",
       "      <td>0.138</td>\n",
       "      <td>0.038</td>\n",
       "    </tr>\n",
       "  </tbody>\n",
       "</table>\n",
       "</div>"
      ],
      "text/plain": [
       "       products  mushy_mean  mushy_std  prices_mean  prices_std\n",
       "count      94.0   9.400e+01  9.400e+01       94.000      94.000\n",
       "mean       24.0   3.333e-01  4.815e-01        0.126       0.029\n",
       "std         0.0   4.465e-16  3.349e-16        0.005       0.004\n",
       "min        24.0   3.333e-01  4.815e-01        0.112       0.022\n",
       "25%        24.0   3.333e-01  4.815e-01        0.122       0.026\n",
       "50%        24.0   3.333e-01  4.815e-01        0.126       0.028\n",
       "75%        24.0   3.333e-01  4.815e-01        0.129       0.031\n",
       "max        24.0   3.333e-01  4.815e-01        0.138       0.038"
      ]
     },
     "execution_count": 2,
     "metadata": {},
     "output_type": "execute_result"
    }
   ],
   "source": [
    "choice_variation = product_data.groupby('market_ids', as_index=False).agg(**{\n",
    "    'products': ('product_ids', 'count'),\n",
    "    'mushy_mean': ('mushy', 'mean'),\n",
    "    'mushy_std': ('mushy', 'std'),\n",
    "    'prices_mean': ('prices', 'mean'),\n",
    "    'prices_std': ('prices', 'std'),\n",
    "})\n",
    "choice_variation.describe()"
   ]
  },
  {
   "cell_type": "markdown",
   "id": "8e8dceb7-da17-4bf3-8ded-b67173bacea4",
   "metadata": {},
   "source": [
    "The same 20 products are present in each market, and mushyness does not change across markets. So there is no cross-market variation in the number of products or mushyness. However, there is cross-market variation in prices. Recalling the linear regression intuition for identification, this means that we have hope of credibly identifying the amount of unobserved preference heterogeneity for price, but not for a constant or mushy.\n",
    "\n",
    "Next, let's load the new demographic data."
   ]
  },
  {
   "cell_type": "code",
   "execution_count": 3,
   "id": "1e572d01-96dd-45e8-aaec-a6843dee5142",
   "metadata": {},
   "outputs": [
    {
     "data": {
      "application/vnd.microsoft.datawrangler.viewer.v0+json": {
       "columns": [
        {
         "name": "index",
         "rawType": "int64",
         "type": "integer"
        },
        {
         "name": "market_ids",
         "rawType": "object",
         "type": "string"
        },
        {
         "name": "quarterly_income",
         "rawType": "float64",
         "type": "float"
        }
       ],
       "ref": "f1550c2f-a296-44cf-b347-6db1ff293872",
       "rows": [
        [
         "511",
         "C18Q2",
         "3785.817411799812"
        ],
        [
         "124",
         "C05Q1",
         "4359.937086920356"
        ],
        [
         "217",
         "C08Q1",
         "3822.9155142317786"
        ],
        [
         "1426",
         "C47Q2",
         "1708.1626079767775"
        ],
        [
         "891",
         "C32Q1",
         "3983.0350184160734"
        ]
       ],
       "shape": {
        "columns": 2,
        "rows": 5
       }
      },
      "text/html": [
       "<div>\n",
       "<style scoped>\n",
       "    .dataframe tbody tr th:only-of-type {\n",
       "        vertical-align: middle;\n",
       "    }\n",
       "\n",
       "    .dataframe tbody tr th {\n",
       "        vertical-align: top;\n",
       "    }\n",
       "\n",
       "    .dataframe thead th {\n",
       "        text-align: right;\n",
       "    }\n",
       "</style>\n",
       "<table border=\"1\" class=\"dataframe\">\n",
       "  <thead>\n",
       "    <tr style=\"text-align: right;\">\n",
       "      <th></th>\n",
       "      <th>market_ids</th>\n",
       "      <th>quarterly_income</th>\n",
       "    </tr>\n",
       "  </thead>\n",
       "  <tbody>\n",
       "    <tr>\n",
       "      <th>511</th>\n",
       "      <td>C18Q2</td>\n",
       "      <td>3785.817</td>\n",
       "    </tr>\n",
       "    <tr>\n",
       "      <th>124</th>\n",
       "      <td>C05Q1</td>\n",
       "      <td>4359.937</td>\n",
       "    </tr>\n",
       "    <tr>\n",
       "      <th>217</th>\n",
       "      <td>C08Q1</td>\n",
       "      <td>3822.916</td>\n",
       "    </tr>\n",
       "    <tr>\n",
       "      <th>1426</th>\n",
       "      <td>C47Q2</td>\n",
       "      <td>1708.163</td>\n",
       "    </tr>\n",
       "    <tr>\n",
       "      <th>891</th>\n",
       "      <td>C32Q1</td>\n",
       "      <td>3983.035</td>\n",
       "    </tr>\n",
       "  </tbody>\n",
       "</table>\n",
       "</div>"
      ],
      "text/plain": [
       "     market_ids  quarterly_income\n",
       "511       C18Q2          3785.817\n",
       "124       C05Q1          4359.937\n",
       "217       C08Q1          3822.916\n",
       "1426      C47Q2          1708.163\n",
       "891       C32Q1          3983.035"
      ]
     },
     "execution_count": 3,
     "metadata": {},
     "output_type": "execute_result"
    }
   ],
   "source": [
    "demographic_data = pd.read_csv('https://github.com/Mixtape-Sessions/Demand-Estimation/raw/main/Exercises/Data/demographics.csv')\n",
    "demographic_data = demographic_data.rename(columns={'market': 'market_ids'})\n",
    "demographic_data.sample(n=5, random_state=0)"
   ]
  },
  {
   "cell_type": "markdown",
   "id": "998d33ad-f76c-4fca-81b5-0c10e6422863",
   "metadata": {},
   "source": [
    "Income has a long right tail, so it's easier to work in logs."
   ]
  },
  {
   "cell_type": "code",
   "execution_count": 4,
   "id": "2c300144-185d-44ad-9dec-96d2027c1167",
   "metadata": {},
   "outputs": [
    {
     "data": {
      "application/vnd.microsoft.datawrangler.viewer.v0+json": {
       "columns": [
        {
         "name": "index",
         "rawType": "object",
         "type": "string"
        },
        {
         "name": "quarterly_income",
         "rawType": "float64",
         "type": "float"
        },
        {
         "name": "log_income",
         "rawType": "float64",
         "type": "float"
        }
       ],
       "ref": "53d9f8fc-671a-451b-b92e-4f985c244b9d",
       "rows": [
        [
         "count",
         "1880.0",
         "1880.0"
        ],
        [
         "mean",
         "4575.0",
         "8.091388217172714"
        ],
        [
         "std",
         "3679.8542135988323",
         "0.9396362909452434"
        ],
        [
         "min",
         "23.411001463867628",
         "3.1532060599072307"
        ],
        [
         "25%",
         "2128.625094114246",
         "7.663223764145"
        ],
        [
         "50%",
         "3836.111256110704",
         "8.252208522336042"
        ],
        [
         "75%",
         "5884.613579945504",
         "8.6800918736172"
        ],
        [
         "max",
         "33724.43614991128",
         "10.425977961882412"
        ]
       ],
       "shape": {
        "columns": 2,
        "rows": 8
       }
      },
      "text/html": [
       "<div>\n",
       "<style scoped>\n",
       "    .dataframe tbody tr th:only-of-type {\n",
       "        vertical-align: middle;\n",
       "    }\n",
       "\n",
       "    .dataframe tbody tr th {\n",
       "        vertical-align: top;\n",
       "    }\n",
       "\n",
       "    .dataframe thead th {\n",
       "        text-align: right;\n",
       "    }\n",
       "</style>\n",
       "<table border=\"1\" class=\"dataframe\">\n",
       "  <thead>\n",
       "    <tr style=\"text-align: right;\">\n",
       "      <th></th>\n",
       "      <th>quarterly_income</th>\n",
       "      <th>log_income</th>\n",
       "    </tr>\n",
       "  </thead>\n",
       "  <tbody>\n",
       "    <tr>\n",
       "      <th>count</th>\n",
       "      <td>1880.000</td>\n",
       "      <td>1880.000</td>\n",
       "    </tr>\n",
       "    <tr>\n",
       "      <th>mean</th>\n",
       "      <td>4575.000</td>\n",
       "      <td>8.091</td>\n",
       "    </tr>\n",
       "    <tr>\n",
       "      <th>std</th>\n",
       "      <td>3679.854</td>\n",
       "      <td>0.940</td>\n",
       "    </tr>\n",
       "    <tr>\n",
       "      <th>min</th>\n",
       "      <td>23.411</td>\n",
       "      <td>3.153</td>\n",
       "    </tr>\n",
       "    <tr>\n",
       "      <th>25%</th>\n",
       "      <td>2128.625</td>\n",
       "      <td>7.663</td>\n",
       "    </tr>\n",
       "    <tr>\n",
       "      <th>50%</th>\n",
       "      <td>3836.111</td>\n",
       "      <td>8.252</td>\n",
       "    </tr>\n",
       "    <tr>\n",
       "      <th>75%</th>\n",
       "      <td>5884.614</td>\n",
       "      <td>8.680</td>\n",
       "    </tr>\n",
       "    <tr>\n",
       "      <th>max</th>\n",
       "      <td>33724.436</td>\n",
       "      <td>10.426</td>\n",
       "    </tr>\n",
       "  </tbody>\n",
       "</table>\n",
       "</div>"
      ],
      "text/plain": [
       "       quarterly_income  log_income\n",
       "count          1880.000    1880.000\n",
       "mean           4575.000       8.091\n",
       "std            3679.854       0.940\n",
       "min              23.411       3.153\n",
       "25%            2128.625       7.663\n",
       "50%            3836.111       8.252\n",
       "75%            5884.614       8.680\n",
       "max           33724.436      10.426"
      ]
     },
     "execution_count": 4,
     "metadata": {},
     "output_type": "execute_result"
    }
   ],
   "source": [
    "demographic_data['log_income'] = np.log(demographic_data['quarterly_income'])\n",
    "demographic_data[['quarterly_income', 'log_income']].describe()"
   ]
  },
  {
   "cell_type": "markdown",
   "id": "cfb27872-43b9-4870-950c-abb6509cbba2",
   "metadata": {},
   "source": [
    "Let's see how much cross-market demographic variation there is."
   ]
  },
  {
   "cell_type": "code",
   "execution_count": 5,
   "id": "081942f2-8f72-4d45-9518-c09c496e9513",
   "metadata": {},
   "outputs": [
    {
     "data": {
      "application/vnd.microsoft.datawrangler.viewer.v0+json": {
       "columns": [
        {
         "name": "index",
         "rawType": "object",
         "type": "string"
        },
        {
         "name": "log_income_mean",
         "rawType": "float64",
         "type": "float"
        },
        {
         "name": "log_income_std",
         "rawType": "float64",
         "type": "float"
        }
       ],
       "ref": "641cbe43-7be6-4af6-96f4-cf9e1f84bc49",
       "rows": [
        [
         "count",
         "94.0",
         "94.0"
        ],
        [
         "mean",
         "8.091388217172714",
         "0.8854476904065383"
        ],
        [
         "std",
         "0.2888629514121095",
         "0.24207019154893897"
        ],
        [
         "min",
         "7.498973236944474",
         "0.5233452738709"
        ],
        [
         "25%",
         "7.871808135898894",
         "0.7097113573327072"
        ],
        [
         "50%",
         "8.093358652427884",
         "0.8313065687641379"
        ],
        [
         "75%",
         "8.337504068579612",
         "1.0855383170366495"
        ],
        [
         "max",
         "8.621529529415643",
         "1.5385123135840404"
        ]
       ],
       "shape": {
        "columns": 2,
        "rows": 8
       }
      },
      "text/html": [
       "<div>\n",
       "<style scoped>\n",
       "    .dataframe tbody tr th:only-of-type {\n",
       "        vertical-align: middle;\n",
       "    }\n",
       "\n",
       "    .dataframe tbody tr th {\n",
       "        vertical-align: top;\n",
       "    }\n",
       "\n",
       "    .dataframe thead th {\n",
       "        text-align: right;\n",
       "    }\n",
       "</style>\n",
       "<table border=\"1\" class=\"dataframe\">\n",
       "  <thead>\n",
       "    <tr style=\"text-align: right;\">\n",
       "      <th></th>\n",
       "      <th>log_income_mean</th>\n",
       "      <th>log_income_std</th>\n",
       "    </tr>\n",
       "  </thead>\n",
       "  <tbody>\n",
       "    <tr>\n",
       "      <th>count</th>\n",
       "      <td>94.000</td>\n",
       "      <td>94.000</td>\n",
       "    </tr>\n",
       "    <tr>\n",
       "      <th>mean</th>\n",
       "      <td>8.091</td>\n",
       "      <td>0.885</td>\n",
       "    </tr>\n",
       "    <tr>\n",
       "      <th>std</th>\n",
       "      <td>0.289</td>\n",
       "      <td>0.242</td>\n",
       "    </tr>\n",
       "    <tr>\n",
       "      <th>min</th>\n",
       "      <td>7.499</td>\n",
       "      <td>0.523</td>\n",
       "    </tr>\n",
       "    <tr>\n",
       "      <th>25%</th>\n",
       "      <td>7.872</td>\n",
       "      <td>0.710</td>\n",
       "    </tr>\n",
       "    <tr>\n",
       "      <th>50%</th>\n",
       "      <td>8.093</td>\n",
       "      <td>0.831</td>\n",
       "    </tr>\n",
       "    <tr>\n",
       "      <th>75%</th>\n",
       "      <td>8.338</td>\n",
       "      <td>1.086</td>\n",
       "    </tr>\n",
       "    <tr>\n",
       "      <th>max</th>\n",
       "      <td>8.622</td>\n",
       "      <td>1.539</td>\n",
       "    </tr>\n",
       "  </tbody>\n",
       "</table>\n",
       "</div>"
      ],
      "text/plain": [
       "       log_income_mean  log_income_std\n",
       "count           94.000          94.000\n",
       "mean             8.091           0.885\n",
       "std              0.289           0.242\n",
       "min              7.499           0.523\n",
       "25%              7.872           0.710\n",
       "50%              8.093           0.831\n",
       "75%              8.338           1.086\n",
       "max              8.622           1.539"
      ]
     },
     "execution_count": 5,
     "metadata": {},
     "output_type": "execute_result"
    }
   ],
   "source": [
    "demographic_variation = demographic_data.groupby('market_ids', as_index=False).agg(**{\n",
    "    'log_income_mean': ('log_income', 'mean'),\n",
    "    'log_income_std': ('log_income', 'std'),\n",
    "})\n",
    "demographic_variation.describe()"
   ]
  },
  {
   "cell_type": "markdown",
   "id": "d8d8cc3c-52fe-4c31-9778-5bcfb63708c8",
   "metadata": {},
   "source": [
    "There seems to be a good amount of cross-market demographic variation. Consumers' income varies a good amount across our markets. This means that using this variation, we have a hope of credibly estimating how income shifts the preference of different characteristics. However, because we have market fixed effects, a parameter on income alone would be collinear and not identified."
   ]
  },
  {
   "cell_type": "markdown",
   "id": "a7d8836b-e4b7-4c1d-a86e-2dd63b8b672c",
   "metadata": {},
   "source": [
    "### 2. Estimate a parameter on mushy $\\times$ log income"
   ]
  },
  {
   "cell_type": "markdown",
   "id": "453ef001-77e9-4110-9a26-ec05e02d0e4a",
   "metadata": {},
   "source": [
    "First, we need consumer type data with demographic draws, standard normal nodes (for later), and uniform weights."
   ]
  },
  {
   "cell_type": "code",
   "execution_count": 6,
   "id": "4207f559-9a5a-4b5b-ae7f-1d0bc94f34aa",
   "metadata": {},
   "outputs": [
    {
     "data": {
      "application/vnd.microsoft.datawrangler.viewer.v0+json": {
       "columns": [
        {
         "name": "index",
         "rawType": "int64",
         "type": "integer"
        },
        {
         "name": "market_ids",
         "rawType": "object",
         "type": "string"
        },
        {
         "name": "log_income",
         "rawType": "float64",
         "type": "float"
        },
        {
         "name": "nodes0",
         "rawType": "float64",
         "type": "float"
        },
        {
         "name": "nodes1",
         "rawType": "float64",
         "type": "float"
        },
        {
         "name": "nodes2",
         "rawType": "float64",
         "type": "float"
        },
        {
         "name": "weights",
         "rawType": "float64",
         "type": "float"
        }
       ],
       "ref": "23d4e874-9f18-4a1f-918d-4ccdc3eacd0f",
       "rows": [
        [
         "1100",
         "C37Q2",
         "7.58975354009821",
         "-1.4012548369754179",
         "1.6668922516003106",
         "-1.3120217852910765",
         "0.001"
        ],
        [
         "1860",
         "C65Q2",
         "7.5839834120336125",
         "-1.6092451838672606",
         "0.7469065151918152",
         "-0.5817616133827038",
         "0.001"
        ],
        [
         "1726",
         "C58Q1",
         "7.948854489710478",
         "-0.9142725845950098",
         "1.2661635891294956",
         "0.04255143002152707",
         "0.001"
        ],
        [
         "491",
         "C18Q1",
         "8.239017103400755",
         "-0.9457088140728515",
         "-0.06893516700580016",
         "-1.0749091212572843",
         "0.001"
        ],
        [
         "314",
         "C12Q2",
         "8.56901144796602",
         "-1.2675504193237699",
         "-0.03401833436106477",
         "-0.46166885198624785",
         "0.001"
        ]
       ],
       "shape": {
        "columns": 6,
        "rows": 5
       }
      },
      "text/html": [
       "<div>\n",
       "<style scoped>\n",
       "    .dataframe tbody tr th:only-of-type {\n",
       "        vertical-align: middle;\n",
       "    }\n",
       "\n",
       "    .dataframe tbody tr th {\n",
       "        vertical-align: top;\n",
       "    }\n",
       "\n",
       "    .dataframe thead th {\n",
       "        text-align: right;\n",
       "    }\n",
       "</style>\n",
       "<table border=\"1\" class=\"dataframe\">\n",
       "  <thead>\n",
       "    <tr style=\"text-align: right;\">\n",
       "      <th></th>\n",
       "      <th>market_ids</th>\n",
       "      <th>log_income</th>\n",
       "      <th>nodes0</th>\n",
       "      <th>nodes1</th>\n",
       "      <th>nodes2</th>\n",
       "      <th>weights</th>\n",
       "    </tr>\n",
       "  </thead>\n",
       "  <tbody>\n",
       "    <tr>\n",
       "      <th>1100</th>\n",
       "      <td>C37Q2</td>\n",
       "      <td>7.590</td>\n",
       "      <td>-1.401</td>\n",
       "      <td>1.667</td>\n",
       "      <td>-1.312</td>\n",
       "      <td>0.001</td>\n",
       "    </tr>\n",
       "    <tr>\n",
       "      <th>1860</th>\n",
       "      <td>C65Q2</td>\n",
       "      <td>7.584</td>\n",
       "      <td>-1.609</td>\n",
       "      <td>0.747</td>\n",
       "      <td>-0.582</td>\n",
       "      <td>0.001</td>\n",
       "    </tr>\n",
       "    <tr>\n",
       "      <th>1726</th>\n",
       "      <td>C58Q1</td>\n",
       "      <td>7.949</td>\n",
       "      <td>-0.914</td>\n",
       "      <td>1.266</td>\n",
       "      <td>0.043</td>\n",
       "      <td>0.001</td>\n",
       "    </tr>\n",
       "    <tr>\n",
       "      <th>491</th>\n",
       "      <td>C18Q1</td>\n",
       "      <td>8.239</td>\n",
       "      <td>-0.946</td>\n",
       "      <td>-0.069</td>\n",
       "      <td>-1.075</td>\n",
       "      <td>0.001</td>\n",
       "    </tr>\n",
       "    <tr>\n",
       "      <th>314</th>\n",
       "      <td>C12Q2</td>\n",
       "      <td>8.569</td>\n",
       "      <td>-1.268</td>\n",
       "      <td>-0.034</td>\n",
       "      <td>-0.462</td>\n",
       "      <td>0.001</td>\n",
       "    </tr>\n",
       "  </tbody>\n",
       "</table>\n",
       "</div>"
      ],
      "text/plain": [
       "     market_ids  log_income  nodes0  nodes1  nodes2  weights\n",
       "1100      C37Q2       7.590  -1.401   1.667  -1.312    0.001\n",
       "1860      C65Q2       7.584  -1.609   0.747  -0.582    0.001\n",
       "1726      C58Q1       7.949  -0.914   1.266   0.043    0.001\n",
       "491       C18Q1       8.239  -0.946  -0.069  -1.075    0.001\n",
       "314       C12Q2       8.569  -1.268  -0.034  -0.462    0.001"
      ]
     },
     "execution_count": 6,
     "metadata": {},
     "output_type": "execute_result"
    }
   ],
   "source": [
    "agent_data = demographic_data[['market_ids', 'log_income']].groupby('market_ids', as_index=False).sample(n=1000, replace=True, random_state=0)\n",
    "agent_data[['nodes0', 'nodes1', 'nodes2']] = np.random.default_rng(seed=0).normal(size=(len(agent_data), 3))\n",
    "agent_data['weights'] = 1 / agent_data.groupby('market_ids').transform('size')\n",
    "agent_data.sample(n=5, random_state=0)"
   ]
  },
  {
   "cell_type": "markdown",
   "id": "fec61d73-256f-478d-8975-a28bc8f5a1be",
   "metadata": {},
   "source": [
    "We also need a new instrument."
   ]
  },
  {
   "cell_type": "code",
   "execution_count": 7,
   "id": "6a8be081-7594-4362-adf9-5c88319629a3",
   "metadata": {},
   "outputs": [],
   "source": [
    "product_data = product_data.merge(demographic_variation[['market_ids', 'log_income_mean']], on='market_ids')\n",
    "product_data['demand_instruments1'] = product_data['log_income_mean'] * product_data['mushy']"
   ]
  },
  {
   "cell_type": "markdown",
   "id": "9035f41f-cdca-4a3e-913a-923a55b2b797",
   "metadata": {},
   "source": [
    "To model an interaction between mushy and the log of income, we need two new formulations when setting up the problem."
   ]
  },
  {
   "cell_type": "code",
   "execution_count": 8,
   "id": "dfa3bb76-24e5-41ba-ad0f-bee32cffdaf7",
   "metadata": {},
   "outputs": [
    {
     "data": {
      "text/plain": [
       "Dimensions:\n",
       "=============================================\n",
       " T    N      I     K1    K2    D    MD    ED \n",
       "---  ----  -----  ----  ----  ---  ----  ----\n",
       "94   2256  94000   1     1     1    2     2  \n",
       "=============================================\n",
       "\n",
       "Formulations:\n",
       "=========================================\n",
       "       Column Indices:             0     \n",
       "-----------------------------  ----------\n",
       " X1: Linear Characteristics      prices  \n",
       "X2: Nonlinear Characteristics    mushy   \n",
       "       d: Demographics         log_income\n",
       "========================================="
      ]
     },
     "execution_count": 8,
     "metadata": {},
     "output_type": "execute_result"
    }
   ],
   "source": [
    "product_formulations = (pyblp.Formulation('0 + prices', absorb='C(market_ids) + C(product_ids)'), pyblp.Formulation('0 + mushy'))\n",
    "agent_formulation = pyblp.Formulation('0 + log_income')\n",
    "mushy_problem = pyblp.Problem(product_formulations, product_data, agent_formulation, agent_data)\n",
    "mushy_problem"
   ]
  },
  {
   "cell_type": "markdown",
   "id": "25a1c420-29f2-4ba9-b943-129b95d89f80",
   "metadata": {},
   "source": [
    "Now that we have a nonlinear GMM estimator, we need a nonlinear optimizer. We'll use SciPy's trust region algorithm to optimize the objective. The default tolerances of ``1e-8`` will work fine for our setting, but it's good practice to explicitly set them yourself."
   ]
  },
  {
   "cell_type": "code",
   "execution_count": 9,
   "id": "eb9a06f1-928f-409f-9e36-684b7916e025",
   "metadata": {},
   "outputs": [],
   "source": [
    "optimization = pyblp.Optimization('trust-constr', {'gtol': 1e-8, 'xtol': 1e-8})"
   ]
  },
  {
   "cell_type": "markdown",
   "id": "2ed8f317-18c6-4cdf-8737-718c50e07aa1",
   "metadata": {},
   "source": [
    "Turning PyBLP verbosity on before optimization and off afterwards lets us monitor optimization progress in real time. We aren't adding a parameter in $\\Sigma$ so we'll set that to zero (zeros mean that it will remain fixed during optimization) and we'll choose an arbitrary starting point of 1 for our new parameter in $\\Pi$."
   ]
  },
  {
   "cell_type": "code",
   "execution_count": 10,
   "id": "bec3f8fa-f108-42bb-a4a9-b2ef6d0e0a16",
   "metadata": {},
   "outputs": [
    {
     "name": "stdout",
     "output_type": "stream",
     "text": [
      "Solving the problem ...\n",
      "\n",
      "Nonlinear Coefficient Initial Values:\n",
      "=======================================\n",
      "Sigma:    mushy    |   Pi:   log_income\n",
      "------  ---------  |  -----  ----------\n",
      "mushy   +0.00E+00  |  mushy  +1.00E+00 \n",
      "=======================================\n",
      "\n",
      "Nonlinear Coefficient Lower Bounds:\n",
      "=======================================\n",
      "Sigma:    mushy    |   Pi:   log_income\n",
      "------  ---------  |  -----  ----------\n",
      "mushy   +0.00E+00  |  mushy    -INF    \n",
      "=======================================\n",
      "\n",
      "Nonlinear Coefficient Upper Bounds:\n",
      "=======================================\n",
      "Sigma:    mushy    |   Pi:   log_income\n",
      "------  ---------  |  -----  ----------\n",
      "mushy   +0.00E+00  |  mushy    +INF    \n",
      "=======================================\n",
      "\n",
      "Starting optimization ...\n",
      "\n",
      "\n",
      "At least one error was encountered. As long as the optimization routine does not get stuck at values of theta that give rise to errors, this is not necessarily a problem. If the errors persist or seem to be impacting the optimization results, consider setting an error punishment or following any of the other suggestions below:\n",
      "The fixed point computation of delta failed to converge. This problem can sometimes be mitigated by increasing the maximum number of fixed point iterations, increasing the fixed point tolerance, choosing more reasonable initial parameter values, setting more conservative parameter or share bounds, or using different iteration or optimization configurations.\n",
      "\n",
      "GMM   Computation  Optimization   Objective   Fixed Point  Contraction  Clipped  Objective   Objective   Gradient            \n",
      "Step     Time       Iterations   Evaluations  Iterations   Evaluations  Shares     Value    Improvement    Norm       Theta  \n",
      "----  -----------  ------------  -----------  -----------  -----------  -------  ---------  -----------  ---------  ---------\n",
      " 1     00:00:03         0             1          4037         12214        0     +9.06E+00               +1.97E+01  +1.00E+00\n",
      "\n",
      "At least one error was encountered. As long as the optimization routine does not get stuck at values of theta that give rise to errors, this is not necessarily a problem. If the errors persist or seem to be impacting the optimization results, consider setting an error punishment or following any of the other suggestions below:\n",
      "The fixed point computation of delta failed to converge. This problem can sometimes be mitigated by increasing the maximum number of fixed point iterations, increasing the fixed point tolerance, choosing more reasonable initial parameter values, setting more conservative parameter or share bounds, or using different iteration or optimization configurations.\n",
      "\n",
      " 1     00:01:49         1             2         156604       470000        0     +2.09E+00   +6.97E+00   +1.86E+01  +0.00E+00\n",
      "\n",
      "At least one error was encountered. As long as the optimization routine does not get stuck at values of theta that give rise to errors, this is not necessarily a problem. If the errors persist or seem to be impacting the optimization results, consider setting an error punishment or following any of the other suggestions below:\n",
      "The fixed point computation of delta failed to converge. This problem can sometimes be mitigated by increasing the maximum number of fixed point iterations, increasing the fixed point tolerance, choosing more reasonable initial parameter values, setting more conservative parameter or share bounds, or using different iteration or optimization configurations.\n",
      "\n",
      " 1     00:00:02         2             3          2279         6957         0     +1.20E+00   +8.87E-01   +9.41E+00  +4.85E-01\n",
      "\n",
      "At least one error was encountered. As long as the optimization routine does not get stuck at values of theta that give rise to errors, this is not necessarily a problem. If the errors persist or seem to be impacting the optimization results, consider setting an error punishment or following any of the other suggestions below:\n",
      "The fixed point computation of delta failed to converge. This problem can sometimes be mitigated by increasing the maximum number of fixed point iterations, increasing the fixed point tolerance, choosing more reasonable initial parameter values, setting more conservative parameter or share bounds, or using different iteration or optimization configurations.\n",
      "\n",
      " 1     00:00:02         3             4          2197         6699         0     +1.24E-01   +1.08E+00   +3.41E+00  +3.22E-01\n",
      "\n",
      "At least one error was encountered. As long as the optimization routine does not get stuck at values of theta that give rise to errors, this is not necessarily a problem. If the errors persist or seem to be impacting the optimization results, consider setting an error punishment or following any of the other suggestions below:\n",
      "The fixed point computation of delta failed to converge. This problem can sometimes be mitigated by increasing the maximum number of fixed point iterations, increasing the fixed point tolerance, choosing more reasonable initial parameter values, setting more conservative parameter or share bounds, or using different iteration or optimization configurations.\n",
      "\n",
      " 1     00:00:03         4             5          3797         11511        0     +1.32E-02   +1.10E-01   +1.20E+00  +2.29E-01\n",
      "\n",
      "At least one error was encountered. As long as the optimization routine does not get stuck at values of theta that give rise to errors, this is not necessarily a problem. If the errors persist or seem to be impacting the optimization results, consider setting an error punishment or following any of the other suggestions below:\n",
      "The fixed point computation of delta failed to converge. This problem can sometimes be mitigated by increasing the maximum number of fixed point iterations, increasing the fixed point tolerance, choosing more reasonable initial parameter values, setting more conservative parameter or share bounds, or using different iteration or optimization configurations.\n",
      "\n",
      " 1     00:00:04         5             6          5484         16559        0     +1.05E-04   +1.31E-02   +1.05E-01  +2.53E-01\n",
      " 1     00:00:00         6             7           499         1598         0     +8.08E-08   +1.05E-04   +2.92E-03  +2.51E-01\n",
      "\n",
      "At least one error was encountered. As long as the optimization routine does not get stuck at values of theta that give rise to errors, this is not necessarily a problem. If the errors persist or seem to be impacting the optimization results, consider setting an error punishment or following any of the other suggestions below:\n",
      "The fixed point computation of delta failed to converge. This problem can sometimes be mitigated by increasing the maximum number of fixed point iterations, increasing the fixed point tolerance, choosing more reasonable initial parameter values, setting more conservative parameter or share bounds, or using different iteration or optimization configurations.\n",
      "\n",
      " 1     00:00:04         7             8          5469         16523        0     +5.11E-13   +8.08E-08   +7.34E-06  +2.51E-01\n",
      "\n",
      "At least one error was encountered. As long as the optimization routine does not get stuck at values of theta that give rise to errors, this is not necessarily a problem. If the errors persist or seem to be impacting the optimization results, consider setting an error punishment or following any of the other suggestions below:\n",
      "The fixed point computation of delta failed to converge. This problem can sometimes be mitigated by increasing the maximum number of fixed point iterations, increasing the fixed point tolerance, choosing more reasonable initial parameter values, setting more conservative parameter or share bounds, or using different iteration or optimization configurations.\n",
      "\n",
      " 1     00:00:04         8             9          5477         16542        0     +2.49E-21   +5.11E-13   +5.12E-10  +2.51E-01\n",
      "\n",
      "Optimization completed after 00:02:10.\n",
      "Computing the Hessian and estimating standard errors ...\n",
      "\n",
      "The fixed point computation of delta failed to converge. This problem can sometimes be mitigated by increasing the maximum number of fixed point iterations, increasing the fixed point tolerance, choosing more reasonable initial parameter values, setting more conservative parameter or share bounds, or using different iteration or optimization configurations.\n",
      "\n",
      "Computed results after 00:00:13.\n",
      "\n",
      "Problem Results Summary:\n",
      "===================================================================================\n",
      "GMM   Objective  Gradient              Clipped  Weighting Matrix  Covariance Matrix\n",
      "Step    Value      Norm      Hessian   Shares   Condition Number  Condition Number \n",
      "----  ---------  ---------  ---------  -------  ----------------  -----------------\n",
      " 1    +2.49E-21  +5.12E-10  +5.28E+01     0        +4.39E+01          +3.68E+01    \n",
      "===================================================================================\n",
      "\n",
      "Cumulative Statistics:\n",
      "===========================================================================\n",
      "Computation  Optimizer  Optimization   Objective   Fixed Point  Contraction\n",
      "   Time      Converged   Iterations   Evaluations  Iterations   Evaluations\n",
      "-----------  ---------  ------------  -----------  -----------  -----------\n",
      " 00:02:22       Yes          9            10         191320       575145   \n",
      "===========================================================================\n",
      "\n",
      "Nonlinear Coefficient Estimates (Robust SEs in Parentheses):\n",
      "========================================\n",
      "Sigma:    mushy    |   Pi:   log_income \n",
      "------  ---------  |  -----  -----------\n",
      "mushy   +0.00E+00  |  mushy   +2.51E-01 \n",
      "                   |         (+1.59E-01)\n",
      "========================================\n",
      "\n",
      "Beta Estimates (Robust SEs in Parentheses):\n",
      "===========\n",
      "  prices   \n",
      "-----------\n",
      " -3.06E+01 \n",
      "(+9.66E-01)\n",
      "===========\n"
     ]
    }
   ],
   "source": [
    "pyblp.options.verbose = True\n",
    "mushy_results = mushy_problem.solve(sigma=0, pi=1, method='1s', optimization=optimization)\n",
    "pyblp.options.verbose = False"
   ]
  },
  {
   "cell_type": "markdown",
   "id": "8095a56f-ebae-4d4b-bdb6-2b7668004b1a",
   "metadata": {},
   "source": [
    "After seeing \"marching down the gradient\" behavior, the gradient norm is near-zero at the optimum, indicating the optimization was successful. Since the model is just identified, we also see a near-zero objective. Finally, the Hessian is positive, indicating the second order conditions are satisfied.\n",
    "\n",
    "The new parameter is positive, indicating that wealthier individuals prefer mushy cereal. Dividing it by $\\hat{\\alpha}$ gives 0.25 / 30.6 = $0.01 more willingness to pay for a mushy cereal for every 1% increase in income (recall that a log regressor means we can interpret in terms of percents)."
   ]
  },
  {
   "cell_type": "markdown",
   "id": "00b450ed-d08a-462d-8a9d-8ef4b1ebe3ff",
   "metadata": {},
   "source": [
    "### 3. Make sure you get the same estimate with random starting values"
   ]
  },
  {
   "cell_type": "markdown",
   "id": "1330e881-009d-48cd-9227-89609347d32b",
   "metadata": {},
   "source": [
    "Let's set some bounds for the new parameter and optimize from three random starting values within these bounds."
   ]
  },
  {
   "cell_type": "code",
   "execution_count": 11,
   "id": "9d784e4a-f046-463d-8f69-3125dc6229c7",
   "metadata": {},
   "outputs": [
    {
     "name": "stdout",
     "output_type": "stream",
     "text": [
      "Initial: 2.739233746429086. Estimated: 0.25128322135971515.\n",
      "Initial: 0.23643249400513433. Estimated: 0.2512832213611108.\n",
      "Initial: -4.767757315013672. Estimated: 0.2512832207536896.\n"
     ]
    }
   ],
   "source": [
    "pi_bounds = (-10, +10)\n",
    "for seed in range(3):\n",
    "    initial_pi = np.random.default_rng(seed).uniform(*pi_bounds)\n",
    "    seed_results = mushy_problem.solve(sigma=0, pi=initial_pi, pi_bounds=pi_bounds, method='1s', optimization=optimization)\n",
    "    print(f\"Initial: {initial_pi}. Estimated: {seed_results.pi[0, 0]}.\")"
   ]
  },
  {
   "cell_type": "markdown",
   "id": "e4a90545-7ce8-48a9-9cda-8bd0533b4dc9",
   "metadata": {},
   "source": [
    "We get the same estimate each time, indicating (along with all our other diagnostics) that optimization worked well and our estimate is indeed the global minimum."
   ]
  },
  {
   "cell_type": "markdown",
   "id": "8f7e6e95-1b4a-492e-b26b-bff2b659c063",
   "metadata": {},
   "source": [
    "### 4. Evaluate changes to the price cut counterfactual"
   ]
  },
  {
   "cell_type": "markdown",
   "id": "752a4d71-7f7a-4591-808a-e82f52608a48",
   "metadata": {},
   "source": [
    "Let's re-run the price cut counterfactual from last exercise and compare."
   ]
  },
  {
   "cell_type": "code",
   "execution_count": 12,
   "id": "a48fb5d1-9632-44b8-92a0-75087d7afe47",
   "metadata": {},
   "outputs": [
    {
     "data": {
      "application/vnd.microsoft.datawrangler.viewer.v0+json": {
       "columns": [
        {
         "name": "index",
         "rawType": "int64",
         "type": "integer"
        },
        {
         "name": "product_ids",
         "rawType": "object",
         "type": "string"
        },
        {
         "name": "mushy",
         "rawType": "int64",
         "type": "integer"
        },
        {
         "name": "prices",
         "rawType": "float64",
         "type": "float"
        },
        {
         "name": "shares",
         "rawType": "float64",
         "type": "float"
        },
        {
         "name": "new_prices",
         "rawType": "float64",
         "type": "float"
        },
        {
         "name": "new_shares",
         "rawType": "float64",
         "type": "float"
        },
        {
         "name": "iv_change",
         "rawType": "float64",
         "type": "float"
        },
        {
         "name": "mushy_change",
         "rawType": "float64",
         "type": "float"
        }
       ],
       "ref": "b45a6d32-a019-46e7-b7da-4cb3d1b012bd",
       "rows": [
        [
         "24",
         "F1B04",
         "1",
         "0.077717715",
         "0.006442765",
         "0.0388588575",
         "0.02084375984570743",
         "223.6376583595302",
         "223.52196371755653"
        ],
        [
         "25",
         "F1B06",
         "1",
         "0.14104056",
         "0.14128212",
         "0.14104056",
         "0.13919406860057915",
         "-1.4501880990889415",
         "-1.4779303987092385"
        ],
        [
         "26",
         "F1B07",
         "1",
         "0.07268274",
         "0.08789458",
         "0.07268274",
         "0.08659555928336134",
         "-1.45018809908896",
         "-1.4779303987102084"
        ],
        [
         "27",
         "F1B09",
         "0",
         "0.076974403",
         "0.006621446800000001",
         "0.076974403",
         "0.006526228400974644",
         "-1.4501880990889846",
         "-1.4380301148890355"
        ],
        [
         "28",
         "F1B11",
         "0",
         "0.16700882",
         "0.054274866",
         "0.16700882",
         "0.05349437708210433",
         "-1.4501880990889742",
         "-1.4380301148890262"
        ],
        [
         "29",
         "F1B13",
         "0",
         "0.092333473",
         "0.021978619",
         "0.092333473",
         "0.021662559839943307",
         "-1.4501880990889815",
         "-1.438030114888902"
        ],
        [
         "30",
         "F1B17",
         "1",
         "0.15393083",
         "0.010547397000000002",
         "0.15393083",
         "0.0103915138134645",
         "-1.4501880990890066",
         "-1.4779303987088124"
        ],
        [
         "31",
         "F1B30",
         "0",
         "0.15039494",
         "0.001309628",
         "0.15039494",
         "0.0012907951549669882",
         "-1.450188099088988",
         "-1.4380301148884842"
        ],
        [
         "32",
         "F1B45",
         "0",
         "0.14726089",
         "0.010524623",
         "0.14726089",
         "0.010373275751781503",
         "-1.4501880990889557",
         "-1.4380301148886514"
        ],
        [
         "33",
         "F2B05",
         "0",
         "0.099437",
         "0.05906936499999999",
         "0.099437",
         "0.05821992974262663",
         "-1.4501880990889062",
         "-1.438030114888422"
        ],
        [
         "34",
         "F2B08",
         "0",
         "0.11975962",
         "0.013001525",
         "0.11975962",
         "0.012814559155105334",
         "-1.4501880990889262",
         "-1.438030114887795"
        ],
        [
         "35",
         "F2B15",
         "1",
         "0.072425151",
         "0.0078492445",
         "0.072425151",
         "0.007733238129465507",
         "-1.4501880990889395",
         "-1.4779303987089834"
        ],
        [
         "36",
         "F2B16",
         "1",
         "0.13880223",
         "0.017908649999999998",
         "0.13880223",
         "0.017643972617651486",
         "-1.4501880990889997",
         "-1.4779303987096284"
        ],
        [
         "37",
         "F2B19",
         "0",
         "0.15012616",
         "0.0040259879",
         "0.15012616",
         "0.003968092981576214",
         "-1.4501880990889426",
         "-1.438030114888969"
        ],
        [
         "38",
         "F2B26",
         "0",
         "0.15313127",
         "0.0056355714",
         "0.15313127",
         "0.005554530186122003",
         "-1.4501880990889668",
         "-1.4380301148876822"
        ],
        [
         "39",
         "F2B28",
         "1",
         "0.20983296",
         "0.01149715",
         "0.20983296",
         "0.01132723012516469",
         "-1.450188099088988",
         "-1.4779303987101968"
        ],
        [
         "40",
         "F2B40",
         "0",
         "0.13927765",
         "0.0013146081",
         "0.13927765",
         "0.0012957036396292327",
         "-1.4501880990889555",
         "-1.438030114888784"
        ],
        [
         "41",
         "F2B48",
         "0",
         "0.16228486",
         "0.00056185182",
         "0.16228486",
         "0.0005537722216273506",
         "-1.4501880990889362",
         "-1.4380301148885517"
        ],
        [
         "42",
         "F3B06",
         "1",
         "0.14027255",
         "0.0070854989",
         "0.14027255",
         "0.006980780157856725",
         "-1.4501880990889806",
         "-1.4779303987087622"
        ],
        [
         "43",
         "F3B14",
         "0",
         "0.15381146",
         "0.0053769999",
         "0.15381146",
         "0.005299677022160506",
         "-1.450188099088947",
         "-1.4380301148879346"
        ],
        [
         "44",
         "F4B02",
         "0",
         "0.13597643",
         "0.0045159986",
         "0.13597643",
         "0.004451057180144046",
         "-1.4501880990889386",
         "-1.4380301148887338"
        ],
        [
         "45",
         "F4B10",
         "0",
         "0.1101169",
         "0.006743882200000001",
         "0.1101169",
         "0.006646903143051441",
         "-1.4501880990889657",
         "-1.4380301148878196"
        ],
        [
         "46",
         "F4B12",
         "0",
         "0.10392265",
         "0.008263140499999998",
         "0.10392265",
         "0.008144314051174446",
         "-1.4501880990889573",
         "-1.4380301148885475"
        ],
        [
         "47",
         "F6B18",
         "0",
         "0.12713032",
         "0.0035300779",
         "0.12713032",
         "0.0034793143167189716",
         "-1.4501880990889697",
         "-1.4380301148886314"
        ]
       ],
       "shape": {
        "columns": 8,
        "rows": 24
       }
      },
      "text/html": [
       "<div>\n",
       "<style scoped>\n",
       "    .dataframe tbody tr th:only-of-type {\n",
       "        vertical-align: middle;\n",
       "    }\n",
       "\n",
       "    .dataframe tbody tr th {\n",
       "        vertical-align: top;\n",
       "    }\n",
       "\n",
       "    .dataframe thead th {\n",
       "        text-align: right;\n",
       "    }\n",
       "</style>\n",
       "<table border=\"1\" class=\"dataframe\">\n",
       "  <thead>\n",
       "    <tr style=\"text-align: right;\">\n",
       "      <th></th>\n",
       "      <th>product_ids</th>\n",
       "      <th>mushy</th>\n",
       "      <th>prices</th>\n",
       "      <th>shares</th>\n",
       "      <th>new_prices</th>\n",
       "      <th>new_shares</th>\n",
       "      <th>iv_change</th>\n",
       "      <th>mushy_change</th>\n",
       "    </tr>\n",
       "  </thead>\n",
       "  <tbody>\n",
       "    <tr>\n",
       "      <th>24</th>\n",
       "      <td>F1B04</td>\n",
       "      <td>1</td>\n",
       "      <td>0.078</td>\n",
       "      <td>6.443e-03</td>\n",
       "      <td>0.039</td>\n",
       "      <td>2.084e-02</td>\n",
       "      <td>223.638</td>\n",
       "      <td>223.522</td>\n",
       "    </tr>\n",
       "    <tr>\n",
       "      <th>25</th>\n",
       "      <td>F1B06</td>\n",
       "      <td>1</td>\n",
       "      <td>0.141</td>\n",
       "      <td>1.413e-01</td>\n",
       "      <td>0.141</td>\n",
       "      <td>1.392e-01</td>\n",
       "      <td>-1.450</td>\n",
       "      <td>-1.478</td>\n",
       "    </tr>\n",
       "    <tr>\n",
       "      <th>26</th>\n",
       "      <td>F1B07</td>\n",
       "      <td>1</td>\n",
       "      <td>0.073</td>\n",
       "      <td>8.789e-02</td>\n",
       "      <td>0.073</td>\n",
       "      <td>8.660e-02</td>\n",
       "      <td>-1.450</td>\n",
       "      <td>-1.478</td>\n",
       "    </tr>\n",
       "    <tr>\n",
       "      <th>27</th>\n",
       "      <td>F1B09</td>\n",
       "      <td>0</td>\n",
       "      <td>0.077</td>\n",
       "      <td>6.621e-03</td>\n",
       "      <td>0.077</td>\n",
       "      <td>6.526e-03</td>\n",
       "      <td>-1.450</td>\n",
       "      <td>-1.438</td>\n",
       "    </tr>\n",
       "    <tr>\n",
       "      <th>28</th>\n",
       "      <td>F1B11</td>\n",
       "      <td>0</td>\n",
       "      <td>0.167</td>\n",
       "      <td>5.427e-02</td>\n",
       "      <td>0.167</td>\n",
       "      <td>5.349e-02</td>\n",
       "      <td>-1.450</td>\n",
       "      <td>-1.438</td>\n",
       "    </tr>\n",
       "    <tr>\n",
       "      <th>29</th>\n",
       "      <td>F1B13</td>\n",
       "      <td>0</td>\n",
       "      <td>0.092</td>\n",
       "      <td>2.198e-02</td>\n",
       "      <td>0.092</td>\n",
       "      <td>2.166e-02</td>\n",
       "      <td>-1.450</td>\n",
       "      <td>-1.438</td>\n",
       "    </tr>\n",
       "    <tr>\n",
       "      <th>30</th>\n",
       "      <td>F1B17</td>\n",
       "      <td>1</td>\n",
       "      <td>0.154</td>\n",
       "      <td>1.055e-02</td>\n",
       "      <td>0.154</td>\n",
       "      <td>1.039e-02</td>\n",
       "      <td>-1.450</td>\n",
       "      <td>-1.478</td>\n",
       "    </tr>\n",
       "    <tr>\n",
       "      <th>31</th>\n",
       "      <td>F1B30</td>\n",
       "      <td>0</td>\n",
       "      <td>0.150</td>\n",
       "      <td>1.310e-03</td>\n",
       "      <td>0.150</td>\n",
       "      <td>1.291e-03</td>\n",
       "      <td>-1.450</td>\n",
       "      <td>-1.438</td>\n",
       "    </tr>\n",
       "    <tr>\n",
       "      <th>32</th>\n",
       "      <td>F1B45</td>\n",
       "      <td>0</td>\n",
       "      <td>0.147</td>\n",
       "      <td>1.052e-02</td>\n",
       "      <td>0.147</td>\n",
       "      <td>1.037e-02</td>\n",
       "      <td>-1.450</td>\n",
       "      <td>-1.438</td>\n",
       "    </tr>\n",
       "    <tr>\n",
       "      <th>33</th>\n",
       "      <td>F2B05</td>\n",
       "      <td>0</td>\n",
       "      <td>0.099</td>\n",
       "      <td>5.907e-02</td>\n",
       "      <td>0.099</td>\n",
       "      <td>5.822e-02</td>\n",
       "      <td>-1.450</td>\n",
       "      <td>-1.438</td>\n",
       "    </tr>\n",
       "    <tr>\n",
       "      <th>34</th>\n",
       "      <td>F2B08</td>\n",
       "      <td>0</td>\n",
       "      <td>0.120</td>\n",
       "      <td>1.300e-02</td>\n",
       "      <td>0.120</td>\n",
       "      <td>1.281e-02</td>\n",
       "      <td>-1.450</td>\n",
       "      <td>-1.438</td>\n",
       "    </tr>\n",
       "    <tr>\n",
       "      <th>35</th>\n",
       "      <td>F2B15</td>\n",
       "      <td>1</td>\n",
       "      <td>0.072</td>\n",
       "      <td>7.849e-03</td>\n",
       "      <td>0.072</td>\n",
       "      <td>7.733e-03</td>\n",
       "      <td>-1.450</td>\n",
       "      <td>-1.478</td>\n",
       "    </tr>\n",
       "    <tr>\n",
       "      <th>36</th>\n",
       "      <td>F2B16</td>\n",
       "      <td>1</td>\n",
       "      <td>0.139</td>\n",
       "      <td>1.791e-02</td>\n",
       "      <td>0.139</td>\n",
       "      <td>1.764e-02</td>\n",
       "      <td>-1.450</td>\n",
       "      <td>-1.478</td>\n",
       "    </tr>\n",
       "    <tr>\n",
       "      <th>37</th>\n",
       "      <td>F2B19</td>\n",
       "      <td>0</td>\n",
       "      <td>0.150</td>\n",
       "      <td>4.026e-03</td>\n",
       "      <td>0.150</td>\n",
       "      <td>3.968e-03</td>\n",
       "      <td>-1.450</td>\n",
       "      <td>-1.438</td>\n",
       "    </tr>\n",
       "    <tr>\n",
       "      <th>38</th>\n",
       "      <td>F2B26</td>\n",
       "      <td>0</td>\n",
       "      <td>0.153</td>\n",
       "      <td>5.636e-03</td>\n",
       "      <td>0.153</td>\n",
       "      <td>5.555e-03</td>\n",
       "      <td>-1.450</td>\n",
       "      <td>-1.438</td>\n",
       "    </tr>\n",
       "    <tr>\n",
       "      <th>39</th>\n",
       "      <td>F2B28</td>\n",
       "      <td>1</td>\n",
       "      <td>0.210</td>\n",
       "      <td>1.150e-02</td>\n",
       "      <td>0.210</td>\n",
       "      <td>1.133e-02</td>\n",
       "      <td>-1.450</td>\n",
       "      <td>-1.478</td>\n",
       "    </tr>\n",
       "    <tr>\n",
       "      <th>40</th>\n",
       "      <td>F2B40</td>\n",
       "      <td>0</td>\n",
       "      <td>0.139</td>\n",
       "      <td>1.315e-03</td>\n",
       "      <td>0.139</td>\n",
       "      <td>1.296e-03</td>\n",
       "      <td>-1.450</td>\n",
       "      <td>-1.438</td>\n",
       "    </tr>\n",
       "    <tr>\n",
       "      <th>41</th>\n",
       "      <td>F2B48</td>\n",
       "      <td>0</td>\n",
       "      <td>0.162</td>\n",
       "      <td>5.619e-04</td>\n",
       "      <td>0.162</td>\n",
       "      <td>5.538e-04</td>\n",
       "      <td>-1.450</td>\n",
       "      <td>-1.438</td>\n",
       "    </tr>\n",
       "    <tr>\n",
       "      <th>42</th>\n",
       "      <td>F3B06</td>\n",
       "      <td>1</td>\n",
       "      <td>0.140</td>\n",
       "      <td>7.085e-03</td>\n",
       "      <td>0.140</td>\n",
       "      <td>6.981e-03</td>\n",
       "      <td>-1.450</td>\n",
       "      <td>-1.478</td>\n",
       "    </tr>\n",
       "    <tr>\n",
       "      <th>43</th>\n",
       "      <td>F3B14</td>\n",
       "      <td>0</td>\n",
       "      <td>0.154</td>\n",
       "      <td>5.377e-03</td>\n",
       "      <td>0.154</td>\n",
       "      <td>5.300e-03</td>\n",
       "      <td>-1.450</td>\n",
       "      <td>-1.438</td>\n",
       "    </tr>\n",
       "    <tr>\n",
       "      <th>44</th>\n",
       "      <td>F4B02</td>\n",
       "      <td>0</td>\n",
       "      <td>0.136</td>\n",
       "      <td>4.516e-03</td>\n",
       "      <td>0.136</td>\n",
       "      <td>4.451e-03</td>\n",
       "      <td>-1.450</td>\n",
       "      <td>-1.438</td>\n",
       "    </tr>\n",
       "    <tr>\n",
       "      <th>45</th>\n",
       "      <td>F4B10</td>\n",
       "      <td>0</td>\n",
       "      <td>0.110</td>\n",
       "      <td>6.744e-03</td>\n",
       "      <td>0.110</td>\n",
       "      <td>6.647e-03</td>\n",
       "      <td>-1.450</td>\n",
       "      <td>-1.438</td>\n",
       "    </tr>\n",
       "    <tr>\n",
       "      <th>46</th>\n",
       "      <td>F4B12</td>\n",
       "      <td>0</td>\n",
       "      <td>0.104</td>\n",
       "      <td>8.263e-03</td>\n",
       "      <td>0.104</td>\n",
       "      <td>8.144e-03</td>\n",
       "      <td>-1.450</td>\n",
       "      <td>-1.438</td>\n",
       "    </tr>\n",
       "    <tr>\n",
       "      <th>47</th>\n",
       "      <td>F6B18</td>\n",
       "      <td>0</td>\n",
       "      <td>0.127</td>\n",
       "      <td>3.530e-03</td>\n",
       "      <td>0.127</td>\n",
       "      <td>3.479e-03</td>\n",
       "      <td>-1.450</td>\n",
       "      <td>-1.438</td>\n",
       "    </tr>\n",
       "  </tbody>\n",
       "</table>\n",
       "</div>"
      ],
      "text/plain": [
       "   product_ids  mushy  prices     shares  new_prices  new_shares  iv_change  \\\n",
       "24       F1B04      1   0.078  6.443e-03       0.039   2.084e-02    223.638   \n",
       "25       F1B06      1   0.141  1.413e-01       0.141   1.392e-01     -1.450   \n",
       "26       F1B07      1   0.073  8.789e-02       0.073   8.660e-02     -1.450   \n",
       "27       F1B09      0   0.077  6.621e-03       0.077   6.526e-03     -1.450   \n",
       "28       F1B11      0   0.167  5.427e-02       0.167   5.349e-02     -1.450   \n",
       "29       F1B13      0   0.092  2.198e-02       0.092   2.166e-02     -1.450   \n",
       "30       F1B17      1   0.154  1.055e-02       0.154   1.039e-02     -1.450   \n",
       "31       F1B30      0   0.150  1.310e-03       0.150   1.291e-03     -1.450   \n",
       "32       F1B45      0   0.147  1.052e-02       0.147   1.037e-02     -1.450   \n",
       "33       F2B05      0   0.099  5.907e-02       0.099   5.822e-02     -1.450   \n",
       "34       F2B08      0   0.120  1.300e-02       0.120   1.281e-02     -1.450   \n",
       "35       F2B15      1   0.072  7.849e-03       0.072   7.733e-03     -1.450   \n",
       "36       F2B16      1   0.139  1.791e-02       0.139   1.764e-02     -1.450   \n",
       "37       F2B19      0   0.150  4.026e-03       0.150   3.968e-03     -1.450   \n",
       "38       F2B26      0   0.153  5.636e-03       0.153   5.555e-03     -1.450   \n",
       "39       F2B28      1   0.210  1.150e-02       0.210   1.133e-02     -1.450   \n",
       "40       F2B40      0   0.139  1.315e-03       0.139   1.296e-03     -1.450   \n",
       "41       F2B48      0   0.162  5.619e-04       0.162   5.538e-04     -1.450   \n",
       "42       F3B06      1   0.140  7.085e-03       0.140   6.981e-03     -1.450   \n",
       "43       F3B14      0   0.154  5.377e-03       0.154   5.300e-03     -1.450   \n",
       "44       F4B02      0   0.136  4.516e-03       0.136   4.451e-03     -1.450   \n",
       "45       F4B10      0   0.110  6.744e-03       0.110   6.647e-03     -1.450   \n",
       "46       F4B12      0   0.104  8.263e-03       0.104   8.144e-03     -1.450   \n",
       "47       F6B18      0   0.127  3.530e-03       0.127   3.479e-03     -1.450   \n",
       "\n",
       "    mushy_change  \n",
       "24       223.522  \n",
       "25        -1.478  \n",
       "26        -1.478  \n",
       "27        -1.438  \n",
       "28        -1.438  \n",
       "29        -1.438  \n",
       "30        -1.478  \n",
       "31        -1.438  \n",
       "32        -1.438  \n",
       "33        -1.438  \n",
       "34        -1.438  \n",
       "35        -1.478  \n",
       "36        -1.478  \n",
       "37        -1.438  \n",
       "38        -1.438  \n",
       "39        -1.478  \n",
       "40        -1.438  \n",
       "41        -1.438  \n",
       "42        -1.478  \n",
       "43        -1.438  \n",
       "44        -1.438  \n",
       "45        -1.438  \n",
       "46        -1.438  \n",
       "47        -1.438  "
      ]
     },
     "execution_count": 12,
     "metadata": {},
     "output_type": "execute_result"
    }
   ],
   "source": [
    "counterfactual_data['new_shares'] = mushy_results.compute_shares(market_id=counterfactual_market, prices=counterfactual_data['new_prices'])\n",
    "counterfactual_data['mushy_change'] = 100 * (counterfactual_data['new_shares'] - counterfactual_data['shares']) / counterfactual_data['shares']\n",
    "counterfactual_data"
   ]
  },
  {
   "cell_type": "markdown",
   "id": "9a264e2d-ae4e-4df2-96ef-5701185d3710",
   "metadata": {},
   "source": [
    "Results are fairly similar, which is unsurprising because the new parameter is estimated to be fairly small. Substitution from other products (and hence cannibalization) seems a bit more reasonable in the sense that we see a bit more substitution from more similar (along the mushy dimension) producucts than others. This is because high-income consumers are more likely to substitute to the now-cheaper mushy product, so products with more high-income consumers (i.e. mushy ones) are more likely to have strong reductions in demand due to substitution."
   ]
  },
  {
   "cell_type": "markdown",
   "id": "c3d413c3-8a66-4bbd-9673-1587185ad778",
   "metadata": {},
   "source": [
    "### 5. Estimate parameters on price $\\times$ log income and unobserved preferences"
   ]
  },
  {
   "cell_type": "markdown",
   "id": "6dff471e-c91c-44d7-9a71-669ea8dd64c0",
   "metadata": {},
   "source": [
    "We'll first compute the fitted values from our prive IV's first stage and verify that they are strongly correlated with prices."
   ]
  },
  {
   "cell_type": "code",
   "execution_count": 13,
   "id": "45450e10-3c16-47a0-821b-2c99e0fb9a01",
   "metadata": {},
   "outputs": [
    {
     "data": {
      "application/vnd.microsoft.datawrangler.viewer.v0+json": {
       "columns": [
        {
         "name": "index",
         "rawType": "object",
         "type": "string"
        },
        {
         "name": "prices",
         "rawType": "float64",
         "type": "float"
        },
        {
         "name": "predicted_prices",
         "rawType": "float64",
         "type": "float"
        }
       ],
       "ref": "2f7e8825-756d-4d10-9a96-fb5f70627cf6",
       "rows": [
        [
         "prices",
         "1.0",
         "0.9819766082070202"
        ],
        [
         "predicted_prices",
         "0.9819766082070202",
         "1.0"
        ]
       ],
       "shape": {
        "columns": 2,
        "rows": 2
       }
      },
      "text/html": [
       "<div>\n",
       "<style scoped>\n",
       "    .dataframe tbody tr th:only-of-type {\n",
       "        vertical-align: middle;\n",
       "    }\n",
       "\n",
       "    .dataframe tbody tr th {\n",
       "        vertical-align: top;\n",
       "    }\n",
       "\n",
       "    .dataframe thead th {\n",
       "        text-align: right;\n",
       "    }\n",
       "</style>\n",
       "<table border=\"1\" class=\"dataframe\">\n",
       "  <thead>\n",
       "    <tr style=\"text-align: right;\">\n",
       "      <th></th>\n",
       "      <th>prices</th>\n",
       "      <th>predicted_prices</th>\n",
       "    </tr>\n",
       "  </thead>\n",
       "  <tbody>\n",
       "    <tr>\n",
       "      <th>prices</th>\n",
       "      <td>1.000</td>\n",
       "      <td>0.982</td>\n",
       "    </tr>\n",
       "    <tr>\n",
       "      <th>predicted_prices</th>\n",
       "      <td>0.982</td>\n",
       "      <td>1.000</td>\n",
       "    </tr>\n",
       "  </tbody>\n",
       "</table>\n",
       "</div>"
      ],
      "text/plain": [
       "                  prices  predicted_prices\n",
       "prices             1.000             0.982\n",
       "predicted_prices   0.982             1.000"
      ]
     },
     "execution_count": 13,
     "metadata": {},
     "output_type": "execute_result"
    }
   ],
   "source": [
    "product_data['predicted_prices'] = first_stage_results.fittedvalues\n",
    "product_data[['prices', 'predicted_prices']].corr()"
   ]
  },
  {
   "cell_type": "markdown",
   "id": "31e0effa-e80e-4dbc-99ff-88776dc0d02b",
   "metadata": {},
   "source": [
    "Next, we'll construct an IV to target the new parameter in $\\Pi$."
   ]
  },
  {
   "cell_type": "code",
   "execution_count": 14,
   "id": "5f6d2dcb-3f20-48d7-ad59-599f80eea20f",
   "metadata": {},
   "outputs": [],
   "source": [
    "product_data['demand_instruments2'] = product_data['log_income_mean'] * product_data['predicted_prices']"
   ]
  },
  {
   "cell_type": "markdown",
   "id": "41aa5386-4d2d-4b65-8967-88a37a769154",
   "metadata": {},
   "source": [
    "We'll also construct an IV to target the new parameter in $\\Sigma$."
   ]
  },
  {
   "cell_type": "code",
   "execution_count": 15,
   "id": "8f052637-aaa7-45cc-be6b-f73dccb960f2",
   "metadata": {},
   "outputs": [],
   "source": [
    "compute_differentiation = lambda x: np.sum((x.values[:, None] - x.values[None, :])**2, axis=1)\n",
    "product_data['demand_instruments3'] = product_data.groupby('market_ids')['predicted_prices'].transform(compute_differentiation)"
   ]
  },
  {
   "cell_type": "markdown",
   "id": "f3b2215e-c078-4189-b7fb-e897f0cee44c",
   "metadata": {},
   "source": [
    "Let's initialize a new problem with the new instruments."
   ]
  },
  {
   "cell_type": "code",
   "execution_count": 16,
   "id": "3157d970-2eaf-4339-a185-c788f780a06a",
   "metadata": {},
   "outputs": [
    {
     "data": {
      "text/plain": [
       "Dimensions:\n",
       "=============================================\n",
       " T    N      I     K1    K2    D    MD    ED \n",
       "---  ----  -----  ----  ----  ---  ----  ----\n",
       "94   2256  94000   1     2     1    4     2  \n",
       "=============================================\n",
       "\n",
       "Formulations:\n",
       "=================================================\n",
       "       Column Indices:             0         1   \n",
       "-----------------------------  ----------  ------\n",
       " X1: Linear Characteristics      prices          \n",
       "X2: Nonlinear Characteristics    mushy     prices\n",
       "       d: Demographics         log_income        \n",
       "================================================="
      ]
     },
     "execution_count": 16,
     "metadata": {},
     "output_type": "execute_result"
    }
   ],
   "source": [
    "product_formulations = (pyblp.Formulation('0 + prices', absorb='C(market_ids) + C(product_ids)'), pyblp.Formulation('0 + mushy + prices'))\n",
    "agent_formulation = pyblp.Formulation('0 + log_income')\n",
    "rc_problem = pyblp.Problem(product_formulations, product_data, agent_formulation, agent_data)\n",
    "rc_problem"
   ]
  },
  {
   "cell_type": "markdown",
   "id": "4c49d746-71e1-445d-97fe-80fa1dd72606",
   "metadata": {},
   "source": [
    "Let's solve the problem, choosing a starting value for the old parameter close to its estimate and some arbitrary starting values for the two new parameters."
   ]
  },
  {
   "cell_type": "code",
   "execution_count": 17,
   "id": "7985e620-b04b-4bcd-ba8a-c2b9893d9cb9",
   "metadata": {},
   "outputs": [
    {
     "name": "stdout",
     "output_type": "stream",
     "text": [
      "Solving the problem ...\n",
      "\n",
      "Nonlinear Coefficient Initial Values:\n",
      "===================================================\n",
      "Sigma:    mushy     prices    |   Pi:    log_income\n",
      "------  ---------  ---------  |  ------  ----------\n",
      "mushy   +0.00E+00             |  mushy   +2.00E-01 \n",
      "prices  +0.00E+00  +1.00E+00  |  prices  +1.00E+00 \n",
      "===================================================\n",
      "\n",
      "Nonlinear Coefficient Lower Bounds:\n",
      "===================================================\n",
      "Sigma:    mushy     prices    |   Pi:    log_income\n",
      "------  ---------  ---------  |  ------  ----------\n",
      "mushy   +0.00E+00             |  mushy     -INF    \n",
      "prices  +0.00E+00  +0.00E+00  |  prices    -INF    \n",
      "===================================================\n",
      "\n",
      "Nonlinear Coefficient Upper Bounds:\n",
      "===================================================\n",
      "Sigma:    mushy     prices    |   Pi:    log_income\n",
      "------  ---------  ---------  |  ------  ----------\n",
      "mushy   +0.00E+00             |  mushy     +INF    \n",
      "prices  +0.00E+00    +INF     |  prices    +INF    \n",
      "===================================================\n",
      "\n",
      "Starting optimization ...\n",
      "\n",
      "GMM   Computation  Optimization   Objective   Fixed Point  Contraction  Clipped  Objective   Objective     Projected                                   \n",
      "Step     Time       Iterations   Evaluations  Iterations   Evaluations  Shares     Value    Improvement  Gradient Norm               Theta             \n",
      "----  -----------  ------------  -----------  -----------  -----------  -------  ---------  -----------  -------------  -------------------------------\n",
      " 1     00:00:00         0             1           496         1606         0     +1.97E+01                 +5.08E+00    +1.00E+00, +2.00E-01, +1.00E+00\n",
      " 1     00:00:01         1             2           721         2224         0     +2.67E+01                 +1.78E+01    +1.19E+00, +1.06E+00, +5.76E-01\n",
      " 1     00:00:01         2             3           607         1905         0     +1.92E+01   +4.90E-01     +4.33E+00    +1.07E+00, +4.19E-01, +8.02E-01\n",
      " 1     00:00:00         3             4           514         1641         0     +1.89E+01   +3.42E-01     +2.53E+00    +1.08E+00, +2.41E-01, +7.42E-01\n",
      " 1     00:00:00         4             5           530         1691         0     +1.84E+01   +4.10E-01     +2.49E+00    +1.12E+00, +2.74E-01, +6.05E-01\n",
      " 1     00:00:00         5             6           534         1688         0     +1.63E+01   +2.13E+00     +8.03E+00    +1.25E+00, +4.03E-01, -4.27E-01\n",
      " 1     00:00:00         6             7           517         1633         0     +1.21E+01   +4.21E+00     +3.18E+01    +1.79E+00, +5.39E-01, -3.77E+00\n",
      " 1     00:00:00         7             8           550         1745         0     +5.39E+00   +6.72E+00     +3.35E+01    +2.17E+00, +3.73E-01, -5.55E+00\n",
      " 1     00:00:01         8             9           808         2517         0     +6.64E+02                 +6.50E+02    +5.16E+00, -1.78E+00, -1.76E+01\n",
      " 1     00:00:01         9            10           555         1764         0     +2.34E+00   +3.05E+00     +2.20E+01    +2.23E+00, +2.65E-01, -5.54E+00\n",
      " 1     00:00:01         10           11           566         1794         0     +8.53E-01   +1.49E+00     +1.48E+01    +2.37E+00, +1.98E-01, -6.11E+00\n",
      " 1     00:00:01         11           12           562         1796         0     +2.63E-01   +5.90E-01     +6.11E+00    +2.44E+00, +7.59E-02, -6.12E+00\n",
      " 1     00:00:01         12           13           570         1810         0     +1.33E-01   +1.30E-01     +3.21E-01    +2.47E+00, +1.09E-01, -6.37E+00\n",
      " 1     00:00:01         13           14           570         1809         0     +1.32E-01   +8.55E-04     +6.88E-02    +2.48E+00, +1.07E-01, -6.37E+00\n",
      " 1     00:00:01         15           15           569         1808         0     +1.31E-01   +1.17E-03     +1.58E-01    +2.48E+00, +1.06E-01, -6.32E+00\n",
      " 1     00:00:01         16           16           569         1809         0     +1.31E-01   +6.76E-05     +5.46E-02    +2.48E+00, +1.07E-01, -6.32E+00\n",
      " 1     00:00:01         17           17           569         1809         0     +1.30E-01   +5.48E-04     +4.71E-02    +2.49E+00, +1.07E-01, -6.32E+00\n",
      " 1     00:00:01         18           18           575         1822         0     +1.14E-01   +1.61E-02     +1.49E+00    +2.97E+00, +1.15E-01, -6.33E+00\n",
      " 1     00:00:01         19           19           576         1822         0     +1.11E-01   +3.60E-03     +9.66E-01    +2.97E+00, +1.12E-01, -6.33E+00\n",
      " 1     00:00:01         20           20           576         1822         0     +1.08E-01   +2.59E-03     +5.38E-02    +2.97E+00, +1.07E-01, -6.33E+00\n",
      " 1     00:00:01         21           21           587         1856         0     +4.70E-02   +6.12E-02     +1.52E-01    +4.41E+00, +1.07E-01, -6.28E+00\n",
      " 1     00:00:01         22           22           635         1977         0     +2.54E-01                 +4.35E-01    +8.62E+00, +1.09E-01, -5.89E+00\n",
      " 1     00:00:01         23           23           598         1886         0     +8.10E-03   +3.89E-02     +3.40E-02    +5.35E+00, +1.08E-01, -6.08E+00\n",
      " 1     00:00:01         24           24           604         1898         0     +1.29E-03   +6.81E-03     +1.68E-02    +5.76E+00, +1.08E-01, -6.01E+00\n",
      " 1     00:00:01         26           25           606         1909         0     +6.22E-05   +1.23E-03     +5.25E-03    +6.07E+00, +1.09E-01, -5.95E+00\n",
      " 1     00:00:01         27           26           606         1907         0     +4.89E-05   +1.32E-05     +2.09E-03    +6.07E+00, +1.09E-01, -5.95E+00\n",
      " 1     00:00:01         29           27           604         1906         0     +7.49E-08   +4.89E-05     +8.26E-05    +6.02E+00, +1.09E-01, -5.96E+00\n",
      " 1     00:00:01         32           28           605         1905         0     +4.91E-10   +7.44E-08     +6.21E-06    +6.02E+00, +1.09E-01, -5.96E+00\n",
      " 1     00:00:01         35           29           604         1906         0     +6.21E-13   +4.90E-10     +2.18E-07    +6.02E+00, +1.09E-01, -5.96E+00\n",
      " 1     00:00:01         38           30           605         1908         0     +9.78E-16   +6.20E-13     +9.88E-09    +6.02E+00, +1.09E-01, -5.96E+00\n",
      "\n",
      "Optimization completed after 00:00:16.\n",
      "Computing the Hessian and estimating standard errors ...\n",
      "Computed results after 00:00:04.\n",
      "\n",
      "Problem Results Summary:\n",
      "==============================================================================================================\n",
      "GMM   Objective    Projected    Reduced Hessian  Reduced Hessian  Clipped  Weighting Matrix  Covariance Matrix\n",
      "Step    Value    Gradient Norm  Min Eigenvalue   Max Eigenvalue   Shares   Condition Number  Condition Number \n",
      "----  ---------  -------------  ---------------  ---------------  -------  ----------------  -----------------\n",
      " 1    +9.78E-16    +9.88E-09       +3.63E-02        +1.68E+02        0        +1.67E+04          +2.66E+04    \n",
      "==============================================================================================================\n",
      "\n",
      "Cumulative Statistics:\n",
      "===========================================================================\n",
      "Computation  Optimizer  Optimization   Objective   Fixed Point  Contraction\n",
      "   Time      Converged   Iterations   Evaluations  Iterations   Evaluations\n",
      "-----------  ---------  ------------  -----------  -----------  -----------\n",
      " 00:00:20       Yes          39           31          18193        57481   \n",
      "===========================================================================\n",
      "\n",
      "Nonlinear Coefficient Estimates (Robust SEs in Parentheses):\n",
      "======================================================\n",
      "Sigma:    mushy      prices     |   Pi:    log_income \n",
      "------  ---------  -----------  |  ------  -----------\n",
      "mushy   +0.00E+00               |  mushy    +1.09E-01 \n",
      "                                |          (+8.66E-02)\n",
      "                                |                     \n",
      "prices  +0.00E+00   +6.02E+00   |  prices   -5.96E+00 \n",
      "                   (+6.06E+00)  |          (+1.36E+00)\n",
      "======================================================\n",
      "\n",
      "Beta Estimates (Robust SEs in Parentheses):\n",
      "===========\n",
      "  prices   \n",
      "-----------\n",
      " +1.37E+01 \n",
      "(+1.31E+01)\n",
      "===========\n"
     ]
    }
   ],
   "source": [
    "pyblp.options.verbose = True\n",
    "rc_results = rc_problem.solve(\n",
    "    sigma=[\n",
    "        [0, 0],\n",
    "        [0, 1],\n",
    "    ], \n",
    "    pi=[\n",
    "        [0.2],\n",
    "        [1],\n",
    "    ], \n",
    "    method='1s', \n",
    "    optimization=optimization,\n",
    ")\n",
    "pyblp.options.verbose = False"
   ]
  },
  {
   "cell_type": "markdown",
   "id": "91ad34f5-401a-4a6e-afe8-bbe30e26da50",
   "metadata": {},
   "source": [
    "Again, the near-zero objective and first- and second-order condition tests indicate that we've reached a global minimum. To save time in this exercise, we won't try multiple starting values.\n",
    "\n",
    "With an average log income of 8.09 from above, the average price coefficient is 13.7 - 5.96 * 8.09 = -34.5, which is fairly close to our old non-random price coefficient estimate $\\hat{\\alpha}$ of -30.6. With a standard deviation of log income of 0.9, close to the standard deviation of our $N(0, 1)$ draws, there seems to be about as much unobserved price sensitivity heterogeneity as heterogeneity from income (the two new parameter estimates are about the same magnitude). For more precise interpretations of our new parameters, we could compute elasticities for different consumer types and compare."
   ]
  },
  {
   "cell_type": "markdown",
   "id": "7983ec3f-474f-41c4-a6ec-6f5d6ca5fe52",
   "metadata": {},
   "source": [
    "### 6. Evaluate changes to the price counterfactual"
   ]
  },
  {
   "cell_type": "markdown",
   "id": "079c6af8-9729-4add-bf48-3bf59b31c94e",
   "metadata": {},
   "source": [
    "Let's re-run the price cut counterfactual and compare."
   ]
  },
  {
   "cell_type": "code",
   "execution_count": 18,
   "id": "d6387fb5-3ead-4bfc-9fb0-8f1855a65501",
   "metadata": {},
   "outputs": [
    {
     "data": {
      "application/vnd.microsoft.datawrangler.viewer.v0+json": {
       "columns": [
        {
         "name": "index",
         "rawType": "int64",
         "type": "integer"
        },
        {
         "name": "product_ids",
         "rawType": "object",
         "type": "string"
        },
        {
         "name": "mushy",
         "rawType": "int64",
         "type": "integer"
        },
        {
         "name": "prices",
         "rawType": "float64",
         "type": "float"
        },
        {
         "name": "shares",
         "rawType": "float64",
         "type": "float"
        },
        {
         "name": "new_prices",
         "rawType": "float64",
         "type": "float"
        },
        {
         "name": "new_shares",
         "rawType": "float64",
         "type": "float"
        },
        {
         "name": "iv_change",
         "rawType": "float64",
         "type": "float"
        },
        {
         "name": "mushy_change",
         "rawType": "float64",
         "type": "float"
        },
        {
         "name": "rc_change",
         "rawType": "float64",
         "type": "float"
        }
       ],
       "ref": "ebc6eb90-3bb7-44af-a0a9-6e0d46782886",
       "rows": [
        [
         "24",
         "F1B04",
         "1",
         "0.077717715",
         "0.006442765",
         "0.0388588575",
         "0.02481289176825585",
         "223.6376583595302",
         "223.52196371755653",
         "285.1279965706627"
        ],
        [
         "25",
         "F1B06",
         "1",
         "0.14104056",
         "0.14128212",
         "0.14104056",
         "0.13899170320892215",
         "-1.4501880990889415",
         "-1.4779303987092385",
         "-1.6211653612487265"
        ],
        [
         "26",
         "F1B07",
         "1",
         "0.07268274",
         "0.08789458",
         "0.07268274",
         "0.08626826713805714",
         "-1.45018809908896",
         "-1.4779303987102084",
         "-1.850299372205721"
        ],
        [
         "27",
         "F1B09",
         "0",
         "0.076974403",
         "0.006621446800000001",
         "0.076974403",
         "0.006501703842282691",
         "-1.4501880990889846",
         "-1.4380301148890355",
         "-1.808410779911573"
        ],
        [
         "28",
         "F1B11",
         "0",
         "0.16700882",
         "0.054274866",
         "0.16700882",
         "0.05346307236684468",
         "-1.4501880990889742",
         "-1.4380301148890262",
         "-1.4957082218412443"
        ],
        [
         "29",
         "F1B13",
         "0",
         "0.092333473",
         "0.021978619",
         "0.092333473",
         "0.02159211997876606",
         "-1.4501880990889815",
         "-1.438030114888902",
         "-1.7585227772224459"
        ],
        [
         "30",
         "F1B17",
         "1",
         "0.15393083",
         "0.010547397000000002",
         "0.15393083",
         "0.010381282290322518",
         "-1.4501880990890066",
         "-1.4779303987088124",
         "-1.5749355947963617"
        ],
        [
         "31",
         "F1B30",
         "0",
         "0.15039494",
         "0.001309628",
         "0.15039494",
         "0.001289246429819306",
         "-1.450188099088988",
         "-1.4380301148884842",
         "-1.5562869899463039"
        ],
        [
         "32",
         "F1B45",
         "0",
         "0.14726089",
         "0.010524623",
         "0.14726089",
         "0.010359636945052457",
         "-1.4501880990889557",
         "-1.4380301148886514",
         "-1.5676196187506544"
        ],
        [
         "33",
         "F2B05",
         "0",
         "0.099437",
         "0.05906936499999999",
         "0.099437",
         "0.0580445989207785",
         "-1.4501880990889062",
         "-1.438030114888422",
         "-1.7348520323885215"
        ],
        [
         "34",
         "F2B08",
         "0",
         "0.11975962",
         "0.013001525",
         "0.11975962",
         "0.012785011661981593",
         "-1.4501880990889262",
         "-1.438030114887795",
         "-1.6652918639806211"
        ],
        [
         "35",
         "F2B15",
         "1",
         "0.072425151",
         "0.0078492445",
         "0.072425151",
         "0.007703947411252336",
         "-1.4501880990889395",
         "-1.4779303987089834",
         "-1.8510964812940112"
        ],
        [
         "36",
         "F2B16",
         "1",
         "0.13880223",
         "0.017908649999999998",
         "0.13880223",
         "0.017616896518000448",
         "-1.4501880990889997",
         "-1.4779303987096284",
         "-1.6291204641307422"
        ],
        [
         "37",
         "F2B19",
         "0",
         "0.15012616",
         "0.0040259879",
         "0.15012616",
         "0.003963292791548386",
         "-1.4501880990889426",
         "-1.438030114888969",
         "-1.557260230504264"
        ],
        [
         "38",
         "F2B26",
         "0",
         "0.15313127",
         "0.0056355714",
         "0.15313127",
         "0.005548424888793643",
         "-1.4501880990889668",
         "-1.4380301148876822",
         "-1.546365133557839"
        ],
        [
         "39",
         "F2B28",
         "1",
         "0.20983296",
         "0.01149715",
         "0.20983296",
         "0.011339691803213862",
         "-1.450188099088988",
         "-1.4779303987101968",
         "-1.369541119200297"
        ],
        [
         "40",
         "F2B40",
         "0",
         "0.13927765",
         "0.0013146081",
         "0.13927765",
         "0.0012936227386934544",
         "-1.4501880990889555",
         "-1.438030114888784",
         "-1.5963207062656548"
        ],
        [
         "41",
         "F2B48",
         "0",
         "0.16228486",
         "0.00056185182",
         "0.16228486",
         "0.0005533509517279384",
         "-1.4501880990889362",
         "-1.4380301148885517",
         "-1.5130089410516827"
        ],
        [
         "42",
         "F3B06",
         "1",
         "0.14027255",
         "0.0070854989",
         "0.14027255",
         "0.00697043766090522",
         "-1.4501880990889806",
         "-1.4779303987087622",
         "-1.6238974942862536"
        ],
        [
         "43",
         "F3B14",
         "0",
         "0.15381146",
         "0.0053769999",
         "0.15381146",
         "0.005293984666929524",
         "-1.450188099088947",
         "-1.4380301148879346",
         "-1.5438950086362588"
        ],
        [
         "44",
         "F4B02",
         "0",
         "0.13597643",
         "0.0045159986",
         "0.13597643",
         "0.004443376238778833",
         "-1.4501880990889386",
         "-1.4380301148887338",
         "-1.6081130144984173"
        ],
        [
         "45",
         "F4B10",
         "0",
         "0.1101169",
         "0.006743882200000001",
         "0.1101169",
         "0.006629329455167702",
         "-1.4501880990889657",
         "-1.4380301148878196",
         "-1.6986172272151887"
        ],
        [
         "46",
         "F4B12",
         "0",
         "0.10392265",
         "0.008263140499999998",
         "0.10392265",
         "0.00812103726476448",
         "-1.4501880990889573",
         "-1.4380301148885475",
         "-1.7197243013781252"
        ],
        [
         "47",
         "F6B18",
         "0",
         "0.12713032",
         "0.0035300779",
         "0.12713032",
         "0.0034722034349192145",
         "-1.4501880990889697",
         "-1.4380301148886314",
         "-1.6394670803379545"
        ]
       ],
       "shape": {
        "columns": 9,
        "rows": 24
       }
      },
      "text/html": [
       "<div>\n",
       "<style scoped>\n",
       "    .dataframe tbody tr th:only-of-type {\n",
       "        vertical-align: middle;\n",
       "    }\n",
       "\n",
       "    .dataframe tbody tr th {\n",
       "        vertical-align: top;\n",
       "    }\n",
       "\n",
       "    .dataframe thead th {\n",
       "        text-align: right;\n",
       "    }\n",
       "</style>\n",
       "<table border=\"1\" class=\"dataframe\">\n",
       "  <thead>\n",
       "    <tr style=\"text-align: right;\">\n",
       "      <th></th>\n",
       "      <th>product_ids</th>\n",
       "      <th>mushy</th>\n",
       "      <th>prices</th>\n",
       "      <th>shares</th>\n",
       "      <th>new_prices</th>\n",
       "      <th>new_shares</th>\n",
       "      <th>iv_change</th>\n",
       "      <th>mushy_change</th>\n",
       "      <th>rc_change</th>\n",
       "    </tr>\n",
       "  </thead>\n",
       "  <tbody>\n",
       "    <tr>\n",
       "      <th>24</th>\n",
       "      <td>F1B04</td>\n",
       "      <td>1</td>\n",
       "      <td>0.078</td>\n",
       "      <td>6.443e-03</td>\n",
       "      <td>0.039</td>\n",
       "      <td>2.481e-02</td>\n",
       "      <td>223.638</td>\n",
       "      <td>223.522</td>\n",
       "      <td>285.128</td>\n",
       "    </tr>\n",
       "    <tr>\n",
       "      <th>25</th>\n",
       "      <td>F1B06</td>\n",
       "      <td>1</td>\n",
       "      <td>0.141</td>\n",
       "      <td>1.413e-01</td>\n",
       "      <td>0.141</td>\n",
       "      <td>1.390e-01</td>\n",
       "      <td>-1.450</td>\n",
       "      <td>-1.478</td>\n",
       "      <td>-1.621</td>\n",
       "    </tr>\n",
       "    <tr>\n",
       "      <th>26</th>\n",
       "      <td>F1B07</td>\n",
       "      <td>1</td>\n",
       "      <td>0.073</td>\n",
       "      <td>8.789e-02</td>\n",
       "      <td>0.073</td>\n",
       "      <td>8.627e-02</td>\n",
       "      <td>-1.450</td>\n",
       "      <td>-1.478</td>\n",
       "      <td>-1.850</td>\n",
       "    </tr>\n",
       "    <tr>\n",
       "      <th>27</th>\n",
       "      <td>F1B09</td>\n",
       "      <td>0</td>\n",
       "      <td>0.077</td>\n",
       "      <td>6.621e-03</td>\n",
       "      <td>0.077</td>\n",
       "      <td>6.502e-03</td>\n",
       "      <td>-1.450</td>\n",
       "      <td>-1.438</td>\n",
       "      <td>-1.808</td>\n",
       "    </tr>\n",
       "    <tr>\n",
       "      <th>28</th>\n",
       "      <td>F1B11</td>\n",
       "      <td>0</td>\n",
       "      <td>0.167</td>\n",
       "      <td>5.427e-02</td>\n",
       "      <td>0.167</td>\n",
       "      <td>5.346e-02</td>\n",
       "      <td>-1.450</td>\n",
       "      <td>-1.438</td>\n",
       "      <td>-1.496</td>\n",
       "    </tr>\n",
       "    <tr>\n",
       "      <th>29</th>\n",
       "      <td>F1B13</td>\n",
       "      <td>0</td>\n",
       "      <td>0.092</td>\n",
       "      <td>2.198e-02</td>\n",
       "      <td>0.092</td>\n",
       "      <td>2.159e-02</td>\n",
       "      <td>-1.450</td>\n",
       "      <td>-1.438</td>\n",
       "      <td>-1.759</td>\n",
       "    </tr>\n",
       "    <tr>\n",
       "      <th>30</th>\n",
       "      <td>F1B17</td>\n",
       "      <td>1</td>\n",
       "      <td>0.154</td>\n",
       "      <td>1.055e-02</td>\n",
       "      <td>0.154</td>\n",
       "      <td>1.038e-02</td>\n",
       "      <td>-1.450</td>\n",
       "      <td>-1.478</td>\n",
       "      <td>-1.575</td>\n",
       "    </tr>\n",
       "    <tr>\n",
       "      <th>31</th>\n",
       "      <td>F1B30</td>\n",
       "      <td>0</td>\n",
       "      <td>0.150</td>\n",
       "      <td>1.310e-03</td>\n",
       "      <td>0.150</td>\n",
       "      <td>1.289e-03</td>\n",
       "      <td>-1.450</td>\n",
       "      <td>-1.438</td>\n",
       "      <td>-1.556</td>\n",
       "    </tr>\n",
       "    <tr>\n",
       "      <th>32</th>\n",
       "      <td>F1B45</td>\n",
       "      <td>0</td>\n",
       "      <td>0.147</td>\n",
       "      <td>1.052e-02</td>\n",
       "      <td>0.147</td>\n",
       "      <td>1.036e-02</td>\n",
       "      <td>-1.450</td>\n",
       "      <td>-1.438</td>\n",
       "      <td>-1.568</td>\n",
       "    </tr>\n",
       "    <tr>\n",
       "      <th>33</th>\n",
       "      <td>F2B05</td>\n",
       "      <td>0</td>\n",
       "      <td>0.099</td>\n",
       "      <td>5.907e-02</td>\n",
       "      <td>0.099</td>\n",
       "      <td>5.804e-02</td>\n",
       "      <td>-1.450</td>\n",
       "      <td>-1.438</td>\n",
       "      <td>-1.735</td>\n",
       "    </tr>\n",
       "    <tr>\n",
       "      <th>34</th>\n",
       "      <td>F2B08</td>\n",
       "      <td>0</td>\n",
       "      <td>0.120</td>\n",
       "      <td>1.300e-02</td>\n",
       "      <td>0.120</td>\n",
       "      <td>1.279e-02</td>\n",
       "      <td>-1.450</td>\n",
       "      <td>-1.438</td>\n",
       "      <td>-1.665</td>\n",
       "    </tr>\n",
       "    <tr>\n",
       "      <th>35</th>\n",
       "      <td>F2B15</td>\n",
       "      <td>1</td>\n",
       "      <td>0.072</td>\n",
       "      <td>7.849e-03</td>\n",
       "      <td>0.072</td>\n",
       "      <td>7.704e-03</td>\n",
       "      <td>-1.450</td>\n",
       "      <td>-1.478</td>\n",
       "      <td>-1.851</td>\n",
       "    </tr>\n",
       "    <tr>\n",
       "      <th>36</th>\n",
       "      <td>F2B16</td>\n",
       "      <td>1</td>\n",
       "      <td>0.139</td>\n",
       "      <td>1.791e-02</td>\n",
       "      <td>0.139</td>\n",
       "      <td>1.762e-02</td>\n",
       "      <td>-1.450</td>\n",
       "      <td>-1.478</td>\n",
       "      <td>-1.629</td>\n",
       "    </tr>\n",
       "    <tr>\n",
       "      <th>37</th>\n",
       "      <td>F2B19</td>\n",
       "      <td>0</td>\n",
       "      <td>0.150</td>\n",
       "      <td>4.026e-03</td>\n",
       "      <td>0.150</td>\n",
       "      <td>3.963e-03</td>\n",
       "      <td>-1.450</td>\n",
       "      <td>-1.438</td>\n",
       "      <td>-1.557</td>\n",
       "    </tr>\n",
       "    <tr>\n",
       "      <th>38</th>\n",
       "      <td>F2B26</td>\n",
       "      <td>0</td>\n",
       "      <td>0.153</td>\n",
       "      <td>5.636e-03</td>\n",
       "      <td>0.153</td>\n",
       "      <td>5.548e-03</td>\n",
       "      <td>-1.450</td>\n",
       "      <td>-1.438</td>\n",
       "      <td>-1.546</td>\n",
       "    </tr>\n",
       "    <tr>\n",
       "      <th>39</th>\n",
       "      <td>F2B28</td>\n",
       "      <td>1</td>\n",
       "      <td>0.210</td>\n",
       "      <td>1.150e-02</td>\n",
       "      <td>0.210</td>\n",
       "      <td>1.134e-02</td>\n",
       "      <td>-1.450</td>\n",
       "      <td>-1.478</td>\n",
       "      <td>-1.370</td>\n",
       "    </tr>\n",
       "    <tr>\n",
       "      <th>40</th>\n",
       "      <td>F2B40</td>\n",
       "      <td>0</td>\n",
       "      <td>0.139</td>\n",
       "      <td>1.315e-03</td>\n",
       "      <td>0.139</td>\n",
       "      <td>1.294e-03</td>\n",
       "      <td>-1.450</td>\n",
       "      <td>-1.438</td>\n",
       "      <td>-1.596</td>\n",
       "    </tr>\n",
       "    <tr>\n",
       "      <th>41</th>\n",
       "      <td>F2B48</td>\n",
       "      <td>0</td>\n",
       "      <td>0.162</td>\n",
       "      <td>5.619e-04</td>\n",
       "      <td>0.162</td>\n",
       "      <td>5.534e-04</td>\n",
       "      <td>-1.450</td>\n",
       "      <td>-1.438</td>\n",
       "      <td>-1.513</td>\n",
       "    </tr>\n",
       "    <tr>\n",
       "      <th>42</th>\n",
       "      <td>F3B06</td>\n",
       "      <td>1</td>\n",
       "      <td>0.140</td>\n",
       "      <td>7.085e-03</td>\n",
       "      <td>0.140</td>\n",
       "      <td>6.970e-03</td>\n",
       "      <td>-1.450</td>\n",
       "      <td>-1.478</td>\n",
       "      <td>-1.624</td>\n",
       "    </tr>\n",
       "    <tr>\n",
       "      <th>43</th>\n",
       "      <td>F3B14</td>\n",
       "      <td>0</td>\n",
       "      <td>0.154</td>\n",
       "      <td>5.377e-03</td>\n",
       "      <td>0.154</td>\n",
       "      <td>5.294e-03</td>\n",
       "      <td>-1.450</td>\n",
       "      <td>-1.438</td>\n",
       "      <td>-1.544</td>\n",
       "    </tr>\n",
       "    <tr>\n",
       "      <th>44</th>\n",
       "      <td>F4B02</td>\n",
       "      <td>0</td>\n",
       "      <td>0.136</td>\n",
       "      <td>4.516e-03</td>\n",
       "      <td>0.136</td>\n",
       "      <td>4.443e-03</td>\n",
       "      <td>-1.450</td>\n",
       "      <td>-1.438</td>\n",
       "      <td>-1.608</td>\n",
       "    </tr>\n",
       "    <tr>\n",
       "      <th>45</th>\n",
       "      <td>F4B10</td>\n",
       "      <td>0</td>\n",
       "      <td>0.110</td>\n",
       "      <td>6.744e-03</td>\n",
       "      <td>0.110</td>\n",
       "      <td>6.629e-03</td>\n",
       "      <td>-1.450</td>\n",
       "      <td>-1.438</td>\n",
       "      <td>-1.699</td>\n",
       "    </tr>\n",
       "    <tr>\n",
       "      <th>46</th>\n",
       "      <td>F4B12</td>\n",
       "      <td>0</td>\n",
       "      <td>0.104</td>\n",
       "      <td>8.263e-03</td>\n",
       "      <td>0.104</td>\n",
       "      <td>8.121e-03</td>\n",
       "      <td>-1.450</td>\n",
       "      <td>-1.438</td>\n",
       "      <td>-1.720</td>\n",
       "    </tr>\n",
       "    <tr>\n",
       "      <th>47</th>\n",
       "      <td>F6B18</td>\n",
       "      <td>0</td>\n",
       "      <td>0.127</td>\n",
       "      <td>3.530e-03</td>\n",
       "      <td>0.127</td>\n",
       "      <td>3.472e-03</td>\n",
       "      <td>-1.450</td>\n",
       "      <td>-1.438</td>\n",
       "      <td>-1.639</td>\n",
       "    </tr>\n",
       "  </tbody>\n",
       "</table>\n",
       "</div>"
      ],
      "text/plain": [
       "   product_ids  mushy  prices     shares  new_prices  new_shares  iv_change  \\\n",
       "24       F1B04      1   0.078  6.443e-03       0.039   2.481e-02    223.638   \n",
       "25       F1B06      1   0.141  1.413e-01       0.141   1.390e-01     -1.450   \n",
       "26       F1B07      1   0.073  8.789e-02       0.073   8.627e-02     -1.450   \n",
       "27       F1B09      0   0.077  6.621e-03       0.077   6.502e-03     -1.450   \n",
       "28       F1B11      0   0.167  5.427e-02       0.167   5.346e-02     -1.450   \n",
       "29       F1B13      0   0.092  2.198e-02       0.092   2.159e-02     -1.450   \n",
       "30       F1B17      1   0.154  1.055e-02       0.154   1.038e-02     -1.450   \n",
       "31       F1B30      0   0.150  1.310e-03       0.150   1.289e-03     -1.450   \n",
       "32       F1B45      0   0.147  1.052e-02       0.147   1.036e-02     -1.450   \n",
       "33       F2B05      0   0.099  5.907e-02       0.099   5.804e-02     -1.450   \n",
       "34       F2B08      0   0.120  1.300e-02       0.120   1.279e-02     -1.450   \n",
       "35       F2B15      1   0.072  7.849e-03       0.072   7.704e-03     -1.450   \n",
       "36       F2B16      1   0.139  1.791e-02       0.139   1.762e-02     -1.450   \n",
       "37       F2B19      0   0.150  4.026e-03       0.150   3.963e-03     -1.450   \n",
       "38       F2B26      0   0.153  5.636e-03       0.153   5.548e-03     -1.450   \n",
       "39       F2B28      1   0.210  1.150e-02       0.210   1.134e-02     -1.450   \n",
       "40       F2B40      0   0.139  1.315e-03       0.139   1.294e-03     -1.450   \n",
       "41       F2B48      0   0.162  5.619e-04       0.162   5.534e-04     -1.450   \n",
       "42       F3B06      1   0.140  7.085e-03       0.140   6.970e-03     -1.450   \n",
       "43       F3B14      0   0.154  5.377e-03       0.154   5.294e-03     -1.450   \n",
       "44       F4B02      0   0.136  4.516e-03       0.136   4.443e-03     -1.450   \n",
       "45       F4B10      0   0.110  6.744e-03       0.110   6.629e-03     -1.450   \n",
       "46       F4B12      0   0.104  8.263e-03       0.104   8.121e-03     -1.450   \n",
       "47       F6B18      0   0.127  3.530e-03       0.127   3.472e-03     -1.450   \n",
       "\n",
       "    mushy_change  rc_change  \n",
       "24       223.522    285.128  \n",
       "25        -1.478     -1.621  \n",
       "26        -1.478     -1.850  \n",
       "27        -1.438     -1.808  \n",
       "28        -1.438     -1.496  \n",
       "29        -1.438     -1.759  \n",
       "30        -1.478     -1.575  \n",
       "31        -1.438     -1.556  \n",
       "32        -1.438     -1.568  \n",
       "33        -1.438     -1.735  \n",
       "34        -1.438     -1.665  \n",
       "35        -1.478     -1.851  \n",
       "36        -1.478     -1.629  \n",
       "37        -1.438     -1.557  \n",
       "38        -1.438     -1.546  \n",
       "39        -1.478     -1.370  \n",
       "40        -1.438     -1.596  \n",
       "41        -1.438     -1.513  \n",
       "42        -1.478     -1.624  \n",
       "43        -1.438     -1.544  \n",
       "44        -1.438     -1.608  \n",
       "45        -1.438     -1.699  \n",
       "46        -1.438     -1.720  \n",
       "47        -1.438     -1.639  "
      ]
     },
     "execution_count": 18,
     "metadata": {},
     "output_type": "execute_result"
    }
   ],
   "source": [
    "counterfactual_data['new_shares'] = rc_results.compute_shares(market_id=counterfactual_market, prices=counterfactual_data['new_prices'])\n",
    "counterfactual_data['rc_change'] = 100 * (counterfactual_data['new_shares'] - counterfactual_data['shares']) / counterfactual_data['shares']\n",
    "counterfactual_data"
   ]
  },
  {
   "cell_type": "markdown",
   "id": "c93e7c45-090c-4790-aa95-b968f7324866",
   "metadata": {},
   "source": [
    "A higher increase in demand for the product with the price cut is in-line with a slightly more negative coefficient on price. Adding a substantial amount of preference heterogeneity for price also resulted in much more reasonable substitution (and hence cannibalization) along the price dimension, in the sense that cereals with a similar price per serving as the changed one had more demand reductions than others. However, there is still very limited substitution within the mushy dimension because with no cross-market mushy variation, we couldn't credibly identify a parameter in $\\Sigma$ on mushy."
   ]
  },
  {
   "cell_type": "markdown",
   "id": "811b246b-98cd-4826-8c98-822f73ac29c8",
   "metadata": {},
   "source": [
    "## Supplemental Questions"
   ]
  },
  {
   "cell_type": "markdown",
   "id": "64d4fcc9-3727-4324-b34e-1f031e0ade39",
   "metadata": {},
   "source": [
    "### 1. Use different numbers of Monte Carlo draws"
   ]
  },
  {
   "cell_type": "markdown",
   "id": "5f568cd8-9716-48f4-8e84-9d06fe189890",
   "metadata": {},
   "source": [
    "For convenience, let's first define a function for initializing and solving a problem for a given set of agent data."
   ]
  },
  {
   "cell_type": "code",
   "execution_count": 19,
   "id": "ae0c14c7-faa0-40aa-a1d6-d5b98dfe9634",
   "metadata": {},
   "outputs": [],
   "source": [
    "def solve(new_specification, new_agent_data):\n",
    "    new_problem = pyblp.Problem(product_formulations, product_data, agent_formulation, new_agent_data)\n",
    "    new_results = new_problem.solve(\n",
    "        sigma=[\n",
    "            [0, 0],\n",
    "            [0, 6],\n",
    "        ], \n",
    "        pi=[\n",
    "            [0.2],\n",
    "            [-6],\n",
    "        ], \n",
    "        method='1s', \n",
    "        optimization=optimization,\n",
    "    )\n",
    "    return {\n",
    "        \"Specification\": new_specification,\n",
    "        \"Time\": new_results.optimization_time,\n",
    "        \"Converged\": new_results.converged,\n",
    "        \"Gradient Norm\": new_results.projected_gradient_norm,\n",
    "        \"Sigma on Price\": new_results.sigma[1, 1],\n",
    "        \"Pi on Mushy\": new_results.pi[0, 0],\n",
    "        \"Pi on Price\": new_results.pi[1, 0],\n",
    "        \"Alpha\": new_results.beta[0, 0],\n",
    "    }"
   ]
  },
  {
   "cell_type": "markdown",
   "id": "6969af9a-1e33-4b5b-9137-3fe7f0ae5a17",
   "metadata": {},
   "source": [
    "Now let's try using different numbers of Monte Carlo draws. For this exercise we only need one set of nodes."
   ]
  },
  {
   "cell_type": "code",
   "execution_count": 20,
   "id": "c47146c2-c87e-4cdd-94e1-49fe1a320b89",
   "metadata": {},
   "outputs": [
    {
     "name": "stdout",
     "output_type": "stream",
     "text": [
      "Using 10 ...\n",
      "Using 100 ...\n",
      "Using 500 ...\n",
      "Using 1000 ...\n",
      "Using 2000 ...\n"
     ]
    },
    {
     "data": {
      "application/vnd.microsoft.datawrangler.viewer.v0+json": {
       "columns": [
        {
         "name": "index",
         "rawType": "int64",
         "type": "integer"
        },
        {
         "name": "Specification",
         "rawType": "object",
         "type": "string"
        },
        {
         "name": "Time",
         "rawType": "float64",
         "type": "float"
        },
        {
         "name": "Converged",
         "rawType": "bool",
         "type": "boolean"
        },
        {
         "name": "Gradient Norm",
         "rawType": "float64",
         "type": "float"
        },
        {
         "name": "Sigma on Price",
         "rawType": "float64",
         "type": "float"
        },
        {
         "name": "Pi on Mushy",
         "rawType": "float64",
         "type": "float"
        },
        {
         "name": "Pi on Price",
         "rawType": "float64",
         "type": "float"
        },
        {
         "name": "Alpha",
         "rawType": "float64",
         "type": "float"
        }
       ],
       "ref": "b00797a5-6e94-407a-9009-6f76aacdcda2",
       "rows": [
        [
         "0",
         "10 Monte Carlo Draws",
         "2.9614980220794678",
         "True",
         "1.4253586631102057e-09",
         "7.270613985704495",
         "0.12709351167282906",
         "-7.08481151174823",
         "22.752366480771705"
        ],
        [
         "1",
         "100 Monte Carlo Draws",
         "3.6037089824676514",
         "True",
         "1.1231936432615335e-06",
         "5.747634800877575",
         "0.10427087794732476",
         "-5.727912406827724",
         "12.020392673129559"
        ],
        [
         "2",
         "500 Monte Carlo Draws",
         "8.926226139068604",
         "True",
         "8.618666897245817e-09",
         "6.064345838011996",
         "0.10812527514133026",
         "-6.05415944521196",
         "14.486633855222937"
        ],
        [
         "3",
         "1000 Monte Carlo Draws",
         "13.724524021148682",
         "True",
         "2.1196514564334225e-07",
         "6.140858800778297",
         "0.10900551434047195",
         "-5.9559876609278515",
         "13.664303294185974"
        ],
        [
         "4",
         "2000 Monte Carlo Draws",
         "18.677689790725708",
         "True",
         "2.1162035933132887e-07",
         "6.05102244961042",
         "0.10784070418005912",
         "-5.989191215387001",
         "13.970737945531887"
        ]
       ],
       "shape": {
        "columns": 8,
        "rows": 5
       }
      },
      "text/html": [
       "<div>\n",
       "<style scoped>\n",
       "    .dataframe tbody tr th:only-of-type {\n",
       "        vertical-align: middle;\n",
       "    }\n",
       "\n",
       "    .dataframe tbody tr th {\n",
       "        vertical-align: top;\n",
       "    }\n",
       "\n",
       "    .dataframe thead th {\n",
       "        text-align: right;\n",
       "    }\n",
       "</style>\n",
       "<table border=\"1\" class=\"dataframe\">\n",
       "  <thead>\n",
       "    <tr style=\"text-align: right;\">\n",
       "      <th></th>\n",
       "      <th>Specification</th>\n",
       "      <th>Time</th>\n",
       "      <th>Converged</th>\n",
       "      <th>Gradient Norm</th>\n",
       "      <th>Sigma on Price</th>\n",
       "      <th>Pi on Mushy</th>\n",
       "      <th>Pi on Price</th>\n",
       "      <th>Alpha</th>\n",
       "    </tr>\n",
       "  </thead>\n",
       "  <tbody>\n",
       "    <tr>\n",
       "      <th>0</th>\n",
       "      <td>10 Monte Carlo Draws</td>\n",
       "      <td>2.961</td>\n",
       "      <td>True</td>\n",
       "      <td>1.425e-09</td>\n",
       "      <td>7.271</td>\n",
       "      <td>0.127</td>\n",
       "      <td>-7.085</td>\n",
       "      <td>22.752</td>\n",
       "    </tr>\n",
       "    <tr>\n",
       "      <th>1</th>\n",
       "      <td>100 Monte Carlo Draws</td>\n",
       "      <td>3.604</td>\n",
       "      <td>True</td>\n",
       "      <td>1.123e-06</td>\n",
       "      <td>5.748</td>\n",
       "      <td>0.104</td>\n",
       "      <td>-5.728</td>\n",
       "      <td>12.020</td>\n",
       "    </tr>\n",
       "    <tr>\n",
       "      <th>2</th>\n",
       "      <td>500 Monte Carlo Draws</td>\n",
       "      <td>8.926</td>\n",
       "      <td>True</td>\n",
       "      <td>8.619e-09</td>\n",
       "      <td>6.064</td>\n",
       "      <td>0.108</td>\n",
       "      <td>-6.054</td>\n",
       "      <td>14.487</td>\n",
       "    </tr>\n",
       "    <tr>\n",
       "      <th>3</th>\n",
       "      <td>1000 Monte Carlo Draws</td>\n",
       "      <td>13.725</td>\n",
       "      <td>True</td>\n",
       "      <td>2.120e-07</td>\n",
       "      <td>6.141</td>\n",
       "      <td>0.109</td>\n",
       "      <td>-5.956</td>\n",
       "      <td>13.664</td>\n",
       "    </tr>\n",
       "    <tr>\n",
       "      <th>4</th>\n",
       "      <td>2000 Monte Carlo Draws</td>\n",
       "      <td>18.678</td>\n",
       "      <td>True</td>\n",
       "      <td>2.116e-07</td>\n",
       "      <td>6.051</td>\n",
       "      <td>0.108</td>\n",
       "      <td>-5.989</td>\n",
       "      <td>13.971</td>\n",
       "    </tr>\n",
       "  </tbody>\n",
       "</table>\n",
       "</div>"
      ],
      "text/plain": [
       "            Specification    Time  Converged  Gradient Norm  Sigma on Price  \\\n",
       "0    10 Monte Carlo Draws   2.961       True      1.425e-09           7.271   \n",
       "1   100 Monte Carlo Draws   3.604       True      1.123e-06           5.748   \n",
       "2   500 Monte Carlo Draws   8.926       True      8.619e-09           6.064   \n",
       "3  1000 Monte Carlo Draws  13.725       True      2.120e-07           6.141   \n",
       "4  2000 Monte Carlo Draws  18.678       True      2.116e-07           6.051   \n",
       "\n",
       "   Pi on Mushy  Pi on Price   Alpha  \n",
       "0        0.127       -7.085  22.752  \n",
       "1        0.104       -5.728  12.020  \n",
       "2        0.108       -6.054  14.487  \n",
       "3        0.109       -5.956  13.664  \n",
       "4        0.108       -5.989  13.971  "
      ]
     },
     "execution_count": 20,
     "metadata": {},
     "output_type": "execute_result"
    }
   ],
   "source": [
    "agent_results = []\n",
    "for draws in [10, 100, 500, 1_000, 2_000]:\n",
    "    print(f\"Using {draws} ...\")\n",
    "    mc_data = demographic_data[['market_ids', 'log_income']].groupby('market_ids', as_index=False).sample(n=draws, replace=True, random_state=0)\n",
    "    mc_data['nodes0'] = np.random.default_rng(seed=0).normal(size=len(mc_data))\n",
    "    mc_data['weights'] = 1 / draws\n",
    "    agent_results.append(solve(f\"{draws} Monte Carlo Draws\", mc_data))\n",
    "\n",
    "pd.DataFrame(agent_results)"
   ]
  },
  {
   "cell_type": "markdown",
   "id": "3a7cd889-580c-4223-9345-47b3b2d5ac8d",
   "metadata": {},
   "source": [
    "Estimates seem to stabilize by 1,000 draws, but there are some clear differences before then, suggesting that only a small number of Monte Carlo draws aren't enough to well-approximate the distribution of consumer types for this problem. In practice we may also want to try multiple starting values for each set of draws to be sure that optimization is working properly."
   ]
  },
  {
   "cell_type": "markdown",
   "id": "8c33a5a7-a6e8-4b57-a9e7-17268fdc5b8a",
   "metadata": {},
   "source": [
    "### 2. Use scrambled Halton sequences"
   ]
  },
  {
   "cell_type": "markdown",
   "id": "8c346d48-6864-4aed-b88b-59da41bd2d5e",
   "metadata": {},
   "source": [
    "Now let's try using scrambled Halton draws to create the nodes. We'll still use a random number generator to draw from the demographics data."
   ]
  },
  {
   "cell_type": "code",
   "execution_count": 21,
   "id": "d70d9fb9-40cf-429c-9256-d12f26360379",
   "metadata": {},
   "outputs": [
    {
     "name": "stdout",
     "output_type": "stream",
     "text": [
      "Using 10 ...\n",
      "Using 100 ...\n",
      "Using 500 ...\n",
      "Using 1000 ...\n",
      "Using 2000 ...\n"
     ]
    },
    {
     "data": {
      "application/vnd.microsoft.datawrangler.viewer.v0+json": {
       "columns": [
        {
         "name": "index",
         "rawType": "int64",
         "type": "integer"
        },
        {
         "name": "Specification",
         "rawType": "object",
         "type": "string"
        },
        {
         "name": "Time",
         "rawType": "float64",
         "type": "float"
        },
        {
         "name": "Converged",
         "rawType": "bool",
         "type": "boolean"
        },
        {
         "name": "Gradient Norm",
         "rawType": "float64",
         "type": "float"
        },
        {
         "name": "Sigma on Price",
         "rawType": "float64",
         "type": "float"
        },
        {
         "name": "Pi on Mushy",
         "rawType": "float64",
         "type": "float"
        },
        {
         "name": "Pi on Price",
         "rawType": "float64",
         "type": "float"
        },
        {
         "name": "Alpha",
         "rawType": "float64",
         "type": "float"
        }
       ],
       "ref": "2189fca0-97ac-49d3-9043-84cd379d78d8",
       "rows": [
        [
         "0",
         "10 Monte Carlo Draws",
         "2.9614980220794678",
         "True",
         "1.4253586631102057e-09",
         "7.270613985704495",
         "0.12709351167282906",
         "-7.08481151174823",
         "22.752366480771705"
        ],
        [
         "1",
         "100 Monte Carlo Draws",
         "3.6037089824676514",
         "True",
         "1.1231936432615335e-06",
         "5.747634800877575",
         "0.10427087794732476",
         "-5.727912406827724",
         "12.020392673129559"
        ],
        [
         "2",
         "500 Monte Carlo Draws",
         "8.926226139068604",
         "True",
         "8.618666897245817e-09",
         "6.064345838011996",
         "0.10812527514133026",
         "-6.05415944521196",
         "14.486633855222937"
        ],
        [
         "3",
         "1000 Monte Carlo Draws",
         "13.724524021148682",
         "True",
         "2.1196514564334225e-07",
         "6.140858800778297",
         "0.10900551434047195",
         "-5.9559876609278515",
         "13.664303294185974"
        ],
        [
         "4",
         "2000 Monte Carlo Draws",
         "18.677689790725708",
         "True",
         "2.1162035933132887e-07",
         "6.05102244961042",
         "0.10784070418005912",
         "-5.989191215387001",
         "13.970737945531887"
        ],
        [
         "5",
         "10 Halton Draws",
         "2.73353910446167",
         "True",
         "6.529213442287451e-09",
         "7.851309310221724",
         "0.1292828477760792",
         "-6.505943326393204",
         "16.978851045905156"
        ],
        [
         "6",
         "100 Halton Draws",
         "3.437030792236328",
         "True",
         "2.0826936403937856e-07",
         "6.204366043347081",
         "0.1008462095453572",
         "-5.509656018517106",
         "10.104294646716793"
        ],
        [
         "7",
         "500 Halton Draws",
         "8.23506212234497",
         "True",
         "4.224955732212274e-08",
         "6.076593640148442",
         "0.10848966483924478",
         "-5.955460094712828",
         "13.699614430274773"
        ],
        [
         "8",
         "1000 Halton Draws",
         "11.404916048049927",
         "True",
         "8.531516976051819e-09",
         "6.013583758657764",
         "0.10805846052478209",
         "-5.9812665580421545",
         "13.90353736254549"
        ],
        [
         "9",
         "2000 Halton Draws",
         "21.93800401687622",
         "True",
         "1.6538676642494132e-09",
         "6.028386368759837",
         "0.10825398368964936",
         "-5.980987243539147",
         "13.907114255997236"
        ]
       ],
       "shape": {
        "columns": 8,
        "rows": 10
       }
      },
      "text/html": [
       "<div>\n",
       "<style scoped>\n",
       "    .dataframe tbody tr th:only-of-type {\n",
       "        vertical-align: middle;\n",
       "    }\n",
       "\n",
       "    .dataframe tbody tr th {\n",
       "        vertical-align: top;\n",
       "    }\n",
       "\n",
       "    .dataframe thead th {\n",
       "        text-align: right;\n",
       "    }\n",
       "</style>\n",
       "<table border=\"1\" class=\"dataframe\">\n",
       "  <thead>\n",
       "    <tr style=\"text-align: right;\">\n",
       "      <th></th>\n",
       "      <th>Specification</th>\n",
       "      <th>Time</th>\n",
       "      <th>Converged</th>\n",
       "      <th>Gradient Norm</th>\n",
       "      <th>Sigma on Price</th>\n",
       "      <th>Pi on Mushy</th>\n",
       "      <th>Pi on Price</th>\n",
       "      <th>Alpha</th>\n",
       "    </tr>\n",
       "  </thead>\n",
       "  <tbody>\n",
       "    <tr>\n",
       "      <th>0</th>\n",
       "      <td>10 Monte Carlo Draws</td>\n",
       "      <td>2.961</td>\n",
       "      <td>True</td>\n",
       "      <td>1.425e-09</td>\n",
       "      <td>7.271</td>\n",
       "      <td>0.127</td>\n",
       "      <td>-7.085</td>\n",
       "      <td>22.752</td>\n",
       "    </tr>\n",
       "    <tr>\n",
       "      <th>1</th>\n",
       "      <td>100 Monte Carlo Draws</td>\n",
       "      <td>3.604</td>\n",
       "      <td>True</td>\n",
       "      <td>1.123e-06</td>\n",
       "      <td>5.748</td>\n",
       "      <td>0.104</td>\n",
       "      <td>-5.728</td>\n",
       "      <td>12.020</td>\n",
       "    </tr>\n",
       "    <tr>\n",
       "      <th>2</th>\n",
       "      <td>500 Monte Carlo Draws</td>\n",
       "      <td>8.926</td>\n",
       "      <td>True</td>\n",
       "      <td>8.619e-09</td>\n",
       "      <td>6.064</td>\n",
       "      <td>0.108</td>\n",
       "      <td>-6.054</td>\n",
       "      <td>14.487</td>\n",
       "    </tr>\n",
       "    <tr>\n",
       "      <th>3</th>\n",
       "      <td>1000 Monte Carlo Draws</td>\n",
       "      <td>13.725</td>\n",
       "      <td>True</td>\n",
       "      <td>2.120e-07</td>\n",
       "      <td>6.141</td>\n",
       "      <td>0.109</td>\n",
       "      <td>-5.956</td>\n",
       "      <td>13.664</td>\n",
       "    </tr>\n",
       "    <tr>\n",
       "      <th>4</th>\n",
       "      <td>2000 Monte Carlo Draws</td>\n",
       "      <td>18.678</td>\n",
       "      <td>True</td>\n",
       "      <td>2.116e-07</td>\n",
       "      <td>6.051</td>\n",
       "      <td>0.108</td>\n",
       "      <td>-5.989</td>\n",
       "      <td>13.971</td>\n",
       "    </tr>\n",
       "    <tr>\n",
       "      <th>5</th>\n",
       "      <td>10 Halton Draws</td>\n",
       "      <td>2.734</td>\n",
       "      <td>True</td>\n",
       "      <td>6.529e-09</td>\n",
       "      <td>7.851</td>\n",
       "      <td>0.129</td>\n",
       "      <td>-6.506</td>\n",
       "      <td>16.979</td>\n",
       "    </tr>\n",
       "    <tr>\n",
       "      <th>6</th>\n",
       "      <td>100 Halton Draws</td>\n",
       "      <td>3.437</td>\n",
       "      <td>True</td>\n",
       "      <td>2.083e-07</td>\n",
       "      <td>6.204</td>\n",
       "      <td>0.101</td>\n",
       "      <td>-5.510</td>\n",
       "      <td>10.104</td>\n",
       "    </tr>\n",
       "    <tr>\n",
       "      <th>7</th>\n",
       "      <td>500 Halton Draws</td>\n",
       "      <td>8.235</td>\n",
       "      <td>True</td>\n",
       "      <td>4.225e-08</td>\n",
       "      <td>6.077</td>\n",
       "      <td>0.108</td>\n",
       "      <td>-5.955</td>\n",
       "      <td>13.700</td>\n",
       "    </tr>\n",
       "    <tr>\n",
       "      <th>8</th>\n",
       "      <td>1000 Halton Draws</td>\n",
       "      <td>11.405</td>\n",
       "      <td>True</td>\n",
       "      <td>8.532e-09</td>\n",
       "      <td>6.014</td>\n",
       "      <td>0.108</td>\n",
       "      <td>-5.981</td>\n",
       "      <td>13.904</td>\n",
       "    </tr>\n",
       "    <tr>\n",
       "      <th>9</th>\n",
       "      <td>2000 Halton Draws</td>\n",
       "      <td>21.938</td>\n",
       "      <td>True</td>\n",
       "      <td>1.654e-09</td>\n",
       "      <td>6.028</td>\n",
       "      <td>0.108</td>\n",
       "      <td>-5.981</td>\n",
       "      <td>13.907</td>\n",
       "    </tr>\n",
       "  </tbody>\n",
       "</table>\n",
       "</div>"
      ],
      "text/plain": [
       "            Specification    Time  Converged  Gradient Norm  Sigma on Price  \\\n",
       "0    10 Monte Carlo Draws   2.961       True      1.425e-09           7.271   \n",
       "1   100 Monte Carlo Draws   3.604       True      1.123e-06           5.748   \n",
       "2   500 Monte Carlo Draws   8.926       True      8.619e-09           6.064   \n",
       "3  1000 Monte Carlo Draws  13.725       True      2.120e-07           6.141   \n",
       "4  2000 Monte Carlo Draws  18.678       True      2.116e-07           6.051   \n",
       "5         10 Halton Draws   2.734       True      6.529e-09           7.851   \n",
       "6        100 Halton Draws   3.437       True      2.083e-07           6.204   \n",
       "7        500 Halton Draws   8.235       True      4.225e-08           6.077   \n",
       "8       1000 Halton Draws  11.405       True      8.532e-09           6.014   \n",
       "9       2000 Halton Draws  21.938       True      1.654e-09           6.028   \n",
       "\n",
       "   Pi on Mushy  Pi on Price   Alpha  \n",
       "0        0.127       -7.085  22.752  \n",
       "1        0.104       -5.728  12.020  \n",
       "2        0.108       -6.054  14.487  \n",
       "3        0.109       -5.956  13.664  \n",
       "4        0.108       -5.989  13.971  \n",
       "5        0.129       -6.506  16.979  \n",
       "6        0.101       -5.510  10.104  \n",
       "7        0.108       -5.955  13.700  \n",
       "8        0.108       -5.981  13.904  \n",
       "9        0.108       -5.981  13.907  "
      ]
     },
     "execution_count": 21,
     "metadata": {},
     "output_type": "execute_result"
    }
   ],
   "source": [
    "for draws in [10, 100, 500, 1_000, 2_000]:\n",
    "    print(f\"Using {draws} ...\")\n",
    "    halton_data = demographic_data[['market_ids', 'log_income']].groupby('market_ids', as_index=False).sample(n=draws, replace=True, random_state=0)\n",
    "    halton_integration = pyblp.Integration('halton', size=len(halton_data), specification_options={'seed': 0})\n",
    "    halton_data['nodes0'] = pyblp.build_integration(halton_integration, dimensions=1).nodes.flatten()\n",
    "    halton_data['weights'] = 1 / draws\n",
    "    agent_results.append(solve(f\"{draws} Halton Draws\", halton_data))\n",
    "\n",
    "pd.DataFrame(agent_results)"
   ]
  },
  {
   "cell_type": "markdown",
   "id": "a0bf449b-2e96-4e4d-9e97-3586a78ef512",
   "metadata": {},
   "source": [
    "Again, estimates seem to stabilize by 1,000 draws. But estimates are closer to the 1,000 estimates with fewer draws, indicating that we're getting more out of fewer scrambled Halton draws."
   ]
  },
  {
   "cell_type": "markdown",
   "id": "250a59e3-fa90-46ff-b893-70894ee3bca7",
   "metadata": {},
   "source": [
    "### 3. Try using quadrature"
   ]
  },
  {
   "cell_type": "markdown",
   "id": "cda0051a-508d-49c1-94ee-bcf04d91fa6a",
   "metadata": {},
   "source": [
    "Let's first construct a two-dimensional product rule of quadrature nodes and weights."
   ]
  },
  {
   "cell_type": "code",
   "execution_count": 22,
   "id": "58be5bef-4f1f-47a1-8622-111b2ec07169",
   "metadata": {},
   "outputs": [
    {
     "data": {
      "application/vnd.microsoft.datawrangler.viewer.v0+json": {
       "columns": [
        {
         "name": "index",
         "rawType": "int64",
         "type": "integer"
        },
        {
         "name": "weights",
         "rawType": "float64",
         "type": "float"
        },
        {
         "name": "nodes0",
         "rawType": "float64",
         "type": "float"
        },
        {
         "name": "nodes1",
         "rawType": "float64",
         "type": "float"
        }
       ],
       "ref": "0f417d6e-8575-4abf-8101-fab26817ecba",
       "rows": [
        [
         "0",
         "3.0059873842908556e-07",
         "-3.7504397177257425",
         "-3.7504397177257425"
        ],
        [
         "1",
         "1.6863173170704357e-05",
         "-3.7504397177257425",
         "-2.3667594107345415"
        ],
        [
         "2",
         "0.00013165206042618297",
         "-3.7504397177257425",
         "-1.1544053947399682"
        ],
        [
         "3",
         "0.00025063719130158596",
         "-3.7504397177257425",
         "-0.0"
        ],
        [
         "4",
         "0.00013165206042618297",
         "-3.7504397177257425",
         "1.1544053947399682"
        ],
        [
         "5",
         "1.6863173170704357e-05",
         "-3.7504397177257425",
         "2.3667594107345415"
        ],
        [
         "6",
         "3.0059873842908556e-07",
         "-3.7504397177257425",
         "3.7504397177257425"
        ],
        [
         "7",
         "1.6863173170704357e-05",
         "-2.3667594107345415",
         "-3.7504397177257425"
        ],
        [
         "8",
         "0.0009460006747574834",
         "-2.3667594107345415",
         "-2.3667594107345415"
        ],
        [
         "9",
         "0.007385498371845282",
         "-2.3667594107345415",
         "-1.1544053947399682"
        ],
        [
         "10",
         "0.014060399528039553",
         "-2.3667594107345415",
         "-0.0"
        ],
        [
         "11",
         "0.007385498371845282",
         "-2.3667594107345415",
         "1.1544053947399682"
        ],
        [
         "12",
         "0.0009460006747574834",
         "-2.3667594107345415",
         "2.3667594107345415"
        ],
        [
         "13",
         "1.6863173170704357e-05",
         "-2.3667594107345415",
         "3.7504397177257425"
        ],
        [
         "14",
         "0.00013165206042618297",
         "-1.1544053947399682",
         "-3.7504397177257425"
        ],
        [
         "15",
         "0.007385498371845282",
         "-1.1544053947399682",
         "-2.3667594107345415"
        ],
        [
         "16",
         "0.057659140903374734",
         "-1.1544053947399682",
         "-1.1544053947399682"
        ],
        [
         "17",
         "0.1097705959337201",
         "-1.1544053947399682",
         "-0.0"
        ],
        [
         "18",
         "0.057659140903374734",
         "-1.1544053947399682",
         "1.1544053947399682"
        ],
        [
         "19",
         "0.007385498371845282",
         "-1.1544053947399682",
         "2.3667594107345415"
        ],
        [
         "20",
         "0.00013165206042618297",
         "-1.1544053947399682",
         "3.7504397177257425"
        ],
        [
         "21",
         "0.00025063719130158596",
         "-0.0",
         "-3.7504397177257425"
        ],
        [
         "22",
         "0.014060399528039553",
         "-0.0",
         "-2.3667594107345415"
        ],
        [
         "23",
         "0.1097705959337201",
         "-0.0",
         "-1.1544053947399682"
        ],
        [
         "24",
         "0.2089795918367351",
         "-0.0",
         "-0.0"
        ],
        [
         "25",
         "0.1097705959337201",
         "-0.0",
         "1.1544053947399682"
        ],
        [
         "26",
         "0.014060399528039553",
         "-0.0",
         "2.3667594107345415"
        ],
        [
         "27",
         "0.00025063719130158596",
         "-0.0",
         "3.7504397177257425"
        ],
        [
         "28",
         "0.00013165206042618297",
         "1.1544053947399682",
         "-3.7504397177257425"
        ],
        [
         "29",
         "0.007385498371845282",
         "1.1544053947399682",
         "-2.3667594107345415"
        ],
        [
         "30",
         "0.057659140903374734",
         "1.1544053947399682",
         "-1.1544053947399682"
        ],
        [
         "31",
         "0.1097705959337201",
         "1.1544053947399682",
         "-0.0"
        ],
        [
         "32",
         "0.057659140903374734",
         "1.1544053947399682",
         "1.1544053947399682"
        ],
        [
         "33",
         "0.007385498371845282",
         "1.1544053947399682",
         "2.3667594107345415"
        ],
        [
         "34",
         "0.00013165206042618297",
         "1.1544053947399682",
         "3.7504397177257425"
        ],
        [
         "35",
         "1.6863173170704357e-05",
         "2.3667594107345415",
         "-3.7504397177257425"
        ],
        [
         "36",
         "0.0009460006747574834",
         "2.3667594107345415",
         "-2.3667594107345415"
        ],
        [
         "37",
         "0.007385498371845282",
         "2.3667594107345415",
         "-1.1544053947399682"
        ],
        [
         "38",
         "0.014060399528039553",
         "2.3667594107345415",
         "-0.0"
        ],
        [
         "39",
         "0.007385498371845282",
         "2.3667594107345415",
         "1.1544053947399682"
        ],
        [
         "40",
         "0.0009460006747574834",
         "2.3667594107345415",
         "2.3667594107345415"
        ],
        [
         "41",
         "1.6863173170704357e-05",
         "2.3667594107345415",
         "3.7504397177257425"
        ],
        [
         "42",
         "3.0059873842908556e-07",
         "3.7504397177257425",
         "-3.7504397177257425"
        ],
        [
         "43",
         "1.6863173170704357e-05",
         "3.7504397177257425",
         "-2.3667594107345415"
        ],
        [
         "44",
         "0.00013165206042618297",
         "3.7504397177257425",
         "-1.1544053947399682"
        ],
        [
         "45",
         "0.00025063719130158596",
         "3.7504397177257425",
         "-0.0"
        ],
        [
         "46",
         "0.00013165206042618297",
         "3.7504397177257425",
         "1.1544053947399682"
        ],
        [
         "47",
         "1.6863173170704357e-05",
         "3.7504397177257425",
         "2.3667594107345415"
        ],
        [
         "48",
         "3.0059873842908556e-07",
         "3.7504397177257425",
         "3.7504397177257425"
        ]
       ],
       "shape": {
        "columns": 3,
        "rows": 49
       }
      },
      "text/html": [
       "<div>\n",
       "<style scoped>\n",
       "    .dataframe tbody tr th:only-of-type {\n",
       "        vertical-align: middle;\n",
       "    }\n",
       "\n",
       "    .dataframe tbody tr th {\n",
       "        vertical-align: top;\n",
       "    }\n",
       "\n",
       "    .dataframe thead th {\n",
       "        text-align: right;\n",
       "    }\n",
       "</style>\n",
       "<table border=\"1\" class=\"dataframe\">\n",
       "  <thead>\n",
       "    <tr style=\"text-align: right;\">\n",
       "      <th></th>\n",
       "      <th>weights</th>\n",
       "      <th>nodes0</th>\n",
       "      <th>nodes1</th>\n",
       "    </tr>\n",
       "  </thead>\n",
       "  <tbody>\n",
       "    <tr>\n",
       "      <th>0</th>\n",
       "      <td>3.006e-07</td>\n",
       "      <td>-3.750</td>\n",
       "      <td>-3.750</td>\n",
       "    </tr>\n",
       "    <tr>\n",
       "      <th>1</th>\n",
       "      <td>1.686e-05</td>\n",
       "      <td>-3.750</td>\n",
       "      <td>-2.367</td>\n",
       "    </tr>\n",
       "    <tr>\n",
       "      <th>2</th>\n",
       "      <td>1.317e-04</td>\n",
       "      <td>-3.750</td>\n",
       "      <td>-1.154</td>\n",
       "    </tr>\n",
       "    <tr>\n",
       "      <th>3</th>\n",
       "      <td>2.506e-04</td>\n",
       "      <td>-3.750</td>\n",
       "      <td>-0.000</td>\n",
       "    </tr>\n",
       "    <tr>\n",
       "      <th>4</th>\n",
       "      <td>1.317e-04</td>\n",
       "      <td>-3.750</td>\n",
       "      <td>1.154</td>\n",
       "    </tr>\n",
       "    <tr>\n",
       "      <th>5</th>\n",
       "      <td>1.686e-05</td>\n",
       "      <td>-3.750</td>\n",
       "      <td>2.367</td>\n",
       "    </tr>\n",
       "    <tr>\n",
       "      <th>6</th>\n",
       "      <td>3.006e-07</td>\n",
       "      <td>-3.750</td>\n",
       "      <td>3.750</td>\n",
       "    </tr>\n",
       "    <tr>\n",
       "      <th>7</th>\n",
       "      <td>1.686e-05</td>\n",
       "      <td>-2.367</td>\n",
       "      <td>-3.750</td>\n",
       "    </tr>\n",
       "    <tr>\n",
       "      <th>8</th>\n",
       "      <td>9.460e-04</td>\n",
       "      <td>-2.367</td>\n",
       "      <td>-2.367</td>\n",
       "    </tr>\n",
       "    <tr>\n",
       "      <th>9</th>\n",
       "      <td>7.385e-03</td>\n",
       "      <td>-2.367</td>\n",
       "      <td>-1.154</td>\n",
       "    </tr>\n",
       "    <tr>\n",
       "      <th>10</th>\n",
       "      <td>1.406e-02</td>\n",
       "      <td>-2.367</td>\n",
       "      <td>-0.000</td>\n",
       "    </tr>\n",
       "    <tr>\n",
       "      <th>11</th>\n",
       "      <td>7.385e-03</td>\n",
       "      <td>-2.367</td>\n",
       "      <td>1.154</td>\n",
       "    </tr>\n",
       "    <tr>\n",
       "      <th>12</th>\n",
       "      <td>9.460e-04</td>\n",
       "      <td>-2.367</td>\n",
       "      <td>2.367</td>\n",
       "    </tr>\n",
       "    <tr>\n",
       "      <th>13</th>\n",
       "      <td>1.686e-05</td>\n",
       "      <td>-2.367</td>\n",
       "      <td>3.750</td>\n",
       "    </tr>\n",
       "    <tr>\n",
       "      <th>14</th>\n",
       "      <td>1.317e-04</td>\n",
       "      <td>-1.154</td>\n",
       "      <td>-3.750</td>\n",
       "    </tr>\n",
       "    <tr>\n",
       "      <th>15</th>\n",
       "      <td>7.385e-03</td>\n",
       "      <td>-1.154</td>\n",
       "      <td>-2.367</td>\n",
       "    </tr>\n",
       "    <tr>\n",
       "      <th>16</th>\n",
       "      <td>5.766e-02</td>\n",
       "      <td>-1.154</td>\n",
       "      <td>-1.154</td>\n",
       "    </tr>\n",
       "    <tr>\n",
       "      <th>17</th>\n",
       "      <td>1.098e-01</td>\n",
       "      <td>-1.154</td>\n",
       "      <td>-0.000</td>\n",
       "    </tr>\n",
       "    <tr>\n",
       "      <th>18</th>\n",
       "      <td>5.766e-02</td>\n",
       "      <td>-1.154</td>\n",
       "      <td>1.154</td>\n",
       "    </tr>\n",
       "    <tr>\n",
       "      <th>19</th>\n",
       "      <td>7.385e-03</td>\n",
       "      <td>-1.154</td>\n",
       "      <td>2.367</td>\n",
       "    </tr>\n",
       "    <tr>\n",
       "      <th>20</th>\n",
       "      <td>1.317e-04</td>\n",
       "      <td>-1.154</td>\n",
       "      <td>3.750</td>\n",
       "    </tr>\n",
       "    <tr>\n",
       "      <th>21</th>\n",
       "      <td>2.506e-04</td>\n",
       "      <td>-0.000</td>\n",
       "      <td>-3.750</td>\n",
       "    </tr>\n",
       "    <tr>\n",
       "      <th>22</th>\n",
       "      <td>1.406e-02</td>\n",
       "      <td>-0.000</td>\n",
       "      <td>-2.367</td>\n",
       "    </tr>\n",
       "    <tr>\n",
       "      <th>23</th>\n",
       "      <td>1.098e-01</td>\n",
       "      <td>-0.000</td>\n",
       "      <td>-1.154</td>\n",
       "    </tr>\n",
       "    <tr>\n",
       "      <th>24</th>\n",
       "      <td>2.090e-01</td>\n",
       "      <td>-0.000</td>\n",
       "      <td>-0.000</td>\n",
       "    </tr>\n",
       "    <tr>\n",
       "      <th>25</th>\n",
       "      <td>1.098e-01</td>\n",
       "      <td>-0.000</td>\n",
       "      <td>1.154</td>\n",
       "    </tr>\n",
       "    <tr>\n",
       "      <th>26</th>\n",
       "      <td>1.406e-02</td>\n",
       "      <td>-0.000</td>\n",
       "      <td>2.367</td>\n",
       "    </tr>\n",
       "    <tr>\n",
       "      <th>27</th>\n",
       "      <td>2.506e-04</td>\n",
       "      <td>-0.000</td>\n",
       "      <td>3.750</td>\n",
       "    </tr>\n",
       "    <tr>\n",
       "      <th>28</th>\n",
       "      <td>1.317e-04</td>\n",
       "      <td>1.154</td>\n",
       "      <td>-3.750</td>\n",
       "    </tr>\n",
       "    <tr>\n",
       "      <th>29</th>\n",
       "      <td>7.385e-03</td>\n",
       "      <td>1.154</td>\n",
       "      <td>-2.367</td>\n",
       "    </tr>\n",
       "    <tr>\n",
       "      <th>30</th>\n",
       "      <td>5.766e-02</td>\n",
       "      <td>1.154</td>\n",
       "      <td>-1.154</td>\n",
       "    </tr>\n",
       "    <tr>\n",
       "      <th>31</th>\n",
       "      <td>1.098e-01</td>\n",
       "      <td>1.154</td>\n",
       "      <td>-0.000</td>\n",
       "    </tr>\n",
       "    <tr>\n",
       "      <th>32</th>\n",
       "      <td>5.766e-02</td>\n",
       "      <td>1.154</td>\n",
       "      <td>1.154</td>\n",
       "    </tr>\n",
       "    <tr>\n",
       "      <th>33</th>\n",
       "      <td>7.385e-03</td>\n",
       "      <td>1.154</td>\n",
       "      <td>2.367</td>\n",
       "    </tr>\n",
       "    <tr>\n",
       "      <th>34</th>\n",
       "      <td>1.317e-04</td>\n",
       "      <td>1.154</td>\n",
       "      <td>3.750</td>\n",
       "    </tr>\n",
       "    <tr>\n",
       "      <th>35</th>\n",
       "      <td>1.686e-05</td>\n",
       "      <td>2.367</td>\n",
       "      <td>-3.750</td>\n",
       "    </tr>\n",
       "    <tr>\n",
       "      <th>36</th>\n",
       "      <td>9.460e-04</td>\n",
       "      <td>2.367</td>\n",
       "      <td>-2.367</td>\n",
       "    </tr>\n",
       "    <tr>\n",
       "      <th>37</th>\n",
       "      <td>7.385e-03</td>\n",
       "      <td>2.367</td>\n",
       "      <td>-1.154</td>\n",
       "    </tr>\n",
       "    <tr>\n",
       "      <th>38</th>\n",
       "      <td>1.406e-02</td>\n",
       "      <td>2.367</td>\n",
       "      <td>-0.000</td>\n",
       "    </tr>\n",
       "    <tr>\n",
       "      <th>39</th>\n",
       "      <td>7.385e-03</td>\n",
       "      <td>2.367</td>\n",
       "      <td>1.154</td>\n",
       "    </tr>\n",
       "    <tr>\n",
       "      <th>40</th>\n",
       "      <td>9.460e-04</td>\n",
       "      <td>2.367</td>\n",
       "      <td>2.367</td>\n",
       "    </tr>\n",
       "    <tr>\n",
       "      <th>41</th>\n",
       "      <td>1.686e-05</td>\n",
       "      <td>2.367</td>\n",
       "      <td>3.750</td>\n",
       "    </tr>\n",
       "    <tr>\n",
       "      <th>42</th>\n",
       "      <td>3.006e-07</td>\n",
       "      <td>3.750</td>\n",
       "      <td>-3.750</td>\n",
       "    </tr>\n",
       "    <tr>\n",
       "      <th>43</th>\n",
       "      <td>1.686e-05</td>\n",
       "      <td>3.750</td>\n",
       "      <td>-2.367</td>\n",
       "    </tr>\n",
       "    <tr>\n",
       "      <th>44</th>\n",
       "      <td>1.317e-04</td>\n",
       "      <td>3.750</td>\n",
       "      <td>-1.154</td>\n",
       "    </tr>\n",
       "    <tr>\n",
       "      <th>45</th>\n",
       "      <td>2.506e-04</td>\n",
       "      <td>3.750</td>\n",
       "      <td>-0.000</td>\n",
       "    </tr>\n",
       "    <tr>\n",
       "      <th>46</th>\n",
       "      <td>1.317e-04</td>\n",
       "      <td>3.750</td>\n",
       "      <td>1.154</td>\n",
       "    </tr>\n",
       "    <tr>\n",
       "      <th>47</th>\n",
       "      <td>1.686e-05</td>\n",
       "      <td>3.750</td>\n",
       "      <td>2.367</td>\n",
       "    </tr>\n",
       "    <tr>\n",
       "      <th>48</th>\n",
       "      <td>3.006e-07</td>\n",
       "      <td>3.750</td>\n",
       "      <td>3.750</td>\n",
       "    </tr>\n",
       "  </tbody>\n",
       "</table>\n",
       "</div>"
      ],
      "text/plain": [
       "      weights  nodes0  nodes1\n",
       "0   3.006e-07  -3.750  -3.750\n",
       "1   1.686e-05  -3.750  -2.367\n",
       "2   1.317e-04  -3.750  -1.154\n",
       "3   2.506e-04  -3.750  -0.000\n",
       "4   1.317e-04  -3.750   1.154\n",
       "5   1.686e-05  -3.750   2.367\n",
       "6   3.006e-07  -3.750   3.750\n",
       "7   1.686e-05  -2.367  -3.750\n",
       "8   9.460e-04  -2.367  -2.367\n",
       "9   7.385e-03  -2.367  -1.154\n",
       "10  1.406e-02  -2.367  -0.000\n",
       "11  7.385e-03  -2.367   1.154\n",
       "12  9.460e-04  -2.367   2.367\n",
       "13  1.686e-05  -2.367   3.750\n",
       "14  1.317e-04  -1.154  -3.750\n",
       "15  7.385e-03  -1.154  -2.367\n",
       "16  5.766e-02  -1.154  -1.154\n",
       "17  1.098e-01  -1.154  -0.000\n",
       "18  5.766e-02  -1.154   1.154\n",
       "19  7.385e-03  -1.154   2.367\n",
       "20  1.317e-04  -1.154   3.750\n",
       "21  2.506e-04  -0.000  -3.750\n",
       "22  1.406e-02  -0.000  -2.367\n",
       "23  1.098e-01  -0.000  -1.154\n",
       "24  2.090e-01  -0.000  -0.000\n",
       "25  1.098e-01  -0.000   1.154\n",
       "26  1.406e-02  -0.000   2.367\n",
       "27  2.506e-04  -0.000   3.750\n",
       "28  1.317e-04   1.154  -3.750\n",
       "29  7.385e-03   1.154  -2.367\n",
       "30  5.766e-02   1.154  -1.154\n",
       "31  1.098e-01   1.154  -0.000\n",
       "32  5.766e-02   1.154   1.154\n",
       "33  7.385e-03   1.154   2.367\n",
       "34  1.317e-04   1.154   3.750\n",
       "35  1.686e-05   2.367  -3.750\n",
       "36  9.460e-04   2.367  -2.367\n",
       "37  7.385e-03   2.367  -1.154\n",
       "38  1.406e-02   2.367  -0.000\n",
       "39  7.385e-03   2.367   1.154\n",
       "40  9.460e-04   2.367   2.367\n",
       "41  1.686e-05   2.367   3.750\n",
       "42  3.006e-07   3.750  -3.750\n",
       "43  1.686e-05   3.750  -2.367\n",
       "44  1.317e-04   3.750  -1.154\n",
       "45  2.506e-04   3.750  -0.000\n",
       "46  1.317e-04   3.750   1.154\n",
       "47  1.686e-05   3.750   2.367\n",
       "48  3.006e-07   3.750   3.750"
      ]
     },
     "execution_count": 22,
     "metadata": {},
     "output_type": "execute_result"
    }
   ],
   "source": [
    "quad_data = pd.DataFrame(pyblp.data_to_dict(pyblp.build_integration(pyblp.Integration('product', size=7), dimensions=2)))\n",
    "quad_data"
   ]
  },
  {
   "cell_type": "markdown",
   "id": "916c0abc-dea8-4e49-b99e-c3393e785a53",
   "metadata": {},
   "source": [
    "Now let's use the market-level log income means and standard deviations from above to transform the first dimension into normally distributed log income draws, leaving the second column as standard normal unobserved preference heterogenity."
   ]
  },
  {
   "cell_type": "code",
   "execution_count": 23,
   "id": "43fed071-3c84-472b-991c-c3d4e6810408",
   "metadata": {},
   "outputs": [
    {
     "data": {
      "application/vnd.microsoft.datawrangler.viewer.v0+json": {
       "columns": [
        {
         "name": "index",
         "rawType": "int64",
         "type": "integer"
        },
        {
         "name": "market_ids",
         "rawType": "object",
         "type": "string"
        },
        {
         "name": "log_income",
         "rawType": "float64",
         "type": "float"
        },
        {
         "name": "nodes0",
         "rawType": "float64",
         "type": "float"
        },
        {
         "name": "weights",
         "rawType": "float64",
         "type": "float"
        }
       ],
       "ref": "b90d901e-be02-44b2-a455-80f69476ea92",
       "rows": [
        [
         "0",
         "C01Q1",
         "5.083916997519019",
         "-3.7504397177257425",
         "3.0059873842908556e-07"
        ],
        [
         "1",
         "C01Q2",
         "5.083916997519017",
         "-3.7504397177257425",
         "3.0059873842908556e-07"
        ],
        [
         "2",
         "C03Q1",
         "1.8555698866052097",
         "-3.7504397177257425",
         "3.0059873842908556e-07"
        ],
        [
         "3",
         "C03Q2",
         "1.8555698866052097",
         "-3.7504397177257425",
         "3.0059873842908556e-07"
        ],
        [
         "4",
         "C04Q1",
         "6.502203105607151",
         "-3.7504397177257425",
         "3.0059873842908556e-07"
        ],
        [
         "5",
         "C04Q2",
         "6.502203105607151",
         "-3.7504397177257425",
         "3.0059873842908556e-07"
        ],
        [
         "6",
         "C05Q1",
         "4.842146012420292",
         "-3.7504397177257425",
         "3.0059873842908556e-07"
        ],
        [
         "7",
         "C05Q2",
         "4.842146012420291",
         "-3.7504397177257425",
         "3.0059873842908556e-07"
        ],
        [
         "8",
         "C07Q1",
         "6.183239832686266",
         "-3.7504397177257425",
         "3.0059873842908556e-07"
        ],
        [
         "9",
         "C07Q2",
         "6.183239832686265",
         "-3.7504397177257425",
         "3.0059873842908556e-07"
        ],
        [
         "10",
         "C08Q1",
         "5.697378628459291",
         "-3.7504397177257425",
         "3.0059873842908556e-07"
        ],
        [
         "11",
         "C08Q2",
         "5.697378628459291",
         "-3.7504397177257425",
         "3.0059873842908556e-07"
        ],
        [
         "12",
         "C11Q1",
         "5.548956691437668",
         "-3.7504397177257425",
         "3.0059873842908556e-07"
        ],
        [
         "13",
         "C11Q2",
         "5.5489566914376685",
         "-3.7504397177257425",
         "3.0059873842908556e-07"
        ],
        [
         "14",
         "C12Q1",
         "4.571604071862822",
         "-3.7504397177257425",
         "3.0059873842908556e-07"
        ],
        [
         "15",
         "C12Q2",
         "4.57160407186282",
         "-3.7504397177257425",
         "3.0059873842908556e-07"
        ],
        [
         "16",
         "C13Q1",
         "4.479694805632516",
         "-3.7504397177257425",
         "3.0059873842908556e-07"
        ],
        [
         "17",
         "C13Q2",
         "4.479694805632516",
         "-3.7504397177257425",
         "3.0059873842908556e-07"
        ],
        [
         "18",
         "C14Q1",
         "5.432686919457689",
         "-3.7504397177257425",
         "3.0059873842908556e-07"
        ],
        [
         "19",
         "C14Q2",
         "5.432686919457688",
         "-3.7504397177257425",
         "3.0059873842908556e-07"
        ],
        [
         "20",
         "C15Q1",
         "3.64470286743825",
         "-3.7504397177257425",
         "3.0059873842908556e-07"
        ],
        [
         "21",
         "C15Q2",
         "3.644702867438249",
         "-3.7504397177257425",
         "3.0059873842908556e-07"
        ],
        [
         "22",
         "C16Q1",
         "4.617168806921847",
         "-3.7504397177257425",
         "3.0059873842908556e-07"
        ],
        [
         "23",
         "C16Q2",
         "4.617168806921847",
         "-3.7504397177257425",
         "3.0059873842908556e-07"
        ],
        [
         "24",
         "C18Q1",
         "3.5930761426889015",
         "-3.7504397177257425",
         "3.0059873842908556e-07"
        ],
        [
         "25",
         "C18Q2",
         "3.5930761426888997",
         "-3.7504397177257425",
         "3.0059873842908556e-07"
        ],
        [
         "26",
         "C20Q1",
         "3.8540085701456874",
         "-3.7504397177257425",
         "3.0059873842908556e-07"
        ],
        [
         "27",
         "C20Q2",
         "3.8540085701456874",
         "-3.7504397177257425",
         "3.0059873842908556e-07"
        ],
        [
         "28",
         "C23Q1",
         "5.511127249609064",
         "-3.7504397177257425",
         "3.0059873842908556e-07"
        ],
        [
         "29",
         "C23Q2",
         "5.511127249609065",
         "-3.7504397177257425",
         "3.0059873842908556e-07"
        ],
        [
         "30",
         "C24Q1",
         "3.369952061986699",
         "-3.7504397177257425",
         "3.0059873842908556e-07"
        ],
        [
         "31",
         "C24Q2",
         "3.369952061986699",
         "-3.7504397177257425",
         "3.0059873842908556e-07"
        ],
        [
         "32",
         "C25Q1",
         "4.684297213215037",
         "-3.7504397177257425",
         "3.0059873842908556e-07"
        ],
        [
         "33",
         "C25Q2",
         "4.684297213215038",
         "-3.7504397177257425",
         "3.0059873842908556e-07"
        ],
        [
         "34",
         "C26Q1",
         "6.237708249785429",
         "-3.7504397177257425",
         "3.0059873842908556e-07"
        ],
        [
         "35",
         "C26Q2",
         "6.237708249785431",
         "-3.7504397177257425",
         "3.0059873842908556e-07"
        ],
        [
         "36",
         "C27Q1",
         "5.833752080337522",
         "-3.7504397177257425",
         "3.0059873842908556e-07"
        ],
        [
         "37",
         "C27Q2",
         "5.833752080337522",
         "-3.7504397177257425",
         "3.0059873842908556e-07"
        ],
        [
         "38",
         "C29Q1",
         "5.676291823063087",
         "-3.7504397177257425",
         "3.0059873842908556e-07"
        ],
        [
         "39",
         "C29Q2",
         "5.676291823063087",
         "-3.7504397177257425",
         "3.0059873842908556e-07"
        ],
        [
         "40",
         "C30Q1",
         "5.274335476597422",
         "-3.7504397177257425",
         "3.0059873842908556e-07"
        ],
        [
         "41",
         "C30Q2",
         "5.274335476597421",
         "-3.7504397177257425",
         "3.0059873842908556e-07"
        ],
        [
         "42",
         "C31Q1",
         "4.500101377611706",
         "-3.7504397177257425",
         "3.0059873842908556e-07"
        ],
        [
         "43",
         "C31Q2",
         "4.500101377611706",
         "-3.7504397177257425",
         "3.0059873842908556e-07"
        ],
        [
         "44",
         "C32Q1",
         "3.5460457521642983",
         "-3.7504397177257425",
         "3.0059873842908556e-07"
        ],
        [
         "45",
         "C32Q2",
         "3.5460457521642974",
         "-3.7504397177257425",
         "3.0059873842908556e-07"
        ],
        [
         "46",
         "C33Q1",
         "2.6711531707102436",
         "-3.7504397177257425",
         "3.0059873842908556e-07"
        ],
        [
         "47",
         "C33Q2",
         "2.6711531707102445",
         "-3.7504397177257425",
         "3.0059873842908556e-07"
        ],
        [
         "48",
         "C34Q1",
         "5.501775924000975",
         "-3.7504397177257425",
         "3.0059873842908556e-07"
        ],
        [
         "49",
         "C34Q2",
         "5.501775924000974",
         "-3.7504397177257425",
         "3.0059873842908556e-07"
        ]
       ],
       "shape": {
        "columns": 4,
        "rows": 4606
       }
      },
      "text/html": [
       "<div>\n",
       "<style scoped>\n",
       "    .dataframe tbody tr th:only-of-type {\n",
       "        vertical-align: middle;\n",
       "    }\n",
       "\n",
       "    .dataframe tbody tr th {\n",
       "        vertical-align: top;\n",
       "    }\n",
       "\n",
       "    .dataframe thead th {\n",
       "        text-align: right;\n",
       "    }\n",
       "</style>\n",
       "<table border=\"1\" class=\"dataframe\">\n",
       "  <thead>\n",
       "    <tr style=\"text-align: right;\">\n",
       "      <th></th>\n",
       "      <th>market_ids</th>\n",
       "      <th>log_income</th>\n",
       "      <th>nodes0</th>\n",
       "      <th>weights</th>\n",
       "    </tr>\n",
       "  </thead>\n",
       "  <tbody>\n",
       "    <tr>\n",
       "      <th>0</th>\n",
       "      <td>C01Q1</td>\n",
       "      <td>5.084</td>\n",
       "      <td>-3.75</td>\n",
       "      <td>3.006e-07</td>\n",
       "    </tr>\n",
       "    <tr>\n",
       "      <th>1</th>\n",
       "      <td>C01Q2</td>\n",
       "      <td>5.084</td>\n",
       "      <td>-3.75</td>\n",
       "      <td>3.006e-07</td>\n",
       "    </tr>\n",
       "    <tr>\n",
       "      <th>2</th>\n",
       "      <td>C03Q1</td>\n",
       "      <td>1.856</td>\n",
       "      <td>-3.75</td>\n",
       "      <td>3.006e-07</td>\n",
       "    </tr>\n",
       "    <tr>\n",
       "      <th>3</th>\n",
       "      <td>C03Q2</td>\n",
       "      <td>1.856</td>\n",
       "      <td>-3.75</td>\n",
       "      <td>3.006e-07</td>\n",
       "    </tr>\n",
       "    <tr>\n",
       "      <th>4</th>\n",
       "      <td>C04Q1</td>\n",
       "      <td>6.502</td>\n",
       "      <td>-3.75</td>\n",
       "      <td>3.006e-07</td>\n",
       "    </tr>\n",
       "    <tr>\n",
       "      <th>...</th>\n",
       "      <td>...</td>\n",
       "      <td>...</td>\n",
       "      <td>...</td>\n",
       "      <td>...</td>\n",
       "    </tr>\n",
       "    <tr>\n",
       "      <th>4601</th>\n",
       "      <td>C61Q2</td>\n",
       "      <td>11.073</td>\n",
       "      <td>3.75</td>\n",
       "      <td>3.006e-07</td>\n",
       "    </tr>\n",
       "    <tr>\n",
       "      <th>4602</th>\n",
       "      <td>C63Q1</td>\n",
       "      <td>11.158</td>\n",
       "      <td>3.75</td>\n",
       "      <td>3.006e-07</td>\n",
       "    </tr>\n",
       "    <tr>\n",
       "      <th>4603</th>\n",
       "      <td>C63Q2</td>\n",
       "      <td>11.158</td>\n",
       "      <td>3.75</td>\n",
       "      <td>3.006e-07</td>\n",
       "    </tr>\n",
       "    <tr>\n",
       "      <th>4604</th>\n",
       "      <td>C65Q1</td>\n",
       "      <td>11.125</td>\n",
       "      <td>3.75</td>\n",
       "      <td>3.006e-07</td>\n",
       "    </tr>\n",
       "    <tr>\n",
       "      <th>4605</th>\n",
       "      <td>C65Q2</td>\n",
       "      <td>11.125</td>\n",
       "      <td>3.75</td>\n",
       "      <td>3.006e-07</td>\n",
       "    </tr>\n",
       "  </tbody>\n",
       "</table>\n",
       "<p>4606 rows × 4 columns</p>\n",
       "</div>"
      ],
      "text/plain": [
       "     market_ids  log_income  nodes0    weights\n",
       "0         C01Q1       5.084   -3.75  3.006e-07\n",
       "1         C01Q2       5.084   -3.75  3.006e-07\n",
       "2         C03Q1       1.856   -3.75  3.006e-07\n",
       "3         C03Q2       1.856   -3.75  3.006e-07\n",
       "4         C04Q1       6.502   -3.75  3.006e-07\n",
       "...         ...         ...     ...        ...\n",
       "4601      C61Q2      11.073    3.75  3.006e-07\n",
       "4602      C63Q1      11.158    3.75  3.006e-07\n",
       "4603      C63Q2      11.158    3.75  3.006e-07\n",
       "4604      C65Q1      11.125    3.75  3.006e-07\n",
       "4605      C65Q2      11.125    3.75  3.006e-07\n",
       "\n",
       "[4606 rows x 4 columns]"
      ]
     },
     "execution_count": 23,
     "metadata": {},
     "output_type": "execute_result"
    }
   ],
   "source": [
    "quad_data = quad_data.merge(demographic_variation, how='cross')\n",
    "quad_data['log_income'] = quad_data['log_income_mean'] + quad_data['log_income_std'] * quad_data['nodes1']\n",
    "quad_data = quad_data[['market_ids', 'log_income', 'nodes0', 'weights']]\n",
    "quad_data"
   ]
  },
  {
   "cell_type": "markdown",
   "id": "b26320c7-5e82-48c9-b73c-c6b6da422f5f",
   "metadata": {},
   "source": [
    "Let's see how estimates differ."
   ]
  },
  {
   "cell_type": "code",
   "execution_count": 24,
   "id": "c84dbeae-9f07-40e3-99cc-3b0263953191",
   "metadata": {},
   "outputs": [
    {
     "data": {
      "application/vnd.microsoft.datawrangler.viewer.v0+json": {
       "columns": [
        {
         "name": "index",
         "rawType": "int64",
         "type": "integer"
        },
        {
         "name": "Specification",
         "rawType": "object",
         "type": "string"
        },
        {
         "name": "Time",
         "rawType": "float64",
         "type": "float"
        },
        {
         "name": "Converged",
         "rawType": "bool",
         "type": "boolean"
        },
        {
         "name": "Gradient Norm",
         "rawType": "float64",
         "type": "float"
        },
        {
         "name": "Sigma on Price",
         "rawType": "float64",
         "type": "float"
        },
        {
         "name": "Pi on Mushy",
         "rawType": "float64",
         "type": "float"
        },
        {
         "name": "Pi on Price",
         "rawType": "float64",
         "type": "float"
        },
        {
         "name": "Alpha",
         "rawType": "float64",
         "type": "float"
        }
       ],
       "ref": "aae25afd-afd9-40c0-b442-9179dd0123f3",
       "rows": [
        [
         "0",
         "10 Monte Carlo Draws",
         "2.9614980220794678",
         "True",
         "1.4253586631102057e-09",
         "7.270613985704495",
         "0.12709351167282906",
         "-7.08481151174823",
         "22.752366480771705"
        ],
        [
         "1",
         "100 Monte Carlo Draws",
         "3.6037089824676514",
         "True",
         "1.1231936432615335e-06",
         "5.747634800877575",
         "0.10427087794732476",
         "-5.727912406827724",
         "12.020392673129559"
        ],
        [
         "2",
         "500 Monte Carlo Draws",
         "8.926226139068604",
         "True",
         "8.618666897245817e-09",
         "6.064345838011996",
         "0.10812527514133026",
         "-6.05415944521196",
         "14.486633855222937"
        ],
        [
         "3",
         "1000 Monte Carlo Draws",
         "13.724524021148682",
         "True",
         "2.1196514564334225e-07",
         "6.140858800778297",
         "0.10900551434047195",
         "-5.9559876609278515",
         "13.664303294185974"
        ],
        [
         "4",
         "2000 Monte Carlo Draws",
         "18.677689790725708",
         "True",
         "2.1162035933132887e-07",
         "6.05102244961042",
         "0.10784070418005912",
         "-5.989191215387001",
         "13.970737945531887"
        ],
        [
         "5",
         "10 Halton Draws",
         "2.73353910446167",
         "True",
         "6.529213442287451e-09",
         "7.851309310221724",
         "0.1292828477760792",
         "-6.505943326393204",
         "16.978851045905156"
        ],
        [
         "6",
         "100 Halton Draws",
         "3.437030792236328",
         "True",
         "2.0826936403937856e-07",
         "6.204366043347081",
         "0.1008462095453572",
         "-5.509656018517106",
         "10.104294646716793"
        ],
        [
         "7",
         "500 Halton Draws",
         "8.23506212234497",
         "True",
         "4.224955732212274e-08",
         "6.076593640148442",
         "0.10848966483924478",
         "-5.955460094712828",
         "13.699614430274773"
        ],
        [
         "8",
         "1000 Halton Draws",
         "11.404916048049927",
         "True",
         "8.531516976051819e-09",
         "6.013583758657764",
         "0.10805846052478209",
         "-5.9812665580421545",
         "13.90353736254549"
        ],
        [
         "9",
         "2000 Halton Draws",
         "21.93800401687622",
         "True",
         "1.6538676642494132e-09",
         "6.028386368759837",
         "0.10825398368964936",
         "-5.980987243539147",
         "13.907114255997236"
        ],
        [
         "10",
         "49 Quadrature Nodes",
         "3.380146026611328",
         "True",
         "7.595333730424944e-09",
         "6.741497117167938",
         "0.10823486824276553",
         "-5.997634183592954",
         "13.584680180037116"
        ]
       ],
       "shape": {
        "columns": 8,
        "rows": 11
       }
      },
      "text/html": [
       "<div>\n",
       "<style scoped>\n",
       "    .dataframe tbody tr th:only-of-type {\n",
       "        vertical-align: middle;\n",
       "    }\n",
       "\n",
       "    .dataframe tbody tr th {\n",
       "        vertical-align: top;\n",
       "    }\n",
       "\n",
       "    .dataframe thead th {\n",
       "        text-align: right;\n",
       "    }\n",
       "</style>\n",
       "<table border=\"1\" class=\"dataframe\">\n",
       "  <thead>\n",
       "    <tr style=\"text-align: right;\">\n",
       "      <th></th>\n",
       "      <th>Specification</th>\n",
       "      <th>Time</th>\n",
       "      <th>Converged</th>\n",
       "      <th>Gradient Norm</th>\n",
       "      <th>Sigma on Price</th>\n",
       "      <th>Pi on Mushy</th>\n",
       "      <th>Pi on Price</th>\n",
       "      <th>Alpha</th>\n",
       "    </tr>\n",
       "  </thead>\n",
       "  <tbody>\n",
       "    <tr>\n",
       "      <th>0</th>\n",
       "      <td>10 Monte Carlo Draws</td>\n",
       "      <td>2.961</td>\n",
       "      <td>True</td>\n",
       "      <td>1.425e-09</td>\n",
       "      <td>7.271</td>\n",
       "      <td>0.127</td>\n",
       "      <td>-7.085</td>\n",
       "      <td>22.752</td>\n",
       "    </tr>\n",
       "    <tr>\n",
       "      <th>1</th>\n",
       "      <td>100 Monte Carlo Draws</td>\n",
       "      <td>3.604</td>\n",
       "      <td>True</td>\n",
       "      <td>1.123e-06</td>\n",
       "      <td>5.748</td>\n",
       "      <td>0.104</td>\n",
       "      <td>-5.728</td>\n",
       "      <td>12.020</td>\n",
       "    </tr>\n",
       "    <tr>\n",
       "      <th>2</th>\n",
       "      <td>500 Monte Carlo Draws</td>\n",
       "      <td>8.926</td>\n",
       "      <td>True</td>\n",
       "      <td>8.619e-09</td>\n",
       "      <td>6.064</td>\n",
       "      <td>0.108</td>\n",
       "      <td>-6.054</td>\n",
       "      <td>14.487</td>\n",
       "    </tr>\n",
       "    <tr>\n",
       "      <th>3</th>\n",
       "      <td>1000 Monte Carlo Draws</td>\n",
       "      <td>13.725</td>\n",
       "      <td>True</td>\n",
       "      <td>2.120e-07</td>\n",
       "      <td>6.141</td>\n",
       "      <td>0.109</td>\n",
       "      <td>-5.956</td>\n",
       "      <td>13.664</td>\n",
       "    </tr>\n",
       "    <tr>\n",
       "      <th>4</th>\n",
       "      <td>2000 Monte Carlo Draws</td>\n",
       "      <td>18.678</td>\n",
       "      <td>True</td>\n",
       "      <td>2.116e-07</td>\n",
       "      <td>6.051</td>\n",
       "      <td>0.108</td>\n",
       "      <td>-5.989</td>\n",
       "      <td>13.971</td>\n",
       "    </tr>\n",
       "    <tr>\n",
       "      <th>5</th>\n",
       "      <td>10 Halton Draws</td>\n",
       "      <td>2.734</td>\n",
       "      <td>True</td>\n",
       "      <td>6.529e-09</td>\n",
       "      <td>7.851</td>\n",
       "      <td>0.129</td>\n",
       "      <td>-6.506</td>\n",
       "      <td>16.979</td>\n",
       "    </tr>\n",
       "    <tr>\n",
       "      <th>6</th>\n",
       "      <td>100 Halton Draws</td>\n",
       "      <td>3.437</td>\n",
       "      <td>True</td>\n",
       "      <td>2.083e-07</td>\n",
       "      <td>6.204</td>\n",
       "      <td>0.101</td>\n",
       "      <td>-5.510</td>\n",
       "      <td>10.104</td>\n",
       "    </tr>\n",
       "    <tr>\n",
       "      <th>7</th>\n",
       "      <td>500 Halton Draws</td>\n",
       "      <td>8.235</td>\n",
       "      <td>True</td>\n",
       "      <td>4.225e-08</td>\n",
       "      <td>6.077</td>\n",
       "      <td>0.108</td>\n",
       "      <td>-5.955</td>\n",
       "      <td>13.700</td>\n",
       "    </tr>\n",
       "    <tr>\n",
       "      <th>8</th>\n",
       "      <td>1000 Halton Draws</td>\n",
       "      <td>11.405</td>\n",
       "      <td>True</td>\n",
       "      <td>8.532e-09</td>\n",
       "      <td>6.014</td>\n",
       "      <td>0.108</td>\n",
       "      <td>-5.981</td>\n",
       "      <td>13.904</td>\n",
       "    </tr>\n",
       "    <tr>\n",
       "      <th>9</th>\n",
       "      <td>2000 Halton Draws</td>\n",
       "      <td>21.938</td>\n",
       "      <td>True</td>\n",
       "      <td>1.654e-09</td>\n",
       "      <td>6.028</td>\n",
       "      <td>0.108</td>\n",
       "      <td>-5.981</td>\n",
       "      <td>13.907</td>\n",
       "    </tr>\n",
       "    <tr>\n",
       "      <th>10</th>\n",
       "      <td>49 Quadrature Nodes</td>\n",
       "      <td>3.380</td>\n",
       "      <td>True</td>\n",
       "      <td>7.595e-09</td>\n",
       "      <td>6.741</td>\n",
       "      <td>0.108</td>\n",
       "      <td>-5.998</td>\n",
       "      <td>13.585</td>\n",
       "    </tr>\n",
       "  </tbody>\n",
       "</table>\n",
       "</div>"
      ],
      "text/plain": [
       "             Specification    Time  Converged  Gradient Norm  Sigma on Price  \\\n",
       "0     10 Monte Carlo Draws   2.961       True      1.425e-09           7.271   \n",
       "1    100 Monte Carlo Draws   3.604       True      1.123e-06           5.748   \n",
       "2    500 Monte Carlo Draws   8.926       True      8.619e-09           6.064   \n",
       "3   1000 Monte Carlo Draws  13.725       True      2.120e-07           6.141   \n",
       "4   2000 Monte Carlo Draws  18.678       True      2.116e-07           6.051   \n",
       "5          10 Halton Draws   2.734       True      6.529e-09           7.851   \n",
       "6         100 Halton Draws   3.437       True      2.083e-07           6.204   \n",
       "7         500 Halton Draws   8.235       True      4.225e-08           6.077   \n",
       "8        1000 Halton Draws  11.405       True      8.532e-09           6.014   \n",
       "9        2000 Halton Draws  21.938       True      1.654e-09           6.028   \n",
       "10     49 Quadrature Nodes   3.380       True      7.595e-09           6.741   \n",
       "\n",
       "    Pi on Mushy  Pi on Price   Alpha  \n",
       "0         0.127       -7.085  22.752  \n",
       "1         0.104       -5.728  12.020  \n",
       "2         0.108       -6.054  14.487  \n",
       "3         0.109       -5.956  13.664  \n",
       "4         0.108       -5.989  13.971  \n",
       "5         0.129       -6.506  16.979  \n",
       "6         0.101       -5.510  10.104  \n",
       "7         0.108       -5.955  13.700  \n",
       "8         0.108       -5.981  13.904  \n",
       "9         0.108       -5.981  13.907  \n",
       "10        0.108       -5.998  13.585  "
      ]
     },
     "execution_count": 24,
     "metadata": {},
     "output_type": "execute_result"
    }
   ],
   "source": [
    "agent_results.append(solve(f\"{7**2} Quadrature Nodes\", quad_data))\n",
    "pd.DataFrame(agent_results)"
   ]
  },
  {
   "cell_type": "markdown",
   "id": "9f67fe7d-d295-4fce-80c3-520df19ab3c7",
   "metadata": {},
   "source": [
    "Results are similar to the Monte Carlo and Halton configurations with many nodes, but optimization was far faster."
   ]
  },
  {
   "cell_type": "markdown",
   "id": "9375523a-73da-4934-92fb-87c8a6c132af",
   "metadata": {},
   "source": [
    "### 5. Approximate the optimal instruments"
   ]
  },
  {
   "cell_type": "markdown",
   "id": "26a1e02c-3f5f-45f8-8714-f1494ad64b5f",
   "metadata": {},
   "source": [
    "First let's approximate the optimal instruments and re-create the problem."
   ]
  },
  {
   "cell_type": "code",
   "execution_count": 25,
   "id": "86c6dad5-ad1f-4634-b6dc-f986a05e5926",
   "metadata": {},
   "outputs": [
    {
     "data": {
      "text/plain": [
       "Dimensions:\n",
       "=============================================\n",
       " T    N      I     K1    K2    D    MD    ED \n",
       "---  ----  -----  ----  ----  ---  ----  ----\n",
       "94   2256  94000   1     2     1    4     2  \n",
       "=============================================\n",
       "\n",
       "Formulations:\n",
       "=================================================\n",
       "       Column Indices:             0         1   \n",
       "-----------------------------  ----------  ------\n",
       " X1: Linear Characteristics      prices          \n",
       "X2: Nonlinear Characteristics    mushy     prices\n",
       "       d: Demographics         log_income        \n",
       "================================================="
      ]
     },
     "execution_count": 25,
     "metadata": {},
     "output_type": "execute_result"
    }
   ],
   "source": [
    "optimal_iv_results = rc_results.compute_optimal_instruments()\n",
    "optimal_problem = optimal_iv_results.to_problem()\n",
    "optimal_problem"
   ]
  },
  {
   "cell_type": "markdown",
   "id": "d0005e7a-1741-4d2c-8309-e3ae80fcb8e0",
   "metadata": {},
   "source": [
    "Now let's re-solve the problem."
   ]
  },
  {
   "cell_type": "code",
   "execution_count": 26,
   "id": "e6d71d4d-a8ec-44dc-b8d9-e53ffd07478f",
   "metadata": {},
   "outputs": [
    {
     "name": "stdout",
     "output_type": "stream",
     "text": [
      "Solving the problem ...\n",
      "\n",
      "Nonlinear Coefficient Initial Values:\n",
      "===================================================\n",
      "Sigma:    mushy     prices    |   Pi:    log_income\n",
      "------  ---------  ---------  |  ------  ----------\n",
      "mushy   +0.00E+00             |  mushy   +2.00E-01 \n",
      "prices  +0.00E+00  +6.00E+00  |  prices  -6.00E+00 \n",
      "===================================================\n",
      "\n",
      "Nonlinear Coefficient Lower Bounds:\n",
      "===================================================\n",
      "Sigma:    mushy     prices    |   Pi:    log_income\n",
      "------  ---------  ---------  |  ------  ----------\n",
      "mushy   +0.00E+00             |  mushy     -INF    \n",
      "prices  +0.00E+00  +0.00E+00  |  prices    -INF    \n",
      "===================================================\n",
      "\n",
      "Nonlinear Coefficient Upper Bounds:\n",
      "===================================================\n",
      "Sigma:    mushy     prices    |   Pi:    log_income\n",
      "------  ---------  ---------  |  ------  ----------\n",
      "mushy   +0.00E+00             |  mushy     +INF    \n",
      "prices  +0.00E+00    +INF     |  prices    +INF    \n",
      "===================================================\n",
      "\n",
      "Starting optimization ...\n",
      "\n",
      "GMM   Computation  Optimization   Objective   Fixed Point  Contraction  Clipped  Objective   Objective     Projected                                   \n",
      "Step     Time       Iterations   Evaluations  Iterations   Evaluations  Shares     Value    Improvement  Gradient Norm               Theta             \n",
      "----  -----------  ------------  -----------  -----------  -----------  -------  ---------  -----------  -------------  -------------------------------\n",
      " 1     00:00:01         0             1           603         1900         0     +4.54E+00                 +1.57E+01    +6.00E+00, +2.00E-01, -6.00E+00\n",
      " 1     00:00:01         1             2           614         1918         0     +1.01E+02                 +2.50E+02    +6.07E+00, -7.35E-01, -5.88E+00\n",
      " 1     00:00:01         2             3           605         1908         0     +3.88E+00   +6.54E-01     +6.11E+00    +6.01E+00, +1.44E-01, -5.98E+00\n",
      " 1     00:00:01         3             4           605         1904         0     +3.78E+00   +1.07E-01     +2.07E+00    +6.01E+00, +1.22E-01, -5.98E+00\n",
      " 1     00:00:01         4             5           605         1906         0     +3.74E+00   +3.34E-02     +1.65E+00    +6.01E+00, +1.06E-01, -5.96E+00\n",
      " 1     00:00:01         5             6           607         1906         0     +3.73E+00   +1.60E-02     +1.63E+00    +6.02E+00, +1.03E-01, -5.95E+00\n",
      " 1     00:00:01         6             7           604         1901         0     +3.58E+00   +1.42E-01     +5.32E+00    +6.05E+00, +8.52E-02, -5.83E+00\n",
      " 1     00:00:01         7             8           604         1902         0     +3.36E+00   +2.23E-01     +8.32E+00    +6.12E+00, +7.16E-02, -5.61E+00\n",
      " 1     00:00:01         8             9           601         1899         0     +2.95E+00   +4.07E-01     +9.73E+00    +6.27E+00, +6.70E-02, -5.13E+00\n",
      " 1     00:00:01         9            10           602         1904         0     +2.62E+00   +3.33E-01     +7.01E+00    +6.41E+00, +8.51E-02, -4.66E+00\n",
      " 1     00:02:23         10           11           598         1890         0     +2.48E+00   +1.42E-01     +3.06E+00    +6.48E+00, +1.12E-01, -4.43E+00\n",
      " 1     00:00:01         11           12           595         1883         0     +2.45E+00   +3.22E-02     +7.14E-01    +6.49E+00, +1.27E-01, -4.43E+00\n",
      " 1     00:00:01         12           13           594         1878         0     +2.44E+00   +4.62E-03     +7.14E-01    +6.49E+00, +1.33E-01, -4.43E+00\n",
      " 1     00:00:01         13           14           595         1882         0     +2.44E+00   +3.55E-03     +7.13E-01    +6.50E+00, +1.36E-01, -4.43E+00\n",
      " 1     00:00:01         14           15           595         1880         0     +2.42E+00   +1.58E-02     +1.68E+00    +6.53E+00, +1.43E-01, -4.44E+00\n",
      " 1     00:00:01         15           16           597         1880         0     +2.39E+00   +3.34E-02     +3.10E+00    +6.60E+00, +1.53E-01, -4.47E+00\n",
      " 1     00:00:01         16           17           598         1883         0     +2.30E+00   +8.59E-02     +5.28E+00    +6.81E+00, +1.67E-01, -4.53E+00\n",
      " 1     00:00:01         17           18           605         1909         0     +2.12E+00   +1.88E-01     +7.97E+00    +7.32E+00, +1.86E-01, -4.63E+00\n",
      " 1     00:00:01         18           19           612         1927         0     +1.71E+00   +4.05E-01     +1.09E+01    +8.51E+00, +2.12E-01, -4.63E+00\n",
      " 1     00:00:01         19           20           613         1933         0     +1.49E+00   +2.25E-01     +8.10E+00    +8.51E+00, +1.89E-01, -4.63E+00\n",
      " 1     00:00:01         20           21           643         1999         0     +2.65E-01   +1.22E+00     +9.80E-01    +1.19E+01, +1.42E-01, -4.16E+00\n",
      " 1     00:00:01         21           22           640         1991         0     +1.09E-01   +1.55E-01     +2.99E-01    +1.18E+01, +1.38E-01, -3.82E+00\n",
      " 1     00:00:01         22           23           631         1965         0     +3.78E-03   +1.06E-01     +6.65E-02    +1.26E+01, +1.48E-01, -3.23E+00\n",
      " 1     00:00:01         24           24           626         1958         0     +1.12E-04   +3.67E-03     +2.96E-02    +1.26E+01, +1.50E-01, -3.14E+00\n",
      " 1     00:00:01         25           25           626         1955         0     +1.08E-04   +4.60E-06     +5.08E-03    +1.26E+01, +1.50E-01, -3.14E+00\n",
      " 1     00:00:01         27           26           627         1960         0     +1.13E-07   +1.08E-04     +2.92E-04    +1.26E+01, +1.51E-01, -3.11E+00\n",
      " 1     00:00:01         30           27           625         1955         0     +1.46E-08   +9.86E-08     +5.59E-05    +1.26E+01, +1.51E-01, -3.11E+00\n",
      " 1     00:00:01         32           28           624         1952         0     +4.20E-11   +1.45E-08     +4.34E-06    +1.26E+01, +1.51E-01, -3.11E+00\n",
      " 1     00:00:01         35           29           626         1955         0     +3.41E-14   +4.20E-11     +1.02E-07    +1.26E+01, +1.51E-01, -3.11E+00\n",
      "\n",
      "Optimization completed after 00:02:39.\n",
      "Computing the Hessian and estimating standard errors ...\n",
      "Computed results after 00:00:04.\n",
      "\n",
      "Problem Results Summary:\n",
      "==============================================================================================================\n",
      "GMM   Objective    Projected    Reduced Hessian  Reduced Hessian  Clipped  Weighting Matrix  Covariance Matrix\n",
      "Step    Value    Gradient Norm  Min Eigenvalue   Max Eigenvalue   Shares   Condition Number  Condition Number \n",
      "----  ---------  -------------  ---------------  ---------------  -------  ----------------  -----------------\n",
      " 1    +3.41E-14    +1.02E-07       +1.30E-01        +1.00E+02        0        +2.79E+04          +2.31E+04    \n",
      "==============================================================================================================\n",
      "\n",
      "Cumulative Statistics:\n",
      "===========================================================================\n",
      "Computation  Optimizer  Optimization   Objective   Fixed Point  Contraction\n",
      "   Time      Converged   Iterations   Evaluations  Iterations   Evaluations\n",
      "-----------  ---------  ------------  -----------  -----------  -----------\n",
      " 00:02:43       Yes          36           30          18346        57638   \n",
      "===========================================================================\n",
      "\n",
      "Nonlinear Coefficient Estimates (Robust SEs in Parentheses):\n",
      "======================================================\n",
      "Sigma:    mushy      prices     |   Pi:    log_income \n",
      "------  ---------  -----------  |  ------  -----------\n",
      "mushy   +0.00E+00               |  mushy    +1.51E-01 \n",
      "                                |          (+1.16E-01)\n",
      "                                |                     \n",
      "prices  +0.00E+00   +1.26E+01   |  prices   -3.11E+00 \n",
      "                   (+3.10E+00)  |          (+1.89E+00)\n",
      "======================================================\n",
      "\n",
      "Beta Estimates (Robust SEs in Parentheses):\n",
      "===========\n",
      "  prices   \n",
      "-----------\n",
      " -1.35E+01 \n",
      "(+1.69E+01)\n",
      "===========\n"
     ]
    }
   ],
   "source": [
    "pyblp.options.verbose = True\n",
    "optimal_problem.solve(\n",
    "    sigma=[\n",
    "        [0, 0],\n",
    "        [0, 6],\n",
    "    ], \n",
    "    pi=[\n",
    "        [0.2],\n",
    "        [-6],\n",
    "    ],\n",
    "    method='1s', \n",
    "    optimization=optimization,\n",
    ")\n",
    "pyblp.options.verbose = False"
   ]
  },
  {
   "cell_type": "markdown",
   "id": "ec2c2825-d769-4bff-bfd1-c36019844cc6",
   "metadata": {},
   "source": [
    "Results are similar, although the amount of unobserved preference heterogeneity for prices is estimated to be somewhat larger, with a smaller standard error. The fact that results are similar suggests that the non-optimal instruments we've been using are fairly close to the optimal ones. Perhaps our instrument for targeting $\\Sigma$ has some nontrivial differences."
   ]
  },
  {
   "cell_type": "markdown",
   "id": "4ebe7714-07e3-4cd6-82e8-32aa02dbbb93",
   "metadata": {},
   "source": [
    "### 5. Add another instrument and compute the optimal weighting matrix"
   ]
  },
  {
   "cell_type": "markdown",
   "id": "4c4b0e6b-22a6-45bc-b09b-91560273d4e6",
   "metadata": {},
   "source": [
    "Let's add a second instrument to target the parameter in $\\Pi$ on log income and mushy, but using cross-market variation in the standard deviation of income."
   ]
  },
  {
   "cell_type": "code",
   "execution_count": 27,
   "id": "957074df-7193-4400-a8f7-dd88127545fa",
   "metadata": {},
   "outputs": [
    {
     "data": {
      "text/plain": [
       "Dimensions:\n",
       "=============================================\n",
       " T    N      I     K1    K2    D    MD    ED \n",
       "---  ----  -----  ----  ----  ---  ----  ----\n",
       "94   2256  94000   1     2     1    5     2  \n",
       "=============================================\n",
       "\n",
       "Formulations:\n",
       "=================================================\n",
       "       Column Indices:             0         1   \n",
       "-----------------------------  ----------  ------\n",
       " X1: Linear Characteristics      prices          \n",
       "X2: Nonlinear Characteristics    mushy     prices\n",
       "       d: Demographics         log_income        \n",
       "================================================="
      ]
     },
     "execution_count": 27,
     "metadata": {},
     "output_type": "execute_result"
    }
   ],
   "source": [
    "product_data = product_data.merge(demographic_variation[['market_ids', 'log_income_std']], on='market_ids')\n",
    "product_data['demand_instruments4'] = product_data['log_income_std'] * product_data['demand_instruments3']\n",
    "overidentified_problem = pyblp.Problem(product_formulations, product_data, agent_formulation, agent_data)\n",
    "overidentified_problem"
   ]
  },
  {
   "cell_type": "markdown",
   "id": "fd36525c-cc1d-4dd1-bf1c-13c79c5dc9fb",
   "metadata": {},
   "source": [
    "Now let's re-run the first stage with the extra instrument."
   ]
  },
  {
   "cell_type": "code",
   "execution_count": 28,
   "id": "1aae622e-d53f-4f93-8048-869d862dcb8c",
   "metadata": {},
   "outputs": [
    {
     "name": "stdout",
     "output_type": "stream",
     "text": [
      "Solving the problem ...\n",
      "\n",
      "Nonlinear Coefficient Initial Values:\n",
      "===================================================\n",
      "Sigma:    mushy     prices    |   Pi:    log_income\n",
      "------  ---------  ---------  |  ------  ----------\n",
      "mushy   +0.00E+00             |  mushy   +2.00E-01 \n",
      "prices  +0.00E+00  +6.00E+00  |  prices  -6.00E+00 \n",
      "===================================================\n",
      "\n",
      "Nonlinear Coefficient Lower Bounds:\n",
      "===================================================\n",
      "Sigma:    mushy     prices    |   Pi:    log_income\n",
      "------  ---------  ---------  |  ------  ----------\n",
      "mushy   +0.00E+00             |  mushy     -INF    \n",
      "prices  +0.00E+00  +0.00E+00  |  prices    -INF    \n",
      "===================================================\n",
      "\n",
      "Nonlinear Coefficient Upper Bounds:\n",
      "===================================================\n",
      "Sigma:    mushy     prices    |   Pi:    log_income\n",
      "------  ---------  ---------  |  ------  ----------\n",
      "mushy   +0.00E+00             |  mushy     +INF    \n",
      "prices  +0.00E+00    +INF     |  prices    +INF    \n",
      "===================================================\n",
      "\n",
      "Starting optimization ...\n",
      "\n",
      "GMM   Computation  Optimization   Objective   Fixed Point  Contraction  Clipped  Objective   Objective     Projected                                   \n",
      "Step     Time       Iterations   Evaluations  Iterations   Evaluations  Shares     Value    Improvement  Gradient Norm               Theta             \n",
      "----  -----------  ------------  -----------  -----------  -----------  -------  ---------  -----------  -------------  -------------------------------\n",
      " 1     00:00:01         0             1           603         1900         0     +2.12E+00                 +1.40E+01    +6.00E+00, +2.00E-01, -6.00E+00\n",
      " 1     00:00:01         1             2           613         1918         0     +8.96E+01                 +2.31E+02    +6.04E+00, -7.42E-01, -5.95E+00\n",
      " 1     00:00:01         2             3           606         1907         0     +1.57E+00   +5.50E-01     +6.00E+00    +6.00E+00, +1.46E-01, -5.99E+00\n",
      " 1     00:00:01         3             4           606         1907         0     +1.47E+00   +9.77E-02     +2.37E+00    +6.00E+00, +1.23E-01, -5.99E+00\n",
      " 1     00:00:01         4             5           604         1903         0     +1.45E+00   +1.96E-02     +5.30E-01    +6.01E+00, +1.08E-01, -5.99E+00\n",
      " 1     00:00:01         5             6           604         1904         0     +1.45E+00   +1.17E-03     +5.28E-01    +6.01E+00, +1.08E-01, -5.98E+00\n",
      " 1     00:00:01         6             7           602         1896         0     +1.34E+00   +1.15E-01     +4.82E-01    +6.08E+00, +1.15E-01, -5.58E+00\n",
      " 1     00:00:01         7             8           603         1900         0     +1.34E+00   +8.05E-04     +1.41E-01    +6.08E+00, +1.13E-01, -5.58E+00\n",
      " 1     00:00:01         8             9           601         1898         0     +1.34E+00   +9.77E-04     +1.47E-01    +6.09E+00, +1.12E-01, -5.55E+00\n",
      " 1     00:00:01         9            10           602         1898         0     +1.34E+00   +9.87E-05     +1.47E-01    +6.09E+00, +1.13E-01, -5.55E+00\n",
      " 1     00:00:01         10           11           602         1896         0     +1.33E+00   +2.80E-03     +5.20E-01    +6.11E+00, +1.16E-01, -5.55E+00\n",
      " 1     00:00:01         11           12           602         1900         0     +1.33E+00   +5.14E-03     +1.13E+00    +6.17E+00, +1.20E-01, -5.56E+00\n",
      " 1     00:00:01         12           13           603         1901         0     +1.33E+00   +2.09E-03     +7.92E-01    +6.17E+00, +1.18E-01, -5.56E+00\n",
      " 1     00:00:01         13           14           604         1903         0     +1.29E+00   +3.90E-02     +1.22E-01    +6.45E+00, +1.12E-01, -5.56E+00\n",
      " 1     00:00:01         14           15           629         1971         0     +1.17E+00   +1.17E-01     +1.90E+00    +8.47E+00, +1.00E-01, -5.35E+00\n",
      " 1     00:00:01         15           16           630         1972         0     +1.15E+00   +2.12E-02     +9.11E-01    +8.45E+00, +1.08E-01, -5.26E+00\n",
      " 1     00:00:01         16           17           627         1966         0     +1.15E+00   +2.81E-03     +7.86E-02    +8.45E+00, +1.14E-01, -5.26E+00\n",
      " 1     00:00:01         18           18           629         1969         0     +1.14E+00   +2.27E-03     +4.83E-03    +8.45E+00, +1.15E-01, -5.20E+00\n",
      " 1     00:00:01         20           19           628         1970         0     +1.14E+00   +4.49E-05     +9.19E-04    +8.49E+00, +1.15E-01, -5.18E+00\n",
      " 1     00:00:01         22           20           626         1966         0     +1.14E+00   +4.92E-06     +8.60E-05    +8.48E+00, +1.15E-01, -5.19E+00\n",
      " 1     00:00:01         25           21           628         1967         0     +1.14E+00   +5.06E-08     +3.98E-06    +8.48E+00, +1.15E-01, -5.19E+00\n",
      " 1     00:00:01         28           22           629         1966         0     +1.14E+00   +9.21E-11     +1.47E-07    +8.48E+00, +1.15E-01, -5.19E+00\n",
      " 1     00:00:01         31           23           629         1967         0     +1.14E+00   +1.54E-13     +6.13E-09    +8.48E+00, +1.15E-01, -5.19E+00\n",
      "\n",
      "Optimization completed after 00:00:12.\n",
      "Computing the Hessian and estimating standard errors ...\n",
      "Computed results after 00:00:04.\n",
      "\n",
      "Problem Results Summary:\n",
      "==============================================================================================================\n",
      "GMM   Objective    Projected    Reduced Hessian  Reduced Hessian  Clipped  Weighting Matrix  Covariance Matrix\n",
      "Step    Value    Gradient Norm  Min Eigenvalue   Max Eigenvalue   Shares   Condition Number  Condition Number \n",
      "----  ---------  -------------  ---------------  ---------------  -------  ----------------  -----------------\n",
      " 1    +1.14E+00    +6.13E-09       +7.80E-02        +1.45E+02        0        +1.73E+04          +2.48E+04    \n",
      "==============================================================================================================\n",
      "\n",
      "Cumulative Statistics:\n",
      "===========================================================================\n",
      "Computation  Optimizer  Optimization   Objective   Fixed Point  Contraction\n",
      "   Time      Converged   Iterations   Evaluations  Iterations   Evaluations\n",
      "-----------  ---------  ------------  -----------  -----------  -----------\n",
      " 00:00:16       Yes          32           24          14739        46312   \n",
      "===========================================================================\n",
      "\n",
      "Nonlinear Coefficient Estimates (Robust SEs in Parentheses):\n",
      "======================================================\n",
      "Sigma:    mushy      prices     |   Pi:    log_income \n",
      "------  ---------  -----------  |  ------  -----------\n",
      "mushy   +0.00E+00               |  mushy    +1.15E-01 \n",
      "                                |          (+9.32E-02)\n",
      "                                |                     \n",
      "prices  +0.00E+00   +8.48E+00   |  prices   -5.19E+00 \n",
      "                   (+4.49E+00)  |          (+1.51E+00)\n",
      "======================================================\n",
      "\n",
      "Beta Estimates (Robust SEs in Parentheses):\n",
      "===========\n",
      "  prices   \n",
      "-----------\n",
      " +6.16E+00 \n",
      "(+1.41E+01)\n",
      "===========\n"
     ]
    }
   ],
   "source": [
    "pyblp.options.verbose = True\n",
    "overidentified_results = overidentified_problem.solve(\n",
    "    sigma=[\n",
    "        [0, 0],\n",
    "        [0, 6],\n",
    "    ], \n",
    "    pi=[\n",
    "        [0.2],\n",
    "        [-6],\n",
    "    ], \n",
    "    method='1s', \n",
    "    optimization=optimization,\n",
    ")\n",
    "pyblp.options.verbose = False"
   ]
  },
  {
   "cell_type": "markdown",
   "id": "32a3c207-9949-4199-abff-e53f3d8b83e2",
   "metadata": {},
   "source": [
    "Since we're overidentified, the objective at the optimum is no longer essentially zero. But our first- and second-order conditions pan out, so we are likely at the global optimum. In practice we would want to try multiple starting values.\n",
    "\n",
    "Results are similar, although the parameter the new instrument targets is now estimated to be slightly dampened, with the parameter in $\\Sigma$ on prices a bit larger to pick up the extra unobserved preference heterogeneity.\n",
    "\n",
    "Now let's run a second step with the optimal weighting matrix."
   ]
  },
  {
   "cell_type": "code",
   "execution_count": 29,
   "id": "c9d0eb55-db01-482b-bc1c-abef0af1e29c",
   "metadata": {},
   "outputs": [
    {
     "name": "stdout",
     "output_type": "stream",
     "text": [
      "Solving the problem ...\n",
      "\n",
      "Nonlinear Coefficient Initial Values:\n",
      "===================================================\n",
      "Sigma:    mushy     prices    |   Pi:    log_income\n",
      "------  ---------  ---------  |  ------  ----------\n",
      "mushy   +0.00E+00             |  mushy   +2.00E-01 \n",
      "prices  +0.00E+00  +6.00E+00  |  prices  -6.00E+00 \n",
      "===================================================\n",
      "\n",
      "Nonlinear Coefficient Lower Bounds:\n",
      "===================================================\n",
      "Sigma:    mushy     prices    |   Pi:    log_income\n",
      "------  ---------  ---------  |  ------  ----------\n",
      "mushy   +0.00E+00             |  mushy     -INF    \n",
      "prices  +0.00E+00  +0.00E+00  |  prices    -INF    \n",
      "===================================================\n",
      "\n",
      "Nonlinear Coefficient Upper Bounds:\n",
      "===================================================\n",
      "Sigma:    mushy     prices    |   Pi:    log_income\n",
      "------  ---------  ---------  |  ------  ----------\n",
      "mushy   +0.00E+00             |  mushy     +INF    \n",
      "prices  +0.00E+00    +INF     |  prices    +INF    \n",
      "===================================================\n",
      "\n",
      "Starting optimization ...\n",
      "\n",
      "GMM   Computation  Optimization   Objective   Fixed Point  Contraction  Clipped  Objective   Objective     Projected                                   \n",
      "Step     Time       Iterations   Evaluations  Iterations   Evaluations  Shares     Value    Improvement  Gradient Norm               Theta             \n",
      "----  -----------  ------------  -----------  -----------  -----------  -------  ---------  -----------  -------------  -------------------------------\n",
      " 1     00:00:01         0             1           603         1900         0     +3.05E+00                 +2.25E+01    +6.00E+00, +2.00E-01, -6.00E+00\n",
      " 1     00:00:01         1             2           614         1922         0     +1.42E+02                 +3.65E+02    +6.04E+00, -7.43E-01, -5.97E+00\n",
      " 1     00:00:01         2             3           604         1906         0     +2.16E+00   +8.90E-01     +9.61E+00    +6.00E+00, +1.45E-01, -6.00E+00\n",
      " 1     00:00:01         3             4           604         1905         0     +2.01E+00   +1.56E-01     +3.79E+00    +6.00E+00, +1.22E-01, -5.99E+00\n",
      " 1     00:00:01         4             5           604         1904         0     +1.98E+00   +2.92E-02     +5.75E-01    +6.01E+00, +1.07E-01, -5.99E+00\n",
      " 1     00:00:01         5             6           607         1911         0     +1.98E+00   +8.34E-04     +5.72E-01    +6.01E+00, +1.08E-01, -5.99E+00\n",
      " 1     00:00:01         6             7           605         1908         0     +1.96E+00   +1.53E-02     +1.39E+00    +6.01E+00, +1.13E-01, -5.95E+00\n",
      " 1     00:00:01         7             8           603         1901         0     +1.94E+00   +2.05E-02     +2.42E+00    +6.02E+00, +1.17E-01, -5.89E+00\n",
      " 1     00:00:01         8             9           603         1900         0     +1.91E+00   +2.96E-02     +2.65E+00    +6.05E+00, +1.18E-01, -5.78E+00\n",
      " 1     00:00:01         9            10           601         1898         0     +1.90E+00   +1.68E-02     +1.51E+00    +6.06E+00, +1.13E-01, -5.70E+00\n",
      " 1     00:00:01         10           11           600         1895         0     +1.89E+00   +4.22E-03     +4.01E-01    +6.06E+00, +1.09E-01, -5.70E+00\n",
      " 1     00:00:01         11           12           602         1898         0     +1.89E+00   +4.34E-04     +1.69E-01    +6.07E+00, +1.08E-01, -5.70E+00\n",
      " 1     00:00:01         12           13           602         1898         0     +1.89E+00   +9.99E-05     +1.69E-01    +6.07E+00, +1.07E-01, -5.70E+00\n",
      " 1     00:00:01         13           14           600         1898         0     +1.89E+00   +7.17E-04     +4.38E-01    +6.07E+00, +1.06E-01, -5.70E+00\n",
      " 1     00:00:01         14           15           601         1898         0     +1.89E+00   +1.41E-03     +8.66E-01    +6.09E+00, +1.04E-01, -5.70E+00\n",
      " 1     00:00:01         15           16           602         1901         0     +1.89E+00   +3.97E-03     +1.61E+00    +6.13E+00, +1.01E-01, -5.70E+00\n",
      " 1     00:00:01         16           17           603         1903         0     +1.88E+00   +2.11E-03     +1.23E+00    +6.13E+00, +1.03E-01, -5.70E+00\n",
      " 1     00:00:01         17           18           606         1908         0     +1.85E+00   +3.46E-02     +1.41E-01    +6.34E+00, +1.08E-01, -5.70E+00\n",
      " 1     00:00:01         18           19           617         1944         0     +1.74E+00   +1.10E-01     +2.68E+00    +7.66E+00, +1.19E-01, -5.55E+00\n",
      " 1     00:00:01         19           20           617         1941         0     +1.73E+00   +1.22E-02     +1.13E+00    +7.66E+00, +1.12E-01, -5.55E+00\n",
      " 1     00:00:01         20           21           616         1943         0     +1.71E+00   +1.19E-02     +4.10E-02    +7.67E+00, +1.08E-01, -5.47E+00\n",
      " 1     00:00:01         22           22           627         1965         0     +1.71E+00   +9.25E-03     +1.77E-01    +8.16E+00, +1.07E-01, -5.37E+00\n",
      " 1     00:00:01         23           23           627         1965         0     +1.71E+00   +6.72E-05     +2.02E-02    +8.16E+00, +1.08E-01, -5.37E+00\n",
      " 1     00:00:01         24           24           624         1959         0     +1.71E+00   +1.50E-04     +6.79E-03    +8.15E+00, +1.08E-01, -5.36E+00\n",
      " 1     00:00:01         26           25           626         1961         0     +1.71E+00   +2.26E-04     +8.66E-04    +8.09E+00, +1.08E-01, -5.37E+00\n",
      " 1     00:00:01         28           26           626         1961         0     +1.71E+00   +2.11E-07     +2.71E-04    +8.09E+00, +1.08E-01, -5.37E+00\n",
      " 1     00:00:01         30           27           624         1957         0     +1.71E+00   +3.35E-07     +2.15E-05    +8.09E+00, +1.08E-01, -5.37E+00\n",
      " 1     00:00:01         33           28           624         1961         0     +1.71E+00   +2.13E-09     +7.99E-07    +8.09E+00, +1.08E-01, -5.37E+00\n",
      " 1     00:00:01         36           29           625         1961         0     +1.71E+00   +2.91E-12     +3.17E-08    +8.09E+00, +1.08E-01, -5.37E+00\n",
      "\n",
      "Optimization completed after 00:00:16.\n",
      "Computing the Hessian and estimating standard errors ...\n",
      "Computed results after 00:00:04.\n",
      "\n",
      "Problem Results Summary:\n",
      "==============================================================================================================\n",
      "GMM   Objective    Projected    Reduced Hessian  Reduced Hessian  Clipped  Weighting Matrix  Covariance Matrix\n",
      "Step    Value    Gradient Norm  Min Eigenvalue   Max Eigenvalue   Shares   Condition Number  Condition Number \n",
      "----  ---------  -------------  ---------------  ---------------  -------  ----------------  -----------------\n",
      " 1    +1.71E+00    +3.17E-08       +1.04E-01        +2.40E+02        0        +2.00E+04          +2.43E+04    \n",
      "==============================================================================================================\n",
      "\n",
      "Cumulative Statistics:\n",
      "===========================================================================\n",
      "Computation  Optimizer  Optimization   Objective   Fixed Point  Contraction\n",
      "   Time      Converged   Iterations   Evaluations  Iterations   Evaluations\n",
      "-----------  ---------  ------------  -----------  -----------  -----------\n",
      " 00:00:20       Yes          37           30          18342        57733   \n",
      "===========================================================================\n",
      "\n",
      "Nonlinear Coefficient Estimates (Robust SEs in Parentheses):\n",
      "======================================================\n",
      "Sigma:    mushy      prices     |   Pi:    log_income \n",
      "------  ---------  -----------  |  ------  -----------\n",
      "mushy   +0.00E+00               |  mushy    +1.08E-01 \n",
      "                                |          (+9.12E-02)\n",
      "                                |                     \n",
      "prices  +0.00E+00   +8.09E+00   |  prices   -5.37E+00 \n",
      "                   (+4.62E+00)  |          (+1.45E+00)\n",
      "======================================================\n",
      "\n",
      "Beta Estimates (Robust SEs in Parentheses):\n",
      "===========\n",
      "  prices   \n",
      "-----------\n",
      " +7.85E+00 \n",
      "(+1.36E+01)\n",
      "===========\n"
     ]
    }
   ],
   "source": [
    "pyblp.options.verbose = True\n",
    "overidentified_problem.solve(\n",
    "    sigma=[\n",
    "        [0, 0],\n",
    "        [0, 6],\n",
    "    ], \n",
    "    pi=[\n",
    "        [0.2],\n",
    "        [-6],\n",
    "    ], \n",
    "    method='1s', \n",
    "    optimization=optimization,\n",
    "    W=overidentified_results.updated_W,\n",
    ")\n",
    "pyblp.options.verbose = False"
   ]
  },
  {
   "cell_type": "markdown",
   "id": "d5f52207-683a-4d13-96cc-ee84f668920d",
   "metadata": {},
   "source": [
    "Results are fairly similar to the first step. Standard errors are slightly smaller."
   ]
  },
  {
   "cell_type": "markdown",
   "id": "1cbc9556-2c80-437b-8a8f-de57a092758d",
   "metadata": {},
   "source": [
    "### 6. Incorporate supply-side restrictions into estimation"
   ]
  },
  {
   "cell_type": "markdown",
   "id": "0512a0d9-c375-4b29-9eb3-ea811679ef62",
   "metadata": {},
   "source": [
    "Let's set up the problem with a simple supply side."
   ]
  },
  {
   "cell_type": "code",
   "execution_count": 30,
   "id": "41866045-6676-4549-86b2-92cf68871e66",
   "metadata": {},
   "outputs": [
    {
     "data": {
      "text/plain": [
       "Dimensions:\n",
       "==============================================================\n",
       " T    N     F     I     K1    K2    K3    D    MD    MS    ED \n",
       "---  ----  ---  -----  ----  ----  ----  ---  ----  ----  ----\n",
       "94   2256   5   94000   1     2     2     1    5     2     2  \n",
       "==============================================================\n",
       "\n",
       "Formulations:\n",
       "===================================================\n",
       "        Column Indices:              0         1   \n",
       "-------------------------------  ----------  ------\n",
       "  X1: Linear Characteristics       prices          \n",
       " X2: Nonlinear Characteristics     mushy     prices\n",
       "X3: Linear Cost Characteristics      1       mushy \n",
       "        d: Demographics          log_income        \n",
       "==================================================="
      ]
     },
     "execution_count": 30,
     "metadata": {},
     "output_type": "execute_result"
    }
   ],
   "source": [
    "product_data['firm_ids'] = product_data['product_ids'].str[:2]\n",
    "supply_product_formulations = (\n",
    "    pyblp.Formulation('0 + prices', absorb='C(market_ids) + C(product_ids)'), \n",
    "    pyblp.Formulation('0 + mushy + prices'),\n",
    "    pyblp.Formulation('1 + mushy'),\n",
    ")\n",
    "supply_problem = pyblp.Problem(supply_product_formulations, product_data, agent_formulation, agent_data)\n",
    "supply_problem"
   ]
  },
  {
   "cell_type": "markdown",
   "id": "21900133-f36d-4695-96aa-8ce9ec06783b",
   "metadata": {},
   "source": [
    "We can solve it almost like before. The only difference is that $\\alpha$ is now a parameter that needs to be optimized over because it affects demand elasticities, which in turn are needed to impute marginal costs from pricing optimality. So we'll need to specify an initial value for it."
   ]
  },
  {
   "cell_type": "code",
   "execution_count": 31,
   "id": "d4b245ca-b15c-4a48-a02d-eba629ea6204",
   "metadata": {},
   "outputs": [
    {
     "name": "stdout",
     "output_type": "stream",
     "text": [
      "Solving the problem ...\n",
      "\n",
      "Nonlinear Coefficient Initial Values:\n",
      "===================================================\n",
      "Sigma:    mushy     prices    |   Pi:    log_income\n",
      "------  ---------  ---------  |  ------  ----------\n",
      "mushy   +0.00E+00             |  mushy   +2.00E-01 \n",
      "prices  +0.00E+00  +6.00E+00  |  prices  -6.00E+00 \n",
      "===================================================\n",
      "\n",
      "Beta Initial Values:\n",
      "=========\n",
      " prices  \n",
      "---------\n",
      "+1.00E+01\n",
      "=========\n",
      "\n",
      "Nonlinear Coefficient Lower Bounds:\n",
      "===================================================\n",
      "Sigma:    mushy     prices    |   Pi:    log_income\n",
      "------  ---------  ---------  |  ------  ----------\n",
      "mushy   +0.00E+00             |  mushy     -INF    \n",
      "prices  +0.00E+00  +0.00E+00  |  prices    -INF    \n",
      "===================================================\n",
      "\n",
      "Beta Lower Bounds:\n",
      "=========\n",
      " prices  \n",
      "---------\n",
      "  -INF   \n",
      "=========\n",
      "\n",
      "Nonlinear Coefficient Upper Bounds:\n",
      "===================================================\n",
      "Sigma:    mushy     prices    |   Pi:    log_income\n",
      "------  ---------  ---------  |  ------  ----------\n",
      "mushy   +0.00E+00             |  mushy     +INF    \n",
      "prices  +0.00E+00    +INF     |  prices    +INF    \n",
      "===================================================\n",
      "\n",
      "Beta Upper Bounds:\n",
      "=========\n",
      " prices  \n",
      "---------\n",
      "  +INF   \n",
      "=========\n",
      "\n",
      "Starting optimization ...\n",
      "\n",
      "GMM   Computation  Optimization   Objective   Fixed Point  Contraction  Clipped  Objective   Objective     Projected                                              \n",
      "Step     Time       Iterations   Evaluations  Iterations   Evaluations  Shares     Value    Improvement  Gradient Norm                    Theta                   \n",
      "----  -----------  ------------  -----------  -----------  -----------  -------  ---------  -----------  -------------  ------------------------------------------\n",
      " 1     00:00:01         0             1           603         1900         0     +1.42E+01                 +4.56E+01    +6.00E+00, +2.00E-01, -6.00E+00, +1.00E+01\n",
      " 1     00:00:01         1             2           605         1914         0     +1.20E+01   +2.25E+00     +4.32E+01    +6.11E+00, -1.08E-01, -5.12E+00, +1.01E+01\n",
      " 1     00:00:01         2             3           600         1896         0     +1.54E+00   +1.04E+01     +6.95E+00    +6.06E+00, +1.61E-01, -5.45E+00, +1.01E+01\n",
      " 1     00:00:01         3             4           601         1896         0     +1.35E+00   +1.88E-01     +1.29E+00    +6.06E+00, +1.12E-01, -5.50E+00, +1.01E+01\n",
      " 1     00:00:01         4             5           599         1893         0     +1.34E+00   +1.06E-02     +1.68E-01    +6.07E+00, +1.14E-01, -5.48E+00, +1.01E+01\n",
      " 1     00:00:01         5             6           600         1895         0     +1.34E+00   +2.99E-04     +1.67E-01    +6.07E+00, +1.13E-01, -5.48E+00, +1.01E+01\n",
      " 1     00:00:01         6             7           600         1895         0     +1.34E+00   +1.10E-03     +3.23E-01    +6.08E+00, +1.11E-01, -5.48E+00, +1.01E+01\n",
      " 1     00:00:01         7             8           601         1897         0     +1.34E+00   +3.17E-03     +8.38E-01    +6.11E+00, +1.08E-01, -5.48E+00, +1.01E+01\n",
      " 1     00:00:01         8             9           603         1900         0     +1.33E+00   +7.36E-03     +1.57E+00    +6.19E+00, +1.03E-01, -5.49E+00, +1.01E+01\n",
      " 1     00:00:01         9            10           604         1903         0     +1.33E+00   +3.72E-03     +1.16E+00    +6.19E+00, +1.06E-01, -5.49E+00, +1.01E+01\n",
      " 1     00:00:01         10           11           604         1904         0     +1.28E+00   +5.29E-02     +2.12E-01    +6.54E+00, +1.13E-01, -5.52E+00, +1.01E+01\n",
      " 1     00:00:01         11           12           620         1945         0     +1.22E+00   +5.24E-02     +7.97E-01    +7.60E+00, +1.16E-01, -5.62E+00, +1.02E+01\n",
      " 1     00:00:01         12           13           616         1938         0     +1.22E+00   +3.55E-03     +2.24E-01    +7.60E+00, +1.13E-01, -5.62E+00, +1.02E+01\n",
      " 1     00:00:01         13           14           618         1943         0     +1.22E+00   +1.73E-04     +4.33E-02    +7.60E+00, +1.11E-01, -5.62E+00, +1.02E+01\n",
      " 1     00:00:01         15           15           615         1941         0     +1.22E+00   +1.37E-03     +3.71E-02    +7.47E+00, +1.11E-01, -5.61E+00, +1.02E+01\n",
      " 1     00:00:01         16           16           615         1939         0     +1.22E+00   +1.25E-05     +3.74E-02    +7.47E+00, +1.11E-01, -5.61E+00, +1.02E+01\n",
      " 1     00:00:01         17           17           616         1939         0     +1.22E+00   +3.99E-04     +1.84E-01    +7.47E+00, +1.13E-01, -5.61E+00, +1.02E+01\n",
      " 1     00:00:01         18           18           616         1938         0     +1.22E+00   +7.50E-05     +1.16E-01    +7.47E+00, +1.12E-01, -5.61E+00, +1.02E+01\n",
      " 1     00:00:01         19           19           615         1937         0     +1.22E+00   +1.75E-03     +4.75E-02    +7.48E+00, +1.11E-01, -5.60E+00, +1.01E+01\n",
      " 1     00:00:01         20           20           616         1938         0     +1.19E+00   +2.52E-02     +1.30E+00    +7.62E+00, +1.04E-01, -5.49E+00, +9.14E+00\n",
      " 1     00:00:01         21           21           617         1942         0     +1.19E+00   +3.80E-03     +7.22E-01    +7.62E+00, +1.08E-01, -5.49E+00, +9.14E+00\n",
      " 1     00:00:01         22           22           617         1940         0     +1.18E+00   +1.75E-03     +3.16E-02    +7.62E+00, +1.12E-01, -5.49E+00, +9.14E+00\n",
      " 1     00:00:01         23           23           625         1958         0     +1.15E+00   +3.19E-02     +1.36E-01    +8.08E+00, +1.14E-01, -5.33E+00, +7.60E+00\n",
      " 1     00:00:01         24           24           626         1959         0     +1.15E+00   +1.09E-04     +1.14E-02    +8.08E+00, +1.14E-01, -5.33E+00, +7.60E+00\n",
      " 1     00:00:01         26           25           628         1967         0     +1.14E+00   +9.25E-03     +5.80E-02    +8.48E+00, +1.15E-01, -5.20E+00, +6.24E+00\n",
      " 1     00:00:01         27           26           629         1967         0     +1.14E+00   +1.99E-05     +3.58E-03    +8.48E+00, +1.15E-01, -5.20E+00, +6.24E+00\n",
      " 1     00:00:01         29           27           628         1967         0     +1.14E+00   +4.53E-05     +1.75E-03    +8.46E+00, +1.15E-01, -5.19E+00, +6.23E+00\n",
      " 1     00:00:01         30           28           627         1965         0     +1.14E+00   +2.26E-05     +3.99E-04    +8.48E+00, +1.15E-01, -5.19E+00, +6.16E+00\n",
      " 1     00:00:01         32           29           626         1968         0     +1.14E+00   +6.32E-10     +8.09E-05    +8.48E+00, +1.15E-01, -5.19E+00, +6.16E+00\n",
      " 1     00:00:01         34           30           628         1966         0     +1.14E+00   +2.18E-08     +3.92E-06    +8.48E+00, +1.15E-01, -5.19E+00, +6.16E+00\n",
      " 1     00:00:01         37           31           627         1966         0     +1.14E+00   +5.32E-10     +5.76E-07    +8.48E+00, +1.15E-01, -5.19E+00, +6.16E+00\n",
      " 1     00:00:01         39           32           627         1967         0     +1.14E+00                 +1.51E-07    +8.48E+00, +1.15E-01, -5.19E+00, +6.16E+00\n",
      " 1     00:00:01         40           33           628         1967         0     +1.14E+00   +1.20E-14     +1.51E-07    +8.48E+00, +1.15E-01, -5.19E+00, +6.16E+00\n",
      " 1     00:00:01         42           34           627         1967         0     +1.14E+00   +3.26E-14     +3.97E-08    +8.48E+00, +1.15E-01, -5.19E+00, +6.16E+00\n",
      " 1     00:00:01         44           35           628         1964         0     +1.14E+00   +1.39E-13     +7.09E-08    +8.48E+00, +1.15E-01, -5.19E+00, +6.16E+00\n",
      " 1     00:00:01         45           36           629         1971         0     +1.14E+00                 +1.65E-08    +8.48E+00, +1.15E-01, -5.19E+00, +6.16E+00\n",
      " 1     00:00:01         46           37           629         1967         0     +1.14E+00   +9.33E-15     +1.66E-08    +8.48E+00, +1.15E-01, -5.19E+00, +6.16E+00\n",
      " 1     00:00:01         47           38           629         1970         0     +1.14E+00                 +2.84E-09    +8.48E+00, +1.15E-01, -5.19E+00, +6.16E+00\n",
      " 1     00:00:01         48           39           627         1966         0     +1.14E+00                 +2.84E-09    +8.48E+00, +1.15E-01, -5.19E+00, +6.16E+00\n",
      " 1     00:00:01         49           40           628         1968         0     +1.14E+00                 +2.82E-09    +8.48E+00, +1.15E-01, -5.19E+00, +6.16E+00\n",
      " 1     00:00:01         50           41           627         1965         0     +1.14E+00                 +2.84E-09    +8.48E+00, +1.15E-01, -5.19E+00, +6.16E+00\n",
      " 1     00:00:01         51           42           629         1968         0     +1.14E+00                 +2.84E-09    +8.48E+00, +1.15E-01, -5.19E+00, +6.16E+00\n",
      " 1     00:00:01         52           43           628         1968         0     +1.14E+00                 +2.80E-09    +8.48E+00, +1.15E-01, -5.19E+00, +6.16E+00\n",
      " 1     00:00:01         53           44           628         1965         0     +1.14E+00                 +2.84E-09    +8.48E+00, +1.15E-01, -5.19E+00, +6.16E+00\n",
      " 1     00:00:01         54           45           629         1968         0     +1.14E+00                 +2.84E-09    +8.48E+00, +1.15E-01, -5.19E+00, +6.16E+00\n",
      " 1     00:00:01         55           46           626         1966         0     +1.14E+00                 +2.65E-09    +8.48E+00, +1.15E-01, -5.19E+00, +6.16E+00\n",
      " 1     00:00:01         56           47           628         1964         0     +1.14E+00                 +2.84E-09    +8.48E+00, +1.15E-01, -5.19E+00, +6.16E+00\n",
      " 1     00:00:01         57           48           628         1967         0     +1.14E+00                 +2.84E-09    +8.48E+00, +1.15E-01, -5.19E+00, +6.16E+00\n",
      " 1     00:00:01         58           49           628         1968         0     +1.14E+00                 +2.70E-09    +8.48E+00, +1.15E-01, -5.19E+00, +6.16E+00\n",
      " 1     00:00:01         59           50           629         1968         0     +1.14E+00                 +2.84E-09    +8.48E+00, +1.15E-01, -5.19E+00, +6.16E+00\n",
      "\n",
      "GMM   Computation  Optimization   Objective   Fixed Point  Contraction  Clipped  Objective   Objective     Projected                                              \n",
      "Step     Time       Iterations   Evaluations  Iterations   Evaluations  Shares     Value    Improvement  Gradient Norm                    Theta                   \n",
      "----  -----------  ------------  -----------  -----------  -----------  -------  ---------  -----------  -------------  ------------------------------------------\n",
      " 1     00:00:01         60           51           628         1968         0     +1.14E+00                 +2.84E-09    +8.48E+00, +1.15E-01, -5.19E+00, +6.16E+00\n",
      " 1     00:00:01         61           52           629         1967         0     +1.14E+00                 +1.66E-08    +8.48E+00, +1.15E-01, -5.19E+00, +6.16E+00\n",
      " 1     00:00:01         62           53           627         1968         0     +1.14E+00                 +2.77E-09    +8.48E+00, +1.15E-01, -5.19E+00, +6.16E+00\n",
      " 1     00:00:01         63           54           627         1968         0     +1.14E+00                 +2.77E-09    +8.48E+00, +1.15E-01, -5.19E+00, +6.16E+00\n",
      " 1     00:00:01         64           55           628         1967         0     +1.14E+00                 +5.98E-09    +8.48E+00, +1.15E-01, -5.19E+00, +6.16E+00\n",
      " 1     00:00:01         65           56           628         1967         0     +1.14E+00                 +3.06E-09    +8.48E+00, +1.15E-01, -5.19E+00, +6.16E+00\n",
      " 1     00:00:01         66           57           628         1967         0     +1.14E+00                 +3.06E-09    +8.48E+00, +1.15E-01, -5.19E+00, +6.16E+00\n",
      " 1     00:00:01         67           58           628         1969         0     +1.14E+00                 +2.77E-09    +8.48E+00, +1.15E-01, -5.19E+00, +6.16E+00\n",
      " 1     00:00:01         68           59           627         1968         0     +1.14E+00                 +2.77E-09    +8.48E+00, +1.15E-01, -5.19E+00, +6.16E+00\n",
      " 1     00:00:01         69           60           627         1966         0     +1.14E+00                 +3.18E-09    +8.48E+00, +1.15E-01, -5.19E+00, +6.16E+00\n",
      " 1     00:00:01         70           61           629         1968         0     +1.14E+00                 +2.80E-09    +8.48E+00, +1.15E-01, -5.19E+00, +6.16E+00\n",
      "\n",
      "Optimization completed after 00:00:53.\n",
      "Computing the Hessian and estimating standard errors ...\n",
      "Computed results after 00:00:08.\n",
      "\n",
      "Problem Results Summary:\n",
      "==============================================================================================================\n",
      "GMM   Objective    Projected    Reduced Hessian  Reduced Hessian  Clipped  Weighting Matrix  Covariance Matrix\n",
      "Step    Value    Gradient Norm  Min Eigenvalue   Max Eigenvalue   Shares   Condition Number  Condition Number \n",
      "----  ---------  -------------  ---------------  ---------------  -------  ----------------  -----------------\n",
      " 1    +1.14E+00    +1.66E-08       +8.08E-03        +1.46E+02        0        +9.16E+05          +7.64E+08    \n",
      "==============================================================================================================\n",
      "\n",
      "Cumulative Statistics:\n",
      "===========================================================================\n",
      "Computation  Optimizer  Optimization   Objective   Fixed Point  Contraction\n",
      "   Time      Converged   Iterations   Evaluations  Iterations   Evaluations\n",
      "-----------  ---------  ------------  -----------  -----------  -----------\n",
      " 00:01:01       Yes          71           62          38512       120900   \n",
      "===========================================================================\n",
      "\n",
      "Nonlinear Coefficient Estimates (Robust SEs in Parentheses):\n",
      "======================================================\n",
      "Sigma:    mushy      prices     |   Pi:    log_income \n",
      "------  ---------  -----------  |  ------  -----------\n",
      "mushy   +0.00E+00               |  mushy    +1.15E-01 \n",
      "                                |          (+9.32E-02)\n",
      "                                |                     \n",
      "prices  +0.00E+00   +8.48E+00   |  prices   -5.19E+00 \n",
      "                   (+4.49E+00)  |          (+1.51E+00)\n",
      "======================================================\n",
      "\n",
      "Beta Estimates (Robust SEs in Parentheses):\n",
      "===========\n",
      "  prices   \n",
      "-----------\n",
      " +6.16E+00 \n",
      "(+1.41E+01)\n",
      "===========\n",
      "\n",
      "Gamma Estimates (Robust SEs in Parentheses):\n",
      "========================\n",
      "     1          mushy   \n",
      "-----------  -----------\n",
      " +8.81E-02    -5.68E-03 \n",
      "(+1.53E-03)  (+1.38E-03)\n",
      "========================\n"
     ]
    }
   ],
   "source": [
    "pyblp.options.verbose = True\n",
    "supply_problem.solve(\n",
    "    sigma=[\n",
    "        [0, 0],\n",
    "        [0, 6],\n",
    "    ], \n",
    "    pi=[\n",
    "        [0.2],\n",
    "        [-6],\n",
    "    ],\n",
    "    beta=10,\n",
    "    method='1s', \n",
    "    optimization=optimization,\n",
    ")\n",
    "pyblp.options.verbose = False"
   ]
  },
  {
   "cell_type": "markdown",
   "id": "943ff47b-f2a0-4e4d-ac1a-aae37368f585",
   "metadata": {},
   "source": [
    "Supply-side estimates suggest that producing mushy cereal is less costly than other types. Demand-side estimates are the same as before because we are using the same moments to pin them down."
   ]
  }
 ],
 "metadata": {
  "kernelspec": {
   "display_name": "base",
   "language": "python",
   "name": "python3"
  },
  "language_info": {
   "codemirror_mode": {
    "name": "ipython",
    "version": 3
   },
   "file_extension": ".py",
   "mimetype": "text/x-python",
   "name": "python",
   "nbconvert_exporter": "python",
   "pygments_lexer": "ipython3",
   "version": "3.13.5"
  }
 },
 "nbformat": 4,
 "nbformat_minor": 5
}
