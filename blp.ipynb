{
 "cells": [
  {
   "cell_type": "markdown",
   "id": "45ef1489",
   "metadata": {},
   "source": [
    "# Economics 600a Fall 2025 Prof. P. Haile Homework Assignment 1\n",
    "\n",
    "## 1 Overview\n",
    "You will estimate demand and supply in a stylized model of the market for pay-TV services. You will use a matrix programming language of your choice to create your own fake data set for the industry and do some relatively simple estimation. Then, using the **pyBLP** package of Conlon and Gortmaker, you will estimate the model and perform some merger simulations.\n",
    "\n",
    "The pyBLP package has excellent documentation and a very helpful tutorial (which covers merger simulation), both easy to find via Google.\n",
    "\n",
    "Please submit (on canvas) a single PDF document presenting your answers to the questions below, requested results, and well documented code. Write this up nicely, with properly formatted tables and discussion of results. You may work in groups on the coding. However, your write-ups should be your own work, and you must describe all collaboration at the beginning of your submission; this includes any use of AI.\n",
    "\n",
    "## 2 Model\n",
    "There are $T$ markets, each with four inside goods $j \\in \\{1,2,3,4\\}$ and an outside option. Goods 1 and 2 are satellite television services (e.g., DirecTV and Dish); goods 3 and 4 are wired television services (e.g., Frontier and Comcast in New Haven). The conditional indirect utility of consumer $i$ for good $j$ in market $t$ is given by\n",
    "\n",
    "\\begin{align*}\n",
    "u_{ijt} &= \\beta^{(1)} x_{jt} + \\beta_i^{(2)} satellite_{jt} + \\beta_i^{(3)} wired_{jt} + \\alpha p_{jt} + \\xi_{jt} + \\epsilon_{ijt} \\quad j > 0 \\\\\n",
    "u_{i0t} &= \\epsilon_{i0t},\n",
    "\\end{align*}\n",
    "\n",
    "where $x_{jt}$ is a measure of good $j$'s quality, $p_{jt}$ is its price, $satellite_{jt}$ is an indicator equal to 1 for the two satellite services, and $wired_{jt}$ is an indicator equal to 1 for the two wired services. The remaining notation is as usual in the class notes, including the i.i.d. type-1 extreme value $\\epsilon_{ijt}$. Each consumer purchases the good giving them the highest conditional indirect utility.\n",
    "\n",
    "Goods are produced by single-product firms. Firm $j$'s (log) marginal cost in market $t$ is\n",
    "\n",
    "\\begin{equation*}\n",
    "\\ln mc_{jt} = \\gamma^{(0)} + w_{jt} \\gamma^{(1)} + \\omega_{jt}/8,\n",
    "\\end{equation*}\n",
    "\n",
    "where $w_{jt}$ is an observed cost shifter. Firms compete by simultaneously choosing prices in each market under complete information. Firm $j$ has profit\n",
    "\n",
    "\\begin{equation*}\n",
    "\\sigma_{jt} = \\max_{p_{jt}} (p_{jt} - mc_{jt}) s_{jt}(p_t).\n",
    "\\end{equation*}"
   ]
  },
  {
   "cell_type": "markdown",
   "id": "c9ee1070",
   "metadata": {},
   "source": [
    "## 3 Generate Fake Data\n",
    "\n",
    "Generate a data set from the model above. Let\n",
    "\n",
    "\\begin{align*}\n",
    "\\beta^{(1)} &= 1, \\quad \\beta_i^{(k)} \\sim \\text{iid } N(4,1) \\text{ for } k=2,3 \\\\\n",
    "\\alpha &= -2 \\\\\n",
    "\\gamma^{(0)} &= 1/2, \\quad \\gamma^{(1)} = 1/4.\n",
    "\\end{align*}"
   ]
  },
  {
   "cell_type": "code",
   "execution_count": 46,
   "id": "f8744e1a",
   "metadata": {},
   "outputs": [
    {
     "data": {
      "text/html": [
       "<style>pre { white-space: pre !important; }</style>"
      ],
      "text/plain": [
       "<IPython.core.display.HTML object>"
      ]
     },
     "metadata": {},
     "output_type": "display_data"
    }
   ],
   "source": [
    "import numpy as np\n",
    "import pandas as pd\n",
    "import scipy.optimize as opt\n",
    "from scipy.special import logsumexp\n",
    "import scipy.stats as stats\n",
    "import statsmodels.api as sm\n",
    "import statsmodels.formula.api as smf\n",
    "import time\n",
    "import IPython.display\n",
    "IPython.display.display(IPython.display.HTML('<style>pre { white-space: pre !important; }</style>'))\n",
    "\n",
    "import pyblp\n",
    "pyblp.options.digits = 3\n",
    "pyblp.options.verbose = False\n",
    "pd.options.display.precision = 3\n",
    "pd.options.display.max_columns = 50"
   ]
  },
  {
   "cell_type": "markdown",
   "id": "a12caa47",
   "metadata": {},
   "source": [
    "### 1. \n",
    "Draw the exogenous product characteristic $x_{jt}$ for $T=600$ geographically defined markets (e.g., cities). Assume each $x_{jt}$ is equal to the absolute value of an iid standard normal draw, as is each $w_{jt}$. Simulate demand and cost unobservables as well, specifying\n",
    "\n",
    "\\begin{equation*}\n",
    "\\left(\n",
    "\\begin{array}{c}\n",
    "\\xi_{jt} \\\\\n",
    "\\omega_{jt}\n",
    "\\end{array}\n",
    "\\right) \\sim N\\left( \\left(\n",
    "\\begin{array}{c}\n",
    "0 \\\\\n",
    "0\n",
    "\\end{array}\n",
    "\\right), \\left(\n",
    "\\begin{array}{cc}\n",
    "1 & 0.25 \\\\\n",
    "0.25 & 1\n",
    "\\end{array}\n",
    "\\right) \\right) \\quad \\text{iid across } j,t.\n",
    "\\end{equation*}"
   ]
  },
  {
   "cell_type": "code",
   "execution_count": 47,
   "id": "6c9546c3",
   "metadata": {},
   "outputs": [
    {
     "name": "stdout",
     "output_type": "stream",
     "text": [
      "Question 1 completed:\n",
      "Generated 2400 observations across 600 markets\n",
      "x range: 0.001 to 3.534\n",
      "w range: 0.000 to 3.621\n",
      "ξ-ω correlation: 0.240 (target: 0.25)\n",
      "Satellite products: 1200, Wired products: 1200\n"
     ]
    }
   ],
   "source": [
    "np.random.seed(1995)\n",
    "\n",
    "# Model parameters\n",
    "T, J = 600, 4\n",
    "alpha, beta1 = -2, 1\n",
    "beta2, beta3 = 4, 4  \n",
    "sigma_satellite, sigma_wired = 1, 1\n",
    "gamma0, gamma1 = 0.5, 0.25\n",
    "\n",
    "# Product data structure\n",
    "data = [{'market_ids': t, 'firm_id': j+1, 'product_ids': j} for t in range(T) for j in range(J)]\n",
    "product_data = pd.DataFrame(data)\n",
    "\n",
    "# Exogenous variables: x_jt and w_jt as absolute values of iid standard normal draws\n",
    "product_data['x'] = np.abs(np.random.normal(0, 1, len(product_data)))\n",
    "product_data['w'] = np.abs(np.random.normal(0, 1, len(product_data)))\n",
    "\n",
    "# Indicators\n",
    "product_data['satellite'] = product_data['firm_id'].isin([1, 2]).astype(int)\n",
    "product_data['wired'] = product_data['firm_id'].isin([3, 4]).astype(int)\n",
    "\n",
    "# Unobservables: ξ_jt and ω_jt with covariance matrix [[1, 0.25], [0.25, 1]]\n",
    "cov_matrix = np.array([[1, 0.25], [0.25, 1]])\n",
    "A = np.linalg.cholesky(cov_matrix)\n",
    "z = np.random.normal(0, 1, (len(product_data), 2))\n",
    "unobs = z @ A.T\n",
    "product_data['xi'] = unobs[:, 0]  # demand unobservable\n",
    "product_data['omega'] = unobs[:, 1]  # cost unobservable\n",
    "\n",
    "print(\"Question 1 completed:\")\n",
    "print(f\"Generated {len(product_data)} observations across {T} markets\")\n",
    "print(f'x range: {product_data['x'].min():.3f} to {product_data['x'].max():.3f}')\n",
    "print(f\"w range: {product_data[\"w\"].min():.3f} to {product_data[\"w\"].max():.3f}\")\n",
    "print(f\"ξ-ω correlation: {product_data[['xi', 'omega']].corr().iloc[0,1]:.3f} (target: 0.25)\")\n",
    "print(f\"Satellite products: {product_data[\"satellite\"].sum()}, Wired products: {product_data[\"wired\"].sum()}\")"
   ]
  },
  {
   "cell_type": "markdown",
   "id": "d9ed4c4c",
   "metadata": {},
   "source": [
    "### 2. Solve for the equilibrium prices for each good in each market.\n",
    "\n",
    "**(a)** Start by writing a procedure to approximate the derivatives of market shares with respect to prices (taking prices, shares, x, and demand parameters as inputs). The key steps are:\n",
    "\n",
    "(i) For each $jt$, write the choice probability for good $j$, $s_{jt}$, as a weighted average (integral) of the (multinomial logit) choice probabilities conditional on the value of each consumer's random coefficients;"
   ]
  },
  {
   "cell_type": "markdown",
   "id": "693a0d7a",
   "metadata": {},
   "source": [
    "The market share for good $j$ in market $t$, $s_{jt}$, is the probability that a consumer chooses good $j$:\n",
    "\n",
    "$$s_{jt} = \\int P(\\text{choose } j | \\beta_i^{(2)}, \\beta_i^{(3)}) f(\\beta_i^{(2)}, \\beta_i^{(3)}) d\\beta_i^{(2)} d\\beta_i^{(3)}$$\n",
    "\n",
    "where $P(\\text{choose } j | \\beta_i^{(2)}, \\beta_i^{(3)})$ is the multinomial logit choice probability conditional on the random coefficients.\n",
    "\n",
    "Given the random coefficients $\\beta_i^{(2)}$ and $\\beta_i^{(3)}$ (with means $\\beta^{(2)} = 4$, $\\beta^{(3)} = 4$ and variances $\\sigma_2^2 = 1$, $\\sigma_3^2 = 1$), the conditional utility becomes:\n",
    "\n",
    "$$u_{ijt} = \\beta^{(1)} x_{jt} + \\beta_i^{(2)} satellite_{jt} + \\beta_i^{(3)} wired_{jt} + \\alpha p_{jt} + \\xi_{jt} + \\epsilon_{ijt}$$\n",
    "\n",
    "Since $\\epsilon_{ijt}$ are i.i.d. Type-1 extreme value, the conditional choice probability follows the multinomial logit form:\n",
    "\n",
    "$$P(\\text{choose } j | \\beta_i^{(2)}, \\beta_i^{(3)}) = \\frac{\\exp(\\delta_{jt} + \\mu_{jt}^i)}{\\sum_{k=1}^J \\exp(\\delta_{kt} + \\mu_{kt}^i) + 1}$$\n",
    "\n",
    "where:\n",
    "- $\\delta_{jt} = \\beta^{(1)} x_{jt} + \\alpha p_{jt} + \\xi_{jt}$ (mean utility component)\n",
    "- $\\mu_{jt}^i = \\beta_i^{(2)} satellite_{jt} + \\beta_i^{(3)} wired_{jt}$ (random utility component)\n",
    "\n",
    "**Final Expression:**\n",
    "\n",
    "$$s_{jt} = \\int \\frac{\\exp(\\delta_{jt} + \\beta_i^{(2)} satellite_{jt} + \\beta_i^{(3)} wired_{jt})}{\\sum_{k=1}^J \\exp(\\delta_{kt} + \\beta_i^{(2)} satellite_{kt} + \\beta_i^{(3)} wired_{kt}) + 1} \\phi(\\beta_i^{(2)}, \\beta_i^{(3)}) d\\beta_i^{(2)} d\\beta_i^{(3)}$$\n",
    "\n",
    "where $\\phi(\\cdot, \\cdot)$ is the bivariate normal density with mean $(\\beta^{(2)}, \\beta^{(3)}) = (4, 4)$ and covariance matrix $\\text{diag}(1, 1)$.\n",
    "\n",
    "This integral is approximated in the code using Monte Carlo simulation with draws from the normal distribution of $(\\beta_i^{(2)}, \\beta_i^{(3)})$."
   ]
  },
  {
   "cell_type": "markdown",
   "id": "4bfaf6df",
   "metadata": {},
   "source": [
    "(ii) Anticipating differentiation under the integral sign, derive the analytical expression for the derivative of the integrand with respect to each $p_{kt}$.\n",
    "\n",
    "The integrand is the conditional choice probability $P(\\text{choose } j | \\beta_i^{(2)}, \\beta_i^{(3)})$, which depends on prices through the mean utility component $\\delta_{jt} = \\beta^{(1)} x_{jt} + \\alpha p_{jt} + \\xi_{jt}$.\n",
    "\n",
    "Since $p_{kt}$ appears in $\\delta_{kt}$, the derivative with respect to $p_{kt}$ affects the choice probability.\n",
    "\n",
    "For the multinomial logit model, the derivative of the choice probability with respect to a price is:\n",
    "\n",
    "$$\\frac{\\partial P(\\text{choose } j | \\beta_i^{(2)}, \\beta_i^{(3)})}{\\partial p_{kt}} = \\alpha P(j|\\beta_i) \\left( I_{jk} - P(k|\\beta_i) \\right)$$\n",
    "\n",
    "where $I_{jk}$ is the indicator function equal to 1 if $j = k$.\n",
    "\n",
    "Therefore, the derivative of the integrand (conditional choice probability) with respect to $p_{kt}$ is:\n",
    "\n",
    "$$\\frac{\\partial}{\\partial p_{kt}} \\left[ \\frac{\\exp(\\delta_{jt} + \\mu_{jt}^i)}{\\sum_{m=1}^J \\exp(\\delta_{mt} + \\mu_{mt}^i) + 1} \\right] = \\alpha \\cdot \\frac{\\exp(\\delta_{jt} + \\mu_{jt}^i)}{\\sum_{m=1}^J \\exp(\\delta_{mt} + \\mu_{mt}^i) + 1} \\left( I_{jk} - \\frac{\\exp(\\delta_{kt} + \\mu_{kt}^i)}{\\sum_{m=1}^J \\exp(\\delta_{mt} + \\mu_{mt}^i) + 1} \\right)$$"
   ]
  },
  {
   "cell_type": "markdown",
   "id": "28c2c76a",
   "metadata": {},
   "source": [
    "3. Use the expression you obtained in (2) and simulation draws of the random coefficients to approximate the integral that corresponds to $\\partial s_{jt}/\\partial p_{kt}$ for each $j$ and $k$ (i.e., replace the integral with the mean over the values at each simulation draw). Recall the advice in the lecture regarding \"jittering.\""
   ]
  },
  {
   "cell_type": "code",
   "execution_count": 48,
   "id": "24ba8096",
   "metadata": {},
   "outputs": [],
   "source": [
    "def compute_market_shares(prices, market_data, v_draws=None, n_draws=1000):\n",
    "    \"\"\"Compute market shares using simulation\"\"\"\n",
    "    if v_draws is None:\n",
    "        v_draws = np.random.multivariate_normal([beta2, beta3], np.diag([sigma_satellite, sigma_wired]), size=n_draws)\n",
    "    J = len(market_data)\n",
    "    x = market_data['x'].values\n",
    "    xi = market_data['xi'].values\n",
    "    sat = market_data['satellite'].values\n",
    "    wired = market_data['wired'].values\n",
    "    utilities = (beta1 * x + xi + v_draws[:, 0:1] * sat + v_draws[:, 1:2] * wired + alpha * prices)\n",
    "    utilities = np.column_stack([utilities, np.zeros(v_draws.shape[0])])\n",
    "    exp_u = np.exp(utilities - np.max(utilities, axis=1, keepdims=True))\n",
    "    choice_probs = exp_u / exp_u.sum(axis=1, keepdims=True)\n",
    "    shares = np.mean(choice_probs[:, :J], axis=0)\n",
    "    return shares\n",
    "\n",
    "def approximate_share_derivatives(prices, market_data, v_draws):\n",
    "    \"\"\"Approximate share derivatives using simulation\"\"\"\n",
    "    J = len(market_data)\n",
    "    x = market_data['x'].values\n",
    "    xi = market_data['xi'].values\n",
    "    sat = market_data['satellite'].values\n",
    "    wired = market_data['wired'].values\n",
    "    utilities = (beta1 * x + xi + v_draws[:, 0:1] * sat + v_draws[:, 1:2] * wired + alpha * prices)\n",
    "    utilities = np.column_stack([utilities, np.zeros(v_draws.shape[0])])\n",
    "    exp_u = np.exp(utilities - np.max(utilities, axis=1, keepdims=True))\n",
    "    choice_probs = exp_u / exp_u.sum(axis=1, keepdims=True)\n",
    "    inside_shares_draws = choice_probs[:, :J]\n",
    "    derivatives = np.zeros((J, J))\n",
    "    for j in range(J):\n",
    "        for k in range(J):\n",
    "            indicator = float(j == k)\n",
    "            deriv_draws = alpha * inside_shares_draws[:, j] * (indicator - inside_shares_draws[:, k])\n",
    "            derivatives[j, k] = np.mean(deriv_draws)\n",
    "    return derivatives\n",
    "\n",
    "def market_shares_and_derivatives(prices, market_data, v_draws):\n",
    "    \"\"\"Compute both shares and derivatives\"\"\"\n",
    "    shares = compute_market_shares(prices, market_data, v_draws)\n",
    "    derivatives = approximate_share_derivatives(prices, market_data, v_draws)\n",
    "    return shares, derivatives"
   ]
  },
  {
   "cell_type": "markdown",
   "id": "bc99991e",
   "metadata": {},
   "source": [
    "The derivative $\\partial s_{jt}/\\partial p_{kt}$ is approximated using Monte Carlo simulation. For each simulation draw $r = 1, \\dots, R$ of the random coefficients $(\\beta_i^{(2)}, \\beta_i^{(3)})$, compute the conditional choice probability $P(\\text{choose } j | \\beta_i^{(2)}, \\beta_i^{(3)})$ and its derivative with respect to prices.\n",
    "\n",
    "The derivative of the conditional choice probability follows from the multinomial logit formula:\n",
    "\n",
    "$$\\frac{\\partial P(\\text{choose } j | \\beta_i^{(2)}, \\beta_i^{(3)})}{\\partial p_{kt}} = \\alpha P(j|\\beta_i) \\left( \\delta_{jk} - P(k|\\beta_i) \\right)$$\n",
    "\n",
    "where $\\delta_{jk} = 1$ if $j = k` and 0 otherwise.\n",
    "\n",
    "Then, the market share derivative is approximated as:\n",
    "\n",
    "$$\\frac{\\partial s_{jt}}{\\partial p_{kt}} \\approx \\frac{1}{R} \\sum_{r=1}^R \\frac{\\partial P(\\text{choose } j | \\beta_i^{(2,r)}, \\beta_i^{(3,r)})}{\\partial p_{kt}}$$"
   ]
  },
  {
   "cell_type": "markdown",
   "id": "ab755210",
   "metadata": {},
   "source": [
    "Regarding \"jittering\": When solving for equilibrium prices iteratively, redrawing simulation draws in each iteration introduces random noise that can prevent convergence. To avoid this, pre-draw a fixed set of simulation draws for each market and reuse them throughout the solution process."
   ]
  },
  {
   "cell_type": "code",
   "execution_count": 49,
   "id": "26550341",
   "metadata": {},
   "outputs": [],
   "source": [
    "# Pre-draw simulation draws (to avoid jittering)\n",
    "n_draws = 1000\n",
    "all_v_draws = [np.random.multivariate_normal([beta2, beta3], np.diag([sigma_satellite, sigma_wired]), size=n_draws) for _ in range(T)]"
   ]
  },
  {
   "cell_type": "markdown",
   "id": "adc1ed54",
   "metadata": {},
   "source": [
    "(iv) Experiment to see how many simulation draws you need to get precise approximations and check this again at the equilibrium shares and prices you obtained below."
   ]
  },
  {
   "cell_type": "code",
   "execution_count": 50,
   "id": "0ed79e7b",
   "metadata": {},
   "outputs": [
    {
     "name": "stdout",
     "output_type": "stream",
     "text": [
      "Testing derivative approximation convergence at initial prices:\n",
      "Draws\t| Derivative Std Dev\t| Time (s)\n",
      "----------------------------------------\n",
      "    50\t| 8.37e-03\t\t| 0.00\n",
      "   100\t| 5.49e-03\t\t| 0.00\n",
      "   200\t| 1.65e-03\t\t| 0.00\n",
      "   500\t| 2.37e-03\t\t| 0.00\n",
      "  1000\t| 1.54e-03\t\t| 0.00\n",
      "  2000\t| 7.31e-04\t\t| 0.00\n",
      "  5000\t| 4.65e-04\t\t| 0.01\n",
      "\n",
      "CONCLUSION: At initial prices = MC, derivatives stabilize with 5000 simulation draws.\n"
     ]
    }
   ],
   "source": [
    "# Marginal costs: ln(mc_jt) = γ₀ + w_jt γ₁ + ω_jt/8\n",
    "product_data['mc'] = np.exp(gamma0 + gamma1 * product_data['w'] + product_data['omega'] / 8)\n",
    "\n",
    "# Test on market 0\n",
    "market_data = product_data[product_data['market_ids'] == 0]\n",
    "prices_initial = market_data['mc'].values\n",
    "draw_counts = [50, 100, 200, 500, 1000, 2000, 5000]\n",
    "print(\"Testing derivative approximation convergence at initial prices:\")\n",
    "print(\"Draws\\t| Derivative Std Dev\\t| Time (s)\")\n",
    "print(\"-\" * 40)\n",
    "initial_stds = []\n",
    "for n_draws in draw_counts:\n",
    "    start_time = time.time()\n",
    "\n",
    "    # Compute derivatives at initial prices (5 repetitions for stability)\n",
    "    deriv_initial_list = []\n",
    "    for rep in range(5):\n",
    "        v_draws = np.random.multivariate_normal([beta2, beta3], np.diag([sigma_satellite, sigma_wired]), size=n_draws)\n",
    "        deriv = approximate_share_derivatives(prices_initial, market_data, v_draws)\n",
    "        deriv_initial_list.append(deriv)\n",
    "\n",
    "    deriv_initial_avg = np.mean(deriv_initial_list, axis=0)\n",
    "    deriv_initial_std = np.std(deriv_initial_list, axis=0)\n",
    "    initial_stds.append(deriv_initial_std.mean())\n",
    "\n",
    "    computation_time = time.time() - start_time\n",
    "\n",
    "    print(f\"{n_draws:6d}\\t| {deriv_initial_std.mean():.2e}\\t\\t| {computation_time:.2f}\")\n",
    "\n",
    "# Determine stabilization point for initial prices\n",
    "initial_stds = np.array(initial_stds)\n",
    "threshold = 0.001\n",
    "stable_idx = None\n",
    "for i in range(1, len(initial_stds)):\n",
    "    if initial_stds[i] < threshold and abs(initial_stds[i] - initial_stds[i-1]) / initial_stds[i-1] < 0.5:\n",
    "        stable_idx = i\n",
    "        break\n",
    "\n",
    "if stable_idx is not None:\n",
    "    stable_draws = draw_counts[stable_idx]\n",
    "    print(f\"\\nCONCLUSION: At initial prices = MC, derivatives stabilize with {stable_draws} simulation draws.\")\n",
    "else:\n",
    "    print(f\"\\nCONCLUSION: At initial prices = MC, derivatives show decreasing variance, with best stability at {draw_counts[np.argmin(initial_stds)]} draws.\")"
   ]
  },
  {
   "cell_type": "markdown",
   "id": "9c5aa25a",
   "metadata": {},
   "source": [
    "(b) The FOC for firm $j$'s profit maximization problem in market $t$ is\n",
    "\n",
    "\\begin{align}\n",
    "(p_{jt} - mc_{jt}) \\frac{\\partial s_{jt}}{\\partial p_{jt}} + s_{jt} &= 0 \\notag \\\\\n",
    "\\implies p_{jt} - mc_{jt} &= -\\left( \\frac{\\partial s_{jt}}{\\partial p_{jt}} \\right)^{-1} s_{jt}\n",
    "\\end{align}"
   ]
  },
  {
   "cell_type": "code",
   "execution_count": 51,
   "id": "59c91cf6",
   "metadata": {},
   "outputs": [
    {
     "name": "stdout",
     "output_type": "stream",
     "text": [
      "MC range: 1.135 to 4.652\n",
      "MC mean: 2.058, median: 1.994\n",
      "FOC: (p_jt - mc_jt) * ∂s_jt/∂p_jt + s_jt = 0\n",
      "Rearranged: p_jt - mc_jt = - (∂s_jt/∂p_jt)⁻¹ * s_jt\n"
     ]
    }
   ],
   "source": [
    "\n",
    "print(f\"MC range: {product_data['mc'].min():.3f} to {product_data['mc'].max():.3f}\")\n",
    "print(f\"MC mean: {product_data['mc'].mean():.3f}, median: {product_data['mc'].median():.3f}\")\n",
    "print(\"FOC: (p_jt - mc_jt) * ∂s_jt/∂p_jt + s_jt = 0\")\n",
    "print(\"Rearranged: p_jt - mc_jt = - (∂s_jt/∂p_jt)⁻¹ * s_jt\")"
   ]
  },
  {
   "cell_type": "markdown",
   "id": "fd5bec32",
   "metadata": {},
   "source": [
    "(c) Substituting in your approximation of each $\\partial s_{jt}/\\partial p_{jt}$, solve the system of equations above ($J$ equations per market) for the equilibrium prices in each market.\n",
    "\n",
    "**i.** First do this using Matlab's \"fsolve\" operator. Check the exit flag from fsolve to be sure whether you found a solution for each market."
   ]
  },
  {
   "cell_type": "code",
   "execution_count": 52,
   "id": "36519e17",
   "metadata": {},
   "outputs": [
    {
     "name": "stdout",
     "output_type": "stream",
     "text": [
      "Question 2(c)i completed:\n",
      "Direct nonlinear solver (root): 600/600 markets solved successfully\n",
      "Success rate: 100.0%\n",
      "Price range: 2.349 to 5.699\n",
      "Price mean: 3.317, std: 0.435\n"
     ]
    }
   ],
   "source": [
    "def solve_prices_direct(market_data, mc_market, v_draws):\n",
    "    \"\"\"Solve for equilibrium prices using direct nonlinear solver with robust matrix inversion\"\"\"\n",
    "    J = len(market_data)\n",
    "    \n",
    "    def foc_residual(prices):\n",
    "        \"\"\"FOC residuals: p - mc + (∂s/∂p)^{-1} s = 0\"\"\"\n",
    "        # Ensure prices are positive\n",
    "        prices = np.maximum(prices, 1e-6)\n",
    "        # Compute shares and derivatives at current prices\n",
    "        shares, derivatives = market_shares_and_derivatives(prices, market_data, v_draws)\n",
    "        # Robust inversion of derivative matrix\n",
    "        try:\n",
    "            invD = np.linalg.inv(derivatives)\n",
    "        except np.linalg.LinAlgError:\n",
    "            invD = np.linalg.inv(derivatives + 1e-8 * np.eye(J))\n",
    "        # FOC residuals: p - mc + inv(∂s/∂p) @ s\n",
    "        residuals = prices - mc_market + invD @ shares\n",
    "        return residuals\n",
    "    # Initial guess: marginal costs\n",
    "    p0 = mc_market.copy()\n",
    "    # Solve using root finder (hybr method)\n",
    "    sol = opt.root(foc_residual, p0, method='hybr', tol=1e-8)\n",
    "    prices_sol = sol.x\n",
    "    success = sol.success\n",
    "    # Additional check: verify that residuals are small\n",
    "    final_residuals = foc_residual(prices_sol)\n",
    "    if np.max(np.abs(final_residuals)) > 1e-6:\n",
    "        success = False\n",
    "    return prices_sol, success\n",
    "\n",
    "# Solve using direct method\n",
    "equilibrium_prices_direct = []\n",
    "success_flags_direct = []\n",
    "for t in range(T):\n",
    "    market_data = product_data[product_data['market_ids'] == t]\n",
    "    mc_market = market_data['mc'].values\n",
    "    v_draws = all_v_draws[t]\n",
    "    prices_direct, success = solve_prices_direct(market_data, mc_market, v_draws)\n",
    "    equilibrium_prices_direct.append(prices_direct)\n",
    "    success_flags_direct.append(success)\n",
    "equilibrium_prices_direct = np.array(equilibrium_prices_direct)\n",
    "success_count = sum(success_flags_direct)\n",
    "print(\"Question 2(c)i completed:\")\n",
    "print(f\"Direct nonlinear solver (root): {success_count}/{T} markets solved successfully\")\n",
    "print(f\"Success rate: {success_count/T:.1%}\")\n",
    "print(f\"Price range: {equilibrium_prices_direct.min():.3f} to {equilibrium_prices_direct.max():.3f}\")\n",
    "print(f\"Price mean: {equilibrium_prices_direct.mean():.3f}, std: {equilibrium_prices_direct.std():.3f}\")"
   ]
  },
  {
   "cell_type": "markdown",
   "id": "4bca3eea",
   "metadata": {},
   "source": [
    "ii. Do this again using the algorithm of Morrow and Skerlos (2011), discussed in section 3.6 of Conlon and Gortmaker (2019) (and in the pyBLP \"problem simulation tutorial\"). Use the numerical integration approach you used in step (a) to approximate the terms defined in equation (25) of Conlon and Gortmaker. If you get different results using this method, resolve this discrepancy either by correcting your code or explaining why your preferred method is the one to be trusted."
   ]
  },
  {
   "cell_type": "code",
   "execution_count": 53,
   "id": "eba70d73",
   "metadata": {},
   "outputs": [
    {
     "name": "stdout",
     "output_type": "stream",
     "text": [
      "Question 2(c)ii completed:\n",
      "Morrow-Skerlos method: 600 markets solved\n",
      "Average iterations: 27.9\n",
      "Max iterations: 36\n",
      "Price range: 2.349 to 5.699\n",
      "Price mean: 3.317, std: 0.435\n",
      "Max price difference between methods: 4.78e-06\n",
      "Mean price difference: 1.26e-06\n"
     ]
    }
   ],
   "source": [
    "def solve_prices_morrow_skerlos(market_data, mc_market, v_draws, max_iter=100, tol=1e-6):\n",
    "    \"\"\"Morrow-Skerlos algorithm\"\"\"\n",
    "    prices = mc_market.copy()\n",
    "    for iteration in range(max_iter):\n",
    "        shares, derivatives = market_shares_and_derivatives(prices, market_data, v_draws)\n",
    "        # But for Gamma, need inside_shares_draws, so recompute as in simulation\n",
    "        x = market_data['x'].values\n",
    "        xi = market_data['xi'].values\n",
    "        sat = market_data['satellite'].values\n",
    "        wired = market_data['wired'].values\n",
    "        utilities = (beta1 * x + xi + v_draws[:, 0:1] * sat + v_draws[:, 1:2] * wired + alpha * prices)\n",
    "        utilities = np.column_stack([utilities, np.zeros(v_draws.shape[0])])\n",
    "        exp_u = np.exp(utilities - np.max(utilities, axis=1, keepdims=True))\n",
    "        choice_probs = exp_u / exp_u.sum(axis=1, keepdims=True)\n",
    "        inside_shares_draws = choice_probs[:, :len(market_data)]\n",
    "        Lambda = np.diag(alpha * shares)\n",
    "        Gamma = alpha * (inside_shares_draws.T @ inside_shares_draws) / v_draws.shape[0]\n",
    "        diff = prices - mc_market\n",
    "        zeta = np.linalg.solve(Lambda, Gamma.T @ diff - shares)\n",
    "        prices_new = mc_market + zeta\n",
    "        foc_residual = Lambda @ (prices - mc_market - zeta)\n",
    "        if np.max(np.abs(foc_residual)) < tol:\n",
    "            break\n",
    "        prices = 0.5 * prices + 0.5 * prices_new\n",
    "    return prices, iteration + 1\n",
    "\n",
    "# Solve using Morrow-Skerlos method\n",
    "equilibrium_prices_ms = []\n",
    "iterations_ms = []\n",
    "\n",
    "for t in range(T):\n",
    "    market_data = product_data[product_data['market_ids'] == t]\n",
    "    mc_market = market_data['mc'].values\n",
    "    v_draws = all_v_draws[t]\n",
    "\n",
    "    prices_ms, iters = solve_prices_morrow_skerlos(market_data, mc_market, v_draws)\n",
    "    equilibrium_prices_ms.append(prices_ms)\n",
    "    iterations_ms.append(iters)\n",
    "\n",
    "equilibrium_prices_ms = np.array(equilibrium_prices_ms)\n",
    "print(\"Question 2(c)ii completed:\")\n",
    "print(f\"Morrow-Skerlos method: {T} markets solved\")\n",
    "print(f\"Average iterations: {np.mean(iterations_ms):.1f}\")\n",
    "print(f\"Max iterations: {np.max(iterations_ms)}\")\n",
    "print(f\"Price range: {equilibrium_prices_ms.min():.3f} to {equilibrium_prices_ms.max():.3f}\")\n",
    "print(f\"Price mean: {equilibrium_prices_ms.mean():.3f}, std: {equilibrium_prices_ms.std():.3f}\")\n",
    "\n",
    "# Compare direct vs Morrow-Skerlos if direct succeeded for all\n",
    "if len(equilibrium_prices_direct) == T:\n",
    "    price_diff = np.abs(np.array(equilibrium_prices_direct) - equilibrium_prices_ms)\n",
    "    print(f\"Max price difference between methods: {price_diff.max():.2e}\")\n",
    "    print(f\"Mean price difference: {price_diff.mean():.2e}\")\n",
    "else:\n",
    "    print(\"Direct method failed for some markets, skipsigmang comparison.\")\n",
    "    print(\"Preferred method: Morrow-Skerlos, as it is more numerically stable.\")\n",
    "\n",
    "# Use Morrow-Skerlos prices\n",
    "product_data['prices'] = equilibrium_prices_ms.flatten()\n"
   ]
  },
  {
   "cell_type": "code",
   "execution_count": 54,
   "id": "5b39f6ff",
   "metadata": {},
   "outputs": [
    {
     "name": "stdout",
     "output_type": "stream",
     "text": [
      "Comparing derivative approximation convergence at initial vs equilibrium prices:\n",
      "Draws\t| Initial Price Std Dev\t| Equilibrium Price Std Dev\t| Ratio (Eq/Init)\n",
      "--------------------------------------------------------------------------------\n",
      "    50\t| 7.03e-03\t\t| 4.37e-03\t\t\t| 0.62\n",
      "   100\t| 4.91e-03\t\t| 2.80e-03\t\t\t| 0.57\n",
      "   200\t| 4.26e-03\t\t| 1.44e-03\t\t\t| 0.34\n",
      "   500\t| 1.40e-03\t\t| 1.23e-03\t\t\t| 0.88\n",
      "  1000\t| 1.07e-03\t\t| 1.03e-03\t\t\t| 0.96\n",
      "  2000\t| 8.24e-04\t\t| 8.27e-04\t\t\t| 1.00\n",
      "  5000\t| 5.82e-04\t\t| 3.76e-04\t\t\t| 0.65\n",
      "Average ratio of std dev (equilibrium/initial): 0.72\n",
      "\n",
      "CONCLUSION: Derivatives at equilibrium prices are, on average, 28.3% less variable than at initial prices.\n"
     ]
    }
   ],
   "source": [
    "# Compare derivative approximation convergence at initial vs equilibrium prices\n",
    "\n",
    "# Test on market 0\n",
    "market_data = product_data[product_data['market_ids'] == 0]\n",
    "prices_initial = market_data['mc'].values \n",
    "prices_equilibrium = market_data['prices'].values\n",
    "\n",
    "draw_counts = [50, 100, 200, 500, 1000, 2000, 5000]\n",
    "\n",
    "print(\"Comparing derivative approximation convergence at initial vs equilibrium prices:\")\n",
    "print(\"Draws\\t| Initial Price Std Dev\\t| Equilibrium Price Std Dev\\t| Ratio (Eq/Init)\")\n",
    "print(\"-\" * 80)\n",
    "\n",
    "initial_stds = []\n",
    "eq_stds = []\n",
    "for n_draws in draw_counts:\n",
    "\n",
    "    # Compute derivatives at initial prices\n",
    "    deriv_initial_list = []\n",
    "    for rep in range(5):\n",
    "        v_draws = np.random.multivariate_normal([beta2, beta3], np.diag([sigma_satellite, sigma_wired]), size=n_draws)\n",
    "        deriv = approximate_share_derivatives(prices_initial, market_data, v_draws)\n",
    "        deriv_initial_list.append(deriv)\n",
    "\n",
    "    deriv_initial_std = np.std(deriv_initial_list, axis=0)\n",
    "    initial_stds.append(deriv_initial_std.mean())\n",
    "\n",
    "    # Compute derivatives at equilibrium prices\n",
    "    deriv_eq_list = []\n",
    "    for rep in range(5):\n",
    "        v_draws = np.random.multivariate_normal([beta2, beta3], np.diag([sigma_satellite, sigma_wired]), size=n_draws)\n",
    "        deriv = approximate_share_derivatives(prices_equilibrium, market_data, v_draws)\n",
    "        deriv_eq_list.append(deriv)\n",
    "\n",
    "    deriv_eq_std = np.std(deriv_eq_list, axis=0)\n",
    "    eq_stds.append(deriv_eq_std.mean())\n",
    "\n",
    "    ratio = deriv_eq_std.mean() / deriv_initial_std.mean() if deriv_initial_std.mean() > 0 else float('inf')\n",
    "\n",
    "    print(f\"{n_draws:6d}\\t| {deriv_initial_std.mean():.2e}\\t\\t| {deriv_eq_std.mean():.2e}\\t\\t\\t| {ratio:.2f}\")\n",
    "\n",
    "\n",
    "print(f\"Average ratio of std dev (equilibrium/initial): {np.mean([eq_stds[i]/initial_stds[i] for i in range(len(initial_stds)) if initial_stds[i] > 0]):.2f}\")\n",
    "\n",
    "avg_ratio = np.mean([eq_stds[i]/initial_stds[i] for i in range(len(initial_stds)) if initial_stds[i] > 0])\n",
    "reduction_pct = (1 - avg_ratio) * 100\n",
    "print(f\"\\nCONCLUSION: Derivatives at equilibrium prices are, on average, {reduction_pct:.1f}% less variable than at initial prices.\")"
   ]
  },
  {
   "cell_type": "markdown",
   "id": "e87c19e4",
   "metadata": {},
   "source": [
    "### 3. \n",
    "Calculate \"observed\" market shares for your fake data set using your parameters, your draws of $x$, $w$, $\\xi$, $\\omega$, and your equilibrium prices."
   ]
  },
  {
   "cell_type": "code",
   "execution_count": 55,
   "id": "f40eeb5e",
   "metadata": {},
   "outputs": [
    {
     "name": "stdout",
     "output_type": "stream",
     "text": [
      "Share range: 0.000 to 0.729\n",
      "Share mean: 0.136, std: 0.122\n",
      "Market share sums (should be < 1):\n",
      "Average: 0.543\n",
      "Min: 0.304, Max: 0.750\n",
      "Outside shares: 0.457 (average)\n",
      "Average satellite product share: 0.135\n",
      "Average wired product share: 0.136\n"
     ]
    }
   ],
   "source": [
    "observed_shares = []\n",
    "for t in range(T):\n",
    "    market_data = product_data[product_data['market_ids'] == t]\n",
    "    prices_market = market_data['prices'].values\n",
    "    shares_market = compute_market_shares(prices_market, market_data, n_draws=10000)\n",
    "    observed_shares.extend(shares_market)\n",
    "\n",
    "product_data['shares'] = observed_shares\n",
    "\n",
    "print(f\"Share range: {product_data['shares'].min():.3f} to {product_data['shares'].max():.3f}\")\n",
    "print(f\"Share mean: {product_data['shares'].mean():.3f}, std: {product_data['shares'].std():.3f}\")\n",
    "\n",
    "# Validation: Check market share sums\n",
    "market_share_sums = product_data.groupby('market_ids')['shares'].sum()\n",
    "print(f\"Market share sums (should be < 1):\")\n",
    "print(f\"Average: {market_share_sums.mean():.3f}\")\n",
    "print(f\"Min: {market_share_sums.min():.3f}, Max: {market_share_sums.max():.3f}\")\n",
    "print(f\"Outside shares: {1 - market_share_sums.mean():.3f} (average)\")\n",
    "\n",
    "# Check by product type\n",
    "satellite_shares = product_data[product_data['satellite'] == 1]['shares'].mean()\n",
    "wired_shares = product_data[product_data['wired'] == 1]['shares'].mean()\n",
    "print(f\"Average satellite product share: {satellite_shares:.3f}\")\n",
    "print(f\"Average wired product share: {wired_shares:.3f}\")"
   ]
  },
  {
   "cell_type": "markdown",
   "id": "95915201",
   "metadata": {},
   "source": [
    "### 4. \n",
    "\n",
    "Below you'll be using $x$ and $w$ as instruments in the demand estimation. Check whether these appear to be good instruments in your fake data using some regressions of prices and market shares on the exogenous variables (or some function of them; see the related discussion in the coding tips). If you believe the instruments are not providing enough variation, modify the parameter choices above until you are satisfied. Report your final choice of parameters and the results you rely on to conclude that the instruments seem good enough."
   ]
  },
  {
   "cell_type": "code",
   "execution_count": 56,
   "id": "e641c80b",
   "metadata": {},
   "outputs": [
    {
     "name": "stdout",
     "output_type": "stream",
     "text": [
      "Regression: Prices ~ satellite + wired + x + w + x² + w² + x*w + sum_x_competitors + sum_w_competitors + x_other_in_nest + w_other_in_nest (Relevance Check)\n",
      "R-squared: 0.510\n",
      "F-statistic: 249.06 (p-value: 0.00e+00)\n",
      "\n",
      "Regression: Shares ~ satellite + wired + x + w + x² + w² + x*w + sum_x_competitors + sum_w_competitors + x_other_in_nest + w_other_in_nest (Relevance Check)\n",
      "R-squared: 0.364\n",
      "F-statistic: 136.77 (p-value: 2.25e-226)\n",
      "\n",
      "Regression: ξ ~ satellite + wired + x + w + x² + w² + x*w + sum_x_competitors + sum_w_competitors + x_other_in_nest + w_other_in_nest (Exclusion Check)\n",
      "R-squared: 0.003\n",
      "F-statistic: 0.63 (p-value: 7.92e-01)\n",
      "\n",
      "Regression: ω ~ satellite + wired + x + w + x² + w² + x*w + sum_x_competitors + sum_w_competitors + x_other_in_nest + w_other_in_nest (Exclusion Check)\n",
      "R-squared: 0.003\n",
      "F-statistic: 0.70 (p-value: 7.30e-01)\n",
      "\n",
      "FINAL PARAMETER CHOICE:\n",
      "Demand: α = -2, β^(1) = 1, β_i^(2) ~ N(4, 1²), β_i^(3) ~ N(4, 1²)\n",
      "Supply: γ^(0) = 0.5, γ^(1) = 0.25\n",
      "These parameters generate data with valid instruments and are retained as final.\n"
     ]
    }
   ],
   "source": [
    "\n",
    "# Create quadratic and interaction columns first\n",
    "product_data['x**2'] = product_data['x'] ** 2\n",
    "product_data['w**2'] = product_data['w'] ** 2\n",
    "product_data['x*w'] = product_data['x'] * product_data['w']\n",
    "\n",
    "# sum over competing goods in market t\n",
    "product_data['sum_x_competitors'] = product_data.groupby('market_ids')['x'].transform('sum') - product_data['x']\n",
    "product_data['sum_w_competitors'] = product_data.groupby('market_ids')['w'].transform('sum') - product_data['w']\n",
    "\n",
    "# index of the other good in the same nest\n",
    "product_data['x_other_in_nest'] = product_data.groupby(['market_ids', 'satellite'])['x'].transform('sum') - product_data['x']\n",
    "product_data['w_other_in_nest'] = product_data.groupby(['market_ids', 'satellite'])['w'].transform('sum') - product_data['w']\n",
    "\n",
    "# Use satellite and wired dummies instead of constant\n",
    "Z = product_data[['satellite', 'wired', 'x', 'w', 'x**2', 'w**2', 'x*w', 'sum_x_competitors', 'sum_w_competitors', 'x_other_in_nest', 'w_other_in_nest']]\n",
    "\n",
    "# Regression 1: Prices on extended instruments (Relevance check)\n",
    "price_model = sm.OLS(product_data['prices'], Z).fit()\n",
    "print(\"Regression: Prices ~ satellite + wired + x + w + x² + w² + x*w + sum_x_competitors + sum_w_competitors + x_other_in_nest + w_other_in_nest (Relevance Check)\")\n",
    "print(f\"R-squared: {price_model.rsquared:.3f}\")\n",
    "print(f\"F-statistic: {price_model.fvalue:.2f} (p-value: {price_model.f_pvalue:.2e})\")\n",
    "print()\n",
    "\n",
    "# Regression 2: Market shares on extended instruments\n",
    "share_model = sm.OLS(product_data['shares'], Z).fit()\n",
    "print(\"Regression: Shares ~ satellite + wired + x + w + x² + w² + x*w + sum_x_competitors + sum_w_competitors + x_other_in_nest + w_other_in_nest (Relevance Check)\")\n",
    "print(f\"R-squared: {share_model.rsquared:.3f}\")\n",
    "print(f\"F-statistic: {share_model.fvalue:.2f} (p-value: {share_model.f_pvalue:.2e})\")\n",
    "print()\n",
    "\n",
    "# Regression 3: Demand unobservable ξ on instruments (Exclusion check)\n",
    "xi_model = sm.OLS(product_data['xi'], Z).fit()\n",
    "print(\"Regression: ξ ~ satellite + wired + x + w + x² + w² + x*w + sum_x_competitors + sum_w_competitors + x_other_in_nest + w_other_in_nest (Exclusion Check)\")\n",
    "print(f\"R-squared: {xi_model.rsquared:.3f}\")\n",
    "print(f\"F-statistic: {xi_model.fvalue:.2f} (p-value: {xi_model.f_pvalue:.2e})\")\n",
    "print()\n",
    "# cost unobservable exclusion check\n",
    "omega_model = sm.OLS(product_data['omega'], Z).fit()\n",
    "print(\"Regression: ω ~ satellite + wired + x + w + x² + w² + x*w + sum_x_competitors + sum_w_competitors + x_other_in_nest + w_other_in_nest (Exclusion Check)\")\n",
    "print(f\"R-squared: {omega_model.rsquared:.3f}\")\n",
    "print(f\"F-statistic: {omega_model.fvalue:.2f} (p-value: {omega_model.f_pvalue:.2e})\")\n",
    "\n",
    "# Assess instrument validity\n",
    "weak_instruments = (price_model.f_pvalue >= 0.01 and share_model.f_pvalue >= 0.01) or (price_model.rsquared < 0.05 and share_model.rsquared < 0.05)\n",
    "excluded_instruments = xi_model.f_pvalue < 0.01 or omega_model.f_pvalue < 0.01  \n",
    "print()\n",
    "print(\"FINAL PARAMETER CHOICE:\")\n",
    "if weak_instruments or excluded_instruments:\n",
    "    print(\"Parameters need adjustment - instruments are weak or invalid.\")\n",
    "else:\n",
    "    print(f\"Demand: α = {alpha}, β^(1) = {beta1}, β_i^(2) ~ N({beta2}, {sigma_satellite}²), β_i^(3) ~ N({beta3}, {sigma_wired}²)\")\n",
    "    print(f\"Supply: γ^(0) = {gamma0}, γ^(1) = {gamma1}\")\n",
    "    print(\"These parameters generate data with valid instruments and are retained as final.\")"
   ]
  },
  {
   "cell_type": "code",
   "execution_count": 57,
   "id": "00bc00c6",
   "metadata": {},
   "outputs": [
    {
     "name": "stdout",
     "output_type": "stream",
     "text": [
      "   market_ids  firm_id  product_ids      x      w  satellite  wired     xi  \\\n",
      "0           0        1            0  1.241  0.919          1      0 -0.629   \n",
      "1           0        2            1  1.471  2.068          1      0  1.005   \n",
      "2           0        3            2  2.101  0.009          0      1 -2.595   \n",
      "3           0        4            3  1.465  2.114          0      1 -0.403   \n",
      "4           1        1            0  0.818  1.106          1      0  0.846   \n",
      "5           1        2            1  1.057  0.265          1      0 -1.792   \n",
      "6           1        3            2  1.535  0.750          0      1  0.082   \n",
      "7           1        4            3  0.614  0.576          0      1 -0.624   \n",
      "\n",
      "   omega     mc  prices  shares   x**2       w**2    x*w  sum_x_competitors  \\\n",
      "0  0.676  2.258   3.465   0.052  1.539  8.452e-01  1.141              5.037   \n",
      "1 -1.620  2.258   3.465   0.334  2.163  4.278e+00  3.042              4.807   \n",
      "2  0.954  1.862   2.989   0.056  4.415  7.799e-05  0.019              4.176   \n",
      "3 -1.056  2.451   3.579   0.081  2.146  4.471e+00  3.097              4.812   \n",
      "4  0.646  2.357   3.574   0.135  0.669  1.224e+00  0.905              3.206   \n",
      "5  1.172  2.040   3.256   0.023  1.117  7.032e-02  0.280              2.967   \n",
      "6 -1.506  1.647   2.949   0.359  2.356  5.623e-01  1.151              2.489   \n",
      "7 -0.245  1.847   3.149   0.047  0.377  3.317e-01  0.354              3.410   \n",
      "\n",
      "   sum_w_competitors  x_other_in_nest  w_other_in_nest  \n",
      "0              4.192            1.471            2.068  \n",
      "1              3.043            1.241            0.919  \n",
      "2              5.102            1.465            2.114  \n",
      "3              2.997            2.101            0.009  \n",
      "4              1.591            1.057            0.265  \n",
      "5              2.432            0.818            1.106  \n",
      "6              1.948            0.614            0.576  \n",
      "7              2.122            1.535            0.750  \n"
     ]
    }
   ],
   "source": [
    "product_data.to_csv('blp.csv', index=False)\n",
    "print(product_data.head(8))"
   ]
  },
  {
   "cell_type": "markdown",
   "id": "b3cc0d1c",
   "metadata": {},
   "source": [
    "## 4 Estimate Some Mis-specified Models"
   ]
  },
  {
   "cell_type": "markdown",
   "id": "c1df5711",
   "metadata": {},
   "source": [
    "### 5. Estimate the plain multinomial logit model of demand by OLS (ignoring the endogeneity of prices).\n",
    "\n",
    "For the plain multinomial logit model, the utility is:\n",
    "\n",
    "$$u_{ijt} = \\beta^{(1)} x_{jt} + \\beta^{(2)} satellite_{jt} + \\beta^{(3)} wired_{jt} + \\alpha p_{jt} + \\xi_{jt} + \\epsilon_{ijt}$$\n",
    "\n",
    "This implies the log-odds ratio:\n",
    "\n",
    "$$\\ln\\left(\\frac{s_{jt}}{s_{0t}}\\right) = \\delta_{jt} = \\beta^{(1)} x_{jt} + \\beta^{(2)} satellite_{jt} + \\beta^{(3)} wired_{jt} + \\alpha p_{jt} + \\xi_{jt}$$\n",
    "\n",
    "We can estimate this by OLS, regressing the logit-transformed shares on the observed product characteristics."
   ]
  },
  {
   "cell_type": "code",
   "execution_count": 58,
   "id": "77b593d7",
   "metadata": {},
   "outputs": [
    {
     "name": "stdout",
     "output_type": "stream",
     "text": [
      "OLS Regression: ln(s_jt/s_0t) ~ x + satellite + wired + prices (no intercept)\n",
      "----------------------------------------------------------------------\n",
      "x           :   -1.248 (SE: 0.050, t: -24.91, p: 0.000)\n",
      "satellite   :    0.855 (SE: 0.033, t:  25.94, p: 0.000)\n",
      "wired       :    1.762 (SE: 0.160, t:  11.01, p: 0.000)\n",
      "prices      :    1.795 (SE: 0.158, t:  11.35, p: 0.000)\n"
     ]
    }
   ],
   "source": [
    "# Compute outside shares for each market\n",
    "product_data['outside_share'] = 1 - product_data.groupby('market_ids')['shares'].transform('sum')\n",
    "\n",
    "# Compute logit delta: ln(s_jt / s_0t)\n",
    "product_data['logit_delta'] = np.log(product_data['shares'] / product_data['outside_share'])\n",
    "\n",
    "# OLS using matrix algebra (no intercept)\n",
    "y = product_data['logit_delta'].values\n",
    "X = product_data[['prices', 'x', 'satellite', 'wired' ]].values\n",
    "\n",
    "# Compute OLS estimates: beta_hat = (X^T X)^(-1) X^T y\n",
    "beta_hat = np.linalg.inv(X.T @ X) @ X.T @ y\n",
    "\n",
    "# Compute residuals and clustered standard errors\n",
    "y_hat = X @ beta_hat\n",
    "residuals = y - y_hat\n",
    "n, k = X.shape\n",
    "\n",
    "# Clustered covariance matrix by market\n",
    "clusters = product_data['market_ids'].values\n",
    "unique_clusters = np.unique(clusters)\n",
    "V = np.zeros((k, k))\n",
    "for c in unique_clusters:\n",
    "    mask = clusters == c\n",
    "    X_c = X[mask]\n",
    "    e_c = residuals[mask]\n",
    "    V += X_c.T @ np.outer(e_c, e_c) @ X_c\n",
    "cov_matrix_ols = np.linalg.inv(X.T @ X) @ V @ np.linalg.inv(X.T @ X)\n",
    "se_ols = np.sqrt(np.diag(cov_matrix_ols))\n",
    "\n",
    "# t-statistics and p-values\n",
    "t_stats = beta_hat / se_ols\n",
    "p_values = 2 * (1 - stats.norm.cdf(np.abs(t_stats)))\n",
    "\n",
    "print(\"OLS Regression: ln(s_jt/s_0t) ~ x + satellite + wired + prices (no intercept)\")\n",
    "print(\"-\" * 70)\n",
    "param_names = ['x', 'satellite', 'wired', 'prices']\n",
    "for i, param in enumerate(param_names):\n",
    "    print(f\"{param:12s}: {beta_hat[i]:8.3f} (SE: {se_ols[i]:.3f}, t: {t_stats[i]:6.2f}, p: {p_values[i]:.3f})\")"
   ]
  },
  {
   "cell_type": "code",
   "execution_count": 59,
   "id": "afc88f82",
   "metadata": {},
   "outputs": [
    {
     "data": {
      "text/plain": [
       "Dimensions:\n",
       "=====================\n",
       " T    N     K1    MD \n",
       "---  ----  ----  ----\n",
       "600  2400   4     4  \n",
       "=====================\n",
       "\n",
       "Formulations:\n",
       "=========================================================\n",
       "     Column Indices:          0      1       2        3  \n",
       "--------------------------  ------  ---  ---------  -----\n",
       "X1: Linear Characteristics  prices   x   satellite  wired\n",
       "========================================================="
      ]
     },
     "execution_count": 59,
     "metadata": {},
     "output_type": "execute_result"
    }
   ],
   "source": [
    "product_data['demand_instruments0'] = product_data['prices']\n",
    "ols_problem = pyblp.Problem(pyblp.Formulation('0 + prices + x + satellite + wired '), product_data)\n",
    "ols_problem"
   ]
  },
  {
   "cell_type": "code",
   "execution_count": 60,
   "id": "19dfdfad",
   "metadata": {},
   "outputs": [
    {
     "data": {
      "text/plain": [
       "Problem Results Summary:\n",
       "=============================================================\n",
       "GMM   Objective  Clipped  Weighting Matrix  Covariance Matrix\n",
       "Step    Value    Shares   Condition Number  Condition Number \n",
       "----  ---------  -------  ----------------  -----------------\n",
       " 1    +1.85E-24     0        +1.52E+03          +1.93E+03    \n",
       "=============================================================\n",
       "\n",
       "Cumulative Statistics:\n",
       "========================\n",
       "Computation   Objective \n",
       "   Time      Evaluations\n",
       "-----------  -----------\n",
       " 00:00:00         1     \n",
       "========================\n",
       "\n",
       "Beta Estimates (Robust SEs in Parentheses):\n",
       "==================================================\n",
       "  prices          x        satellite      wired   \n",
       "-----------  -----------  -----------  -----------\n",
       " -1.25E+00    +8.55E-01    +1.76E+00    +1.79E+00 \n",
       "(+5.10E-02)  (+3.24E-02)  (+1.65E-01)  (+1.64E-01)\n",
       "=================================================="
      ]
     },
     "execution_count": 60,
     "metadata": {},
     "output_type": "execute_result"
    }
   ],
   "source": [
    "ols_results = ols_problem.solve(method='1s')\n",
    "ols_results"
   ]
  },
  {
   "cell_type": "code",
   "execution_count": 61,
   "id": "cc6a2bec",
   "metadata": {},
   "outputs": [
    {
     "data": {
      "application/vnd.microsoft.datawrangler.viewer.v0+json": {
       "columns": [
        {
         "name": "index",
         "rawType": "object",
         "type": "string"
        },
        {
         "name": "('Estimates', 'Manual OLS')",
         "rawType": "float64",
         "type": "float"
        },
        {
         "name": "('Estimates', 'PyBLP')",
         "rawType": "float64",
         "type": "float"
        },
        {
         "name": "('SEs', 'Manual OLS')",
         "rawType": "float64",
         "type": "float"
        },
        {
         "name": "('SEs', 'PyBLP')",
         "rawType": "float64",
         "type": "float"
        }
       ],
       "ref": "ea601a15-5d0c-404e-b423-396eb543fe4b",
       "rows": [
        [
         "prices",
         "-1.2481570573243694",
         "-1.248157057324363",
         "0.050111602740390435",
         "0.05104769053113903"
        ],
        [
         "x",
         "0.8547978332464661",
         "0.8547978332464722",
         "0.032951184411631126",
         "0.0324008706061821"
        ],
        [
         "satellite",
         "1.7618776616181993",
         "1.7618776616181717",
         "0.16001383476834882",
         "0.16467582566409453"
        ],
        [
         "wired",
         "1.7947821259675036",
         "1.7947821259674557",
         "0.1582000315380814",
         "0.16411304438952778"
        ]
       ],
       "shape": {
        "columns": 4,
        "rows": 4
       }
      },
      "text/html": [
       "<div>\n",
       "<style scoped>\n",
       "    .dataframe tbody tr th:only-of-type {\n",
       "        vertical-align: middle;\n",
       "    }\n",
       "\n",
       "    .dataframe tbody tr th {\n",
       "        vertical-align: top;\n",
       "    }\n",
       "\n",
       "    .dataframe thead tr th {\n",
       "        text-align: left;\n",
       "    }\n",
       "</style>\n",
       "<table border=\"1\" class=\"dataframe\">\n",
       "  <thead>\n",
       "    <tr>\n",
       "      <th></th>\n",
       "      <th colspan=\"2\" halign=\"left\">Estimates</th>\n",
       "      <th colspan=\"2\" halign=\"left\">SEs</th>\n",
       "    </tr>\n",
       "    <tr>\n",
       "      <th></th>\n",
       "      <th>Manual OLS</th>\n",
       "      <th>PyBLP</th>\n",
       "      <th>Manual OLS</th>\n",
       "      <th>PyBLP</th>\n",
       "    </tr>\n",
       "  </thead>\n",
       "  <tbody>\n",
       "    <tr>\n",
       "      <th>prices</th>\n",
       "      <td>-1.248</td>\n",
       "      <td>-1.248</td>\n",
       "      <td>0.050</td>\n",
       "      <td>0.051</td>\n",
       "    </tr>\n",
       "    <tr>\n",
       "      <th>x</th>\n",
       "      <td>0.855</td>\n",
       "      <td>0.855</td>\n",
       "      <td>0.033</td>\n",
       "      <td>0.032</td>\n",
       "    </tr>\n",
       "    <tr>\n",
       "      <th>satellite</th>\n",
       "      <td>1.762</td>\n",
       "      <td>1.762</td>\n",
       "      <td>0.160</td>\n",
       "      <td>0.165</td>\n",
       "    </tr>\n",
       "    <tr>\n",
       "      <th>wired</th>\n",
       "      <td>1.795</td>\n",
       "      <td>1.795</td>\n",
       "      <td>0.158</td>\n",
       "      <td>0.164</td>\n",
       "    </tr>\n",
       "  </tbody>\n",
       "</table>\n",
       "</div>"
      ],
      "text/plain": [
       "           Estimates               SEs       \n",
       "          Manual OLS  PyBLP Manual OLS  PyBLP\n",
       "prices        -1.248 -1.248      0.050  0.051\n",
       "x              0.855  0.855      0.033  0.032\n",
       "satellite      1.762  1.762      0.160  0.165\n",
       "wired          1.795  1.795      0.158  0.164"
      ]
     },
     "execution_count": 61,
     "metadata": {},
     "output_type": "execute_result"
    }
   ],
   "source": [
    "pd.DataFrame(index=ols_results.beta_labels, data={\n",
    "    (\"Estimates\", \"Manual OLS\"): beta_hat,\n",
    "    (\"Estimates\", \"PyBLP\"): ols_results.beta.flat,\n",
    "    (\"SEs\", \"Manual OLS\"): se_ols,\n",
    "    (\"SEs\", \"PyBLP\"): ols_results.beta_se.flat,\n",
    "})"
   ]
  },
  {
   "cell_type": "markdown",
   "id": "5b407c29",
   "metadata": {},
   "source": [
    "### 6. \n",
    "Re-estimate the multinomial logit model of demand by two-stage\n",
    "least squares, instrumenting for prices with the exogenous demand shifters $%\n",
    "x $ and excluded cost shifters w. Discuss how the results differ from those\n",
    "obtained by OLS."
   ]
  },
  {
   "cell_type": "code",
   "execution_count": 62,
   "id": "ec453deb",
   "metadata": {},
   "outputs": [
    {
     "name": "stdout",
     "output_type": "stream",
     "text": [
      "2SLS IV Regression: ln(s_jt/s_0t) ~ x + satellite + wired + prices_hat (no intercept)\n",
      "First stage instruments: x, w, x², w², x*w, sum_x_competitors, sum_w_competitors\n",
      "--------------------------------------------------------------------------------\n",
      "prices      :   -1.939 (SE: 0.069, t: -28.22, p: 0.000)\n",
      "x           :    0.923 (SE: 0.031, t:  30.01, p: 0.000)\n",
      "satellite   :    3.996 (SE: 0.220, t:  18.15, p: 0.000)\n",
      "wired       :    4.037 (SE: 0.220, t:  18.32, p: 0.000)\n"
     ]
    }
   ],
   "source": [
    "# First stage: \n",
    "Z = product_data[['satellite', 'wired', 'x', 'w', 'x**2', 'w**2', 'x*w', 'sum_x_competitors', 'sum_w_competitors']].values  \n",
    "\n",
    "# First stage OLS:\n",
    "sigma_hat = np.linalg.inv(Z.T @ Z) @ Z.T @ product_data['prices'].values\n",
    "prices_hat = Z @ sigma_hat\n",
    "\n",
    "# Second stage: Regress logit_delta on x + satellite + wired + predicted_prices\n",
    "y = product_data['logit_delta'].values\n",
    "X_hat = np.column_stack([\n",
    "    prices_hat,  # Use predicted prices from first stage\n",
    "    product_data['x'].values,\n",
    "    product_data['satellite'].values,\n",
    "    product_data['wired'].values\n",
    "])\n",
    "\n",
    "# 2SLS estimates: beta_hat_iv = (X_hat^T X_hat)^(-1) X_hat^T y\n",
    "beta_hat_iv = np.linalg.inv(X_hat.T @ X_hat) @ X_hat.T @ y\n",
    "\n",
    "# Compute 2SLS standard errors \n",
    "residuals_iv = y - X_hat @ beta_hat_iv\n",
    "\n",
    "# HC0 covariance\n",
    "V = X_hat.T @ np.diag(residuals_iv**2) @ X_hat\n",
    "cov_matrix_iv = np.linalg.inv(X_hat.T @ X_hat) @ V @ np.linalg.inv(X_hat.T @ X_hat)\n",
    "se_iv = np.sqrt(np.diag(cov_matrix_iv)) \n",
    "t_stats_iv = beta_hat_iv / se_iv\n",
    "p_values_iv = 2 * (1 - stats.norm.cdf(np.abs(t_stats_iv)))\n",
    "\n",
    "print(\"2SLS IV Regression: ln(s_jt/s_0t) ~ x + satellite + wired + prices_hat (no intercept)\")\n",
    "print(\"First stage instruments: x, w, x², w², x*w, sum_x_competitors, sum_w_competitors\")\n",
    "print(\"-\" * 80)\n",
    "param_names = ['prices', 'x', 'satellite', 'wired']\n",
    "for i, param in enumerate(param_names):\n",
    "    print(f\"{param:12s}: {beta_hat_iv[i]:8.3f} (SE: {se_iv[i]:.3f}, t: {t_stats_iv[i]:6.2f}, p: {p_values_iv[i]:.3f})\")"
   ]
  },
  {
   "cell_type": "code",
   "execution_count": 63,
   "id": "904b4814",
   "metadata": {},
   "outputs": [
    {
     "data": {
      "text/plain": [
       "Dimensions:\n",
       "=====================\n",
       " T    N     K1    MD \n",
       "---  ----  ----  ----\n",
       "600  2400   4     9  \n",
       "=====================\n",
       "\n",
       "Formulations:\n",
       "=========================================================\n",
       "     Column Indices:          0      1       2        3  \n",
       "--------------------------  ------  ---  ---------  -----\n",
       "X1: Linear Characteristics  prices   x   satellite  wired\n",
       "========================================================="
      ]
     },
     "execution_count": 63,
     "metadata": {},
     "output_type": "execute_result"
    }
   ],
   "source": [
    "# Add demand instruments for PyBLP\n",
    "product_data['demand_instruments0'] = product_data['w']\n",
    "product_data['demand_instruments1'] = product_data['x**2']\n",
    "product_data['demand_instruments2'] = product_data['w**2']\n",
    "product_data['demand_instruments3'] = product_data['x*w']\n",
    "product_data['demand_instruments4'] = product_data['sum_x_competitors']\n",
    "product_data['demand_instruments5'] = product_data['sum_w_competitors']\n",
    "\n",
    "iv_problem = pyblp.Problem(pyblp.Formulation('0 + prices + x + satellite + wired'), product_data)\n",
    "iv_problem"
   ]
  },
  {
   "cell_type": "code",
   "execution_count": 64,
   "id": "63d2e250",
   "metadata": {},
   "outputs": [
    {
     "data": {
      "text/plain": [
       "Problem Results Summary:\n",
       "=============================================================\n",
       "GMM   Objective  Clipped  Weighting Matrix  Covariance Matrix\n",
       "Step    Value    Shares   Condition Number  Condition Number \n",
       "----  ---------  -------  ----------------  -----------------\n",
       " 1    +4.05E+00     0        +1.26E+03          +2.79E+03    \n",
       "=============================================================\n",
       "\n",
       "Cumulative Statistics:\n",
       "========================\n",
       "Computation   Objective \n",
       "   Time      Evaluations\n",
       "-----------  -----------\n",
       " 00:00:00         1     \n",
       "========================\n",
       "\n",
       "Beta Estimates (Robust SEs in Parentheses):\n",
       "==================================================\n",
       "  prices          x        satellite      wired   \n",
       "-----------  -----------  -----------  -----------\n",
       " -1.94E+00    +9.23E-01    +4.00E+00    +4.04E+00 \n",
       "(+6.35E-02)  (+3.53E-02)  (+2.08E-01)  (+2.09E-01)\n",
       "=================================================="
      ]
     },
     "execution_count": 64,
     "metadata": {},
     "output_type": "execute_result"
    }
   ],
   "source": [
    "iv_results = iv_problem.solve(method='1s')\n",
    "iv_results"
   ]
  },
  {
   "cell_type": "code",
   "execution_count": 65,
   "id": "d140c557",
   "metadata": {},
   "outputs": [
    {
     "data": {
      "application/vnd.microsoft.datawrangler.viewer.v0+json": {
       "columns": [
        {
         "name": "index",
         "rawType": "object",
         "type": "string"
        },
        {
         "name": "('Estimates', 'Manual IV')",
         "rawType": "float64",
         "type": "float"
        },
        {
         "name": "('Estimates', 'PyBLP IV')",
         "rawType": "float64",
         "type": "float"
        },
        {
         "name": "('SEs', 'Manual IV')",
         "rawType": "float64",
         "type": "float"
        },
        {
         "name": "('SEs', 'PyBLP IV')",
         "rawType": "float64",
         "type": "float"
        }
       ],
       "ref": "5ac5638e-d02e-44f2-966a-3bd65d77d7b6",
       "rows": [
        [
         "prices",
         "-1.9389472358063058",
         "-1.9389472358063347",
         "0.06870980762113148",
         "0.0635402926012945"
        ],
        [
         "x",
         "0.9231031953463905",
         "0.9231031953463967",
         "0.030763910556618958",
         "0.03527926200857628"
        ],
        [
         "satellite",
         "3.9958412308700235",
         "3.995841230870039",
         "0.2201961820405233",
         "0.2079182439588258"
        ],
        [
         "wired",
         "4.036860640305901",
         "4.036860640305934",
         "0.22031038400587524",
         "0.20855814921399535"
        ]
       ],
       "shape": {
        "columns": 4,
        "rows": 4
       }
      },
      "text/html": [
       "<div>\n",
       "<style scoped>\n",
       "    .dataframe tbody tr th:only-of-type {\n",
       "        vertical-align: middle;\n",
       "    }\n",
       "\n",
       "    .dataframe tbody tr th {\n",
       "        vertical-align: top;\n",
       "    }\n",
       "\n",
       "    .dataframe thead tr th {\n",
       "        text-align: left;\n",
       "    }\n",
       "</style>\n",
       "<table border=\"1\" class=\"dataframe\">\n",
       "  <thead>\n",
       "    <tr>\n",
       "      <th></th>\n",
       "      <th colspan=\"2\" halign=\"left\">Estimates</th>\n",
       "      <th colspan=\"2\" halign=\"left\">SEs</th>\n",
       "    </tr>\n",
       "    <tr>\n",
       "      <th></th>\n",
       "      <th>Manual IV</th>\n",
       "      <th>PyBLP IV</th>\n",
       "      <th>Manual IV</th>\n",
       "      <th>PyBLP IV</th>\n",
       "    </tr>\n",
       "  </thead>\n",
       "  <tbody>\n",
       "    <tr>\n",
       "      <th>prices</th>\n",
       "      <td>-1.939</td>\n",
       "      <td>-1.939</td>\n",
       "      <td>0.069</td>\n",
       "      <td>0.064</td>\n",
       "    </tr>\n",
       "    <tr>\n",
       "      <th>x</th>\n",
       "      <td>0.923</td>\n",
       "      <td>0.923</td>\n",
       "      <td>0.031</td>\n",
       "      <td>0.035</td>\n",
       "    </tr>\n",
       "    <tr>\n",
       "      <th>satellite</th>\n",
       "      <td>3.996</td>\n",
       "      <td>3.996</td>\n",
       "      <td>0.220</td>\n",
       "      <td>0.208</td>\n",
       "    </tr>\n",
       "    <tr>\n",
       "      <th>wired</th>\n",
       "      <td>4.037</td>\n",
       "      <td>4.037</td>\n",
       "      <td>0.220</td>\n",
       "      <td>0.209</td>\n",
       "    </tr>\n",
       "  </tbody>\n",
       "</table>\n",
       "</div>"
      ],
      "text/plain": [
       "          Estimates                SEs         \n",
       "          Manual IV PyBLP IV Manual IV PyBLP IV\n",
       "prices       -1.939   -1.939     0.069    0.064\n",
       "x             0.923    0.923     0.031    0.035\n",
       "satellite     3.996    3.996     0.220    0.208\n",
       "wired         4.037    4.037     0.220    0.209"
      ]
     },
     "execution_count": 65,
     "metadata": {},
     "output_type": "execute_result"
    }
   ],
   "source": [
    "pd.DataFrame(index=iv_results.beta_labels, data={\n",
    "    (\"Estimates\", \"Manual IV\"): beta_hat_iv,\n",
    "    (\"Estimates\", \"PyBLP IV\"): iv_results.beta.flat,\n",
    "    (\"SEs\", \"Manual IV\"): se_iv,\n",
    "    (\"SEs\", \"PyBLP IV\"): iv_results.beta_se.flat\n",
    "})"
   ]
  },
  {
   "cell_type": "markdown",
   "id": "b7b33a30",
   "metadata": {},
   "source": [
    "### 7. Nested Logit Model Estimation\n",
    "\n",
    "Now estimate a nested logit model by two-stage least squares, treating \"satellite\" and \"wired\" as the two nests for the inside goods. You will probably want to review the discussion of the nested logit in Berry (1994). Note that Berry focuses on the special case in which all the \"nesting parameters\" are the same; you should allow a different nesting parameter for each nest.\n",
    "\n",
    "\n",
    "\n",
    "In Berry’s notation, this means letting the parameter become g(j) , where g (j) indicates the group (satellite\n",
    "or wired) to which each inside good j belongs."
   ]
  },
  {
   "cell_type": "code",
   "execution_count": 66,
   "id": "6db266c4",
   "metadata": {},
   "outputs": [],
   "source": [
    "# Prepare data for nested logit\n",
    "product_data['nesting_ids'] = product_data['satellite'].map({1: 'satellite', 0: 'wired'})\n",
    "\n",
    "# add the quality and cost indexes of the other good in the same nest as good j\n",
    "product_data['x_other_in_nest'] = product_data.groupby(['market_ids', 'nesting_ids'])['x'].transform('sum') - product_data['x']\n",
    "product_data['w_other_in_nest'] = product_data.groupby(['market_ids', 'nesting_ids'])['w'].transform('sum') - product_data['w']\n",
    "product_data['demand_instruments5'] = product_data['x_other_in_nest']\n",
    "product_data['demand_instruments6'] = product_data['w_other_in_nest']"
   ]
  },
  {
   "cell_type": "code",
   "execution_count": 67,
   "id": "a9d0579e",
   "metadata": {},
   "outputs": [
    {
     "name": "stdout",
     "output_type": "stream",
     "text": [
      "2SLS IV Regression: ln(s_jt/s_0t) ~ prices + x + satellite + wired + ln_within_share_sat + ln_within_share_wired (no intercept)\n",
      "First stage instruments: x, satellite, wired, w, x**2, w**2, x*w, sum_x_competitors, sum_w_competitors, x_other_in_nest, w_other_in_nest\n",
      "------------------------------------------------------------------------------------------------------------------------\n",
      "prices              :   -1.607 (SE: 0.108, t: -14.82, p: 0.000)\n",
      "x                   :    0.803 (SE: 0.044, t:  18.33, p: 0.000)\n",
      "satellite           :    3.102 (SE: 0.623, t:   4.98, p: 0.000)\n",
      "wired               :    3.364 (SE: 0.595, t:   5.66, p: 0.000)\n",
      "ln_within_share_sat :    0.104 (SE: 0.505, t:   0.21, p: 0.837)\n",
      "ln_within_share_wired:    0.321 (SE: 0.512, t:   0.63, p: 0.532)\n"
     ]
    }
   ],
   "source": [
    "# Compute ln_within_share\n",
    "product_data[\"group_share\"] = product_data.groupby([\"market_ids\", \"nesting_ids\"])[\"shares\"].transform(\"sum\")\n",
    "product_data[\"ln_within_share\"] = np.log(product_data[\"shares\"] / product_data[\"group_share\"])\n",
    "\n",
    "# Create nest-specific ln_within_share\n",
    "product_data[\"ln_within_share_sat\"] = product_data[\"ln_within_share\"] * product_data[\"satellite\"]\n",
    "product_data[\"ln_within_share_wired\"] = product_data[\"ln_within_share\"] * product_data[\"wired\"]\n",
    "\n",
    "# Define variables\n",
    "exog_vars = [\"x\", \"satellite\", \"wired\"]\n",
    "endog_vars = [\"prices\", \"ln_within_share_sat\", \"ln_within_share_wired\"]\n",
    "instr_vars = [\"w\", \"x**2\", \"w**2\", \"x*w\", \"sum_x_competitors\", \"sum_w_competitors\", \"x_other_in_nest\", \"w_other_in_nest\"]\n",
    "Z_vars = exog_vars + instr_vars\n",
    "\n",
    "# First stage: Z = exog + instr\n",
    "Z = product_data[Z_vars].values\n",
    "\n",
    "# First stage OLS for each endog\n",
    "n_endog = len(endog_vars)\n",
    "sigma_hat = np.zeros((Z.shape[1], n_endog))\n",
    "endog_hat = np.zeros((len(product_data), n_endog))\n",
    "for i, var in enumerate(endog_vars):\n",
    "    y_endog = product_data[var].values\n",
    "    sigma = np.linalg.inv(Z.T @ Z) @ Z.T @ y_endog\n",
    "    sigma_hat[:, i] = sigma\n",
    "    endog_hat[:, i] = Z @ sigma\n",
    "\n",
    "# Second stage: Regress logit_delta on exog + predicted_endog, reordered to match PyBLP\n",
    "y = product_data[\"logit_delta\"].values\n",
    "X_hat = np.column_stack([\n",
    "    endog_hat[:, 0],  # prices_hat\n",
    "    product_data[\"x\"].values,\n",
    "    product_data[\"satellite\"].values,\n",
    "    product_data[\"wired\"].values,\n",
    "    endog_hat[:, 1],  # ln_within_share_sat_hat\n",
    "    endog_hat[:, 2]   # ln_within_share_wired_hat\n",
    "])\n",
    "\n",
    "# 2SLS estimates\n",
    "beta_hat_iv = np.linalg.inv(X_hat.T @ X_hat) @ X_hat.T @ y\n",
    "\n",
    "# Compute robust standard errors (HC0)\n",
    "residuals_iv = y - X_hat @ beta_hat_iv\n",
    "V = X_hat.T @ np.diag(residuals_iv**2) @ X_hat\n",
    "cov_matrix_iv = np.linalg.inv(X_hat.T @ X_hat) @ V @ np.linalg.inv(X_hat.T @ X_hat)\n",
    "se_iv = np.sqrt(np.diag(cov_matrix_iv))\n",
    "t_stats_iv = beta_hat_iv / se_iv\n",
    "p_values_iv = 2 * (1 - stats.norm.cdf(np.abs(t_stats_iv)))\n",
    "\n",
    "print(\"2SLS IV Regression: ln(s_jt/s_0t) ~ prices + x + satellite + wired + ln_within_share_sat + ln_within_share_wired (no intercept)\")\n",
    "print(\"First stage instruments: \" + \", \".join(Z_vars))\n",
    "print(\"-\" * 120)\n",
    "param_names = [\"prices\", \"x\", \"satellite\", \"wired\", \"ln_within_share_sat\", \"ln_within_share_wired\"]\n",
    "for i, param in enumerate(param_names):\n",
    "    print(f\"{param:20s}: {beta_hat_iv[i]:8.3f} (SE: {se_iv[i]:.3f}, t: {t_stats_iv[i]:6.2f}, p: {p_values_iv[i]:.3f})\")"
   ]
  },
  {
   "cell_type": "code",
   "execution_count": 68,
   "id": "656ee267",
   "metadata": {},
   "outputs": [],
   "source": [
    "# Nested logit formulation\n",
    "nl_problem = pyblp.Problem(pyblp.Formulation('0 + prices + x + satellite + wired'), product_data)"
   ]
  },
  {
   "cell_type": "code",
   "execution_count": 69,
   "id": "98759dbd",
   "metadata": {},
   "outputs": [
    {
     "data": {
      "text/plain": [
       "Problem Results Summary:\n",
       "==============================================================================================================\n",
       "GMM   Objective    Projected    Reduced Hessian  Reduced Hessian  Clipped  Weighting Matrix  Covariance Matrix\n",
       "Step    Value    Gradient Norm  Min Eigenvalue   Max Eigenvalue   Shares   Condition Number  Condition Number \n",
       "----  ---------  -------------  ---------------  ---------------  -------  ----------------  -----------------\n",
       " 1    +1.84E+00    +3.49E-09       +2.99E+00        +3.05E+02        0        +8.90E+02          +4.35E+04    \n",
       "==============================================================================================================\n",
       "\n",
       "Cumulative Statistics:\n",
       "=================================================\n",
       "Computation  Optimizer  Optimization   Objective \n",
       "   Time      Converged   Iterations   Evaluations\n",
       "-----------  ---------  ------------  -----------\n",
       " 00:00:04       Yes          5             9     \n",
       "=================================================\n",
       "\n",
       "Rho Estimates (Robust SEs in Parentheses):\n",
       "========================\n",
       " satellite      wired   \n",
       "-----------  -----------\n",
       " +1.08E-01    +3.17E-01 \n",
       "(+4.63E-01)  (+4.84E-01)\n",
       "========================\n",
       "\n",
       "Beta Estimates (Robust SEs in Parentheses):\n",
       "==================================================\n",
       "  prices          x        satellite      wired   \n",
       "-----------  -----------  -----------  -----------\n",
       " -1.61E+00    +8.03E-01    +3.11E+00    +3.36E+00 \n",
       "(+1.01E-01)  (+4.16E-02)  (+6.37E-01)  (+4.88E-01)\n",
       "=================================================="
      ]
     },
     "execution_count": 69,
     "metadata": {},
     "output_type": "execute_result"
    }
   ],
   "source": [
    "rho_initial = [0.7, 0.7]  # Initial values for rho_sat and rho_wired\n",
    "nl_results = nl_problem.solve(rho=rho_initial, method='1s')\n",
    "nl_results"
   ]
  },
  {
   "cell_type": "code",
   "execution_count": 70,
   "id": "0fe60b11",
   "metadata": {},
   "outputs": [
    {
     "name": "stdout",
     "output_type": "stream",
     "text": [
      "Beta Comparison for Nested Logit:\n",
      "              Estimates                        SEs             \n",
      "          Manual Nested PyBLP Nested Manual Nested PyBLP Nested\n",
      "prices           -1.607       -1.608         0.108        0.101\n",
      "x                 0.803        0.803         0.044        0.042\n",
      "satellite         3.102        3.108         0.623        0.637\n",
      "wired             3.364        3.362         0.595        0.488\n",
      "\n",
      "Rho Comparison for Nested Logit:\n",
      "              Estimates                        SEs             \n",
      "          Manual Nested PyBLP Nested Manual Nested PyBLP Nested\n",
      "satellite         0.104        0.108         0.505        0.463\n",
      "wired             0.321        0.317         0.512        0.484\n"
     ]
    }
   ],
   "source": [
    "# Compare manual nested logit estimates with PyBLP nested logit estimates for beta\n",
    "nested_beta_comparison = pd.DataFrame(index=nl_results.beta_labels, data={\n",
    "    (\"Estimates\", \"Manual Nested\"): beta_hat_iv[:4],  # prices, x, satellite, wired\n",
    "    (\"Estimates\", \"PyBLP Nested\"): nl_results.beta.flat,\n",
    "    (\"SEs\", \"Manual Nested\"): se_iv[:4],\n",
    "    (\"SEs\", \"PyBLP Nested\"): nl_results.beta_se.flat\n",
    "})\n",
    "\n",
    "print(\"Beta Comparison for Nested Logit:\")\n",
    "print(nested_beta_comparison)\n",
    "\n",
    "# Compare rho estimates\n",
    "nested_rho_comparison = pd.DataFrame(index=nl_results.rho_labels, data={\n",
    "    (\"Estimates\", \"Manual Nested\"): beta_hat_iv[4:],  # rho_sat, rho_wired\n",
    "    (\"Estimates\", \"PyBLP Nested\"): nl_results.rho.flat,\n",
    "    (\"SEs\", \"Manual Nested\"): se_iv[4:],\n",
    "    (\"SEs\", \"PyBLP Nested\"): nl_results.rho_se.flat\n",
    "})\n",
    "\n",
    "print(\"\\nRho Comparison for Nested Logit:\")\n",
    "print(nested_rho_comparison)"
   ]
  },
  {
   "cell_type": "markdown",
   "id": "12e598ac",
   "metadata": {},
   "source": [
    "### 8.\n",
    "Using the nested logit results, provide a table comparing the estimated own-price elasticities to the true own-price elasticities.The procedure you developed above for approximating derivatives cannot be used for your estimates based\n",
    "on the nested logit model. But because we have analytic expressions for market shares in the nested logit model,\n",
    "you could either differentiate these or use “finite difference” approximation of derivatives."
   ]
  },
  {
   "cell_type": "code",
   "execution_count": 71,
   "id": "5b6f9beb",
   "metadata": {},
   "outputs": [
    {
     "name": "stdout",
     "output_type": "stream",
     "text": [
      "Average Elasticities per Product:\n",
      "             true_elasticity  estimated_elasticity\n",
      "Satellite 1           -5.822                -5.722\n",
      "Satellite 2           -5.676                -5.583\n",
      "Wired 1               -5.732                -5.445\n",
      "Wired 2               -5.803                -5.493\n"
     ]
    }
   ],
   "source": [
    "# Compute average elasticities per product over all markets\n",
    "rho_sat = beta_hat_iv[4]  # Extract scalar\n",
    "rho_wired = beta_hat_iv[5]\n",
    "\n",
    "estimated_elasticities = []\n",
    "true_elasticities = []\n",
    "\n",
    "for t in range(T):\n",
    "    market_data = product_data[product_data['market_ids'] == t]\n",
    "    shares_market = market_data['shares'].values\n",
    "    prices_market = market_data['prices'].values\n",
    "    for j in range(J):\n",
    "        s_j = shares_market[j]\n",
    "        p_j = prices_market[j]\n",
    "        satellite = market_data.iloc[j]['satellite']\n",
    "        wired = market_data.iloc[j]['wired']\n",
    "        \n",
    "        # True elasticity (RC logit approximation)\n",
    "        elasticity_true = alpha * p_j * (1 - s_j)\n",
    "        true_elasticities.append(elasticity_true)\n",
    "        \n",
    "        # Estimated elasticity (nested logit)\n",
    "        if satellite == 1:\n",
    "            rho_g = rho_sat\n",
    "            s_j_g = market_data[market_data['satellite'] == 1]['shares'].sum()\n",
    "        else:\n",
    "            rho_g = rho_wired\n",
    "            s_j_g = market_data[market_data['wired'] == 1]['shares'].sum()\n",
    "        elasticity_est = alpha * p_j * (1 - s_j - rho_g * s_j_g * (1 - s_j / s_j_g))\n",
    "        estimated_elasticities.append(elasticity_est)\n",
    "\n",
    "product_data['true_elasticity'] = true_elasticities\n",
    "product_data['estimated_elasticity'] = estimated_elasticities\n",
    "\n",
    "# Table of average elasticities per product\n",
    "avg_elasticities = product_data.groupby('product_ids')[['true_elasticity', 'estimated_elasticity']].mean()\n",
    "\n",
    "# Add product labels\n",
    "product_labels = ['Satellite 1', 'Satellite 2', 'Wired 1', 'Wired 2']\n",
    "avg_elasticities.index = product_labels\n",
    "\n",
    "print('Average Elasticities per Product:')\n",
    "print(avg_elasticities)"
   ]
  },
  {
   "cell_type": "markdown",
   "id": "c5aa6d2b",
   "metadata": {},
   "source": [
    "Provide two additional tables showing the true\n",
    "matrix of diversion ratios and the diversion ratios implied by your estimates."
   ]
  },
  {
   "cell_type": "code",
   "execution_count": 72,
   "id": "f3b71944",
   "metadata": {},
   "outputs": [
    {
     "name": "stdout",
     "output_type": "stream",
     "text": [
      "True Diversion Ratios Matrix (Averaged over Markets):\n",
      "             Satellite 1  Satellite 2  Wired 1  Wired 2  Outside\n",
      "Satellite 1        0.000        0.224    0.130    0.121    0.525\n",
      "Satellite 2        0.214        0.000    0.131    0.123    0.532\n",
      "Wired 1            0.124        0.130    0.000    0.214    0.533\n",
      "Wired 2            0.122        0.129    0.225    0.000    0.523\n",
      "\n",
      "Estimated Diversion Ratios Matrix (Averaged over Markets):\n",
      "             Satellite 1  Satellite 2  Wired 1  Wired 2  Outside\n",
      "Satellite 1        0.248        0.201    0.000    0.000    0.551\n",
      "Satellite 2        0.192        0.265    0.000    0.000    0.544\n",
      "Wired 1            0.000        0.000    0.448    0.301    0.251\n",
      "Wired 2            0.000        0.000    0.313    0.413    0.274\n"
     ]
    }
   ],
   "source": [
    "# Compute diversion ratios\n",
    "\n",
    "# Function to compute nested logit shares\n",
    "def compute_nested_logit_shares(prices, market_data, rho_sat, rho_wired):\n",
    "    \"\"\"Compute nested logit shares\"\"\"\n",
    "    J = len(market_data)\n",
    "    x = market_data['x'].values\n",
    "    xi = market_data['xi'].values\n",
    "    sat = market_data['satellite'].values\n",
    "    wired = market_data['wired'].values\n",
    "    \n",
    "    # Mean utility\n",
    "    delta = beta1 * x + xi + alpha * prices\n",
    "    \n",
    "    # Group shares\n",
    "    sat_mask = sat == 1\n",
    "    wired_mask = wired == 1\n",
    "    \n",
    "    # Within-group shares\n",
    "    exp_delta_sat = np.exp(delta[sat_mask] / (1 - rho_sat))\n",
    "    exp_delta_wired = np.exp(delta[wired_mask] / (1 - rho_wired))\n",
    "    \n",
    "    s_within_sat = exp_delta_sat / exp_delta_sat.sum()\n",
    "    s_within_wired = exp_delta_wired / exp_delta_wired.sum()\n",
    "    \n",
    "    # Group shares\n",
    "    denom_sat = (exp_delta_sat.sum())**(1 - rho_sat) + 1\n",
    "    denom_wired = (exp_delta_wired.sum())**(1 - rho_wired) + 1\n",
    "    \n",
    "    s_group_sat = (exp_delta_sat.sum())**(1 - rho_sat) / denom_sat\n",
    "    s_group_wired = (exp_delta_wired.sum())**(1 - rho_wired) / denom_wired\n",
    "    \n",
    "    # Individual shares\n",
    "    shares = np.zeros(J)\n",
    "    shares[sat_mask] = s_within_sat * s_group_sat\n",
    "    shares[wired_mask] = s_within_wired * s_group_wired\n",
    "    \n",
    "    return shares\n",
    "\n",
    "# Compute true diversion ratios (average over markets)\n",
    "true_diversion_matrices = []\n",
    "for t in range(T):\n",
    "    market_data = product_data[product_data['market_ids'] == t]\n",
    "    prices_market = market_data['prices'].values\n",
    "    derivatives = approximate_share_derivatives(prices_market, market_data, all_v_draws[t])\n",
    "    diversion = np.zeros((J, J+1))  # +1 for outside\n",
    "    for j in range(J):\n",
    "        for k in range(J):\n",
    "            if j != k:\n",
    "                diversion[j, k] = - derivatives[k, j] / derivatives[j, j] if derivatives[j, j] != 0 else 0\n",
    "        # Outside diversion\n",
    "        diversion[j, J] = 1 - np.sum(diversion[j, :J])\n",
    "    true_diversion_matrices.append(diversion)\n",
    "\n",
    "true_avg_diversion = np.mean(true_diversion_matrices, axis=0)\n",
    "\n",
    "# Compute estimated diversion ratios analytically for nested logit, Conlon and Mortimer (2018)\n",
    "estimated_diversion_matrices = []\n",
    "for t in range(T):\n",
    "    market_data = product_data[product_data['market_ids'] == t]\n",
    "    shares_market = market_data['shares'].values\n",
    "    sat_mask = market_data['satellite'].values == 1\n",
    "    wired_mask = market_data['wired'].values == 1\n",
    "    diversion_est = np.zeros((J, J+1))\n",
    "    for j in range(J):\n",
    "        if sat_mask[j]:\n",
    "            rho_g = rho_sat\n",
    "            nest_mask = sat_mask\n",
    "        else:\n",
    "            rho_g = rho_wired\n",
    "            nest_mask = wired_mask\n",
    "        s_g = shares_market[nest_mask].sum()\n",
    "        s_j_g = shares_market[j] / s_g\n",
    "        Z = rho_g + (1 - rho_g) * s_g\n",
    "        denom = 1 / Z - s_j_g\n",
    "        for k in range(J):\n",
    "            if nest_mask[k]:\n",
    "                s_k_g = shares_market[k] / s_g\n",
    "                diversion_est[j, k] = s_k_g / denom if denom != 0 else 0\n",
    "            else:\n",
    "                diversion_est[j, k] = 0\n",
    "        diversion_est[j, J] = 1 - np.sum(diversion_est[j, :J])\n",
    "    estimated_diversion_matrices.append(diversion_est)\n",
    "\n",
    "estimated_avg_diversion = np.mean(estimated_diversion_matrices, axis=0)\n",
    "\n",
    "# Print tables\n",
    "product_labels = ['Satellite 1', 'Satellite 2', 'Wired 1', 'Wired 2', 'Outside']\n",
    "\n",
    "print(\"True Diversion Ratios Matrix (Averaged over Markets):\")\n",
    "true_df = pd.DataFrame(true_avg_diversion, index=product_labels[:4], columns=product_labels)\n",
    "print(true_df)\n",
    "print()\n",
    "\n",
    "print(\"Estimated Diversion Ratios Matrix (Averaged over Markets):\")\n",
    "est_df = pd.DataFrame(estimated_avg_diversion, index=product_labels[:4], columns=product_labels)\n",
    "print(est_df)"
   ]
  },
  {
   "cell_type": "markdown",
   "id": "940ab563",
   "metadata": {},
   "source": [
    "## 5 Estimate the Correctly Specified Model"
   ]
  },
  {
   "cell_type": "markdown",
   "id": "19841e0a",
   "metadata": {},
   "source": [
    "Use the pyBLP software to estimate the correctly specified model. Allow pyBLP to construct\n",
    "approximations to the optimal instruments, using the exogenous demand shifters and exogenous\n",
    "cost shifters.6\n",
    "9. Report a table with the estimates of the demand parameters and standard errors. Do\n",
    "this twice: once when you estimate demand alone, then again when you estimate jointly\n",
    "with supply.\n",
    "10. Using your preferred estimates from the prior step (explain your preference), provide\n",
    "a table comparing the estimated own-price elasticities to the true own-price elasticities.\n",
    "Provide two additional tables showing the true matrix of diversion ratios and the diversion\n",
    "ratios implied by your estimates."
   ]
  },
  {
   "cell_type": "code",
   "execution_count": 73,
   "id": "75d2997b",
   "metadata": {},
   "outputs": [],
   "source": [
    "product_data = product_data.drop(columns=[\"nesting_ids\", \"demand_instruments1\", \"demand_instruments2\", \"demand_instruments3\", \"demand_instruments4\", \"demand_instruments5\", \"demand_instruments6\"])"
   ]
  },
  {
   "cell_type": "code",
   "execution_count": 74,
   "id": "pyblp_estimation",
   "metadata": {},
   "outputs": [
    {
     "data": {
      "text/plain": [
       "(prices + x + satellite + wired, satellite + wired)"
      ]
     },
     "execution_count": 74,
     "metadata": {},
     "output_type": "execute_result"
    }
   ],
   "source": [
    "X1_formulation = pyblp.Formulation('0 + prices + x + satellite + wired')\n",
    "X2_formulation = pyblp.Formulation('0 + satellite + wired')\n",
    "product_formulations = (X1_formulation, X2_formulation)\n",
    "product_formulations"
   ]
  },
  {
   "cell_type": "code",
   "execution_count": 75,
   "id": "03c38907",
   "metadata": {},
   "outputs": [
    {
     "data": {
      "text/plain": [
       "Configured to construct nodes and weights with Monte Carlo simulation with options {seed: 1995}."
      ]
     },
     "execution_count": 75,
     "metadata": {},
     "output_type": "execute_result"
    }
   ],
   "source": [
    "integration = pyblp.Integration('monte_carlo', size=1000, specification_options={'seed': 1995})\n",
    "integration"
   ]
  },
  {
   "cell_type": "code",
   "execution_count": 76,
   "id": "45dc23cd",
   "metadata": {},
   "outputs": [
    {
     "data": {
      "text/plain": [
       "Dimensions:\n",
       "===================================\n",
       " T    N      I      K1    K2    MD \n",
       "---  ----  ------  ----  ----  ----\n",
       "600  2400  600000   4     2     4  \n",
       "===================================\n",
       "\n",
       "Formulations:\n",
       "=================================================================\n",
       "       Column Indices:             0        1        2        3  \n",
       "-----------------------------  ---------  -----  ---------  -----\n",
       " X1: Linear Characteristics     prices      x    satellite  wired\n",
       "X2: Nonlinear Characteristics  satellite  wired                  \n",
       "================================================================="
      ]
     },
     "execution_count": 76,
     "metadata": {},
     "output_type": "execute_result"
    }
   ],
   "source": [
    "problem1 = pyblp.Problem(product_formulations, product_data, integration=mc_integration)\n",
    "problem1"
   ]
  },
  {
   "cell_type": "code",
   "execution_count": 77,
   "id": "2e90cbda",
   "metadata": {},
   "outputs": [
    {
     "name": "stderr",
     "output_type": "stream",
     "text": [
      "The model may be under-identified. The total number of unfixed parameters is 6, which is more than the total number of moments, 4. Consider checking whether instruments were properly specified when initializing the problem, and whether parameters were properly configured when solving the problem.\n"
     ]
    }
   ],
   "source": [
    "results1 = problem1.solve(sigma=np.eye(2))"
   ]
  },
  {
   "cell_type": "code",
   "execution_count": 78,
   "id": "bead109c",
   "metadata": {},
   "outputs": [],
   "source": [
    "optimal_iv_results1 = results1.compute_optimal_instruments()\n",
    "optimal_problem1 = optimal_iv_results1.to_problem()"
   ]
  },
  {
   "cell_type": "code",
   "execution_count": 79,
   "id": "d536daa4",
   "metadata": {},
   "outputs": [
    {
     "data": {
      "text/plain": [
       "Problem Results Summary:\n",
       "==============================================================================================================\n",
       "GMM   Objective    Projected    Reduced Hessian  Reduced Hessian  Clipped  Weighting Matrix  Covariance Matrix\n",
       "Step    Value    Gradient Norm  Min Eigenvalue   Max Eigenvalue   Shares   Condition Number  Condition Number \n",
       "----  ---------  -------------  ---------------  ---------------  -------  ----------------  -----------------\n",
       " 2    +3.47E-22    +1.40E-10       +3.02E+01        +4.35E+01        0        +4.18E+03          +3.10E+03    \n",
       "==============================================================================================================\n",
       "\n",
       "Cumulative Statistics:\n",
       "===========================================================================\n",
       "Computation  Optimizer  Optimization   Objective   Fixed Point  Contraction\n",
       "   Time      Converged   Iterations   Evaluations  Iterations   Evaluations\n",
       "-----------  ---------  ------------  -----------  -----------  -----------\n",
       " 00:00:20       Yes          7            12          37723       118376   \n",
       "===========================================================================\n",
       "\n",
       "Nonlinear Coefficient Estimates (Robust SEs in Parentheses):\n",
       "===================================\n",
       " Sigma:     satellite      wired   \n",
       "---------  -----------  -----------\n",
       "satellite   +1.30E+00              \n",
       "           (+2.29E-01)             \n",
       "                                   \n",
       "  wired     +0.00E+00    +1.03E+00 \n",
       "                        (+2.45E-01)\n",
       "===================================\n",
       "\n",
       "Beta Estimates (Robust SEs in Parentheses):\n",
       "==================================================\n",
       "  prices          x        satellite      wired   \n",
       "-----------  -----------  -----------  -----------\n",
       " -2.01E+00    +1.01E+00    +3.87E+00    +4.02E+00 \n",
       "(+7.01E-02)  (+4.40E-02)  (+2.40E-01)  (+2.34E-01)\n",
       "=================================================="
      ]
     },
     "execution_count": 79,
     "metadata": {},
     "output_type": "execute_result"
    }
   ],
   "source": [
    "optimal_problem1.solve(sigma=np.eye(2), method='2s')"
   ]
  },
  {
   "cell_type": "code",
   "execution_count": 80,
   "id": "e6416bba",
   "metadata": {},
   "outputs": [
    {
     "name": "stdout",
     "output_type": "stream",
     "text": [
      "Seed 0:\n",
      "  Initial Sigma:\n",
      "[[6.36961687 0.        ]\n",
      " [0.         2.69786714]]\n",
      "  Estimated Sigma:\n",
      "[[1.29528007 0.        ]\n",
      " [0.         1.02910005]]\n",
      "\n",
      "Seed 1:\n",
      "  Initial Sigma:\n",
      "[[5.11821625 0.        ]\n",
      " [0.         9.50463696]]\n",
      "  Estimated Sigma:\n",
      "[[1.29528007 0.        ]\n",
      " [0.         1.02910005]]\n",
      "\n",
      "Seed 2:\n",
      "  Initial Sigma:\n",
      "[[2.61612134 0.        ]\n",
      " [0.         2.98491143]]\n",
      "  Estimated Sigma:\n",
      "[[1.29528007 0.        ]\n",
      " [0.         1.02910005]]\n",
      "\n"
     ]
    }
   ],
   "source": [
    "for seed in range(3):\n",
    "    initial_sigma = np.diag(np.random.default_rng(seed).uniform(0, 10, 2))\n",
    "    seed_results = optimal_problem1.solve(sigma=initial_sigma)\n",
    "    print(f\"Seed {seed}:\")\n",
    "    print(f\"  Initial Sigma:\\n{initial_sigma}\")\n",
    "    print(f\"  Estimated Sigma:\\n{seed_results.sigma}\")\n",
    "    print()"
   ]
  },
  {
   "cell_type": "markdown",
   "id": "fc402db4",
   "metadata": {},
   "source": [
    "\\item To display the average prices, use the following (where \\texttt{changed\\_prices} is the output of \\texttt{compute\\_prices} as in Post-Estimation Tutorial of pyBLP).\n",
    "    \\begin{verbatim}\n",
    " T, J= 600, 4\n",
    " print(changed_prices.reshape((T, J)).mean(axis= 0))\n",
    "    \\end{verbatim}\n",
    "\n",
    "    \\item To display the average elasticities and diversion rations, use the following (where \\texttt{elasticities}, for example, is the output of \\texttt{compute\\_elasticities} in Post-Estimation Tutorial of pyBLP).\n",
    "    \\begin{verbatim}\n",
    "T, J= 600, 4\n",
    "print(elasticities.reshape((T, J, J)).mean(axis= 0))\n",
    "    \\end{verbatim}\n",
    "    (These resemble what one would write in Matlab, but there are subtle issues behind it, including row-major order (Python) vs column-major order (Matlab).)\n",
    "\n",
    "    \\item To apply 15\\% cost reduction by the merged firms, use the following.\n",
    "   \n",
    "    \\begin{verbatim}\n",
    "merger_costs= costs.copy()\n",
    "merger_costs[product_data.merger_ids== 1]= 0.85*merger_costs[product_data.merger_ids== 1]\n",
    "    \\end{verbatim}\n",
    "    \\noindent where \\texttt{costs} and \\texttt{merger\\_ids} are as in Post-Estimation Tutorial of pyBLP. (Using \\texttt{merger\\_costs= costs} instead of using \\texttt{copy} could lead to an unexpected behavior.)\n",
    "\n",
    "\n",
    "\\end{itemize}"
   ]
  }
 ],
 "metadata": {
  "kernelspec": {
   "display_name": "base",
   "language": "python",
   "name": "python3"
  },
  "language_info": {
   "codemirror_mode": {
    "name": "ipython",
    "version": 3
   },
   "file_extension": ".py",
   "mimetype": "text/x-python",
   "name": "python",
   "nbconvert_exporter": "python",
   "pygments_lexer": "ipython3",
   "version": "3.13.5"
  }
 },
 "nbformat": 4,
 "nbformat_minor": 5
}
