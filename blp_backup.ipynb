{
 "cells": [
  {
   "cell_type": "markdown",
   "id": "45ef1489",
   "metadata": {},
   "source": [
    "# Economics 600a Fall 2025 Prof. P. Haile Homework Assignment 1\n",
    "\n",
    "## 1 Overview\n",
    "You will estimate demand and supply in a stylized model of the market for pay-TV services. You will use a matrix programming language of your choice to create your own fake data set for the industry and do some relatively simple estimation. Then, using the **pyBLP** package of Conlon and Gortmaker, you will estimate the model and perform some merger simulations.\n",
    "\n",
    "The pyBLP package has excellent documentation and a very helpful tutorial (which covers merger simulation), both easy to find via Google.\n",
    "\n",
    "Please submit (on canvas) a single PDF document presenting your answers to the questions below, requested results, and well documented code. Write this up nicely, with properly formatted tables and discussion of results. You may work in groups on the coding. However, your write-ups should be your own work, and you must describe all collaboration at the beginning of your submission; this includes any use of AI.\n",
    "\n",
    "## 2 Model\n",
    "There are $T$ markets, each with four inside goods $j \\in \\{1,2,3,4\\}$ and an outside option. Goods 1 and 2 are satellite television services (e.g., DirecTV and Dish); goods 3 and 4 are wired television services (e.g., Frontier and Comcast in New Haven). The conditional indirect utility of consumer $i$ for good $j$ in market $t$ is given by\n",
    "\n",
    "\\begin{align*}\n",
    "u_{ijt} &= \\beta^{(1)} x_{jt} + \\beta_i^{(2)} satellite_{jt} + \\beta_i^{(3)} wired_{jt} + \\alpha p_{jt} + \\xi_{jt} + \\epsilon_{ijt} \\quad j > 0 \\\\\n",
    "u_{i0t} &= \\epsilon_{i0t},\n",
    "\\end{align*}\n",
    "\n",
    "where $x_{jt}$ is a measure of good $j$'s quality, $p_{jt}$ is its price, $satellite_{jt}$ is an indicator equal to 1 for the two satellite services, and $wired_{jt}$ is an indicator equal to 1 for the two wired services. The remaining notation is as usual in the class notes, including the i.i.d. type-1 extreme value $\\epsilon_{ijt}$. Each consumer purchases the good giving them the highest conditional indirect utility.\n",
    "\n",
    "Goods are produced by single-product firms. Firm $j$'s (log) marginal cost in market $t$ is\n",
    "\n",
    "\\begin{equation*}\n",
    "\\ln mc_{jt} = \\gamma^{(0)} + w_{jt} \\gamma^{(1)} + \\omega_{jt}/8,\n",
    "\\end{equation*}\n",
    "\n",
    "where $w_{jt}$ is an observed cost shifter. Firms compete by simultaneously choosing prices in each market under complete information. Firm $j$ has profit\n",
    "\n",
    "\\begin{equation*}\n",
    "\\pi_{jt} = \\max_{p_{jt}} (p_{jt} - mc_{jt}) s_{jt}(p_t).\n",
    "\\end{equation*}"
   ]
  },
  {
   "cell_type": "markdown",
   "id": "c9ee1070",
   "metadata": {},
   "source": [
    "## 3 Generate Fake Data\n",
    "\n",
    "Generate a data set from the model above. Let\n",
    "\n",
    "\\begin{align*}\n",
    "\\beta^{(1)} &= 1, \\quad \\beta_i^{(k)} \\sim \\text{iid } N(4,1) \\text{ for } k=2,3 \\\\\n",
    "\\alpha &= -2 \\\\\n",
    "\\gamma^{(0)} &= 1/2, \\quad \\gamma^{(1)} = 1/4.\n",
    "\\end{align*}"
   ]
  },
  {
   "cell_type": "code",
   "execution_count": 1,
   "id": "f8744e1a",
   "metadata": {},
   "outputs": [
    {
     "data": {
      "text/html": [
       "<style>pre { white-space: pre !important; }</style>"
      ],
      "text/plain": [
       "<IPython.core.display.HTML object>"
      ]
     },
     "metadata": {},
     "output_type": "display_data"
    }
   ],
   "source": [
    "import numpy as np\n",
    "import pandas as pd\n",
    "import scipy.optimize as opt\n",
    "from scipy.special import logsumexp\n",
    "import scipy.stats as stats\n",
    "import statsmodels.api as sm\n",
    "import statsmodels.formula.api as smf\n",
    "import time\n",
    "import IPython.display\n",
    "IPython.display.display(IPython.display.HTML('<style>pre { white-space: pre !important; }</style>'))"
   ]
  },
  {
   "cell_type": "markdown",
   "id": "a12caa47",
   "metadata": {},
   "source": [
    "### 1. \n",
    "Draw the exogenous product characteristic $x_{jt}$ for $T=600$ geographically defined markets (e.g., cities). Assume each $x_{jt}$ is equal to the absolute value of an iid standard normal draw, as is each $w_{jt}$. Simulate demand and cost unobservables as well, specifying\n",
    "\n",
    "\\begin{equation*}\n",
    "\\left(\n",
    "\\begin{array}{c}\n",
    "\\xi_{jt} \\\\\n",
    "\\omega_{jt}\n",
    "\\end{array}\n",
    "\\right) \\sim N\\left( \\left(\n",
    "\\begin{array}{c}\n",
    "0 \\\\\n",
    "0\n",
    "\\end{array}\n",
    "\\right), \\left(\n",
    "\\begin{array}{cc}\n",
    "1 & 0.25 \\\\\n",
    "0.25 & 1\n",
    "\\end{array}\n",
    "\\right) \\right) \\quad \\text{iid across } j,t.\n",
    "\\end{equation*}"
   ]
  },
  {
   "cell_type": "code",
   "execution_count": 2,
   "id": "6c9546c3",
   "metadata": {},
   "outputs": [
    {
     "name": "stdout",
     "output_type": "stream",
     "text": [
      "Question 1 completed:\n",
      "Generated 2400 observations across 600 markets\n",
      "x range: 0.001 to 3.534\n",
      "w range: 0.000 to 3.621\n",
      "ξ-ω correlation: 0.240 (target: 0.25)\n",
      "Satellite products: 1200, Wired products: 1200\n"
     ]
    }
   ],
   "source": [
    "np.random.seed(1995)\n",
    "\n",
    "# Model parameters\n",
    "T, J = 600, 4\n",
    "alpha, beta1 = -2, 1\n",
    "beta2, beta3 = 4, 4  \n",
    "sigma_satellite, sigma_wired = 1, 1\n",
    "gamma0, gamma1 = 0.5, 0.25\n",
    "\n",
    "# Product data structure\n",
    "data = [{'market_id': t, 'firm_id': j+1, 'product_id': j} for t in range(T) for j in range(J)]\n",
    "product_data = pd.DataFrame(data)\n",
    "\n",
    "# Exogenous variables: x_jt and w_jt as absolute values of iid standard normal draws\n",
    "product_data['x'] = np.abs(np.random.normal(0, 1, len(product_data)))\n",
    "product_data['w'] = np.abs(np.random.normal(0, 1, len(product_data)))\n",
    "\n",
    "# Indicators\n",
    "product_data['satellite'] = product_data['firm_id'].isin([1, 2]).astype(int)\n",
    "product_data['wired'] = product_data['firm_id'].isin([3, 4]).astype(int)\n",
    "\n",
    "# Add BLP-style instruments\n",
    "product_data['sum_x_competitors'] = product_data.groupby('market_id')['x'].transform('sum') - product_data['x']\n",
    "product_data['sum_w_competitors'] = product_data.groupby('market_id')['w'].transform('sum') - product_data['w']\n",
    "\n",
    "# Unobservables: ξ_jt and ω_jt with covariance matrix [[1, 0.25], [0.25, 1]]\n",
    "cov_matrix = np.array([[1, 0.25], [0.25, 1]])\n",
    "A = np.linalg.cholesky(cov_matrix)\n",
    "z = np.random.normal(0, 1, (len(product_data), 2))\n",
    "unobs = z @ A.T\n",
    "product_data['xi'] = unobs[:, 0]  # demand unobservable\n",
    "product_data['omega'] = unobs[:, 1]  # cost unobservable\n",
    "\n",
    "print(\"Question 1 completed:\")\n",
    "print(f\"Generated {len(product_data)} observations across {T} markets\")\n",
    "print(f'x range: {product_data['x'].min():.3f} to {product_data['x'].max():.3f}')\n",
    "print(f\"w range: {product_data[\"w\"].min():.3f} to {product_data[\"w\"].max():.3f}\")\n",
    "print(f\"ξ-ω correlation: {product_data[['xi', 'omega']].corr().iloc[0,1]:.3f} (target: 0.25)\")\n",
    "print(f\"Satellite products: {product_data[\"satellite\"].sum()}, Wired products: {product_data[\"wired\"].sum()}\")"
   ]
  },
  {
   "cell_type": "markdown",
   "id": "d9ed4c4c",
   "metadata": {},
   "source": [
    "### 2. Solve for the equilibrium prices for each good in each market.\n",
    "\n",
    "**(a)** Start by writing a procedure to approximate the derivatives of market shares with respect to prices (taking prices, shares, x, and demand parameters as inputs). The key steps are:\n",
    "\n",
    "(i) For each $jt$, write the choice probability for good $j$, $s_{jt}$, as a weighted average (integral) of the (multinomial logit) choice probabilities conditional on the value of each consumer's random coefficients;"
   ]
  },
  {
   "cell_type": "markdown",
   "id": "693a0d7a",
   "metadata": {},
   "source": [
    "The market share for good $j$ in market $t$, $s_{jt}$, is the probability that a consumer chooses good $j$:\n",
    "\n",
    "$$s_{jt} = \\int P(\\text{choose } j | \\beta_i^{(2)}, \\beta_i^{(3)}) f(\\beta_i^{(2)}, \\beta_i^{(3)}) d\\beta_i^{(2)} d\\beta_i^{(3)}$$\n",
    "\n",
    "where $P(\\text{choose } j | \\beta_i^{(2)}, \\beta_i^{(3)})$ is the multinomial logit choice probability conditional on the random coefficients.\n",
    "\n",
    "Given the random coefficients $\\beta_i^{(2)}$ and $\\beta_i^{(3)}$ (with means $\\beta^{(2)} = 4$, $\\beta^{(3)} = 4$ and variances $\\sigma_2^2 = 1$, $\\sigma_3^2 = 1$), the conditional utility becomes:\n",
    "\n",
    "$$u_{ijt} = \\beta^{(1)} x_{jt} + \\beta_i^{(2)} satellite_{jt} + \\beta_i^{(3)} wired_{jt} + \\alpha p_{jt} + \\xi_{jt} + \\epsilon_{ijt}$$\n",
    "\n",
    "Since $\\epsilon_{ijt}$ are i.i.d. Type-1 extreme value, the conditional choice probability follows the multinomial logit form:\n",
    "\n",
    "$$P(\\text{choose } j | \\beta_i^{(2)}, \\beta_i^{(3)}) = \\frac{\\exp(\\delta_{jt} + \\mu_{jt}^i)}{\\sum_{k=1}^J \\exp(\\delta_{kt} + \\mu_{kt}^i) + 1}$$\n",
    "\n",
    "where:\n",
    "- $\\delta_{jt} = \\beta^{(1)} x_{jt} + \\alpha p_{jt} + \\xi_{jt}$ (mean utility component)\n",
    "- $\\mu_{jt}^i = \\beta_i^{(2)} satellite_{jt} + \\beta_i^{(3)} wired_{jt}$ (random utility component)\n",
    "\n",
    "**Final Expression:**\n",
    "\n",
    "$$s_{jt} = \\int \\frac{\\exp(\\delta_{jt} + \\beta_i^{(2)} satellite_{jt} + \\beta_i^{(3)} wired_{jt})}{\\sum_{k=1}^J \\exp(\\delta_{kt} + \\beta_i^{(2)} satellite_{kt} + \\beta_i^{(3)} wired_{kt}) + 1} \\phi(\\beta_i^{(2)}, \\beta_i^{(3)}) d\\beta_i^{(2)} d\\beta_i^{(3)}$$\n",
    "\n",
    "where $\\phi(\\cdot, \\cdot)$ is the bivariate normal density with mean $(\\beta^{(2)}, \\beta^{(3)}) = (4, 4)$ and covariance matrix $\\text{diag}(1, 1)$.\n",
    "\n",
    "This integral is approximated in the code using Monte Carlo simulation with draws from the normal distribution of $(\\beta_i^{(2)}, \\beta_i^{(3)})$."
   ]
  },
  {
   "cell_type": "markdown",
   "id": "4bfaf6df",
   "metadata": {},
   "source": [
    "(ii) Anticipating differentiation under the integral sign, derive the analytical expression for the derivative of the integrand with respect to each $p_{kt}$.\n",
    "\n",
    "The integrand is the conditional choice probability $P(\\text{choose } j | \\beta_i^{(2)}, \\beta_i^{(3)})$, which depends on prices through the mean utility component $\\delta_{jt} = \\beta^{(1)} x_{jt} + \\alpha p_{jt} + \\xi_{jt}$.\n",
    "\n",
    "Since $p_{kt}$ appears in $\\delta_{kt}$, the derivative with respect to $p_{kt}$ affects the choice probability.\n",
    "\n",
    "For the multinomial logit model, the derivative of the choice probability with respect to a price is:\n",
    "\n",
    "$$\\frac{\\partial P(\\text{choose } j | \\beta_i^{(2)}, \\beta_i^{(3)})}{\\partial p_{kt}} = \\alpha P(j|\\beta_i) \\left( \\delta_{jk} - P(k|\\beta_i) \\right)$$\n",
    "\n",
    "where $\\delta_{jk} = 1$ if $j = k$ and 0 otherwise.\n",
    "\n",
    "This follows from the general formula for multinomial logit derivatives:\n",
    "\n",
    "$$\\frac{\\partial P_j}{\\partial p_k} = \\alpha P_j (I_{jk} - P_k)$$\n",
    "\n",
    "where $I_{jk}$ is the indicator function equal to 1 if $j = k$.\n",
    "\n",
    "Therefore, the derivative of the integrand (conditional choice probability) with respect to $p_{kt}$ is:\n",
    "\n",
    "$$\\frac{\\partial}{\\partial p_{kt}} \\left[ \\frac{\\exp(\\delta_{jt} + \\mu_{jt}^i)}{\\sum_{m=1}^J \\exp(\\delta_{mt} + \\mu_{mt}^i) + 1} \\right] = \\alpha \\cdot \\frac{\\exp(\\delta_{jt} + \\mu_{jt}^i)}{\\sum_{m=1}^J \\exp(\\delta_{mt} + \\mu_{mt}^i) + 1} \\left( I_{jk} - \\frac{\\exp(\\delta_{kt} + \\mu_{kt}^i)}{\\sum_{m=1}^J \\exp(\\delta_{mt} + \\mu_{mt}^i) + 1} \\right)$$"
   ]
  },
  {
   "cell_type": "markdown",
   "id": "28c2c76a",
   "metadata": {},
   "source": [
    "3. Use the expression you obtained in (2) and simulation draws of the random coefficients to approximate the integral that corresponds to $\\partial s_{jt}/\\partial p_{kt}$ for each $j$ and $k$ (i.e., replace the integral with the mean over the values at each simulation draw). Recall the advice in the lecture regarding \"jittering.\""
   ]
  },
  {
   "cell_type": "code",
   "execution_count": null,
   "id": "24ba8096",
   "metadata": {},
   "outputs": [],
   "source": [
    "def compute_market_shares(prices, market_data, v_draws=None, n_draws=1000, safe=True):\n",
    "    \"\"\"Compute market shares using simulation\"\"\"\n",
    "    if v_draws is None:\n",
    "        v_draws = np.random.multivariate_normal([beta2, beta3], np.diag([sigma_satellite, sigma_wired]), size=n_draws)\n",
    "    J = len(market_data)\n",
    "    n_draws = v_draws.shape[0]\n",
    "    x, xi = market_data['x'].values, market_data['xi'].values\n",
    "    sat, wired = market_data['satellite'].values, market_data['wired'].values\n",
    "    utilities = (beta1 * x + xi + v_draws[:, 0:1] * sat + v_draws[:, 1:2] * wired + alpha * prices)\n",
    "    utilities = np.column_stack([utilities, np.zeros(n_draws)])\n",
    "    if safe:\n",
    "        utility_reduction = np.clip(utilities.max(axis=0, keepdims=True), 0, None)\n",
    "        utilities -= utility_reduction\n",
    "        exp_u = np.exp(utilities)\n",
    "        scale = np.exp(-utility_reduction)\n",
    "        choice_probs = exp_u / (scale + exp_u.sum(axis=1, keepdims=True))\n",
    "    else:\n",
    "        exp_u = np.exp(utilities)\n",
    "        choice_probs = exp_u / exp_u.sum(axis=1, keepdims=True)\n",
    "    shares = np.mean(choice_probs[:, :J], axis=0)\n",
    "    return shares\n",
    "\n",
    "def approximate_share_derivatives(prices, market_data, v_draws):\n",
    "    \"\"\"Approximate ∂s_j/∂p_k using simulation\"\"\"\n",
    "    J, n_draws = len(market_data), v_draws.shape[0]\n",
    "    x, xi = market_data['x'].values, market_data['xi'].values\n",
    "    sat, wired = market_data['satellite'].values, market_data['wired'].values\n",
    "    utilities = (beta1 * x + xi + v_draws[:, 0:1] * sat + v_draws[:, 1:2] * wired + alpha * prices)\n",
    "    utilities = np.column_stack([utilities, np.zeros(n_draws)])\n",
    "    # Safe computation to avoid overflow\n",
    "    utility_reduction = np.clip(utilities.max(axis=1, keepdims=True), 0, None)\n",
    "    utilities -= utility_reduction\n",
    "    exp_u = np.exp(utilities)\n",
    "    scale = np.exp(-utility_reduction)\n",
    "    choice_probs = exp_u / (scale + exp_u.sum(axis=1, keepdims=True))\n",
    "    inside_shares_draws = choice_probs[:, :J]\n",
    "    derivatives = np.zeros((J, J))\n",
    "    for j in range(J):\n",
    "        for k in range(J):\n",
    "            if j == k:\n",
    "                deriv_jk = inside_shares_draws[:, j] * (1 - inside_shares_draws[:, j])\n",
    "            else:\n",
    "                deriv_jk = -inside_shares_draws[:, j] * inside_shares_draws[:, k]\n",
    "            derivatives[j, k] = alpha * np.mean(deriv_jk)  # Include α factor\n",
    "    return derivatives"
   ]
  },
  {
   "cell_type": "markdown",
   "id": "bc99991e",
   "metadata": {},
   "source": [
    "The derivative $\\partial s_{jt}/\\partial p_{kt}$ is approximated using Monte Carlo simulation. For each simulation draw $r = 1, \\dots, R$ of the random coefficients $(\\beta_i^{(2)}, \\beta_i^{(3)})$, compute the conditional choice probability $P(\\text{choose } j | \\beta_i^{(2)}, \\beta_i^{(3)})$ and its derivative with respect to prices.\n",
    "\n",
    "The derivative of the conditional choice probability follows from the multinomial logit formula:\n",
    "\n",
    "$$\\frac{\\partial P(\\text{choose } j | \\beta_i^{(2)}, \\beta_i^{(3)})}{\\partial p_{kt}} = \\alpha P(j|\\beta_i) \\left( \\delta_{jk} - P(k|\\beta_i) \\right)$$\n",
    "\n",
    "where $\\delta_{jk} = 1$ if $j = k` and 0 otherwise.\n",
    "\n",
    "Then, the market share derivative is approximated as:\n",
    "\n",
    "$$\\frac{\\partial s_{jt}}{\\partial p_{kt}} \\approx \\frac{1}{R} \\sum_{r=1}^R \\frac{\\partial P(\\text{choose } j | \\beta_i^{(2,r)}, \\beta_i^{(3,r)})}{\\partial p_{kt}}$$"
   ]
  },
  {
   "cell_type": "markdown",
   "id": "ab755210",
   "metadata": {},
   "source": [
    "Regarding \"jittering\": When solving for equilibrium prices iteratively, redrawing simulation draws in each iteration introduces random noise that can prevent convergence. To avoid this, pre-draw a fixed set of simulation draws for each market and reuse them throughout the solution process."
   ]
  },
  {
   "cell_type": "code",
   "execution_count": 4,
   "id": "26550341",
   "metadata": {},
   "outputs": [],
   "source": [
    "# Pre-draw simulation draws (to avoid jittering)\n",
    "n_draws = 100\n",
    "all_v_draws = [np.random.multivariate_normal([beta2, beta3], np.diag([sigma_satellite, sigma_wired]), size=n_draws) for _ in range(T)]"
   ]
  },
  {
   "cell_type": "markdown",
   "id": "adc1ed54",
   "metadata": {},
   "source": [
    "(iv) Experiment to see how many simulation draws you need to get precise approximations and check this again at the equilibrium shares and prices you obtained below."
   ]
  },
  {
   "cell_type": "code",
   "execution_count": 5,
   "id": "0ed79e7b",
   "metadata": {},
   "outputs": [
    {
     "name": "stdout",
     "output_type": "stream",
     "text": [
      "Testing derivative approximation convergence at initial prices:\n",
      "Draws\t| Derivative Std Dev\t| Time (s)\n",
      "----------------------------------------\n",
      "    50\t| 4.31e-03\t\t| 0.00\n",
      "   100\t| 3.49e-03\t\t| 0.00\n",
      "   200\t| 2.80e-03\t\t| 0.00\n",
      "   500\t| 2.09e-03\t\t| 0.00\n",
      "  1000\t| 1.33e-03\t\t| 0.00\n",
      "  2000\t| 8.18e-04\t\t| 0.00\n",
      "  5000\t| 4.68e-04\t\t| 0.00\n",
      "\n",
      "CONCLUSION: At initial prices 20% above MC, derivatives stabilize with 2000 simulation draws.\n"
     ]
    }
   ],
   "source": [
    "# Marginal costs: ln(mc_jt) = γ₀ + w_jt γ₁ + ω_jt/8\n",
    "product_data['mc'] = np.exp(gamma0 + gamma1 * product_data['w'] + product_data['omega'] / 8)\n",
    "\n",
    "# Test on market 0\n",
    "market_data = product_data[product_data['market_id'] == 0]\n",
    "prices_initial = market_data['mc'].values * 1.2  # Initial prices 20% above MC\n",
    "draw_counts = [50, 100, 200, 500, 1000, 2000, 5000]\n",
    "print(\"Testing derivative approximation convergence at initial prices:\")\n",
    "print(\"Draws\\t| Derivative Std Dev\\t| Time (s)\")\n",
    "print(\"-\" * 40)\n",
    "initial_stds = []\n",
    "for n_draws in draw_counts:\n",
    "    start_time = time.time()\n",
    "\n",
    "    # Compute derivatives at initial prices (5 repetitions for stability)\n",
    "    deriv_initial_list = []\n",
    "    for rep in range(5):\n",
    "        v_draws = np.random.multivariate_normal([beta2, beta3], np.diag([sigma_satellite, sigma_wired]), size=n_draws)\n",
    "        deriv = approximate_share_derivatives(prices_initial, market_data, v_draws)\n",
    "        deriv_initial_list.append(deriv)\n",
    "\n",
    "    deriv_initial_avg = np.mean(deriv_initial_list, axis=0)\n",
    "    deriv_initial_std = np.std(deriv_initial_list, axis=0)\n",
    "    initial_stds.append(deriv_initial_std.mean())\n",
    "\n",
    "    computation_time = time.time() - start_time\n",
    "\n",
    "    print(f\"{n_draws:6d}\\t| {deriv_initial_std.mean():.2e}\\t\\t| {computation_time:.2f}\")\n",
    "\n",
    "# Determine stabilization point for initial prices\n",
    "initial_stds = np.array(initial_stds)\n",
    "threshold = 0.001\n",
    "stable_idx = None\n",
    "for i in range(1, len(initial_stds)):\n",
    "    if initial_stds[i] < threshold and abs(initial_stds[i] - initial_stds[i-1]) / initial_stds[i-1] < 0.5:\n",
    "        stable_idx = i\n",
    "        break\n",
    "\n",
    "if stable_idx is not None:\n",
    "    stable_draws = draw_counts[stable_idx]\n",
    "    print(f\"\\nCONCLUSION: At initial prices 20% above MC, derivatives stabilize with {stable_draws} simulation draws.\")\n",
    "else:\n",
    "    print(f\"\\nCONCLUSION: At initial prices 20% above MC, derivatives show decreasing variance, with best stability at {draw_counts[np.argmin(initial_stds)]} draws.\")"
   ]
  },
  {
   "cell_type": "markdown",
   "id": "9c5aa25a",
   "metadata": {},
   "source": [
    "(b) The FOC for firm $j$'s profit maximization problem in market $t$ is\n",
    "\n",
    "\\begin{align}\n",
    "(p_{jt} - mc_{jt}) \\frac{\\partial s_{jt}}{\\partial p_{jt}} + s_{jt} &= 0 \\notag \\\\\n",
    "\\implies p_{jt} - mc_{jt} &= -\\left( \\frac{\\partial s_{jt}}{\\partial p_{jt}} \\right)^{-1} s_{jt}\n",
    "\\end{align}"
   ]
  },
  {
   "cell_type": "code",
   "execution_count": 6,
   "id": "59c91cf6",
   "metadata": {},
   "outputs": [
    {
     "name": "stdout",
     "output_type": "stream",
     "text": [
      "MC range: 1.135 to 4.652\n",
      "MC mean: 2.058, median: 1.994\n",
      "FOC: (p_jt - mc_jt) * ∂s_jt/∂p_jt + s_jt = 0\n",
      "Rearranged: p_jt - mc_jt = - (∂s_jt/∂p_jt)⁻¹ * s_jt\n"
     ]
    }
   ],
   "source": [
    "\n",
    "print(f\"MC range: {product_data['mc'].min():.3f} to {product_data['mc'].max():.3f}\")\n",
    "print(f\"MC mean: {product_data['mc'].mean():.3f}, median: {product_data['mc'].median():.3f}\")\n",
    "print(\"FOC: (p_jt - mc_jt) * ∂s_jt/∂p_jt + s_jt = 0\")\n",
    "print(\"Rearranged: p_jt - mc_jt = - (∂s_jt/∂p_jt)⁻¹ * s_jt\")"
   ]
  },
  {
   "cell_type": "markdown",
   "id": "fd5bec32",
   "metadata": {},
   "source": [
    "(c) Substituting in your approximation of each $\\partial s_{jt}/\\partial p_{jt}$, solve the system of equations above ($J$ equations per market) for the equilibrium prices in each market.\n",
    "\n",
    "**i.** First do this using Matlab's \"fsolve\" operator. Check the exit flag from fsolve to be sure whether you found a solution for each market."
   ]
  },
  {
   "cell_type": "code",
   "execution_count": 10,
   "id": "fe9d089e",
   "metadata": {},
   "outputs": [
    {
     "name": "stderr",
     "output_type": "stream",
     "text": [
      "/var/folders/4c/ww4k0h5j0fq1529s2dttb4t00000gn/T/ipykernel_1415/800124215.py:30: RuntimeWarning: overflow encountered in exp\n",
      "  exp_u = np.exp(utilities)\n",
      "/var/folders/4c/ww4k0h5j0fq1529s2dttb4t00000gn/T/ipykernel_1415/800124215.py:31: RuntimeWarning: invalid value encountered in divide\n",
      "  choice_probs = exp_u / exp_u.sum(axis=1, keepdims=True)\n"
     ]
    },
    {
     "ename": "LinAlgError",
     "evalue": "SVD did not converge",
     "output_type": "error",
     "traceback": [
      "\u001b[0;31m---------------------------------------------------------------------------\u001b[0m",
      "\u001b[0;31mLinAlgError\u001b[0m                               Traceback (most recent call last)",
      "Cell \u001b[0;32mIn[10], line 22\u001b[0m\n\u001b[1;32m     19\u001b[0m mc_market \u001b[38;5;241m=\u001b[39m market_data[\u001b[38;5;124m'\u001b[39m\u001b[38;5;124mmc\u001b[39m\u001b[38;5;124m'\u001b[39m]\u001b[38;5;241m.\u001b[39mvalues\n\u001b[1;32m     20\u001b[0m v_draws \u001b[38;5;241m=\u001b[39m all_v_draws[t] \u001b[38;5;66;03m# Pre-drawn simulation draws (to avoid jittering)\u001b[39;00m\n\u001b[0;32m---> 22\u001b[0m prices_direct, success \u001b[38;5;241m=\u001b[39m \u001b[43msolve_prices_direct\u001b[49m\u001b[43m(\u001b[49m\u001b[43mmarket_data\u001b[49m\u001b[43m,\u001b[49m\u001b[43m \u001b[49m\u001b[43mmc_market\u001b[49m\u001b[43m,\u001b[49m\u001b[43m \u001b[49m\u001b[43mv_draws\u001b[49m\u001b[43m)\u001b[49m\n\u001b[1;32m     23\u001b[0m equilibrium_prices_direct\u001b[38;5;241m.\u001b[39mappend(prices_direct)\n\u001b[1;32m     24\u001b[0m success_flags_direct\u001b[38;5;241m.\u001b[39mappend(success)\n",
      "Cell \u001b[0;32mIn[10], line 10\u001b[0m, in \u001b[0;36msolve_prices_direct\u001b[0;34m(market_data, mc_market, v_draws)\u001b[0m\n\u001b[1;32m      7\u001b[0m     markup \u001b[38;5;241m=\u001b[39m \u001b[38;5;241m-\u001b[39mnp\u001b[38;5;241m.\u001b[39mlinalg\u001b[38;5;241m.\u001b[39mpinv(derivatives) \u001b[38;5;241m@\u001b[39m shares\n\u001b[1;32m      8\u001b[0m     \u001b[38;5;28;01mreturn\u001b[39;00m prices \u001b[38;5;241m-\u001b[39m mc_market \u001b[38;5;241m-\u001b[39m markup\n\u001b[0;32m---> 10\u001b[0m sol \u001b[38;5;241m=\u001b[39m \u001b[43mopt\u001b[49m\u001b[38;5;241;43m.\u001b[39;49m\u001b[43mroot\u001b[49m\u001b[43m(\u001b[49m\u001b[43mresidual\u001b[49m\u001b[43m,\u001b[49m\u001b[43m \u001b[49m\u001b[43mmc_market\u001b[49m\u001b[43m,\u001b[49m\u001b[43m \u001b[49m\u001b[43mmethod\u001b[49m\u001b[38;5;241;43m=\u001b[39;49m\u001b[38;5;124;43m'\u001b[39;49m\u001b[38;5;124;43mhybr\u001b[39;49m\u001b[38;5;124;43m'\u001b[39;49m\u001b[43m,\u001b[49m\u001b[43m \u001b[49m\u001b[43moptions\u001b[49m\u001b[38;5;241;43m=\u001b[39;49m\u001b[43m{\u001b[49m\u001b[38;5;124;43m'\u001b[39;49m\u001b[38;5;124;43mxtol\u001b[39;49m\u001b[38;5;124;43m'\u001b[39;49m\u001b[43m:\u001b[49m\u001b[43m \u001b[49m\u001b[38;5;241;43m1e-6\u001b[39;49m\u001b[43m,\u001b[49m\u001b[43m \u001b[49m\u001b[38;5;124;43m'\u001b[39;49m\u001b[38;5;124;43mmaxfev\u001b[39;49m\u001b[38;5;124;43m'\u001b[39;49m\u001b[43m:\u001b[49m\u001b[43m \u001b[49m\u001b[38;5;241;43m10000\u001b[39;49m\u001b[43m}\u001b[49m\u001b[43m)\u001b[49m\n\u001b[1;32m     11\u001b[0m \u001b[38;5;28;01mreturn\u001b[39;00m sol\u001b[38;5;241m.\u001b[39mx, sol\u001b[38;5;241m.\u001b[39msuccess\n",
      "File \u001b[0;32m/opt/anaconda3/lib/python3.13/site-packages/scipy/optimize/_root.py:253\u001b[0m, in \u001b[0;36mroot\u001b[0;34m(fun, x0, args, method, jac, tol, callback, options)\u001b[0m\n\u001b[1;32m    250\u001b[0m         options\u001b[38;5;241m.\u001b[39msetdefault(\u001b[38;5;124m'\u001b[39m\u001b[38;5;124mfatol\u001b[39m\u001b[38;5;124m'\u001b[39m, np\u001b[38;5;241m.\u001b[39minf)\n\u001b[1;32m    252\u001b[0m \u001b[38;5;28;01mif\u001b[39;00m meth \u001b[38;5;241m==\u001b[39m \u001b[38;5;124m'\u001b[39m\u001b[38;5;124mhybr\u001b[39m\u001b[38;5;124m'\u001b[39m:\n\u001b[0;32m--> 253\u001b[0m     sol \u001b[38;5;241m=\u001b[39m \u001b[43m_root_hybr\u001b[49m\u001b[43m(\u001b[49m\u001b[43m_wrapped_fun\u001b[49m\u001b[43m,\u001b[49m\u001b[43m \u001b[49m\u001b[43mx0\u001b[49m\u001b[43m,\u001b[49m\u001b[43m \u001b[49m\u001b[43margs\u001b[49m\u001b[38;5;241;43m=\u001b[39;49m\u001b[43margs\u001b[49m\u001b[43m,\u001b[49m\u001b[43m \u001b[49m\u001b[43mjac\u001b[49m\u001b[38;5;241;43m=\u001b[39;49m\u001b[43mjac\u001b[49m\u001b[43m,\u001b[49m\u001b[43m \u001b[49m\u001b[38;5;241;43m*\u001b[39;49m\u001b[38;5;241;43m*\u001b[39;49m\u001b[43moptions\u001b[49m\u001b[43m)\u001b[49m\n\u001b[1;32m    254\u001b[0m \u001b[38;5;28;01melif\u001b[39;00m meth \u001b[38;5;241m==\u001b[39m \u001b[38;5;124m'\u001b[39m\u001b[38;5;124mlm\u001b[39m\u001b[38;5;124m'\u001b[39m:\n\u001b[1;32m    255\u001b[0m     sol \u001b[38;5;241m=\u001b[39m _root_leastsq(_wrapped_fun, x0, args\u001b[38;5;241m=\u001b[39margs, jac\u001b[38;5;241m=\u001b[39mjac, \u001b[38;5;241m*\u001b[39m\u001b[38;5;241m*\u001b[39moptions)\n",
      "File \u001b[0;32m/opt/anaconda3/lib/python3.13/site-packages/scipy/optimize/_minpack_py.py:250\u001b[0m, in \u001b[0;36m_root_hybr\u001b[0;34m(func, x0, args, jac, col_deriv, xtol, maxfev, band, eps, factor, diag, **unknown_options)\u001b[0m\n\u001b[1;32m    248\u001b[0m     \u001b[38;5;28;01mif\u001b[39;00m maxfev \u001b[38;5;241m==\u001b[39m \u001b[38;5;241m0\u001b[39m:\n\u001b[1;32m    249\u001b[0m         maxfev \u001b[38;5;241m=\u001b[39m \u001b[38;5;241m200\u001b[39m \u001b[38;5;241m*\u001b[39m (n \u001b[38;5;241m+\u001b[39m \u001b[38;5;241m1\u001b[39m)\n\u001b[0;32m--> 250\u001b[0m     retval \u001b[38;5;241m=\u001b[39m \u001b[43m_minpack\u001b[49m\u001b[38;5;241;43m.\u001b[39;49m\u001b[43m_hybrd\u001b[49m\u001b[43m(\u001b[49m\u001b[43mfunc\u001b[49m\u001b[43m,\u001b[49m\u001b[43m \u001b[49m\u001b[43mx0\u001b[49m\u001b[43m,\u001b[49m\u001b[43m \u001b[49m\u001b[43margs\u001b[49m\u001b[43m,\u001b[49m\u001b[43m \u001b[49m\u001b[38;5;241;43m1\u001b[39;49m\u001b[43m,\u001b[49m\u001b[43m \u001b[49m\u001b[43mxtol\u001b[49m\u001b[43m,\u001b[49m\u001b[43m \u001b[49m\u001b[43mmaxfev\u001b[49m\u001b[43m,\u001b[49m\n\u001b[1;32m    251\u001b[0m \u001b[43m                             \u001b[49m\u001b[43mml\u001b[49m\u001b[43m,\u001b[49m\u001b[43m \u001b[49m\u001b[43mmu\u001b[49m\u001b[43m,\u001b[49m\u001b[43m \u001b[49m\u001b[43mepsfcn\u001b[49m\u001b[43m,\u001b[49m\u001b[43m \u001b[49m\u001b[43mfactor\u001b[49m\u001b[43m,\u001b[49m\u001b[43m \u001b[49m\u001b[43mdiag\u001b[49m\u001b[43m)\u001b[49m\n\u001b[1;32m    252\u001b[0m \u001b[38;5;28;01melse\u001b[39;00m:\n\u001b[1;32m    253\u001b[0m     _check_func(\u001b[38;5;124m'\u001b[39m\u001b[38;5;124mfsolve\u001b[39m\u001b[38;5;124m'\u001b[39m, \u001b[38;5;124m'\u001b[39m\u001b[38;5;124mfprime\u001b[39m\u001b[38;5;124m'\u001b[39m, Dfun, x0, args, n, (n, n))\n",
      "File \u001b[0;32m/opt/anaconda3/lib/python3.13/site-packages/scipy/optimize/_root.py:215\u001b[0m, in \u001b[0;36mroot.<locals>._wrapped_fun\u001b[0;34m(*fargs)\u001b[0m\n\u001b[1;32m    210\u001b[0m \u001b[38;5;250m\u001b[39m\u001b[38;5;124;03m\"\"\"\u001b[39;00m\n\u001b[1;32m    211\u001b[0m \u001b[38;5;124;03mWrapped `func` to track the number of times\u001b[39;00m\n\u001b[1;32m    212\u001b[0m \u001b[38;5;124;03mthe function has been called.\u001b[39;00m\n\u001b[1;32m    213\u001b[0m \u001b[38;5;124;03m\"\"\"\u001b[39;00m\n\u001b[1;32m    214\u001b[0m _wrapped_fun\u001b[38;5;241m.\u001b[39mnfev \u001b[38;5;241m+\u001b[39m\u001b[38;5;241m=\u001b[39m \u001b[38;5;241m1\u001b[39m\n\u001b[0;32m--> 215\u001b[0m \u001b[38;5;28;01mreturn\u001b[39;00m \u001b[43mfun\u001b[49m\u001b[43m(\u001b[49m\u001b[38;5;241;43m*\u001b[39;49m\u001b[43mfargs\u001b[49m\u001b[43m)\u001b[49m\n",
      "Cell \u001b[0;32mIn[10], line 7\u001b[0m, in \u001b[0;36msolve_prices_direct.<locals>.residual\u001b[0;34m(prices)\u001b[0m\n\u001b[1;32m      5\u001b[0m derivatives \u001b[38;5;241m=\u001b[39m approximate_share_derivatives(prices, market_data, v_draws)\n\u001b[1;32m      6\u001b[0m J \u001b[38;5;241m=\u001b[39m \u001b[38;5;28mlen\u001b[39m(derivatives)\n\u001b[0;32m----> 7\u001b[0m markup \u001b[38;5;241m=\u001b[39m \u001b[38;5;241m-\u001b[39m\u001b[43mnp\u001b[49m\u001b[38;5;241;43m.\u001b[39;49m\u001b[43mlinalg\u001b[49m\u001b[38;5;241;43m.\u001b[39;49m\u001b[43mpinv\u001b[49m\u001b[43m(\u001b[49m\u001b[43mderivatives\u001b[49m\u001b[43m)\u001b[49m \u001b[38;5;241m@\u001b[39m shares\n\u001b[1;32m      8\u001b[0m \u001b[38;5;28;01mreturn\u001b[39;00m prices \u001b[38;5;241m-\u001b[39m mc_market \u001b[38;5;241m-\u001b[39m markup\n",
      "File \u001b[0;32m/opt/anaconda3/lib/python3.13/site-packages/numpy/linalg/_linalg.py:2231\u001b[0m, in \u001b[0;36mpinv\u001b[0;34m(a, rcond, hermitian, rtol)\u001b[0m\n\u001b[1;32m   2229\u001b[0m     \u001b[38;5;28;01mreturn\u001b[39;00m wrap(res)\n\u001b[1;32m   2230\u001b[0m a \u001b[38;5;241m=\u001b[39m a\u001b[38;5;241m.\u001b[39mconjugate()\n\u001b[0;32m-> 2231\u001b[0m u, s, vt \u001b[38;5;241m=\u001b[39m \u001b[43msvd\u001b[49m\u001b[43m(\u001b[49m\u001b[43ma\u001b[49m\u001b[43m,\u001b[49m\u001b[43m \u001b[49m\u001b[43mfull_matrices\u001b[49m\u001b[38;5;241;43m=\u001b[39;49m\u001b[38;5;28;43;01mFalse\u001b[39;49;00m\u001b[43m,\u001b[49m\u001b[43m \u001b[49m\u001b[43mhermitian\u001b[49m\u001b[38;5;241;43m=\u001b[39;49m\u001b[43mhermitian\u001b[49m\u001b[43m)\u001b[49m\n\u001b[1;32m   2233\u001b[0m \u001b[38;5;66;03m# discard small singular values\u001b[39;00m\n\u001b[1;32m   2234\u001b[0m cutoff \u001b[38;5;241m=\u001b[39m rcond[\u001b[38;5;241m.\u001b[39m\u001b[38;5;241m.\u001b[39m\u001b[38;5;241m.\u001b[39m, newaxis] \u001b[38;5;241m*\u001b[39m amax(s, axis\u001b[38;5;241m=\u001b[39m\u001b[38;5;241m-\u001b[39m\u001b[38;5;241m1\u001b[39m, keepdims\u001b[38;5;241m=\u001b[39m\u001b[38;5;28;01mTrue\u001b[39;00m)\n",
      "File \u001b[0;32m/opt/anaconda3/lib/python3.13/site-packages/numpy/linalg/_linalg.py:1812\u001b[0m, in \u001b[0;36msvd\u001b[0;34m(a, full_matrices, compute_uv, hermitian)\u001b[0m\n\u001b[1;32m   1808\u001b[0m signature \u001b[38;5;241m=\u001b[39m \u001b[38;5;124m'\u001b[39m\u001b[38;5;124mD->DdD\u001b[39m\u001b[38;5;124m'\u001b[39m \u001b[38;5;28;01mif\u001b[39;00m isComplexType(t) \u001b[38;5;28;01melse\u001b[39;00m \u001b[38;5;124m'\u001b[39m\u001b[38;5;124md->ddd\u001b[39m\u001b[38;5;124m'\u001b[39m\n\u001b[1;32m   1809\u001b[0m \u001b[38;5;28;01mwith\u001b[39;00m errstate(call\u001b[38;5;241m=\u001b[39m_raise_linalgerror_svd_nonconvergence,\n\u001b[1;32m   1810\u001b[0m               invalid\u001b[38;5;241m=\u001b[39m\u001b[38;5;124m'\u001b[39m\u001b[38;5;124mcall\u001b[39m\u001b[38;5;124m'\u001b[39m, over\u001b[38;5;241m=\u001b[39m\u001b[38;5;124m'\u001b[39m\u001b[38;5;124mignore\u001b[39m\u001b[38;5;124m'\u001b[39m, divide\u001b[38;5;241m=\u001b[39m\u001b[38;5;124m'\u001b[39m\u001b[38;5;124mignore\u001b[39m\u001b[38;5;124m'\u001b[39m,\n\u001b[1;32m   1811\u001b[0m               under\u001b[38;5;241m=\u001b[39m\u001b[38;5;124m'\u001b[39m\u001b[38;5;124mignore\u001b[39m\u001b[38;5;124m'\u001b[39m):\n\u001b[0;32m-> 1812\u001b[0m     u, s, vh \u001b[38;5;241m=\u001b[39m \u001b[43mgufunc\u001b[49m\u001b[43m(\u001b[49m\u001b[43ma\u001b[49m\u001b[43m,\u001b[49m\u001b[43m \u001b[49m\u001b[43msignature\u001b[49m\u001b[38;5;241;43m=\u001b[39;49m\u001b[43msignature\u001b[49m\u001b[43m)\u001b[49m\n\u001b[1;32m   1813\u001b[0m u \u001b[38;5;241m=\u001b[39m u\u001b[38;5;241m.\u001b[39mastype(result_t, copy\u001b[38;5;241m=\u001b[39m\u001b[38;5;28;01mFalse\u001b[39;00m)\n\u001b[1;32m   1814\u001b[0m s \u001b[38;5;241m=\u001b[39m s\u001b[38;5;241m.\u001b[39mastype(_realType(result_t), copy\u001b[38;5;241m=\u001b[39m\u001b[38;5;28;01mFalse\u001b[39;00m)\n",
      "File \u001b[0;32m/opt/anaconda3/lib/python3.13/site-packages/numpy/linalg/_linalg.py:113\u001b[0m, in \u001b[0;36m_raise_linalgerror_svd_nonconvergence\u001b[0;34m(err, flag)\u001b[0m\n\u001b[1;32m    112\u001b[0m \u001b[38;5;28;01mdef\u001b[39;00m\u001b[38;5;250m \u001b[39m\u001b[38;5;21m_raise_linalgerror_svd_nonconvergence\u001b[39m(err, flag):\n\u001b[0;32m--> 113\u001b[0m     \u001b[38;5;28;01mraise\u001b[39;00m LinAlgError(\u001b[38;5;124m\"\u001b[39m\u001b[38;5;124mSVD did not converge\u001b[39m\u001b[38;5;124m\"\u001b[39m)\n",
      "\u001b[0;31mLinAlgError\u001b[0m: SVD did not converge"
     ]
    }
   ],
   "source": [
    "def solve_prices_direct(market_data, mc_market, v_draws):\n",
    "    \"\"\"Direct nonlinear solver (equivalent to fsolve)\"\"\"\n",
    "    def residual(prices):\n",
    "        shares = compute_market_shares(prices, market_data, v_draws)\n",
    "        derivatives = approximate_share_derivatives(prices, market_data, v_draws)\n",
    "        J = len(derivatives)\n",
    "        markup = -np.linalg.pinv(derivatives) @ shares\n",
    "        return prices - mc_market - markup\n",
    "\n",
    "    sol = opt.root(residual, mc_market, method='hybr', options={'xtol': 1e-6, 'maxfev': 10000})\n",
    "    return sol.x, sol.success\n",
    "\n",
    "# Solve using direct method\n",
    "equilibrium_prices_direct = []\n",
    "success_flags_direct = []\n",
    "\n",
    "for t in range(T):\n",
    "    market_data = product_data[product_data['market_id'] == t]\n",
    "    mc_market = market_data['mc'].values\n",
    "    v_draws = all_v_draws[t] # Pre-drawn simulation draws (to avoid jittering)\n",
    "\n",
    "    prices_direct, success = solve_prices_direct(market_data, mc_market, v_draws)\n",
    "    equilibrium_prices_direct.append(prices_direct)\n",
    "    success_flags_direct.append(success)\n",
    "\n",
    "equilibrium_prices_direct = np.array(equilibrium_prices_direct)\n",
    "print(\"Question 2(c)i completed:\")\n",
    "print(f\"Direct method (fsolve equivalent): {sum(success_flags_direct)}/{T} markets solved\")\n",
    "print(f\"Failed markets: {T - sum(success_flags_direct)}\")\n",
    "print(f\"Price range: {equilibrium_prices_direct.min():.3f} to {equilibrium_prices_direct.max():.3f}\")\n",
    "print(f\"Price mean: {equilibrium_prices_direct.mean():.3f}, std: {equilibrium_prices_direct.std():.3f}\")\n",
    "\n",
    "# Quick validation on first market\n",
    "if sum(success_flags_direct) > 0:\n",
    "    market_0 = product_data[product_data['market_id'] == 0]\n",
    "    prices_0 = equilibrium_prices_direct[0]\n",
    "    mc_0 = market_0['mc'].values\n",
    "    v_draws_0 = all_v_draws[0] # Pre-drawn simulation draws (to avoid jittering)\n",
    "\n",
    "    shares_0 = compute_market_shares(prices_0, market_0, v_draws_0)\n",
    "    deriv_0 = approximate_share_derivatives(prices_0, market_0, v_draws_0)\n",
    "    markup_0 = -np.linalg.inv(deriv_0) @ shares_0\n",
    "    foc_residual_0 = prices_0 - mc_0 - markup_0\n",
    "\n",
    "    print(f\"Market 1 FOC check: max residual = {np.max(np.abs(foc_residual_0)):.2e}\")\n",
    "    print(f\"Market 1 shares: {shares_0} (sum = {shares_0.sum():.3f})\")"
   ]
  },
  {
   "cell_type": "markdown",
   "id": "4bca3eea",
   "metadata": {},
   "source": [
    "ii. Do this again using the algorithm of Morrow and Skerlos (2011), discussed in section 3.6 of Conlon and Gortmaker (2019) (and in the pyBLP \"problem simulation tutorial\"). Use the numerical integration approach you used in step (a) to approximate the terms defined in equation (25) of Conlon and Gortmaker. If you get different results using this method, resolve this discrepancy either by correcting your code or explaining why your preferred method is the one to be trusted."
   ]
  },
  {
   "cell_type": "code",
   "execution_count": 12,
   "id": "eba70d73",
   "metadata": {},
   "outputs": [
    {
     "name": "stdout",
     "output_type": "stream",
     "text": [
      "Question 2(c)ii completed:\n",
      "Morrow-Skerlos method: All 600 markets solved\n",
      "Average iterations: 97.8\n",
      "Max iterations: 100\n",
      "Price range: 1.868 to 19.505\n",
      "Price mean: 4.119, std: 1.824\n",
      "Direct method failed for some markets, skipping comparison.\n",
      "Preferred method: Morrow-Skerlos, as it is more numerically stable.\n",
      "Equilibrium FOC check (market 1): max residual = 1.02e+01\n",
      "Equilibrium shares (market 1): [2.61230232e-02 2.02087113e-09 4.96324145e-02 5.75458232e-02] (sum = 0.133)\n"
     ]
    }
   ],
   "source": [
    "def solve_prices_morrow_skerlos(market_data, mc_market, v_draws, max_iter=100, tol=1e-6):\n",
    "    \"\"\"Morrow-Skerlos algorithm\"\"\"\n",
    "    prices = mc_market.copy()\n",
    "\n",
    "    for iteration in range(max_iter):\n",
    "        utilities = (beta1 * market_data['x'].values + market_data['xi'].values +\n",
    "                     v_draws[:, 0:1] * market_data['satellite'].values +\n",
    "                     v_draws[:, 1:2] * market_data['wired'].values +\n",
    "                     alpha * prices)\n",
    "\n",
    "        utilities = np.column_stack([utilities, np.zeros(v_draws.shape[0])])\n",
    "        exp_u = np.exp(utilities)\n",
    "        choice_probs = exp_u / exp_u.sum(axis=1, keepdims=True)\n",
    "        inside_shares_draws = choice_probs[:, :len(market_data)]\n",
    "        shares = compute_market_shares(prices, market_data, v_draws)\n",
    "\n",
    "        Lambda = np.diag(alpha * shares)\n",
    "        Gamma = alpha * (inside_shares_draws.T @ inside_shares_draws) / v_draws.shape[0]\n",
    "\n",
    "        diff = prices - mc_market\n",
    "        zeta = np.linalg.inv(Lambda) @ Gamma.T @ diff - np.linalg.inv(Lambda) @ shares\n",
    "        prices_new = mc_market + zeta\n",
    "\n",
    "        foc_residual = Lambda @ (prices - mc_market - zeta)\n",
    "        if np.max(np.abs(foc_residual)) < tol:\n",
    "            break\n",
    "\n",
    "        prices = prices_new\n",
    "\n",
    "    return prices, iteration + 1\n",
    "\n",
    "# Solve using Morrow-Skerlos method\n",
    "equilibrium_prices_ms = []\n",
    "iterations_ms = []\n",
    "\n",
    "for t in range(T):\n",
    "    market_data = product_data[product_data['market_id'] == t]\n",
    "    mc_market = market_data['mc'].values\n",
    "    v_draws = all_v_draws[t]\n",
    "\n",
    "    prices_ms, iters = solve_prices_morrow_skerlos(market_data, mc_market, v_draws)\n",
    "    equilibrium_prices_ms.append(prices_ms)\n",
    "    iterations_ms.append(iters)\n",
    "\n",
    "equilibrium_prices_ms = np.array(equilibrium_prices_ms)\n",
    "print(\"Question 2(c)ii completed:\")\n",
    "print(f\"Morrow-Skerlos method: All {T} markets solved\")\n",
    "print(f\"Average iterations: {np.mean(iterations_ms):.1f}\")\n",
    "print(f\"Max iterations: {np.max(iterations_ms)}\")\n",
    "print(f\"Price range: {equilibrium_prices_ms.min():.3f} to {equilibrium_prices_ms.max():.3f}\")\n",
    "print(f\"Price mean: {equilibrium_prices_ms.mean():.3f}, std: {equilibrium_prices_ms.std():.3f}\")\n",
    "\n",
    "# Use Morrow-Skerlos prices\n",
    "product_data['prices'] = equilibrium_prices_ms.flatten()\n",
    "\n",
    "# Compare direct vs Morrow-Skerlos if direct succeeded for all\n",
    "if len(equilibrium_prices_direct) == T:\n",
    "    price_diff = np.abs(np.array(equilibrium_prices_direct) - equilibrium_prices_ms)\n",
    "    print(f\"Max price difference between methods: {price_diff.max():.2e}\")\n",
    "    print(f\"Mean price difference: {price_diff.mean():.2e}\")\n",
    "else:\n",
    "    print(\"Direct method failed for some markets, skipping comparison.\")\n",
    "    print(\"Preferred method: Morrow-Skerlos, as it is more numerically stable.\")\n",
    "\n",
    "# Final validation on first market\n",
    "market_0 = product_data[product_data['market_id'] == 0]\n",
    "prices_0 = market_0['prices'].values\n",
    "mc_0 = market_0['mc'].values\n",
    "v_draws_0 = all_v_draws[0]\n",
    "\n",
    "shares_0 = compute_market_shares(prices_0, market_0, v_draws_0)\n",
    "deriv_0 = approximate_share_derivatives(prices_0, market_0, v_draws_0)\n",
    "markup_0 = -np.linalg.inv(deriv_0) @ shares_0\n",
    "foc_residual_0 = prices_0 - mc_0 - markup_0\n",
    "\n",
    "print(f\"Equilibrium FOC check (market 1): max residual = {np.max(np.abs(foc_residual_0)):.2e}\")\n",
    "print(f\"Equilibrium shares (market 1): {shares_0} (sum = {shares_0.sum():.3f})\")"
   ]
  },
  {
   "cell_type": "code",
   "execution_count": 25,
   "id": "5b39f6ff",
   "metadata": {},
   "outputs": [
    {
     "name": "stdout",
     "output_type": "stream",
     "text": [
      "Comparing derivative approximation convergence at initial vs equilibrium prices:\n",
      "Draws\t| Initial Price Std Dev\t| Equilibrium Price Std Dev\t| Ratio (Eq/Init)\n",
      "--------------------------------------------------------------------------------\n",
      "    50\t| 6.50e-03\t\t| 4.68e-03\t\t\t| 0.72\n",
      "   100\t| 4.41e-03\t\t| 2.09e-03\t\t\t| 0.47\n",
      "   200\t| 2.34e-03\t\t| 2.11e-03\t\t\t| 0.90\n",
      "   500\t| 2.43e-03\t\t| 1.73e-03\t\t\t| 0.71\n",
      "  1000\t| 1.35e-03\t\t| 1.09e-03\t\t\t| 0.81\n",
      "  2000\t| 8.18e-04\t\t| 4.35e-04\t\t\t| 0.53\n",
      "  5000\t| 5.54e-04\t\t| 4.86e-04\t\t\t| 0.88\n",
      "Average ratio of std dev (equilibrium/initial): 0.72\n",
      "\n",
      "CONCLUSION: Derivatives at equilibrium prices are, on average, 28.2% less variable than at initial prices.\n"
     ]
    }
   ],
   "source": [
    "# Compare derivative approximation convergence at initial vs equilibrium prices\n",
    "\n",
    "# Test on market 0\n",
    "market_data = product_data[product_data['market_id'] == 0]\n",
    "prices_initial = market_data['mc'].values * 1.2  # Initial prices 20% above MC\n",
    "prices_equilibrium = market_data['prices'].values\n",
    "\n",
    "draw_counts = [50, 100, 200, 500, 1000, 2000, 5000]\n",
    "\n",
    "print(\"Comparing derivative approximation convergence at initial vs equilibrium prices:\")\n",
    "print(\"Draws\\t| Initial Price Std Dev\\t| Equilibrium Price Std Dev\\t| Ratio (Eq/Init)\")\n",
    "print(\"-\" * 80)\n",
    "\n",
    "initial_stds = []\n",
    "eq_stds = []\n",
    "for n_draws in draw_counts:\n",
    "\n",
    "    # Compute derivatives at initial prices\n",
    "    deriv_initial_list = []\n",
    "    for rep in range(5):\n",
    "        v_draws = np.random.multivariate_normal([beta2, beta3], np.diag([sigma_satellite, sigma_wired]), size=n_draws)\n",
    "        deriv = approximate_share_derivatives(prices_initial, market_data, v_draws)\n",
    "        deriv_initial_list.append(deriv)\n",
    "\n",
    "    deriv_initial_std = np.std(deriv_initial_list, axis=0)\n",
    "    initial_stds.append(deriv_initial_std.mean())\n",
    "\n",
    "    # Compute derivatives at equilibrium prices\n",
    "    deriv_eq_list = []\n",
    "    for rep in range(5):\n",
    "        v_draws = np.random.multivariate_normal([beta2, beta3], np.diag([sigma_satellite, sigma_wired]), size=n_draws)\n",
    "        deriv = approximate_share_derivatives(prices_equilibrium, market_data, v_draws)\n",
    "        deriv_eq_list.append(deriv)\n",
    "\n",
    "    deriv_eq_std = np.std(deriv_eq_list, axis=0)\n",
    "    eq_stds.append(deriv_eq_std.mean())\n",
    "\n",
    "    ratio = deriv_eq_std.mean() / deriv_initial_std.mean() if deriv_initial_std.mean() > 0 else float('inf')\n",
    "\n",
    "    print(f\"{n_draws:6d}\\t| {deriv_initial_std.mean():.2e}\\t\\t| {deriv_eq_std.mean():.2e}\\t\\t\\t| {ratio:.2f}\")\n",
    "\n",
    "\n",
    "print(f\"Average ratio of std dev (equilibrium/initial): {np.mean([eq_stds[i]/initial_stds[i] for i in range(len(initial_stds)) if initial_stds[i] > 0]):.2f}\")\n",
    "\n",
    "avg_ratio = np.mean([eq_stds[i]/initial_stds[i] for i in range(len(initial_stds)) if initial_stds[i] > 0])\n",
    "reduction_pct = (1 - avg_ratio) * 100\n",
    "print(f\"\\nCONCLUSION: Derivatives at equilibrium prices are, on average, {reduction_pct:.1f}% less variable than at initial prices.\")"
   ]
  },
  {
   "cell_type": "markdown",
   "id": "e87c19e4",
   "metadata": {},
   "source": [
    "### 3. \n",
    "Calculate \"observed\" market shares for your fake data set using your parameters, your draws of $x$, $w$, $\\xi$, $\\omega$, and your equilibrium prices."
   ]
  },
  {
   "cell_type": "code",
   "execution_count": 13,
   "id": "f40eeb5e",
   "metadata": {},
   "outputs": [
    {
     "name": "stdout",
     "output_type": "stream",
     "text": [
      "Share range: 0.000 to 0.047\n",
      "Share mean: 0.019, std: 0.011\n",
      "Market share sums (should be < 1):\n",
      "Average: 0.078\n",
      "Min: 0.031, Max: 0.130\n",
      "Outside shares: 0.922 (average)\n",
      "Average satellite product share: 0.019\n",
      "Average wired product share: 0.019\n"
     ]
    }
   ],
   "source": [
    "observed_shares = []\n",
    "for t in range(T):\n",
    "    market_data = product_data[product_data['market_id'] == t]\n",
    "    prices_market = market_data['prices'].values\n",
    "\n",
    "    shares_market = compute_market_shares(prices_market, market_data, n_draws=10000)\n",
    "    observed_shares.extend(shares_market)\n",
    "\n",
    "product_data['shares'] = observed_shares\n",
    "\n",
    "print(f\"Share range: {product_data['shares'].min():.3f} to {product_data['shares'].max():.3f}\")\n",
    "print(f\"Share mean: {product_data['shares'].mean():.3f}, std: {product_data['shares'].std():.3f}\")\n",
    "\n",
    "# Validation: Check market share sums\n",
    "market_share_sums = product_data.groupby('market_id')['shares'].sum()\n",
    "print(f\"Market share sums (should be < 1):\")\n",
    "print(f\"Average: {market_share_sums.mean():.3f}\")\n",
    "print(f\"Min: {market_share_sums.min():.3f}, Max: {market_share_sums.max():.3f}\")\n",
    "print(f\"Outside shares: {1 - market_share_sums.mean():.3f} (average)\")\n",
    "\n",
    "# Check by product type\n",
    "satellite_shares = product_data[product_data['satellite'] == 1]['shares'].mean()\n",
    "wired_shares = product_data[product_data['wired'] == 1]['shares'].mean()\n",
    "print(f\"Average satellite product share: {satellite_shares:.3f}\")\n",
    "print(f\"Average wired product share: {wired_shares:.3f}\")"
   ]
  },
  {
   "cell_type": "markdown",
   "id": "95915201",
   "metadata": {},
   "source": [
    "### 4. \n",
    "\n",
    "Below you'll be using $x$ and $w$ as instruments in the demand estimation. Check whether these appear to be good instruments in your fake data using some regressions of prices and market shares on the exogenous variables (or some function of them; see the related discussion in the coding tips). If you believe the instruments are not providing enough variation, modify the parameter choices above until you are satisfied. Report your final choice of parameters and the results you rely on to conclude that the instruments seem good enough."
   ]
  },
  {
   "cell_type": "code",
   "execution_count": 14,
   "id": "e641c80b",
   "metadata": {},
   "outputs": [
    {
     "name": "stdout",
     "output_type": "stream",
     "text": [
      "Regression: Prices ~ x + w + x² + w² + x*w (Relevance Check)\n",
      "R-squared: 0.175\n",
      "F-statistic: 101.52 (p-value: 2.50e-97)\n",
      "\n",
      "Regression: Shares ~ x + w + x² + w² + x*w\n",
      "R-squared: 0.099\n",
      "F-statistic: 52.36 (p-value: 1.09e-51)\n",
      "\n",
      "Regression: ξ ~ x + w + x² + w² + x*w (Exclusion Check)\n",
      "R-squared: 0.001\n",
      "F-statistic: 0.37 (p-value: 8.72e-01)\n",
      "\n",
      "FINAL PARAMETER CHOICE:\n",
      "Demand: α = -2, β^(1) = 1, β_i^(2) ~ N(4, 1²), β_i^(3) ~ N(4, 1²)\n",
      "Supply: γ^(0) = 0.5, γ^(1) = 0.25\n",
      "These parameters generate data with valid instruments and are retained as final.\n"
     ]
    }
   ],
   "source": [
    "# Prepare data for regressions with extended instrument set\n",
    "# Create quadratic and interaction columns first\n",
    "product_data['x**2'] = product_data['x'] ** 2\n",
    "product_data['w**2'] = product_data['w'] ** 2\n",
    "product_data['x*w'] = product_data['x'] * product_data['w']\n",
    "X_instruments = sm.add_constant(product_data[['x', 'w', 'x**2', 'w**2', 'x*w']])\n",
    "\n",
    "# Regression 1: Prices on extended instruments (Relevance check)\n",
    "price_model = sm.OLS(product_data['prices'], X_instruments).fit()\n",
    "print(\"Regression: Prices ~ x + w + x² + w² + x*w (Relevance Check)\")\n",
    "print(f\"R-squared: {price_model.rsquared:.3f}\")\n",
    "print(f\"F-statistic: {price_model.fvalue:.2f} (p-value: {price_model.f_pvalue:.2e})\")\n",
    "print()\n",
    "\n",
    "# Regression 2: Market shares on extended instruments\n",
    "share_model = sm.OLS(product_data['shares'], X_instruments).fit()\n",
    "print(\"Regression: Shares ~ x + w + x² + w² + x*w\")\n",
    "print(f\"R-squared: {share_model.rsquared:.3f}\")\n",
    "print(f\"F-statistic: {share_model.fvalue:.2f} (p-value: {share_model.f_pvalue:.2e})\")\n",
    "print()\n",
    "\n",
    "# Regression 3: Demand unobservable ξ on instruments (Exclusion check)\n",
    "xi_model = sm.OLS(product_data['xi'], X_instruments).fit()\n",
    "print(\"Regression: ξ ~ x + w + x² + w² + x*w (Exclusion Check)\")\n",
    "print(f\"R-squared: {xi_model.rsquared:.3f}\")\n",
    "print(f\"F-statistic: {xi_model.fvalue:.2f} (p-value: {xi_model.f_pvalue:.2e})\")\n",
    "\n",
    "# Assess instrument strength and validity\n",
    "weak_instruments = (price_model.f_pvalue >= 0.01 and share_model.f_pvalue >= 0.01) or (price_model.rsquared < 0.05 and share_model.rsquared < 0.05)\n",
    "excluded_instruments = xi_model.f_pvalue < 0.01  # Should be false for valid exclusion\n",
    "print()\n",
    "print(\"FINAL PARAMETER CHOICE:\")\n",
    "if weak_instruments or excluded_instruments:\n",
    "    print(\"Parameters need adjustment - instruments are weak or invalid.\")\n",
    "else:\n",
    "    print(f\"Demand: α = {alpha}, β^(1) = {beta1}, β_i^(2) ~ N({beta2}, {sigma_satellite}²), β_i^(3) ~ N({beta3}, {sigma_wired}²)\")\n",
    "    print(f\"Supply: γ^(0) = {gamma0}, γ^(1) = {gamma1}\")\n",
    "    print(\"These parameters generate data with valid instruments and are retained as final.\")"
   ]
  },
  {
   "cell_type": "markdown",
   "id": "b3cc0d1c",
   "metadata": {},
   "source": [
    "## 4 Estimate Some Mis-specified Models"
   ]
  },
  {
   "cell_type": "markdown",
   "id": "c1df5711",
   "metadata": {},
   "source": [
    "### 5. Estimate the plain multinomial logit model of demand by OLS (ignoring the endogeneity of prices).\n",
    "\n",
    "For the plain multinomial logit model, the utility is:\n",
    "\n",
    "$$u_{ijt} = \\beta^{(1)} x_{jt} + \\beta^{(2)} satellite_{jt} + \\beta^{(3)} wired_{jt} + \\alpha p_{jt} + \\xi_{jt} + \\epsilon_{ijt}$$\n",
    "\n",
    "This implies the log-odds ratio:\n",
    "\n",
    "$$\\ln\\left(\\frac{s_{jt}}{s_{0t}}\\right) = \\delta_{jt} = \\beta^{(1)} x_{jt} + \\beta^{(2)} satellite_{jt} + \\beta^{(3)} wired_{jt} + \\alpha p_{jt} + \\xi_{jt}$$\n",
    "\n",
    "We can estimate this by OLS, regressing the logit-transformed shares on the observed product characteristics."
   ]
  },
  {
   "cell_type": "code",
   "execution_count": 15,
   "id": "77b593d7",
   "metadata": {},
   "outputs": [
    {
     "name": "stdout",
     "output_type": "stream",
     "text": [
      "OLS Regression: ln(s_jt/s_0t) ~ x + satellite + wired + prices (no intercept)\n",
      "----------------------------------------------------------------------\n",
      "x           :    0.283 (SE: 0.037, t:   7.64, p: 0.000)\n",
      "satellite   :    0.639 (SE: 0.094, t:   6.81, p: 0.000)\n",
      "wired       :    0.632 (SE: 0.090, t:   6.99, p: 0.000)\n",
      "prices      :   -1.331 (SE: 0.028, t: -47.48, p: 0.000)\n"
     ]
    }
   ],
   "source": [
    "# Compute outside shares for each market\n",
    "product_data['outside_share'] = 1 - product_data.groupby('market_id')['shares'].transform('sum')\n",
    "\n",
    "# Compute logit delta: ln(s_jt / s_0t)\n",
    "product_data['logit_delta'] = np.log(product_data['shares'] / product_data['outside_share'])\n",
    "\n",
    "# OLS using matrix algebra (no intercept)\n",
    "y = product_data['logit_delta'].values\n",
    "X = product_data[['x', 'satellite', 'wired', 'prices']].values\n",
    "\n",
    "# Compute OLS estimates: beta_hat = (X^T X)^(-1) X^T y\n",
    "beta_hat = np.linalg.inv(X.T @ X) @ X.T @ y\n",
    "\n",
    "# Compute residuals and clustered standard errors\n",
    "y_hat = X @ beta_hat\n",
    "residuals = y - y_hat\n",
    "n, k = X.shape\n",
    "\n",
    "# Clustered covariance matrix by market\n",
    "clusters = product_data['market_id'].values\n",
    "unique_clusters = np.unique(clusters)\n",
    "V = np.zeros((k, k))\n",
    "for c in unique_clusters:\n",
    "    mask = clusters == c\n",
    "    X_c = X[mask]\n",
    "    e_c = residuals[mask]\n",
    "    V += X_c.T @ np.outer(e_c, e_c) @ X_c\n",
    "cov_matrix_ols = np.linalg.inv(X.T @ X) @ V @ np.linalg.inv(X.T @ X)\n",
    "se_ols = np.sqrt(np.diag(cov_matrix_ols))\n",
    "\n",
    "# t-statistics and p-values\n",
    "t_stats = beta_hat / se_ols\n",
    "p_values = 2 * (1 - stats.norm.cdf(np.abs(t_stats)))\n",
    "\n",
    "print(\"OLS Regression: ln(s_jt/s_0t) ~ x + satellite + wired + prices (no intercept)\")\n",
    "print(\"-\" * 70)\n",
    "param_names = ['x', 'satellite', 'wired', 'prices']\n",
    "for i, param in enumerate(param_names):\n",
    "    print(f\"{param:12s}: {beta_hat[i]:8.3f} (SE: {se_ols[i]:.3f}, t: {t_stats[i]:6.2f}, p: {p_values[i]:.3f})\")"
   ]
  },
  {
   "cell_type": "markdown",
   "id": "5b407c29",
   "metadata": {},
   "source": [
    "### 6. \n",
    "Re-estimate the multinomial logit model of demand by two-stage\n",
    "least squares, instrumenting for prices with the exogenous demand shifters $%\n",
    "x $ and excluded cost shifters w. Discuss how the results differ from those\n",
    "obtained by OLS."
   ]
  },
  {
   "cell_type": "code",
   "execution_count": 16,
   "id": "ec453deb",
   "metadata": {},
   "outputs": [
    {
     "name": "stdout",
     "output_type": "stream",
     "text": [
      "2SLS IV Regression: ln(s_jt/s_0t) ~ x + satellite + wired + prices_hat (no intercept)\n",
      "First stage instruments: x, w, x², w², x*w, sum_x_competitors, sum_w_competitors\n",
      "--------------------------------------------------------------------------------\n",
      "x           :    0.404 (SE: 0.135, t:   2.99, p: 0.003)\n",
      "satellite   :   -2.397 (SE: 0.148, t: -16.22, p: 0.000)\n",
      "wired       :    1.479 (SE: 0.478, t:   3.09, p: 0.002)\n",
      "prices      :   -1.395 (SE: 0.124, t: -11.26, p: 0.000)\n"
     ]
    }
   ],
   "source": [
    "# Additional instruments\n",
    "if 'w**2' not in product_data.columns:\n",
    "    product_data['w**2'] = product_data['w'] ** 2\n",
    "if 'x**2' not in product_data.columns:\n",
    "    product_data['x**2'] = product_data['x'] ** 2\n",
    "if 'x*w' not in product_data.columns:\n",
    "    product_data['x*w'] = product_data['x'] * product_data['w']\n",
    "if 'sum_x_competitors' not in product_data.columns:\n",
    "    product_data['sum_x_competitors'] = product_data.groupby('market_id')['x'].transform('sum') - product_data['x']\n",
    "if 'sum_w_competitors' not in product_data.columns:\n",
    "    product_data['sum_w_competitors'] = product_data.groupby('market_id')['w'].transform('sum') - product_data['w']\n",
    "\n",
    "# First stage: \n",
    "Z = product_data[['x', 'satellite', 'wired', 'w', 'x**2', 'w**2', 'x*w', 'sum_x_competitors', 'sum_w_competitors']].values  \n",
    "\n",
    "# First stage OLS: prices ~ x + w + x² + w²\n",
    "Z_with_const = np.column_stack([np.ones(len(Z)), Z])\n",
    "pi_hat = np.linalg.inv(Z_with_const.T @ Z_with_const) @ Z_with_const.T @ product_data['prices'].values\n",
    "prices_hat = Z_with_const @ pi_hat\n",
    "\n",
    "# Second stage: Regress logit_delta on x + satellite + wired + predicted_prices\n",
    "y = product_data['logit_delta'].values\n",
    "X_second = np.column_stack([\n",
    "    product_data['x'].values,\n",
    "    product_data['satellite'].values,\n",
    "    product_data['wired'].values,\n",
    "    prices_hat  # Use predicted prices from first stage\n",
    "])\n",
    "\n",
    "# 2SLS estimates: beta_hat_iv = (X_second^T X_second)^(-1) X_second^T y\n",
    "beta_hat_iv = np.linalg.inv(X_second.T @ X_second) @ X_second.T @ y\n",
    "\n",
    "# Compute GMM standard errors (to match PyBLP)\n",
    "residuals_iv = y - X_second @ beta_hat_iv\n",
    "\n",
    "# Clustered covariance of moments S\n",
    "clusters = product_data['market_id'].values\n",
    "unique_clusters = np.unique(clusters)\n",
    "S = np.zeros((Z.shape[1], Z.shape[1]))\n",
    "for c in unique_clusters:\n",
    "    mask = clusters == c\n",
    "    Z_c = Z[mask]\n",
    "    e_c = residuals_iv[mask]\n",
    "    g_c = Z_c.T @ e_c\n",
    "    S += np.outer(g_c, g_c)\n",
    "S = S / len(product_data)  # Divide by N\n",
    "\n",
    "# Optimal weighting matrix W = S^{-1}\n",
    "W_opt = np.linalg.inv(S)\n",
    "\n",
    "# Jacobian G = Z' X_second\n",
    "G = Z.T @ X_second\n",
    "\n",
    "# GMM covariance: (G' W G)^{-1} G' W S W G (G' W G)^{-1}\n",
    "GWG_inv = np.linalg.inv(G.T @ W_opt @ G)\n",
    "cov_matrix_iv = GWG_inv @ G.T @ W_opt @ S @ W_opt @ G @ GWG_inv\n",
    "# cov_matrix_iv = cov_matrix_iv / len(product_data)  # Remove this\n",
    "se_iv = np.sqrt(np.diag(cov_matrix_iv)) * np.sqrt(len(product_data)) \n",
    "t_stats_iv = beta_hat_iv / se_iv\n",
    "p_values_iv = 2 * (1 - stats.norm.cdf(np.abs(t_stats_iv)))\n",
    "\n",
    "print(\"2SLS IV Regression: ln(s_jt/s_0t) ~ x + satellite + wired + prices_hat (no intercept)\")\n",
    "print(\"First stage instruments: x, w, x², w², x*w, sum_x_competitors, sum_w_competitors\")\n",
    "print(\"-\" * 80)\n",
    "param_names = ['x', 'satellite', 'wired', 'prices']\n",
    "for i, param in enumerate(param_names):\n",
    "    print(f\"{param:12s}: {beta_hat_iv[i]:8.3f} (SE: {se_iv[i]:.3f}, t: {t_stats_iv[i]:6.2f}, p: {p_values_iv[i]:.3f})\")"
   ]
  },
  {
   "cell_type": "markdown",
   "id": "b7b33a30",
   "metadata": {},
   "source": [
    "### 7. Nested Logit Model Estimation\n",
    "\n",
    "Now estimate a nested logit model by two-stage least squares, treating \"satellite\" and \"wired\" as the two nests for the inside goods. You will probably want to review the discussion of the nested logit in Berry (1994). Note that Berry focuses on the special case in which all the \"nesting parameters\" are the same; you should allow a different nesting parameter for each nest.\n",
    "\n",
    "In Berry's notation, this means letting the parameter σ become σ_{g(j)}, where g(j) indicates the group (satellite or wired) to which each inside good j belongs.\n",
    "\n",
    "Without reference to the results, explain the way(s) that this model is misspecified. (Hint: students tend to get this question wrong; recall that I suggested you review Berry 94)."
   ]
  },
  {
   "cell_type": "code",
   "execution_count": null,
   "id": "a169b79e",
   "metadata": {},
   "outputs": [
    {
     "name": "stdout",
     "output_type": "stream",
     "text": [
      "Question 7: Nested Logit Model Estimation\n",
      "==================================================\n",
      "Nested logit estimation with GMM...\n"
     ]
    },
    {
     "ename": "KeyboardInterrupt",
     "evalue": "",
     "output_type": "error",
     "traceback": [
      "\u001b[0;31m---------------------------------------------------------------------------\u001b[0m",
      "\u001b[0;31mKeyboardInterrupt\u001b[0m                         Traceback (most recent call last)",
      "Cell \u001b[0;32mIn[17], line 144\u001b[0m\n\u001b[1;32m    142\u001b[0m \u001b[38;5;66;03m# Step 1: 1-step GMM with W = (Z'Z)^{-1}\u001b[39;00m\n\u001b[1;32m    143\u001b[0m W1 \u001b[38;5;241m=\u001b[39m np\u001b[38;5;241m.\u001b[39mlinalg\u001b[38;5;241m.\u001b[39minv(Z\u001b[38;5;241m.\u001b[39mT \u001b[38;5;241m@\u001b[39m Z)\n\u001b[0;32m--> 144\u001b[0m result1 \u001b[38;5;241m=\u001b[39m \u001b[43mopt\u001b[49m\u001b[38;5;241;43m.\u001b[39;49m\u001b[43mminimize\u001b[49m\u001b[43m(\u001b[49m\u001b[38;5;28;43;01mlambda\u001b[39;49;00m\u001b[43m \u001b[49m\u001b[43mparams\u001b[49m\u001b[43m:\u001b[49m\u001b[43m \u001b[49m\u001b[43mgmm_objective\u001b[49m\u001b[43m(\u001b[49m\u001b[43mparams\u001b[49m\u001b[43m,\u001b[49m\u001b[43m \u001b[49m\u001b[43mproduct_data\u001b[49m\u001b[43m,\u001b[49m\u001b[43m \u001b[49m\u001b[43mZ\u001b[49m\u001b[43m,\u001b[49m\u001b[43m \u001b[49m\u001b[43mW1\u001b[49m\u001b[43m)\u001b[49m\u001b[43m[\u001b[49m\u001b[38;5;241;43m0\u001b[39;49m\u001b[43m]\u001b[49m\u001b[43m,\u001b[49m\u001b[43m \u001b[49m\u001b[43minitial_params\u001b[49m\u001b[43m,\u001b[49m\u001b[43m \u001b[49m\u001b[43mbounds\u001b[49m\u001b[38;5;241;43m=\u001b[39;49m\u001b[43mbounds\u001b[49m\u001b[43m,\u001b[49m\u001b[43m \u001b[49m\u001b[43mmethod\u001b[49m\u001b[38;5;241;43m=\u001b[39;49m\u001b[38;5;124;43m'\u001b[39;49m\u001b[38;5;124;43mL-BFGS-B\u001b[39;49m\u001b[38;5;124;43m'\u001b[39;49m\u001b[43m)\u001b[49m\n\u001b[1;32m    145\u001b[0m params1 \u001b[38;5;241m=\u001b[39m result1\u001b[38;5;241m.\u001b[39mx\n\u001b[1;32m    147\u001b[0m \u001b[38;5;66;03m# Compute S1 from first step residuals\u001b[39;00m\n",
      "File \u001b[0;32m/opt/anaconda3/lib/python3.13/site-packages/scipy/optimize/_minimize.py:784\u001b[0m, in \u001b[0;36mminimize\u001b[0;34m(fun, x0, args, method, jac, hess, hessp, bounds, constraints, tol, callback, options)\u001b[0m\n\u001b[1;32m    781\u001b[0m     res \u001b[38;5;241m=\u001b[39m _minimize_newtoncg(fun, x0, args, jac, hess, hessp, callback,\n\u001b[1;32m    782\u001b[0m                              \u001b[38;5;241m*\u001b[39m\u001b[38;5;241m*\u001b[39moptions)\n\u001b[1;32m    783\u001b[0m \u001b[38;5;28;01melif\u001b[39;00m meth \u001b[38;5;241m==\u001b[39m \u001b[38;5;124m'\u001b[39m\u001b[38;5;124ml-bfgs-b\u001b[39m\u001b[38;5;124m'\u001b[39m:\n\u001b[0;32m--> 784\u001b[0m     res \u001b[38;5;241m=\u001b[39m \u001b[43m_minimize_lbfgsb\u001b[49m\u001b[43m(\u001b[49m\u001b[43mfun\u001b[49m\u001b[43m,\u001b[49m\u001b[43m \u001b[49m\u001b[43mx0\u001b[49m\u001b[43m,\u001b[49m\u001b[43m \u001b[49m\u001b[43margs\u001b[49m\u001b[43m,\u001b[49m\u001b[43m \u001b[49m\u001b[43mjac\u001b[49m\u001b[43m,\u001b[49m\u001b[43m \u001b[49m\u001b[43mbounds\u001b[49m\u001b[43m,\u001b[49m\n\u001b[1;32m    785\u001b[0m \u001b[43m                           \u001b[49m\u001b[43mcallback\u001b[49m\u001b[38;5;241;43m=\u001b[39;49m\u001b[43mcallback\u001b[49m\u001b[43m,\u001b[49m\u001b[43m \u001b[49m\u001b[38;5;241;43m*\u001b[39;49m\u001b[38;5;241;43m*\u001b[39;49m\u001b[43moptions\u001b[49m\u001b[43m)\u001b[49m\n\u001b[1;32m    786\u001b[0m \u001b[38;5;28;01melif\u001b[39;00m meth \u001b[38;5;241m==\u001b[39m \u001b[38;5;124m'\u001b[39m\u001b[38;5;124mtnc\u001b[39m\u001b[38;5;124m'\u001b[39m:\n\u001b[1;32m    787\u001b[0m     res \u001b[38;5;241m=\u001b[39m _minimize_tnc(fun, x0, args, jac, bounds, callback\u001b[38;5;241m=\u001b[39mcallback,\n\u001b[1;32m    788\u001b[0m                         \u001b[38;5;241m*\u001b[39m\u001b[38;5;241m*\u001b[39moptions)\n",
      "File \u001b[0;32m/opt/anaconda3/lib/python3.13/site-packages/scipy/optimize/_lbfgsb_py.py:413\u001b[0m, in \u001b[0;36m_minimize_lbfgsb\u001b[0;34m(fun, x0, args, jac, bounds, disp, maxcor, ftol, gtol, eps, maxfun, maxiter, iprint, callback, maxls, finite_diff_rel_step, workers, **unknown_options)\u001b[0m\n\u001b[1;32m    410\u001b[0m     x0 \u001b[38;5;241m=\u001b[39m np\u001b[38;5;241m.\u001b[39mclip(x0, bounds[\u001b[38;5;241m0\u001b[39m], bounds[\u001b[38;5;241m1\u001b[39m])\n\u001b[1;32m    412\u001b[0m \u001b[38;5;66;03m# _prepare_scalar_function can use bounds=None to represent no bounds\u001b[39;00m\n\u001b[0;32m--> 413\u001b[0m sf \u001b[38;5;241m=\u001b[39m \u001b[43m_prepare_scalar_function\u001b[49m\u001b[43m(\u001b[49m\u001b[43mfun\u001b[49m\u001b[43m,\u001b[49m\u001b[43m \u001b[49m\u001b[43mx0\u001b[49m\u001b[43m,\u001b[49m\u001b[43m \u001b[49m\u001b[43mjac\u001b[49m\u001b[38;5;241;43m=\u001b[39;49m\u001b[43mjac\u001b[49m\u001b[43m,\u001b[49m\u001b[43m \u001b[49m\u001b[43margs\u001b[49m\u001b[38;5;241;43m=\u001b[39;49m\u001b[43margs\u001b[49m\u001b[43m,\u001b[49m\u001b[43m \u001b[49m\u001b[43mepsilon\u001b[49m\u001b[38;5;241;43m=\u001b[39;49m\u001b[43meps\u001b[49m\u001b[43m,\u001b[49m\n\u001b[1;32m    414\u001b[0m \u001b[43m                              \u001b[49m\u001b[43mbounds\u001b[49m\u001b[38;5;241;43m=\u001b[39;49m\u001b[43mbounds\u001b[49m\u001b[43m,\u001b[49m\n\u001b[1;32m    415\u001b[0m \u001b[43m                              \u001b[49m\u001b[43mfinite_diff_rel_step\u001b[49m\u001b[38;5;241;43m=\u001b[39;49m\u001b[43mfinite_diff_rel_step\u001b[49m\u001b[43m,\u001b[49m\n\u001b[1;32m    416\u001b[0m \u001b[43m                              \u001b[49m\u001b[43mworkers\u001b[49m\u001b[38;5;241;43m=\u001b[39;49m\u001b[43mworkers\u001b[49m\u001b[43m)\u001b[49m\n\u001b[1;32m    418\u001b[0m func_and_grad \u001b[38;5;241m=\u001b[39m sf\u001b[38;5;241m.\u001b[39mfun_and_grad\n\u001b[1;32m    420\u001b[0m nbd \u001b[38;5;241m=\u001b[39m zeros(n, np\u001b[38;5;241m.\u001b[39mint32)\n",
      "File \u001b[0;32m/opt/anaconda3/lib/python3.13/site-packages/scipy/optimize/_optimize.py:310\u001b[0m, in \u001b[0;36m_prepare_scalar_function\u001b[0;34m(fun, x0, jac, args, bounds, epsilon, finite_diff_rel_step, hess, workers)\u001b[0m\n\u001b[1;32m    306\u001b[0m workers \u001b[38;5;241m=\u001b[39m workers \u001b[38;5;129;01mor\u001b[39;00m \u001b[38;5;28mmap\u001b[39m\n\u001b[1;32m    308\u001b[0m \u001b[38;5;66;03m# ScalarFunction caches. Reuse of fun(x) during grad\u001b[39;00m\n\u001b[1;32m    309\u001b[0m \u001b[38;5;66;03m# calculation reduces overall function evaluations.\u001b[39;00m\n\u001b[0;32m--> 310\u001b[0m sf \u001b[38;5;241m=\u001b[39m \u001b[43mScalarFunction\u001b[49m\u001b[43m(\u001b[49m\u001b[43mfun\u001b[49m\u001b[43m,\u001b[49m\u001b[43m \u001b[49m\u001b[43mx0\u001b[49m\u001b[43m,\u001b[49m\u001b[43m \u001b[49m\u001b[43margs\u001b[49m\u001b[43m,\u001b[49m\u001b[43m \u001b[49m\u001b[43mgrad\u001b[49m\u001b[43m,\u001b[49m\u001b[43m \u001b[49m\u001b[43mhess\u001b[49m\u001b[43m,\u001b[49m\n\u001b[1;32m    311\u001b[0m \u001b[43m                    \u001b[49m\u001b[43mfinite_diff_rel_step\u001b[49m\u001b[43m,\u001b[49m\u001b[43m \u001b[49m\u001b[43mbounds\u001b[49m\u001b[43m,\u001b[49m\u001b[43m \u001b[49m\u001b[43mepsilon\u001b[49m\u001b[38;5;241;43m=\u001b[39;49m\u001b[43mepsilon\u001b[49m\u001b[43m,\u001b[49m\n\u001b[1;32m    312\u001b[0m \u001b[43m                    \u001b[49m\u001b[43mworkers\u001b[49m\u001b[38;5;241;43m=\u001b[39;49m\u001b[43mworkers\u001b[49m\u001b[43m)\u001b[49m\n\u001b[1;32m    314\u001b[0m \u001b[38;5;28;01mreturn\u001b[39;00m sf\n",
      "File \u001b[0;32m/opt/anaconda3/lib/python3.13/site-packages/scipy/optimize/_differentiable_functions.py:283\u001b[0m, in \u001b[0;36mScalarFunction.__init__\u001b[0;34m(self, fun, x0, args, grad, hess, finite_diff_rel_step, finite_diff_bounds, epsilon, workers)\u001b[0m\n\u001b[1;32m    276\u001b[0m \u001b[38;5;66;03m# Initial gradient evaluation\u001b[39;00m\n\u001b[1;32m    277\u001b[0m \u001b[38;5;28mself\u001b[39m\u001b[38;5;241m.\u001b[39m_wrapped_grad \u001b[38;5;241m=\u001b[39m _ScalarGradWrapper(\n\u001b[1;32m    278\u001b[0m     grad,\n\u001b[1;32m    279\u001b[0m     fun\u001b[38;5;241m=\u001b[39m\u001b[38;5;28mself\u001b[39m\u001b[38;5;241m.\u001b[39m_wrapped_fun,\n\u001b[1;32m    280\u001b[0m     args\u001b[38;5;241m=\u001b[39margs,\n\u001b[1;32m    281\u001b[0m     finite_diff_options\u001b[38;5;241m=\u001b[39mfinite_diff_options,\n\u001b[1;32m    282\u001b[0m )\n\u001b[0;32m--> 283\u001b[0m \u001b[38;5;28;43mself\u001b[39;49m\u001b[38;5;241;43m.\u001b[39;49m\u001b[43m_update_grad\u001b[49m\u001b[43m(\u001b[49m\u001b[43m)\u001b[49m\n\u001b[1;32m    285\u001b[0m \u001b[38;5;66;03m# Hessian evaluation\u001b[39;00m\n\u001b[1;32m    286\u001b[0m \u001b[38;5;28;01mif\u001b[39;00m \u001b[38;5;28misinstance\u001b[39m(hess, HessianUpdateStrategy):\n",
      "File \u001b[0;32m/opt/anaconda3/lib/python3.13/site-packages/scipy/optimize/_differentiable_functions.py:366\u001b[0m, in \u001b[0;36mScalarFunction._update_grad\u001b[0;34m(self)\u001b[0m\n\u001b[1;32m    364\u001b[0m \u001b[38;5;28;01mif\u001b[39;00m \u001b[38;5;28mself\u001b[39m\u001b[38;5;241m.\u001b[39m_orig_grad \u001b[38;5;129;01min\u001b[39;00m FD_METHODS:\n\u001b[1;32m    365\u001b[0m     \u001b[38;5;28mself\u001b[39m\u001b[38;5;241m.\u001b[39m_update_fun()\n\u001b[0;32m--> 366\u001b[0m \u001b[38;5;28mself\u001b[39m\u001b[38;5;241m.\u001b[39mg \u001b[38;5;241m=\u001b[39m \u001b[38;5;28;43mself\u001b[39;49m\u001b[38;5;241;43m.\u001b[39;49m\u001b[43m_wrapped_grad\u001b[49m\u001b[43m(\u001b[49m\u001b[38;5;28;43mself\u001b[39;49m\u001b[38;5;241;43m.\u001b[39;49m\u001b[43mx\u001b[49m\u001b[43m,\u001b[49m\u001b[43m \u001b[49m\u001b[43mf0\u001b[49m\u001b[38;5;241;43m=\u001b[39;49m\u001b[38;5;28;43mself\u001b[39;49m\u001b[38;5;241;43m.\u001b[39;49m\u001b[43mf\u001b[49m\u001b[43m)\u001b[49m\n\u001b[1;32m    367\u001b[0m \u001b[38;5;28mself\u001b[39m\u001b[38;5;241m.\u001b[39mg_updated \u001b[38;5;241m=\u001b[39m \u001b[38;5;28;01mTrue\u001b[39;00m\n",
      "File \u001b[0;32m/opt/anaconda3/lib/python3.13/site-packages/scipy/optimize/_differentiable_functions.py:41\u001b[0m, in \u001b[0;36m_ScalarGradWrapper.__call__\u001b[0;34m(self, x, f0, **kwds)\u001b[0m\n\u001b[1;32m     39\u001b[0m     g \u001b[38;5;241m=\u001b[39m np\u001b[38;5;241m.\u001b[39matleast_1d(\u001b[38;5;28mself\u001b[39m\u001b[38;5;241m.\u001b[39mgrad(np\u001b[38;5;241m.\u001b[39mcopy(x), \u001b[38;5;241m*\u001b[39m\u001b[38;5;28mself\u001b[39m\u001b[38;5;241m.\u001b[39margs))\n\u001b[1;32m     40\u001b[0m \u001b[38;5;28;01melif\u001b[39;00m \u001b[38;5;28mself\u001b[39m\u001b[38;5;241m.\u001b[39mgrad \u001b[38;5;129;01min\u001b[39;00m FD_METHODS:\n\u001b[0;32m---> 41\u001b[0m     g, dct \u001b[38;5;241m=\u001b[39m \u001b[43mapprox_derivative\u001b[49m\u001b[43m(\u001b[49m\n\u001b[1;32m     42\u001b[0m \u001b[43m        \u001b[49m\u001b[38;5;28;43mself\u001b[39;49m\u001b[38;5;241;43m.\u001b[39;49m\u001b[43mfun\u001b[49m\u001b[43m,\u001b[49m\n\u001b[1;32m     43\u001b[0m \u001b[43m        \u001b[49m\u001b[43mx\u001b[49m\u001b[43m,\u001b[49m\n\u001b[1;32m     44\u001b[0m \u001b[43m        \u001b[49m\u001b[43mf0\u001b[49m\u001b[38;5;241;43m=\u001b[39;49m\u001b[43mf0\u001b[49m\u001b[43m,\u001b[49m\n\u001b[1;32m     45\u001b[0m \u001b[43m        \u001b[49m\u001b[38;5;241;43m*\u001b[39;49m\u001b[38;5;241;43m*\u001b[39;49m\u001b[38;5;28;43mself\u001b[39;49m\u001b[38;5;241;43m.\u001b[39;49m\u001b[43mfinite_diff_options\u001b[49m\u001b[43m,\u001b[49m\n\u001b[1;32m     46\u001b[0m \u001b[43m    \u001b[49m\u001b[43m)\u001b[49m\n\u001b[1;32m     47\u001b[0m     \u001b[38;5;28mself\u001b[39m\u001b[38;5;241m.\u001b[39mnfev \u001b[38;5;241m+\u001b[39m\u001b[38;5;241m=\u001b[39m dct[\u001b[38;5;124m'\u001b[39m\u001b[38;5;124mnfev\u001b[39m\u001b[38;5;124m'\u001b[39m]\n\u001b[1;32m     49\u001b[0m \u001b[38;5;28mself\u001b[39m\u001b[38;5;241m.\u001b[39mngev \u001b[38;5;241m+\u001b[39m\u001b[38;5;241m=\u001b[39m \u001b[38;5;241m1\u001b[39m\n",
      "File \u001b[0;32m/opt/anaconda3/lib/python3.13/site-packages/scipy/optimize/_numdiff.py:593\u001b[0m, in \u001b[0;36mapprox_derivative\u001b[0;34m(fun, x0, method, rel_step, abs_step, f0, bounds, sparsity, as_linear_operator, args, kwargs, full_output, workers)\u001b[0m\n\u001b[1;32m    591\u001b[0m \u001b[38;5;28;01mwith\u001b[39;00m MapWrapper(workers) \u001b[38;5;28;01mas\u001b[39;00m mf:\n\u001b[1;32m    592\u001b[0m     \u001b[38;5;28;01mif\u001b[39;00m sparsity \u001b[38;5;129;01mis\u001b[39;00m \u001b[38;5;28;01mNone\u001b[39;00m:\n\u001b[0;32m--> 593\u001b[0m         J, _nfev \u001b[38;5;241m=\u001b[39m \u001b[43m_dense_difference\u001b[49m\u001b[43m(\u001b[49m\u001b[43mfun_wrapped\u001b[49m\u001b[43m,\u001b[49m\u001b[43m \u001b[49m\u001b[43mx0\u001b[49m\u001b[43m,\u001b[49m\u001b[43m \u001b[49m\u001b[43mf0\u001b[49m\u001b[43m,\u001b[49m\u001b[43m \u001b[49m\u001b[43mh\u001b[49m\u001b[43m,\u001b[49m\n\u001b[1;32m    594\u001b[0m \u001b[43m                                 \u001b[49m\u001b[43muse_one_sided\u001b[49m\u001b[43m,\u001b[49m\u001b[43m \u001b[49m\u001b[43mmethod\u001b[49m\u001b[43m,\u001b[49m\n\u001b[1;32m    595\u001b[0m \u001b[43m                                 \u001b[49m\u001b[43mmf\u001b[49m\u001b[43m)\u001b[49m\n\u001b[1;32m    596\u001b[0m     \u001b[38;5;28;01melse\u001b[39;00m:\n\u001b[1;32m    597\u001b[0m         \u001b[38;5;28;01mif\u001b[39;00m \u001b[38;5;129;01mnot\u001b[39;00m issparse(sparsity) \u001b[38;5;129;01mand\u001b[39;00m \u001b[38;5;28mlen\u001b[39m(sparsity) \u001b[38;5;241m==\u001b[39m \u001b[38;5;241m2\u001b[39m:\n",
      "File \u001b[0;32m/opt/anaconda3/lib/python3.13/site-packages/scipy/optimize/_numdiff.py:686\u001b[0m, in \u001b[0;36m_dense_difference\u001b[0;34m(fun, x0, f0, h, use_one_sided, method, workers)\u001b[0m\n\u001b[1;32m    684\u001b[0m f_evals \u001b[38;5;241m=\u001b[39m workers(fun, x_generator2(x0, h))\n\u001b[1;32m    685\u001b[0m dx \u001b[38;5;241m=\u001b[39m [(x0[i] \u001b[38;5;241m+\u001b[39m h[i]) \u001b[38;5;241m-\u001b[39m x0[i] \u001b[38;5;28;01mfor\u001b[39;00m i \u001b[38;5;129;01min\u001b[39;00m \u001b[38;5;28mrange\u001b[39m(n)]\n\u001b[0;32m--> 686\u001b[0m df \u001b[38;5;241m=\u001b[39m \u001b[43m[\u001b[49m\u001b[43mf_eval\u001b[49m\u001b[43m \u001b[49m\u001b[38;5;241;43m-\u001b[39;49m\u001b[43m \u001b[49m\u001b[43mf0\u001b[49m\u001b[43m \u001b[49m\u001b[38;5;28;43;01mfor\u001b[39;49;00m\u001b[43m \u001b[49m\u001b[43mf_eval\u001b[49m\u001b[43m \u001b[49m\u001b[38;5;129;43;01min\u001b[39;49;00m\u001b[43m \u001b[49m\u001b[43mf_evals\u001b[49m\u001b[43m]\u001b[49m\n\u001b[1;32m    687\u001b[0m df_dx \u001b[38;5;241m=\u001b[39m [delf \u001b[38;5;241m/\u001b[39m delx \u001b[38;5;28;01mfor\u001b[39;00m delf, delx \u001b[38;5;129;01min\u001b[39;00m \u001b[38;5;28mzip\u001b[39m(df, dx)]\n\u001b[1;32m    688\u001b[0m nfev \u001b[38;5;241m+\u001b[39m\u001b[38;5;241m=\u001b[39m \u001b[38;5;28mlen\u001b[39m(df_dx)\n",
      "File \u001b[0;32m/opt/anaconda3/lib/python3.13/site-packages/scipy/optimize/_numdiff.py:879\u001b[0m, in \u001b[0;36m_Fun_Wrapper.__call__\u001b[0;34m(self, x)\u001b[0m\n\u001b[1;32m    876\u001b[0m \u001b[38;5;28;01mif\u001b[39;00m xp\u001b[38;5;241m.\u001b[39misdtype(x\u001b[38;5;241m.\u001b[39mdtype, \u001b[38;5;124m\"\u001b[39m\u001b[38;5;124mreal floating\u001b[39m\u001b[38;5;124m\"\u001b[39m):\n\u001b[1;32m    877\u001b[0m     x \u001b[38;5;241m=\u001b[39m xp\u001b[38;5;241m.\u001b[39mastype(x, \u001b[38;5;28mself\u001b[39m\u001b[38;5;241m.\u001b[39mx0\u001b[38;5;241m.\u001b[39mdtype)\n\u001b[0;32m--> 879\u001b[0m f \u001b[38;5;241m=\u001b[39m np\u001b[38;5;241m.\u001b[39matleast_1d(\u001b[38;5;28;43mself\u001b[39;49m\u001b[38;5;241;43m.\u001b[39;49m\u001b[43mfun\u001b[49m\u001b[43m(\u001b[49m\u001b[43mx\u001b[49m\u001b[43m,\u001b[49m\u001b[43m \u001b[49m\u001b[38;5;241;43m*\u001b[39;49m\u001b[38;5;28;43mself\u001b[39;49m\u001b[38;5;241;43m.\u001b[39;49m\u001b[43margs\u001b[49m\u001b[43m,\u001b[49m\u001b[43m \u001b[49m\u001b[38;5;241;43m*\u001b[39;49m\u001b[38;5;241;43m*\u001b[39;49m\u001b[38;5;28;43mself\u001b[39;49m\u001b[38;5;241;43m.\u001b[39;49m\u001b[43mkwargs\u001b[49m\u001b[43m)\u001b[49m)\n\u001b[1;32m    880\u001b[0m \u001b[38;5;28;01mif\u001b[39;00m f\u001b[38;5;241m.\u001b[39mndim \u001b[38;5;241m>\u001b[39m \u001b[38;5;241m1\u001b[39m:\n\u001b[1;32m    881\u001b[0m     \u001b[38;5;28;01mraise\u001b[39;00m \u001b[38;5;167;01mRuntimeError\u001b[39;00m(\u001b[38;5;124m\"\u001b[39m\u001b[38;5;124m`fun` return value has \u001b[39m\u001b[38;5;124m\"\u001b[39m\n\u001b[1;32m    882\u001b[0m                        \u001b[38;5;124m\"\u001b[39m\u001b[38;5;124mmore than 1 dimension.\u001b[39m\u001b[38;5;124m\"\u001b[39m)\n",
      "File \u001b[0;32m/opt/anaconda3/lib/python3.13/site-packages/scipy/_lib/_util.py:590\u001b[0m, in \u001b[0;36m_ScalarFunctionWrapper.__call__\u001b[0;34m(self, x)\u001b[0m\n\u001b[1;32m    587\u001b[0m \u001b[38;5;28;01mdef\u001b[39;00m\u001b[38;5;250m \u001b[39m\u001b[38;5;21m__call__\u001b[39m(\u001b[38;5;28mself\u001b[39m, x):\n\u001b[1;32m    588\u001b[0m     \u001b[38;5;66;03m# Send a copy because the user may overwrite it.\u001b[39;00m\n\u001b[1;32m    589\u001b[0m     \u001b[38;5;66;03m# The user of this class might want `x` to remain unchanged.\u001b[39;00m\n\u001b[0;32m--> 590\u001b[0m     fx \u001b[38;5;241m=\u001b[39m \u001b[38;5;28;43mself\u001b[39;49m\u001b[38;5;241;43m.\u001b[39;49m\u001b[43mf\u001b[49m\u001b[43m(\u001b[49m\u001b[43mnp\u001b[49m\u001b[38;5;241;43m.\u001b[39;49m\u001b[43mcopy\u001b[49m\u001b[43m(\u001b[49m\u001b[43mx\u001b[49m\u001b[43m)\u001b[49m\u001b[43m,\u001b[49m\u001b[43m \u001b[49m\u001b[38;5;241;43m*\u001b[39;49m\u001b[38;5;28;43mself\u001b[39;49m\u001b[38;5;241;43m.\u001b[39;49m\u001b[43margs\u001b[49m\u001b[43m)\u001b[49m\n\u001b[1;32m    591\u001b[0m     \u001b[38;5;28mself\u001b[39m\u001b[38;5;241m.\u001b[39mnfev \u001b[38;5;241m+\u001b[39m\u001b[38;5;241m=\u001b[39m \u001b[38;5;241m1\u001b[39m\n\u001b[1;32m    593\u001b[0m     \u001b[38;5;66;03m# Make sure the function returns a true scalar\u001b[39;00m\n",
      "Cell \u001b[0;32mIn[17], line 144\u001b[0m, in \u001b[0;36m<lambda>\u001b[0;34m(params)\u001b[0m\n\u001b[1;32m    142\u001b[0m \u001b[38;5;66;03m# Step 1: 1-step GMM with W = (Z'Z)^{-1}\u001b[39;00m\n\u001b[1;32m    143\u001b[0m W1 \u001b[38;5;241m=\u001b[39m np\u001b[38;5;241m.\u001b[39mlinalg\u001b[38;5;241m.\u001b[39minv(Z\u001b[38;5;241m.\u001b[39mT \u001b[38;5;241m@\u001b[39m Z)\n\u001b[0;32m--> 144\u001b[0m result1 \u001b[38;5;241m=\u001b[39m opt\u001b[38;5;241m.\u001b[39mminimize(\u001b[38;5;28;01mlambda\u001b[39;00m params: \u001b[43mgmm_objective\u001b[49m\u001b[43m(\u001b[49m\u001b[43mparams\u001b[49m\u001b[43m,\u001b[49m\u001b[43m \u001b[49m\u001b[43mproduct_data\u001b[49m\u001b[43m,\u001b[49m\u001b[43m \u001b[49m\u001b[43mZ\u001b[49m\u001b[43m,\u001b[49m\u001b[43m \u001b[49m\u001b[43mW1\u001b[49m\u001b[43m)\u001b[49m[\u001b[38;5;241m0\u001b[39m], initial_params, bounds\u001b[38;5;241m=\u001b[39mbounds, method\u001b[38;5;241m=\u001b[39m\u001b[38;5;124m'\u001b[39m\u001b[38;5;124mL-BFGS-B\u001b[39m\u001b[38;5;124m'\u001b[39m)\n\u001b[1;32m    145\u001b[0m params1 \u001b[38;5;241m=\u001b[39m result1\u001b[38;5;241m.\u001b[39mx\n\u001b[1;32m    147\u001b[0m \u001b[38;5;66;03m# Compute S1 from first step residuals\u001b[39;00m\n",
      "Cell \u001b[0;32mIn[17], line 118\u001b[0m, in \u001b[0;36mgmm_objective\u001b[0;34m(params, product_data, Z, W)\u001b[0m\n\u001b[1;32m    116\u001b[0m market_data \u001b[38;5;241m=\u001b[39m product_data[product_data[\u001b[38;5;124m'\u001b[39m\u001b[38;5;124mmarket_id\u001b[39m\u001b[38;5;124m'\u001b[39m] \u001b[38;5;241m==\u001b[39m t]\n\u001b[1;32m    117\u001b[0m v_draws \u001b[38;5;241m=\u001b[39m all_v_draws[t]\n\u001b[0;32m--> 118\u001b[0m delta \u001b[38;5;241m=\u001b[39m \u001b[43msolve_delta_market\u001b[49m\u001b[43m(\u001b[49m\u001b[43mmarket_data\u001b[49m\u001b[43m,\u001b[49m\u001b[43m \u001b[49m\u001b[43m[\u001b[49m\u001b[43mbeta_x\u001b[49m\u001b[43m,\u001b[49m\u001b[43m \u001b[49m\u001b[43mbeta_sat\u001b[49m\u001b[43m,\u001b[49m\u001b[43m \u001b[49m\u001b[43mbeta_wired\u001b[49m\u001b[43m,\u001b[49m\u001b[43m \u001b[49m\u001b[43mbeta_price\u001b[49m\u001b[43m]\u001b[49m\u001b[43m,\u001b[49m\u001b[43m \u001b[49m\u001b[43mrho_sat\u001b[49m\u001b[43m,\u001b[49m\u001b[43m \u001b[49m\u001b[43mrho_wired\u001b[49m\u001b[43m,\u001b[49m\u001b[43m \u001b[49m\u001b[43mv_draws\u001b[49m\u001b[43m)\u001b[49m\n\u001b[1;32m    119\u001b[0m \u001b[38;5;28;01mfor\u001b[39;00m idx \u001b[38;5;129;01min\u001b[39;00m market_data\u001b[38;5;241m.\u001b[39mindex:\n\u001b[1;32m    120\u001b[0m     row \u001b[38;5;241m=\u001b[39m market_data\u001b[38;5;241m.\u001b[39mloc[idx]\n",
      "Cell \u001b[0;32mIn[17], line 102\u001b[0m, in \u001b[0;36msolve_delta_market\u001b[0;34m(market_data, beta, rho_sat, rho_wired, v_draws)\u001b[0m\n\u001b[1;32m    100\u001b[0m dampener \u001b[38;5;241m=\u001b[39m \u001b[38;5;241m1\u001b[39m \u001b[38;5;241m-\u001b[39m rho_array\n\u001b[1;32m    101\u001b[0m \u001b[38;5;28;01mfor\u001b[39;00m iteration \u001b[38;5;129;01min\u001b[39;00m \u001b[38;5;28mrange\u001b[39m(\u001b[38;5;241m50\u001b[39m):\n\u001b[0;32m--> 102\u001b[0m     shares_model \u001b[38;5;241m=\u001b[39m \u001b[43mcompute_market_shares_nested\u001b[49m\u001b[43m(\u001b[49m\u001b[43mdelta\u001b[49m\u001b[43m,\u001b[49m\u001b[43m \u001b[49m\u001b[43mmarket_data\u001b[49m\u001b[43m,\u001b[49m\u001b[43m \u001b[49m\u001b[43mv_draws\u001b[49m\u001b[43m,\u001b[49m\u001b[43m \u001b[49m\u001b[43mbeta\u001b[49m\u001b[43m,\u001b[49m\u001b[43m \u001b[49m\u001b[43mrho_sat\u001b[49m\u001b[43m,\u001b[49m\u001b[43m \u001b[49m\u001b[43mrho_wired\u001b[49m\u001b[43m)\u001b[49m\n\u001b[1;32m    103\u001b[0m     shares_model \u001b[38;5;241m=\u001b[39m np\u001b[38;5;241m.\u001b[39mmaximum(shares_model, \u001b[38;5;241m1e-15\u001b[39m)\n\u001b[1;32m    104\u001b[0m     delta_new \u001b[38;5;241m=\u001b[39m delta \u001b[38;5;241m+\u001b[39m dampener \u001b[38;5;241m*\u001b[39m (np\u001b[38;5;241m.\u001b[39mlog(s_j) \u001b[38;5;241m-\u001b[39m np\u001b[38;5;241m.\u001b[39mlog(shares_model))\n",
      "Cell \u001b[0;32mIn[17], line 33\u001b[0m, in \u001b[0;36mcompute_market_shares_nested\u001b[0;34m(delta, market_data, v_draws, beta, rho_sat, rho_wired)\u001b[0m\n\u001b[1;32m     31\u001b[0m sat_mask \u001b[38;5;241m=\u001b[39m market_data[\u001b[38;5;124m'\u001b[39m\u001b[38;5;124msatellite\u001b[39m\u001b[38;5;124m'\u001b[39m] \u001b[38;5;241m==\u001b[39m \u001b[38;5;241m1\u001b[39m\n\u001b[1;32m     32\u001b[0m wired_mask \u001b[38;5;241m=\u001b[39m market_data[\u001b[38;5;124m'\u001b[39m\u001b[38;5;124msatellite\u001b[39m\u001b[38;5;124m'\u001b[39m] \u001b[38;5;241m==\u001b[39m \u001b[38;5;241m0\u001b[39m\n\u001b[0;32m---> 33\u001b[0m sat_indices \u001b[38;5;241m=\u001b[39m \u001b[43mmarket_data\u001b[49m\u001b[43m[\u001b[49m\u001b[43msat_mask\u001b[49m\u001b[43m]\u001b[49m\u001b[38;5;241m.\u001b[39mindex\n\u001b[1;32m     34\u001b[0m wired_indices \u001b[38;5;241m=\u001b[39m market_data[wired_mask]\u001b[38;5;241m.\u001b[39mindex\n\u001b[1;32m     35\u001b[0m nests \u001b[38;5;241m=\u001b[39m [(\u001b[38;5;124m'\u001b[39m\u001b[38;5;124msat\u001b[39m\u001b[38;5;124m'\u001b[39m, rho_sat, sat_indices), (\u001b[38;5;124m'\u001b[39m\u001b[38;5;124mwired\u001b[39m\u001b[38;5;124m'\u001b[39m, rho_wired, wired_indices)]\n",
      "File \u001b[0;32m/opt/anaconda3/lib/python3.13/site-packages/pandas/core/frame.py:4098\u001b[0m, in \u001b[0;36mDataFrame.__getitem__\u001b[0;34m(self, key)\u001b[0m\n\u001b[1;32m   4096\u001b[0m \u001b[38;5;66;03m# Do we have a (boolean) 1d indexer?\u001b[39;00m\n\u001b[1;32m   4097\u001b[0m \u001b[38;5;28;01mif\u001b[39;00m com\u001b[38;5;241m.\u001b[39mis_bool_indexer(key):\n\u001b[0;32m-> 4098\u001b[0m     \u001b[38;5;28;01mreturn\u001b[39;00m \u001b[38;5;28;43mself\u001b[39;49m\u001b[38;5;241;43m.\u001b[39;49m\u001b[43m_getitem_bool_array\u001b[49m\u001b[43m(\u001b[49m\u001b[43mkey\u001b[49m\u001b[43m)\u001b[49m\n\u001b[1;32m   4100\u001b[0m \u001b[38;5;66;03m# We are left with two options: a single key, and a collection of keys,\u001b[39;00m\n\u001b[1;32m   4101\u001b[0m \u001b[38;5;66;03m# We interpret tuples as collections only for non-MultiIndex\u001b[39;00m\n\u001b[1;32m   4102\u001b[0m is_single_key \u001b[38;5;241m=\u001b[39m \u001b[38;5;28misinstance\u001b[39m(key, \u001b[38;5;28mtuple\u001b[39m) \u001b[38;5;129;01mor\u001b[39;00m \u001b[38;5;129;01mnot\u001b[39;00m is_list_like(key)\n",
      "File \u001b[0;32m/opt/anaconda3/lib/python3.13/site-packages/pandas/core/frame.py:4160\u001b[0m, in \u001b[0;36mDataFrame._getitem_bool_array\u001b[0;34m(self, key)\u001b[0m\n\u001b[1;32m   4157\u001b[0m     \u001b[38;5;28;01mreturn\u001b[39;00m \u001b[38;5;28mself\u001b[39m\u001b[38;5;241m.\u001b[39mcopy(deep\u001b[38;5;241m=\u001b[39m\u001b[38;5;28;01mNone\u001b[39;00m)\n\u001b[1;32m   4159\u001b[0m indexer \u001b[38;5;241m=\u001b[39m key\u001b[38;5;241m.\u001b[39mnonzero()[\u001b[38;5;241m0\u001b[39m]\n\u001b[0;32m-> 4160\u001b[0m \u001b[38;5;28;01mreturn\u001b[39;00m \u001b[38;5;28;43mself\u001b[39;49m\u001b[38;5;241;43m.\u001b[39;49m\u001b[43m_take_with_is_copy\u001b[49m\u001b[43m(\u001b[49m\u001b[43mindexer\u001b[49m\u001b[43m,\u001b[49m\u001b[43m \u001b[49m\u001b[43maxis\u001b[49m\u001b[38;5;241;43m=\u001b[39;49m\u001b[38;5;241;43m0\u001b[39;49m\u001b[43m)\u001b[49m\n",
      "File \u001b[0;32m/opt/anaconda3/lib/python3.13/site-packages/pandas/core/generic.py:4172\u001b[0m, in \u001b[0;36mNDFrame._take_with_is_copy\u001b[0;34m(self, indices, axis)\u001b[0m\n\u001b[1;32m   4161\u001b[0m \u001b[38;5;129m@final\u001b[39m\n\u001b[1;32m   4162\u001b[0m \u001b[38;5;28;01mdef\u001b[39;00m\u001b[38;5;250m \u001b[39m\u001b[38;5;21m_take_with_is_copy\u001b[39m(\u001b[38;5;28mself\u001b[39m, indices, axis: Axis \u001b[38;5;241m=\u001b[39m \u001b[38;5;241m0\u001b[39m) \u001b[38;5;241m-\u001b[39m\u001b[38;5;241m>\u001b[39m Self:\n\u001b[1;32m   4163\u001b[0m \u001b[38;5;250m    \u001b[39m\u001b[38;5;124;03m\"\"\"\u001b[39;00m\n\u001b[1;32m   4164\u001b[0m \u001b[38;5;124;03m    Internal version of the `take` method that sets the `_is_copy`\u001b[39;00m\n\u001b[1;32m   4165\u001b[0m \u001b[38;5;124;03m    attribute to keep track of the parent dataframe (using in indexing\u001b[39;00m\n\u001b[0;32m   (...)\u001b[0m\n\u001b[1;32m   4170\u001b[0m \u001b[38;5;124;03m    See the docstring of `take` for full explanation of the parameters.\u001b[39;00m\n\u001b[1;32m   4171\u001b[0m \u001b[38;5;124;03m    \"\"\"\u001b[39;00m\n\u001b[0;32m-> 4172\u001b[0m     result \u001b[38;5;241m=\u001b[39m \u001b[38;5;28;43mself\u001b[39;49m\u001b[38;5;241;43m.\u001b[39;49m\u001b[43mtake\u001b[49m\u001b[43m(\u001b[49m\u001b[43mindices\u001b[49m\u001b[38;5;241;43m=\u001b[39;49m\u001b[43mindices\u001b[49m\u001b[43m,\u001b[49m\u001b[43m \u001b[49m\u001b[43maxis\u001b[49m\u001b[38;5;241;43m=\u001b[39;49m\u001b[43maxis\u001b[49m\u001b[43m)\u001b[49m\n\u001b[1;32m   4173\u001b[0m     \u001b[38;5;66;03m# Maybe set copy if we didn't actually change the index.\u001b[39;00m\n\u001b[1;32m   4174\u001b[0m     \u001b[38;5;28;01mif\u001b[39;00m \u001b[38;5;28mself\u001b[39m\u001b[38;5;241m.\u001b[39mndim \u001b[38;5;241m==\u001b[39m \u001b[38;5;241m2\u001b[39m \u001b[38;5;129;01mand\u001b[39;00m \u001b[38;5;129;01mnot\u001b[39;00m result\u001b[38;5;241m.\u001b[39m_get_axis(axis)\u001b[38;5;241m.\u001b[39mequals(\u001b[38;5;28mself\u001b[39m\u001b[38;5;241m.\u001b[39m_get_axis(axis)):\n",
      "File \u001b[0;32m/opt/anaconda3/lib/python3.13/site-packages/pandas/core/generic.py:4152\u001b[0m, in \u001b[0;36mNDFrame.take\u001b[0;34m(self, indices, axis, **kwargs)\u001b[0m\n\u001b[1;32m   4147\u001b[0m     \u001b[38;5;66;03m# We can get here with a slice via DataFrame.__getitem__\u001b[39;00m\n\u001b[1;32m   4148\u001b[0m     indices \u001b[38;5;241m=\u001b[39m np\u001b[38;5;241m.\u001b[39marange(\n\u001b[1;32m   4149\u001b[0m         indices\u001b[38;5;241m.\u001b[39mstart, indices\u001b[38;5;241m.\u001b[39mstop, indices\u001b[38;5;241m.\u001b[39mstep, dtype\u001b[38;5;241m=\u001b[39mnp\u001b[38;5;241m.\u001b[39mintp\n\u001b[1;32m   4150\u001b[0m     )\n\u001b[0;32m-> 4152\u001b[0m new_data \u001b[38;5;241m=\u001b[39m \u001b[38;5;28;43mself\u001b[39;49m\u001b[38;5;241;43m.\u001b[39;49m\u001b[43m_mgr\u001b[49m\u001b[38;5;241;43m.\u001b[39;49m\u001b[43mtake\u001b[49m\u001b[43m(\u001b[49m\n\u001b[1;32m   4153\u001b[0m \u001b[43m    \u001b[49m\u001b[43mindices\u001b[49m\u001b[43m,\u001b[49m\n\u001b[1;32m   4154\u001b[0m \u001b[43m    \u001b[49m\u001b[43maxis\u001b[49m\u001b[38;5;241;43m=\u001b[39;49m\u001b[38;5;28;43mself\u001b[39;49m\u001b[38;5;241;43m.\u001b[39;49m\u001b[43m_get_block_manager_axis\u001b[49m\u001b[43m(\u001b[49m\u001b[43maxis\u001b[49m\u001b[43m)\u001b[49m\u001b[43m,\u001b[49m\n\u001b[1;32m   4155\u001b[0m \u001b[43m    \u001b[49m\u001b[43mverify\u001b[49m\u001b[38;5;241;43m=\u001b[39;49m\u001b[38;5;28;43;01mTrue\u001b[39;49;00m\u001b[43m,\u001b[49m\n\u001b[1;32m   4156\u001b[0m \u001b[43m\u001b[49m\u001b[43m)\u001b[49m\n\u001b[1;32m   4157\u001b[0m \u001b[38;5;28;01mreturn\u001b[39;00m \u001b[38;5;28mself\u001b[39m\u001b[38;5;241m.\u001b[39m_constructor_from_mgr(new_data, axes\u001b[38;5;241m=\u001b[39mnew_data\u001b[38;5;241m.\u001b[39maxes)\u001b[38;5;241m.\u001b[39m__finalize__(\n\u001b[1;32m   4158\u001b[0m     \u001b[38;5;28mself\u001b[39m, method\u001b[38;5;241m=\u001b[39m\u001b[38;5;124m\"\u001b[39m\u001b[38;5;124mtake\u001b[39m\u001b[38;5;124m\"\u001b[39m\n\u001b[1;32m   4159\u001b[0m )\n",
      "File \u001b[0;32m/opt/anaconda3/lib/python3.13/site-packages/pandas/core/internals/managers.py:894\u001b[0m, in \u001b[0;36mBaseBlockManager.take\u001b[0;34m(self, indexer, axis, verify)\u001b[0m\n\u001b[1;32m    891\u001b[0m indexer \u001b[38;5;241m=\u001b[39m maybe_convert_indices(indexer, n, verify\u001b[38;5;241m=\u001b[39mverify)\n\u001b[1;32m    893\u001b[0m new_labels \u001b[38;5;241m=\u001b[39m \u001b[38;5;28mself\u001b[39m\u001b[38;5;241m.\u001b[39maxes[axis]\u001b[38;5;241m.\u001b[39mtake(indexer)\n\u001b[0;32m--> 894\u001b[0m \u001b[38;5;28;01mreturn\u001b[39;00m \u001b[38;5;28;43mself\u001b[39;49m\u001b[38;5;241;43m.\u001b[39;49m\u001b[43mreindex_indexer\u001b[49m\u001b[43m(\u001b[49m\n\u001b[1;32m    895\u001b[0m \u001b[43m    \u001b[49m\u001b[43mnew_axis\u001b[49m\u001b[38;5;241;43m=\u001b[39;49m\u001b[43mnew_labels\u001b[49m\u001b[43m,\u001b[49m\n\u001b[1;32m    896\u001b[0m \u001b[43m    \u001b[49m\u001b[43mindexer\u001b[49m\u001b[38;5;241;43m=\u001b[39;49m\u001b[43mindexer\u001b[49m\u001b[43m,\u001b[49m\n\u001b[1;32m    897\u001b[0m \u001b[43m    \u001b[49m\u001b[43maxis\u001b[49m\u001b[38;5;241;43m=\u001b[39;49m\u001b[43maxis\u001b[49m\u001b[43m,\u001b[49m\n\u001b[1;32m    898\u001b[0m \u001b[43m    \u001b[49m\u001b[43mallow_dups\u001b[49m\u001b[38;5;241;43m=\u001b[39;49m\u001b[38;5;28;43;01mTrue\u001b[39;49;00m\u001b[43m,\u001b[49m\n\u001b[1;32m    899\u001b[0m \u001b[43m    \u001b[49m\u001b[43mcopy\u001b[49m\u001b[38;5;241;43m=\u001b[39;49m\u001b[38;5;28;43;01mNone\u001b[39;49;00m\u001b[43m,\u001b[49m\n\u001b[1;32m    900\u001b[0m \u001b[43m\u001b[49m\u001b[43m)\u001b[49m\n",
      "File \u001b[0;32m/opt/anaconda3/lib/python3.13/site-packages/pandas/core/internals/managers.py:688\u001b[0m, in \u001b[0;36mBaseBlockManager.reindex_indexer\u001b[0;34m(self, new_axis, indexer, axis, fill_value, allow_dups, copy, only_slice, use_na_proxy)\u001b[0m\n\u001b[1;32m    680\u001b[0m     new_blocks \u001b[38;5;241m=\u001b[39m \u001b[38;5;28mself\u001b[39m\u001b[38;5;241m.\u001b[39m_slice_take_blocks_ax0(\n\u001b[1;32m    681\u001b[0m         indexer,\n\u001b[1;32m    682\u001b[0m         fill_value\u001b[38;5;241m=\u001b[39mfill_value,\n\u001b[1;32m    683\u001b[0m         only_slice\u001b[38;5;241m=\u001b[39monly_slice,\n\u001b[1;32m    684\u001b[0m         use_na_proxy\u001b[38;5;241m=\u001b[39muse_na_proxy,\n\u001b[1;32m    685\u001b[0m     )\n\u001b[1;32m    686\u001b[0m \u001b[38;5;28;01melse\u001b[39;00m:\n\u001b[1;32m    687\u001b[0m     new_blocks \u001b[38;5;241m=\u001b[39m [\n\u001b[0;32m--> 688\u001b[0m         \u001b[43mblk\u001b[49m\u001b[38;5;241;43m.\u001b[39;49m\u001b[43mtake_nd\u001b[49m\u001b[43m(\u001b[49m\n\u001b[1;32m    689\u001b[0m \u001b[43m            \u001b[49m\u001b[43mindexer\u001b[49m\u001b[43m,\u001b[49m\n\u001b[1;32m    690\u001b[0m \u001b[43m            \u001b[49m\u001b[43maxis\u001b[49m\u001b[38;5;241;43m=\u001b[39;49m\u001b[38;5;241;43m1\u001b[39;49m\u001b[43m,\u001b[49m\n\u001b[1;32m    691\u001b[0m \u001b[43m            \u001b[49m\u001b[43mfill_value\u001b[49m\u001b[38;5;241;43m=\u001b[39;49m\u001b[43m(\u001b[49m\n\u001b[1;32m    692\u001b[0m \u001b[43m                \u001b[49m\u001b[43mfill_value\u001b[49m\u001b[43m \u001b[49m\u001b[38;5;28;43;01mif\u001b[39;49;00m\u001b[43m \u001b[49m\u001b[43mfill_value\u001b[49m\u001b[43m \u001b[49m\u001b[38;5;129;43;01mis\u001b[39;49;00m\u001b[43m \u001b[49m\u001b[38;5;129;43;01mnot\u001b[39;49;00m\u001b[43m \u001b[49m\u001b[38;5;28;43;01mNone\u001b[39;49;00m\u001b[43m \u001b[49m\u001b[38;5;28;43;01melse\u001b[39;49;00m\u001b[43m \u001b[49m\u001b[43mblk\u001b[49m\u001b[38;5;241;43m.\u001b[39;49m\u001b[43mfill_value\u001b[49m\n\u001b[1;32m    693\u001b[0m \u001b[43m            \u001b[49m\u001b[43m)\u001b[49m\u001b[43m,\u001b[49m\n\u001b[1;32m    694\u001b[0m \u001b[43m        \u001b[49m\u001b[43m)\u001b[49m\n\u001b[1;32m    695\u001b[0m         \u001b[38;5;28;01mfor\u001b[39;00m blk \u001b[38;5;129;01min\u001b[39;00m \u001b[38;5;28mself\u001b[39m\u001b[38;5;241m.\u001b[39mblocks\n\u001b[1;32m    696\u001b[0m     ]\n\u001b[1;32m    698\u001b[0m new_axes \u001b[38;5;241m=\u001b[39m \u001b[38;5;28mlist\u001b[39m(\u001b[38;5;28mself\u001b[39m\u001b[38;5;241m.\u001b[39maxes)\n\u001b[1;32m    699\u001b[0m new_axes[axis] \u001b[38;5;241m=\u001b[39m new_axis\n",
      "File \u001b[0;32m/opt/anaconda3/lib/python3.13/site-packages/pandas/core/internals/blocks.py:1373\u001b[0m, in \u001b[0;36mBlock.take_nd\u001b[0;34m(self, indexer, axis, new_mgr_locs, fill_value)\u001b[0m\n\u001b[1;32m   1370\u001b[0m     allow_fill \u001b[38;5;241m=\u001b[39m \u001b[38;5;28;01mTrue\u001b[39;00m\n\u001b[1;32m   1372\u001b[0m \u001b[38;5;66;03m# Note: algos.take_nd has upcast logic similar to coerce_to_target_dtype\u001b[39;00m\n\u001b[0;32m-> 1373\u001b[0m new_values \u001b[38;5;241m=\u001b[39m \u001b[43malgos\u001b[49m\u001b[38;5;241;43m.\u001b[39;49m\u001b[43mtake_nd\u001b[49m\u001b[43m(\u001b[49m\n\u001b[1;32m   1374\u001b[0m \u001b[43m    \u001b[49m\u001b[43mvalues\u001b[49m\u001b[43m,\u001b[49m\u001b[43m \u001b[49m\u001b[43mindexer\u001b[49m\u001b[43m,\u001b[49m\u001b[43m \u001b[49m\u001b[43maxis\u001b[49m\u001b[38;5;241;43m=\u001b[39;49m\u001b[43maxis\u001b[49m\u001b[43m,\u001b[49m\u001b[43m \u001b[49m\u001b[43mallow_fill\u001b[49m\u001b[38;5;241;43m=\u001b[39;49m\u001b[43mallow_fill\u001b[49m\u001b[43m,\u001b[49m\u001b[43m \u001b[49m\u001b[43mfill_value\u001b[49m\u001b[38;5;241;43m=\u001b[39;49m\u001b[43mfill_value\u001b[49m\n\u001b[1;32m   1375\u001b[0m \u001b[43m\u001b[49m\u001b[43m)\u001b[49m\n\u001b[1;32m   1377\u001b[0m \u001b[38;5;66;03m# Called from three places in managers, all of which satisfy\u001b[39;00m\n\u001b[1;32m   1378\u001b[0m \u001b[38;5;66;03m#  these assertions\u001b[39;00m\n\u001b[1;32m   1379\u001b[0m \u001b[38;5;28;01mif\u001b[39;00m \u001b[38;5;28misinstance\u001b[39m(\u001b[38;5;28mself\u001b[39m, ExtensionBlock):\n\u001b[1;32m   1380\u001b[0m     \u001b[38;5;66;03m# NB: in this case, the 'axis' kwarg will be ignored in the\u001b[39;00m\n\u001b[1;32m   1381\u001b[0m     \u001b[38;5;66;03m#  algos.take_nd call above.\u001b[39;00m\n",
      "File \u001b[0;32m/opt/anaconda3/lib/python3.13/site-packages/pandas/core/array_algos/take.py:117\u001b[0m, in \u001b[0;36mtake_nd\u001b[0;34m(arr, indexer, axis, fill_value, allow_fill)\u001b[0m\n\u001b[1;32m    114\u001b[0m     \u001b[38;5;28;01mreturn\u001b[39;00m arr\u001b[38;5;241m.\u001b[39mtake(indexer, fill_value\u001b[38;5;241m=\u001b[39mfill_value, allow_fill\u001b[38;5;241m=\u001b[39mallow_fill)\n\u001b[1;32m    116\u001b[0m arr \u001b[38;5;241m=\u001b[39m np\u001b[38;5;241m.\u001b[39masarray(arr)\n\u001b[0;32m--> 117\u001b[0m \u001b[38;5;28;01mreturn\u001b[39;00m \u001b[43m_take_nd_ndarray\u001b[49m\u001b[43m(\u001b[49m\u001b[43marr\u001b[49m\u001b[43m,\u001b[49m\u001b[43m \u001b[49m\u001b[43mindexer\u001b[49m\u001b[43m,\u001b[49m\u001b[43m \u001b[49m\u001b[43maxis\u001b[49m\u001b[43m,\u001b[49m\u001b[43m \u001b[49m\u001b[43mfill_value\u001b[49m\u001b[43m,\u001b[49m\u001b[43m \u001b[49m\u001b[43mallow_fill\u001b[49m\u001b[43m)\u001b[49m\n",
      "File \u001b[0;32m/opt/anaconda3/lib/python3.13/site-packages/pandas/core/array_algos/take.py:133\u001b[0m, in \u001b[0;36m_take_nd_ndarray\u001b[0;34m(arr, indexer, axis, fill_value, allow_fill)\u001b[0m\n\u001b[1;32m    130\u001b[0m \u001b[38;5;28;01melse\u001b[39;00m:\n\u001b[1;32m    131\u001b[0m     indexer \u001b[38;5;241m=\u001b[39m ensure_platform_int(indexer)\n\u001b[0;32m--> 133\u001b[0m dtype, fill_value, mask_info \u001b[38;5;241m=\u001b[39m \u001b[43m_take_preprocess_indexer_and_fill_value\u001b[49m\u001b[43m(\u001b[49m\n\u001b[1;32m    134\u001b[0m \u001b[43m    \u001b[49m\u001b[43marr\u001b[49m\u001b[43m,\u001b[49m\u001b[43m \u001b[49m\u001b[43mindexer\u001b[49m\u001b[43m,\u001b[49m\u001b[43m \u001b[49m\u001b[43mfill_value\u001b[49m\u001b[43m,\u001b[49m\u001b[43m \u001b[49m\u001b[43mallow_fill\u001b[49m\n\u001b[1;32m    135\u001b[0m \u001b[43m\u001b[49m\u001b[43m)\u001b[49m\n\u001b[1;32m    137\u001b[0m flip_order \u001b[38;5;241m=\u001b[39m \u001b[38;5;28;01mFalse\u001b[39;00m\n\u001b[1;32m    138\u001b[0m \u001b[38;5;28;01mif\u001b[39;00m arr\u001b[38;5;241m.\u001b[39mndim \u001b[38;5;241m==\u001b[39m \u001b[38;5;241m2\u001b[39m \u001b[38;5;129;01mand\u001b[39;00m arr\u001b[38;5;241m.\u001b[39mflags\u001b[38;5;241m.\u001b[39mf_contiguous:\n",
      "File \u001b[0;32m/opt/anaconda3/lib/python3.13/site-packages/pandas/core/array_algos/take.py:579\u001b[0m, in \u001b[0;36m_take_preprocess_indexer_and_fill_value\u001b[0;34m(arr, indexer, fill_value, allow_fill, mask)\u001b[0m\n\u001b[1;32m    575\u001b[0m     mask_info \u001b[38;5;241m=\u001b[39m \u001b[38;5;28;01mNone\u001b[39;00m, \u001b[38;5;28;01mFalse\u001b[39;00m\n\u001b[1;32m    576\u001b[0m \u001b[38;5;28;01melse\u001b[39;00m:\n\u001b[1;32m    577\u001b[0m     \u001b[38;5;66;03m# check for promotion based on types only (do this first because\u001b[39;00m\n\u001b[1;32m    578\u001b[0m     \u001b[38;5;66;03m# it's faster than computing a mask)\u001b[39;00m\n\u001b[0;32m--> 579\u001b[0m     dtype, fill_value \u001b[38;5;241m=\u001b[39m \u001b[43mmaybe_promote\u001b[49m\u001b[43m(\u001b[49m\u001b[43marr\u001b[49m\u001b[38;5;241;43m.\u001b[39;49m\u001b[43mdtype\u001b[49m\u001b[43m,\u001b[49m\u001b[43m \u001b[49m\u001b[43mfill_value\u001b[49m\u001b[43m)\u001b[49m\n\u001b[1;32m    580\u001b[0m     \u001b[38;5;28;01mif\u001b[39;00m dtype \u001b[38;5;241m!=\u001b[39m arr\u001b[38;5;241m.\u001b[39mdtype:\n\u001b[1;32m    581\u001b[0m         \u001b[38;5;66;03m# check if promotion is actually required based on indexer\u001b[39;00m\n\u001b[1;32m    582\u001b[0m         \u001b[38;5;28;01mif\u001b[39;00m mask \u001b[38;5;129;01mis\u001b[39;00m \u001b[38;5;129;01mnot\u001b[39;00m \u001b[38;5;28;01mNone\u001b[39;00m:\n",
      "File \u001b[0;32m/opt/anaconda3/lib/python3.13/site-packages/pandas/core/dtypes/cast.py:582\u001b[0m, in \u001b[0;36mmaybe_promote\u001b[0;34m(dtype, fill_value)\u001b[0m\n\u001b[1;32m    579\u001b[0m         \u001b[38;5;28;01mexcept\u001b[39;00m \u001b[38;5;167;01mTypeError\u001b[39;00m:\n\u001b[1;32m    580\u001b[0m             \u001b[38;5;28;01mpass\u001b[39;00m\n\u001b[0;32m--> 582\u001b[0m     fill_value \u001b[38;5;241m=\u001b[39m \u001b[43m_canonical_nans\u001b[49m\u001b[38;5;241;43m.\u001b[39;49m\u001b[43mget\u001b[49m\u001b[43m(\u001b[49m\u001b[38;5;28;43mtype\u001b[39;49m\u001b[43m(\u001b[49m\u001b[43mfill_value\u001b[49m\u001b[43m)\u001b[49m\u001b[43m,\u001b[49m\u001b[43m \u001b[49m\u001b[43mfill_value\u001b[49m\u001b[43m)\u001b[49m\n\u001b[1;32m    584\u001b[0m \u001b[38;5;66;03m# for performance, we are using a cached version of the actual implementation\u001b[39;00m\n\u001b[1;32m    585\u001b[0m \u001b[38;5;66;03m# of the function in _maybe_promote. However, this doesn't always work (in case\u001b[39;00m\n\u001b[1;32m    586\u001b[0m \u001b[38;5;66;03m# of non-hashable arguments), so we fallback to the actual implementation if needed\u001b[39;00m\n\u001b[1;32m    587\u001b[0m \u001b[38;5;28;01mtry\u001b[39;00m:\n\u001b[1;32m    588\u001b[0m     \u001b[38;5;66;03m# error: Argument 3 to \"__call__\" of \"_lru_cache_wrapper\" has incompatible type\u001b[39;00m\n\u001b[1;32m    589\u001b[0m     \u001b[38;5;66;03m# \"Type[Any]\"; expected \"Hashable\"  [arg-type]\u001b[39;00m\n",
      "\u001b[0;31mKeyboardInterrupt\u001b[0m: "
     ]
    }
   ],
   "source": []
  },
  {
   "cell_type": "markdown",
   "id": "ec7e697f",
   "metadata": {},
   "source": [
    "## PyBLP Implementations\n",
    "\n",
    "Now let's implement the same models using PyBLP for comparison."
   ]
  },
  {
   "cell_type": "code",
   "execution_count": 18,
   "id": "4ce4ffbd",
   "metadata": {},
   "outputs": [],
   "source": [
    "import pyblp\n",
    "pyblp.options.digits = 3\n",
    "pyblp.options.verbose = False\n",
    "pyblp.options.collinear_atol = 0\n",
    "pyblp.options.collinear_rtol = 0\n",
    "pyblp.options.singular_tol = 0\n",
    "pd.options.display.precision = 3\n",
    "pd.options.display.max_columns = 50\n"
   ]
  },
  {
   "cell_type": "code",
   "execution_count": null,
   "id": "d6bfb819",
   "metadata": {},
   "outputs": [
    {
     "name": "stdout",
     "output_type": "stream",
     "text": [
      "After rename: ['market_ids', 'firm_ids', 'product_id', 'x', 'w', 'satellite', 'wired', 'sum_x_competitors', 'sum_w_competitors', 'xi', 'omega', 'mc', 'prices', 'shares', 'x**2', 'w**2', 'x*w', 'outside_share', 'logit_delta', 'nesting_ids', 'group_size', 'x_other_in_nest', 'w_other_in_nest']\n",
      "Data prepared for PyBLP:\n",
      "Markets: 600\n",
      "Products per market: 4\n"
     ]
    }
   ],
   "source": [
    "# Prepare data for PyBLP\n",
    "pyblp_data = product_data.copy()\n",
    "pyblp_data = pyblp_data.rename(columns={'market_id': 'market_ids', 'firm_id': 'firm_ids'})\n",
    "print(\"After rename:\", pyblp_data.columns.tolist())\n",
    "\n",
    "# Ensure necessary columns are present\n",
    "pyblp_data['sum_x_competitors'] = pyblp_data.groupby('market_ids')['x'].transform('sum') - pyblp_data['x']\n",
    "pyblp_data['sum_w_competitors'] = pyblp_data.groupby('market_ids')['w'].transform('sum') - pyblp_data['w']\n",
    "\n",
    "print(\"Data prepared for PyBLP:\")\n",
    "print(f\"Markets: {pyblp_data['market_ids'].nunique()}\")\n",
    "print(f\"Products per market: {pyblp_data.groupby('market_ids').size().iloc[0]}\")"
   ]
  },
  {
   "cell_type": "code",
   "execution_count": 20,
   "id": "d486a6e1",
   "metadata": {},
   "outputs": [
    {
     "name": "stdout",
     "output_type": "stream",
     "text": [
      "PyBLP Plain Logit OLS Results:\n",
      "Problem Results Summary:\n",
      "=============================================================\n",
      "GMM   Objective  Clipped  Weighting Matrix  Covariance Matrix\n",
      "Step    Value    Shares   Condition Number  Condition Number \n",
      "----  ---------  -------  ----------------  -----------------\n",
      " 1    +5.55E-25     0        +1.02E+01          +9.78E+16    \n",
      "=============================================================\n",
      "\n",
      "Cumulative Statistics:\n",
      "========================\n",
      "Computation   Objective \n",
      "   Time      Evaluations\n",
      "-----------  -----------\n",
      " 00:00:00         1     \n",
      "========================\n",
      "\n",
      "Beta Estimates (Robust SEs in Parentheses):\n",
      "==================================================\n",
      "  prices          x        satellite      wired   \n",
      "-----------  -----------  -----------  -----------\n",
      " -1.08E+00    -7.29E-04    -1.55E-01    -1.79E-01 \n",
      "(+6.36E-03)  (+4.43E-02)  (+2.10E-02)  (+2.07E-02)\n",
      "==================================================\n"
     ]
    },
    {
     "name": "stderr",
     "output_type": "stream",
     "text": [
      "The model may be under-identified. The total number of unfixed parameters is 4, which is more than the total number of moments, 3. Consider checking whether instruments were properly specified when initializing the problem, and whether parameters were properly configured when solving the problem.\n",
      "Detected that the 2SLS weighting matrix is nearly singular with condition number +1.02E+01. To disable singularity checks, set options.singular_tol = numpy.inf.\n",
      "Detected that the estimated covariance matrix of aggregate GMM moments is nearly singular with condition number +2.03E+01. To disable singularity checks, set options.singular_tol = numpy.inf.\n",
      "Detected that the estimated covariance matrix of aggregate GMM moments is nearly singular with condition number +2.03E+01. To disable singularity checks, set options.singular_tol = numpy.inf.\n"
     ]
    }
   ],
   "source": [
    "# PyBLP OLS for logit (treat prices as exogenous)\n",
    "ols_data = pyblp_data.drop(columns=[c for c in pyblp_data.columns if 'demand_instruments' in c or c == 'nesting_ids'])\n",
    "ols_formulation = pyblp.Formulation('0 + prices + x + satellite + wired')\n",
    "ols_problem = pyblp.Problem(ols_formulation, ols_data)\n",
    "logit_ols_results = ols_problem.solve(method='1s')\n",
    "print(\"PyBLP Plain Logit OLS Results:\")\n",
    "print(logit_ols_results)"
   ]
  },
  {
   "cell_type": "markdown",
   "id": "d2a81ba9",
   "metadata": {},
   "source": [
    "### Plain Logit IV"
   ]
  },
  {
   "cell_type": "code",
   "execution_count": 21,
   "id": "c046b122",
   "metadata": {},
   "outputs": [
    {
     "name": "stdout",
     "output_type": "stream",
     "text": [
      "PyBLP Plain Logit IV Results:\n",
      "Problem Results Summary:\n",
      "=============================================================\n",
      "GMM   Objective  Clipped  Weighting Matrix  Covariance Matrix\n",
      "Step    Value    Shares   Condition Number  Condition Number \n",
      "----  ---------  -------  ----------------  -----------------\n",
      " 2    +1.58E+02     0        +4.41E+02          +4.23E+03    \n",
      "=============================================================\n",
      "\n",
      "Cumulative Statistics:\n",
      "========================\n",
      "Computation   Objective \n",
      "   Time      Evaluations\n",
      "-----------  -----------\n",
      " 00:00:00         2     \n",
      "========================\n",
      "\n",
      "Beta Estimates (Robust SEs in Parentheses):\n",
      "==================================================\n",
      "  prices          x        satellite      wired   \n",
      "-----------  -----------  -----------  -----------\n",
      " -1.36E+00    +3.49E-01    +7.13E-01    +7.33E-01 \n",
      "(+5.25E-02)  (+6.61E-02)  (+1.72E-01)  (+1.74E-01)\n",
      "==================================================\n"
     ]
    },
    {
     "name": "stderr",
     "output_type": "stream",
     "text": [
      "Detected that the 2SLS weighting matrix is nearly singular with condition number +4.43E+02. To disable singularity checks, set options.singular_tol = numpy.inf.\n",
      "Detected that the estimated covariance matrix of aggregate GMM moments is nearly singular with condition number +4.41E+02. To disable singularity checks, set options.singular_tol = numpy.inf.\n",
      "Detected that the estimated covariance matrix of aggregate GMM moments is nearly singular with condition number +4.41E+02. To disable singularity checks, set options.singular_tol = numpy.inf.\n",
      "Detected that the estimated covariance matrix of aggregate GMM moments is nearly singular with condition number +4.41E+02. To disable singularity checks, set options.singular_tol = numpy.inf.\n",
      "Detected that the estimated covariance matrix of aggregate GMM moments is nearly singular with condition number +4.42E+02. To disable singularity checks, set options.singular_tol = numpy.inf.\n"
     ]
    }
   ],
   "source": [
    "\n",
    "# Add demand instruments\n",
    "iv_data = pyblp_data.drop(columns=['nesting_ids'])\n",
    "iv_data['demand_instruments0'] = iv_data['w']\n",
    "iv_data['demand_instruments1'] = iv_data['sum_x_competitors']\n",
    "iv_data['demand_instruments2'] = iv_data['sum_w_competitors']\n",
    "iv_formulation = pyblp.Formulation('0 + prices + x + satellite + wired')\n",
    "iv_problem = pyblp.Problem(iv_formulation, iv_data)\n",
    "logit_results = iv_problem.solve()\n",
    "print(\"PyBLP Plain Logit IV Results:\")\n",
    "print(logit_results)"
   ]
  },
  {
   "cell_type": "markdown",
   "id": "77e80ff2",
   "metadata": {},
   "source": [
    "### Nested Logit (PyBLP)\n",
    "\n",
    "For nested logit, we need to add nesting_ids and an additional instrument for the within-group share."
   ]
  },
  {
   "cell_type": "code",
   "execution_count": 22,
   "id": "6db266c4",
   "metadata": {},
   "outputs": [
    {
     "name": "stderr",
     "output_type": "stream",
     "text": [
      "Detected that the 2SLS weighting matrix is nearly singular with condition number +1.53E+18. To disable singularity checks, set options.singular_tol = numpy.inf.\n",
      "Detected that the estimated covariance matrix of aggregate GMM moments is nearly singular with condition number +1.24E+18. To disable singularity checks, set options.singular_tol = numpy.inf.\n",
      "Detected that the estimated covariance matrix of aggregate GMM moments is nearly singular with condition number +3.88E+18. To disable singularity checks, set options.singular_tol = numpy.inf.\n",
      "Detected that the estimated covariance matrix of aggregate GMM moments is nearly singular with condition number +1.24E+18. To disable singularity checks, set options.singular_tol = numpy.inf.\n",
      "Detected that the estimated covariance matrix of aggregate GMM moments is nearly singular with condition number +3.88E+18. To disable singularity checks, set options.singular_tol = numpy.inf.\n"
     ]
    },
    {
     "name": "stdout",
     "output_type": "stream",
     "text": [
      "PyBLP Nested Logit Results:\n",
      "Problem Results Summary:\n",
      "==============================================================================================================\n",
      "GMM   Objective    Projected    Reduced Hessian  Reduced Hessian  Clipped  Weighting Matrix  Covariance Matrix\n",
      "Step    Value    Gradient Norm  Min Eigenvalue   Max Eigenvalue   Shares   Condition Number  Condition Number \n",
      "----  ---------  -------------  ---------------  ---------------  -------  ----------------  -----------------\n",
      " 2    +2.00E-11    +3.22E-11       +0.00E+00        +0.00E+00        0        +1.82E+17          +1.15E+05    \n",
      "==============================================================================================================\n",
      "\n",
      "Cumulative Statistics:\n",
      "=================================================\n",
      "Computation  Optimizer  Optimization   Objective \n",
      "   Time      Converged   Iterations   Evaluations\n",
      "-----------  ---------  ------------  -----------\n",
      " 00:00:03       Yes          1             5     \n",
      "=================================================\n",
      "\n",
      "Rho Estimates (Robust SEs in Parentheses):\n",
      "========================\n",
      " satellite      wired   \n",
      "-----------  -----------\n",
      " +9.90E-01    +0.00E+00 \n",
      "(+8.55E-01)  (+5.98E-01)\n",
      "========================\n",
      "\n",
      "Beta Estimates (Robust SEs in Parentheses):\n",
      "==================================================\n",
      "  prices          x        satellite      wired   \n",
      "-----------  -----------  -----------  -----------\n",
      " -8.65E-01    +3.84E-01    -3.17E-02    -1.37E+00 \n",
      "(+1.69E-01)  (+1.81E-01)  (+9.81E-01)  (+1.18E+00)\n",
      "==================================================\n",
      "Price coefficient: [-0.8653773]\n",
      "Nesting parameters ρ: [[0.99]\n",
      " [0.  ]]\n",
      "Adjusted price coefficient α/(1-ρ_satellite): [-86.53772993]\n",
      "Adjusted price coefficient α/(1-ρ_wired): [-0.8653773]\n"
     ]
    },
    {
     "name": "stderr",
     "output_type": "stream",
     "text": [
      "Detected that the estimated covariance matrix of aggregate GMM moments is nearly singular with condition number +4.40E+19. To disable singularity checks, set options.singular_tol = numpy.inf.\n",
      "Detected that the estimated covariance matrix of aggregate GMM moments is nearly singular with condition number +1.89E+19. To disable singularity checks, set options.singular_tol = numpy.inf.\n"
     ]
    }
   ],
   "source": [
    "# Prepare data for nested logit\n",
    "nested_data = pyblp_data.copy()\n",
    "nested_data['nesting_ids'] = nested_data['satellite'].map({1: 'satellite', 0: 'wired'})\n",
    "\n",
    "# Ensure sum_x_competitors and sum_w_competitors are present\n",
    "nested_data['sum_x_competitors'] = nested_data.groupby('market_ids')['x'].transform('sum') - nested_data['x']\n",
    "nested_data['sum_w_competitors'] = nested_data.groupby('market_ids')['w'].transform('sum') - nested_data['w']\n",
    "\n",
    "# Compute mean x per group per market\n",
    "nested_data['mean_x_group'] = nested_data.groupby(['market_ids', 'nesting_ids'])['x'].transform('mean')\n",
    "nested_data['x_other_in_nest'] = nested_data.groupby(['market_ids', 'nesting_ids'])['x'].transform('sum') - nested_data['x']\n",
    "nested_data['demand_instruments0'] = nested_data['x']\n",
    "nested_data['demand_instruments1'] = nested_data['w']\n",
    "nested_data['demand_instruments2'] = nested_data['satellite']\n",
    "nested_data['demand_instruments3'] = nested_data['wired']\n",
    "nested_data['demand_instruments4'] = nested_data['sum_x_competitors']\n",
    "nested_data['demand_instruments5'] = nested_data['x_other_in_nest']\n",
    "\n",
    "# Nested logit formulation\n",
    "nl_formulation = pyblp.Formulation('0 + prices + x + satellite + wired')\n",
    "nl_problem = pyblp.Problem(nl_formulation, nested_data)\n",
    "rho_initial = [0.5, 0.5]  # Initial values for rho_sat and rho_wired\n",
    "nl_results = nl_problem.solve(rho=rho_initial)\n",
    "\n",
    "print(\"PyBLP Nested Logit Results:\")\n",
    "print(nl_results)\n",
    "print(f\"Price coefficient: {nl_results.beta[0]}\")\n",
    "print(f\"Nesting parameters ρ: {nl_results.rho}\")\n",
    "print(f\"Adjusted price coefficient α/(1-ρ_satellite): {nl_results.beta[0] / (1 - nl_results.rho[0])}\")\n",
    "print(f\"Adjusted price coefficient α/(1-ρ_wired): {nl_results.beta[0] / (1 - nl_results.rho[1])}\")"
   ]
  },
  {
   "cell_type": "markdown",
   "id": "133e5dff",
   "metadata": {},
   "source": [
    "### Comparison with Manual Results\n",
    "\n",
    "Compare the PyBLP results with the manual matrix algebra results."
   ]
  },
  {
   "cell_type": "code",
   "execution_count": null,
   "id": "30048f7f",
   "metadata": {},
   "outputs": [],
   "source": [
    "print(\"Comparison of Results:\")\n",
    "print(\"=\" * 50)\n",
    "print(\"Manual OLS α: {:.3f} (SE: {:.3f})\".format(beta_hat[3], se_ols[3]))\n",
    "print(\"Manual IV α: {:.3f} (SE: {:.3f})\".format(beta_hat_iv[3], se_iv[3]))\n",
    "# Manual nested not completed due to computational issues\n",
    "print()\n",
    "print(\"PyBLP Logit OLS α: {:.3f} (SE: {:.3f})\".format(logit_ols_results.beta[0].item(), logit_ols_results.beta_se[0].item()))\n",
    "print(\"PyBLP Logit IV α: {:.3f} (SE: {:.3f})\".format(logit_results.beta[0].item(), logit_results.beta_se[0].item()))\n",
    "print(\"PyBLP Nested α: {:.3f} (SE: {:.3f})\".format(nl_results.beta[0].item(), nl_results.beta_se[0].item()))\n",
    "print(\"PyBLP Nested ρ_satellite: {:.3f} (SE: {:.3f}), ρ_wired: {:.3f} (SE: {:.3f})\".format(nl_results.rho[0].item(), nl_results.rho_se[0].item(), nl_results.rho[1].item(), nl_results.rho_se[1].item()))"
   ]
  },
  {
   "cell_type": "code",
   "execution_count": 39,
   "id": "b521f7ac",
   "metadata": {},
   "outputs": [],
   "source": [
    "# Prepare data for BLP (no nesting)\n",
    "blp_data = pyblp_data.drop(columns=['nesting_ids'], errors='ignore')\n",
    "\n",
    "# PyBLP BLP Demand Alone\n",
    "blp_demand_formulations = (\n",
    "    pyblp.Formulation('prices + x + satellite + wired'),\n",
    "    pyblp.Formulation('0 + satellite + wired')\n",
    ")\n",
    "integration = pyblp.Integration('monte_carlo', size=100)\n",
    "blp_problem_demand = pyblp.Problem(blp_demand_formulations, blp_data, integration=integration)\n"
   ]
  },
  {
   "cell_type": "code",
   "execution_count": 42,
   "id": "b7205672",
   "metadata": {},
   "outputs": [
    {
     "name": "stdout",
     "output_type": "stream",
     "text": [
      "Columns in blp_data: ['market_ids', 'firm_ids', 'product_id', 'x', 'w', 'satellite', 'wired', 'sum_x_competitors', 'sum_w_competitors', 'xi', 'omega', 'mc', 'prices', 'shares', 'x**2', 'w**2', 'x*w', 'outside_share', 'logit_delta', 'group_size', 'x_other_in_nest', 'w_other_in_nest']\n"
     ]
    },
    {
     "name": "stderr",
     "output_type": "stream",
     "text": [
      "The model may be under-identified. The total number of unfixed parameters is 8, which is more than the total number of moments, 6. Consider checking whether instruments were properly specified when initializing the problem, and whether parameters were properly configured when solving the problem.\n",
      "Detected that the 2SLS weighting matrix is nearly singular with condition number +2.71E+16. To disable singularity checks, set options.singular_tol = numpy.inf.\n",
      "Detected that the estimated covariance matrix of aggregate GMM moments is nearly singular with condition number +3.57E+37. To disable singularity checks, set options.singular_tol = numpy.inf.\n",
      "Detected that the estimated covariance matrix of aggregate GMM moments is nearly singular with condition number +9.33E+37. To disable singularity checks, set options.singular_tol = numpy.inf.\n"
     ]
    },
    {
     "name": "stdout",
     "output_type": "stream",
     "text": [
      "PyBLP BLP Joint Demand and Supply Results:\n",
      "Problem Results Summary:\n",
      "==============================================================================================================\n",
      "GMM   Objective    Projected    Reduced Hessian  Reduced Hessian  Clipped  Weighting Matrix  Covariance Matrix\n",
      "Step    Value    Gradient Norm  Min Eigenvalue   Max Eigenvalue   Shares   Condition Number  Condition Number \n",
      "----  ---------  -------------  ---------------  ---------------  -------  ----------------  -----------------\n",
      " 2    +1.54E+04    +6.91E-39       +0.00E+00        +0.00E+00      1200       +2.88E+56            +INF       \n",
      "==============================================================================================================\n",
      "\n",
      "Cumulative Statistics:\n",
      "===========================================================================\n",
      "Computation  Optimizer  Optimization   Objective   Fixed Point  Contraction\n",
      "   Time      Converged   Iterations   Evaluations  Iterations   Evaluations\n",
      "-----------  ---------  ------------  -----------  -----------  -----------\n",
      " 00:02:34       Yes          4            15         1789408      5373171  \n",
      "===========================================================================\n",
      "\n",
      "Nonlinear Coefficient Estimates (Robust SEs in Parentheses):\n",
      "===================================\n",
      " Sigma:     satellite      wired   \n",
      "---------  -----------  -----------\n",
      "satellite   +3.93E+04              \n",
      "           (+0.00E+00)             \n",
      "                                   \n",
      "  wired     +0.00E+00    +9.17E+18 \n",
      "                        (+0.00E+00)\n",
      "===================================\n",
      "\n",
      "Beta Estimates (Robust SEs in Parentheses):\n",
      "=============================================================\n",
      "    1        prices          x        satellite      wired   \n",
      "---------  -----------  -----------  -----------  -----------\n",
      "+0.00E+00   +8.76E+22    -8.37E+21    -4.78E+19    +1.22E+21 \n",
      "           (+0.00E+00)  (+0.00E+00)  (+0.00E+00)  (+0.00E+00)\n",
      "=============================================================\n",
      "\n",
      "Gamma Estimates (Robust SEs in Parentheses):\n",
      "======================\n",
      "    1           w     \n",
      "---------  -----------\n",
      "-2.30E+05   +2.28E+05 \n",
      "           (+2.94E+42)\n",
      "======================\n"
     ]
    },
    {
     "name": "stderr",
     "output_type": "stream",
     "text": [
      "Detected that the estimated covariance matrix of aggregate GMM moments is nearly singular with condition number +3.57E+37. To disable singularity checks, set options.singular_tol = numpy.inf.\n",
      "Detected that the estimated covariance matrix of aggregate GMM moments is nearly singular with condition number +9.33E+37. To disable singularity checks, set options.singular_tol = numpy.inf.\n"
     ]
    }
   ],
   "source": [
    "# PyBLP BLP Joint Demand and Supply\n",
    "blp_joint_formulations = (\n",
    "    pyblp.Formulation('prices + x + satellite + wired'),\n",
    "    pyblp.Formulation('0 + satellite + wired'),\n",
    "    pyblp.Formulation('w')\n",
    ")\n",
    "print(\"Columns in blp_data:\", blp_data.columns.tolist())\n",
    "blp_problem_joint = pyblp.Problem(blp_joint_formulations, blp_data, integration=integration, costs_type='log')\n",
    "blp_results_joint = blp_problem_joint.solve(sigma=sigma0, beta=np.array([0, -2, 1, 4, 4]), gamma=np.array([0.5, 0.25]))\n",
    "print(\"PyBLP BLP Joint Demand and Supply Results:\")\n",
    "print(blp_results_joint)"
   ]
  },
  {
   "cell_type": "markdown",
   "id": "9593b620",
   "metadata": {},
   "source": [
    "### 10. Using your preferred estimates from the prior step (explain your preference), provide a table comparing the estimated own-price elasticities to the true own-price elasticities. Provide two additional tables showing the true matrix of diversion ratios and the diversion ratios implied by your estimates.\n",
    "\n",
    "I prefer the joint estimation because it accounts for the endogeneity of prices through the supply side, providing more consistent estimates.\n",
    "\n",
    "# Compute elasticities and diversion ratios\n",
    "elasticities_est = blp_results_joint.compute_elasticities()\n",
    "diversion_ratios_est = blp_results_joint.compute_diversion_ratios()\n",
    "\n",
    "# Average across markets\n",
    "T, J = 600, 4\n",
    "elasticities_avg = elasticities_est.reshape((T, J, J)).mean(axis=0)\n",
    "diversion_ratios_avg = diversion_ratios_est.reshape((T, J, J)).mean(axis=0)\n",
    "\n",
    "print(\"Estimated Own-Price Elasticities (average across markets):\")\n",
    "print(elasticities_avg.diagonal())\n",
    "print()\n",
    "\n",
    "print(\"Estimated Diversion Ratios (average across markets):\")\n",
    "print(diversion_ratios_avg)\n",
    "```"
   ]
  }
 ],
 "metadata": {
  "kernelspec": {
   "display_name": "base",
   "language": "python",
   "name": "python3"
  },
  "language_info": {
   "codemirror_mode": {
    "name": "ipython",
    "version": 3
   },
   "file_extension": ".py",
   "mimetype": "text/x-python",
   "name": "python",
   "nbconvert_exporter": "python",
   "pygments_lexer": "ipython3",
   "version": "3.13.5"
  }
 },
 "nbformat": 4,
 "nbformat_minor": 5
}
