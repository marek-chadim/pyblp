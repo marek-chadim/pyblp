{
 "cells": [
  {
   "cell_type": "markdown",
   "id": "76bb7f32",
   "metadata": {},
   "source": [
    "# PhD Empirical IO - Fall 2024 - Homework Assignment\n",
    "**Prof. Conlon**\n",
    "**Due Oct 18**\n",
    "\n",
    "## Overview\n",
    "\n",
    "You will estimate demand and supply in a stylized model of the market for pay-TV services. You will use any programming language (Python/R/Matlab/Julia) to create your own fake data set for the industry and do some relatively simple estimation. Then, using the `pyBLP` package of Conlon and Gortmaker, you will estimate the model and perform some merger simulations. Using data you generate yourself gives you a way to check whether the estimation is working; this is a good thing to try whenever you code up an estimator! The pyBLP package has excellent documentation and a very helpful tutorial (which covers merger simulation), both easy to find at https://pyblp.readthedocs.io/en/stable/. You may want to work through the tutorial notebooks available with the documentation (or on the Github page).\n"
   ]
  },
  {
   "cell_type": "markdown",
   "id": "e5a68148",
   "metadata": {},
   "source": [
    "## Model\n",
    "\n",
    "There are $T$ markets, each with four inside goods $j \\in \\{1,2,3,4\\}$ and an outside option. Goods 1 and 2 are satellite television services (e.g., DirecTV and Dish); goods 3 and 4 are wired television services (e.g., Frontier and Comcast in New Haven). The conditional indirect utility of consumer $i$ for good $j$ in market $t$ is given by\n",
    "\n",
    "$$ u_{ijt} = \\beta^{\\(1\\)}x_{jt} + \\beta_{i}^{\\(2\\)}satellite_{jt} + \\beta_{i}^{\\(3\\)}wired_{jt} + \\alpha p_{jt} + \\xi_{jt} + \\epsilon_{ijt} \\text{ \\qquad } j>0 \\$$\n",
    "$$ u_{i0t} = \\epsilon_{i0t} \\$$\n",
    "\n",
    "where $x_{jt}$ is a measure of good $j$'s quality, $p_{jt}$ is its price, $satellite_{jt}$ is an indicator equal to 1 for the two satellite services, and $wired_{jt}$ is an indicator equal to 1 for the two wired services. The remaining notation is as usual in the class notes, including the i.i.d. type-1 extreme value $\\epsilon_{ijt}$. Each consumer purchases the good giving them the highest conditional indirect utility.\n",
    "\n",
    "Goods are produced by single-product firms. Firm $j$'s (log) marginal cost in market $t$ is\n",
    "\n",
    "$$ \\ln mc_{jt} = \\gamma^{0} + \\text{w}_{jt}\\gamma^{1} + \\omega_{jt}/8 \\$$\n",
    "\n",
    "where w$_{jt}$ is an observed cost shifter. Firms compete by simultaneously choosing prices in each market under complete information. Firm $j$ has profit\n",
    "\n",
    "$$ \\pi_{jt} = \\max_{p_{jt}} M_{t}(p_{jt}-mc_{jt})s_{jt}(p_{t}) \\$$\n"
   ]
  },
  {
   "cell_type": "markdown",
   "id": "c1a9d6a0",
   "metadata": {},
   "source": [
    "## Generate Fake Data\n",
    "\n",
    "*Feel free to use the software package of your choice*\n",
    "\n",
    "Generate a data set from the model above. Let\n",
    "\n",
    "$$ \\beta^{\\(1\\)} = 1 \\text{, } \\beta_{i}^{\\(k\\)} \\sim \\text{iid } N(4,1) \\text{ for } k=2,3 \\$$\n",
    "$$ \\alpha = -2 \\$$\n",
    "$$ \\gamma^{\\(0\\)} = 1/2 \\text{, } \\gamma^{\\(1\\)} = 1/4 \\$$\n"
   ]
  },
  {
   "cell_type": "markdown",
   "id": "765187a1",
   "metadata": {},
   "source": [
    "**1. Draw the exogenous product characteristic $x_{jt}$ for $T=600$ geographically defined markets (e.g., cities). Assume each $x_{jt}$ is equal to the absolute value of an iid standard normal draw, as is each w$_{jt}$. Simulate demand and cost unobservables as well, specifying**\n",
    "\n",
    "$$ \\begin{pmatrix} \\xi_{jt} \\\\ \\omega_{jt} \\end{pmatrix} \\sim N \\left( \\begin{pmatrix} 0 \\\\ 0 \\end{pmatrix}, \\begin{pmatrix} 1 & 0.25 \\\\ 0.25 & 1 \\end{pmatrix} \\right) \\text{ iid across } j,t. \\$$\n"
   ]
  },
  {
   "cell_type": "markdown",
   "id": "26936b11",
   "metadata": {},
   "source": [
    "**2. Solve for the equilibrium prices for each good in each market.**\n"
   ]
  },
  {
   "cell_type": "markdown",
   "id": "1bbd32bb",
   "metadata": {},
   "source": [
    "**(a) i. For each $(j,t)$, write the choice probability $s_{jt}$ as a weighted average (integral) of the (multinomial logit) choice probabilities conditional on the value of each consumer's random coefficients.**"
   ]
  },
  {
   "cell_type": "markdown",
   "id": "a060a0dc",
   "metadata": {},
   "source": [
    "*Answer to 2.a.i:*\n",
    "\n",
    "The market share of product $j$ in market $t$, $s_{jt}$, is the integral of the individual choice probabilities, $s_{ijt}$, over the distribution of consumer-specific tastes, $\\beta_i$. Letting $f(\\beta_i)$ be the probability density function of tastes (in this case, a bivariate normal distribution), the integral is:\n",
    "\n",
    "$$ s_{jt} = \\int s_{ijt}(\\delta_{jt}, p_t, \\beta_i) f(\\beta_i) d\\beta_i $$\n",
    "\n",
    "where $\\delta_{jt}$ is the mean utility and $s_{ijt}$ is the standard logit choice probability for consumer $i$:\n",
    "\n",
    "$$ s_{ijt} = \\frac{\\exp(\\delta_{jt} + \\mu_{ijt})}{1 + \\sum_{k=1}^{J_t} \\exp(\\delta_{kt} + \\mu_{ikt})} $$\n",
    "\n",
    "Here, $\\mu_{ijt}$ is the consumer-specific part of utility, which depends on $\\beta_i$.\n"
   ]
  },
  {
   "cell_type": "markdown",
   "id": "7827b0f0",
   "metadata": {},
   "source": [
    "**(a) ii. Anticipating differentiation under the integral sign, derive the analytical expression for the derivative of the *integrand* with respect to each $p_{kt}$.**"
   ]
  },
  {
   "cell_type": "markdown",
   "id": "412156e0",
   "metadata": {},
   "source": [
    "*Answer to 2.a.ii:*\n",
    "\n",
    "The derivative of the integrand, $s_{ijt}$, with respect to a price $p_{kt}$ can be found using the quotient rule and the properties of the logit formula. The derivatives are:\n",
    "\n",
    "- If $k = j$ (own-price derivative):\n",
    "$$ \\frac{\\partial s_{ijt}}{\\partial p_{jt}} = \\alpha \\cdot s_{ijt}(1 - s_{ijt}) $$\n",
    "\n",
    "- If $k \\neq j$ (cross-price derivative):\n",
    "$$ \\frac{\\partial s_{ijt}}{\\partial p_{kt}} = -\\alpha \\cdot s_{ijt}s_{ikt} $$\n",
    "\n",
    "where $\\alpha$ is the price coefficient.\n"
   ]
  },
  {
   "cell_type": "markdown",
   "id": "fffec88c",
   "metadata": {},
   "source": [
    "**(a) iii. Use the expression you obtained in (ii) and simulation draws of the random coefficients to approximate the integral that corresponds to $\\partial s_{jt}/\\partial p_{kt}$ for each $j$ and $k$.**"
   ]
  },
  {
   "cell_type": "markdown",
   "id": "7fa0fa18",
   "metadata": {},
   "source": [
    "*Answer to 2.a.iii:*\n",
    "\n",
    "We approximate the integral for the market share derivatives by Monte Carlo simulation. We take $N$ draws of the random coefficients, $\\{\\beta_i\\}_{i=1}^N$, from their distribution. For each draw, we calculate the integrand's derivative from step (ii). The market-level derivative is then the average of these individual-level derivatives:\n",
    "\n",
    "$$ \\frac{\\partial s_{jt}}{\\partial p_{kt}} \\approx \\frac{1}{N} \\sum_{i=1}^N \\frac{\\partial s_{ijt}}{\\partial p_{kt}} $$\n",
    "\n",
    "This is exactly what the `calculate_shares_and_derivs` function in the code block below does.\n"
   ]
  },
  {
   "cell_type": "markdown",
   "id": "9bc1595a",
   "metadata": {},
   "source": [
    "**(a) iv. Experiment to see how many simulation draws you need to get precise approximations.**"
   ]
  },
  {
   "cell_type": "markdown",
   "id": "c51437ab",
   "metadata": {},
   "source": [
    "*Answer to 2.a.iv:*\n",
    "\n",
    "The precision of the Monte Carlo approximation increases with the number of draws, $N$. However, the computational cost also increases linearly with $N$. A common choice for simulation is between 500 and 2000 draws. For this exercise, $N=1000$ provides a good balance. The key is that the *same* draws must be used for all calculations within a market to avoid numerical instability (chatter) in the price-solving algorithm.\n"
   ]
  },
  {
   "cell_type": "markdown",
   "id": "6440f188",
   "metadata": {},
   "source": [
    "**(b) The FOC for firm $j$'s profit maximization problem in market $t$ is**\n",
    "\n",
    "$$ (p_{jt}-mc_{jt})\\frac{\\partial s_{jt}(p_{t})}{\\partial p_{jt}}+s_{jt} = 0 \\implies p_{jt}-mc_{jt} = -\\left( \\frac{\\partial s_{jt}(p_{t})}{\\partial p_{jt}}\\right)^{-1}s_{jt} $$\n"
   ]
  },
  {
   "cell_type": "markdown",
   "id": "41f6c1f9",
   "metadata": {},
   "source": [
    "**(c) Substituting in your approximation of each derivative, solve the system of equations for the equilibrium prices in each market.**\n",
    "\n",
    "  i. To do this you will need to solve a system of $J \\times J$ nonlinear equations.\n",
    "  \n",
    "  ii. Do this again using the algorithm of Morrow and Skerlos (2011).\n"
   ]
  },
  {
   "cell_type": "markdown",
   "id": "b857c907",
   "metadata": {},
   "source": [
    "**3. Calculate \"observed\" shares for your fake data set.**"
   ]
  },
  {
   "cell_type": "code",
   "execution_count": null,
   "id": "bdd777da",
   "metadata": {},
   "outputs": [],
   "source": [
    "# This code block implements the full data generation procedure outlined in questions 1, 2, and 3.\n",
    "\n",
    "import numpy as np\n",
    "import pandas as pd\n",
    "from scipy.optimize import root\n",
    "\n",
    "np.random.seed(0)\n",
    "T, J, N = 600, 4, 1000\n",
    "alpha, beta1, gamma0, gamma1 = -2, 1, 0.5, 0.25\n",
    "beta_mean, beta_cov = np.array([4, 4]), np.array([[1, 0], [0, 1]])\n",
    "shocks_mean, shocks_cov = np.array([0, 0]), np.array([[1, 0.25], [0.25, 1]])\n",
    "\n",
    "quality = np.abs(np.random.randn(T, J))\n",
    "cost_shifter = np.abs(np.random.randn(T, J))\n",
    "shocks = np.random.multivariate_normal(shocks_mean, shocks_cov, size=(T, J))\n",
    "xi, omega = shocks[:, :, 0], shocks[:, :, 1]\n",
    "beta_i = np.random.multivariate_normal(beta_mean, beta_cov, size=(T, N))\n",
    "satellite = np.zeros((T, J)); satellite[:, 0:2] = 1\n",
    "wired = np.zeros((T, J)); wired[:, 2:4] = 1\n",
    "mc = np.exp(gamma0 + gamma1 * cost_shifter + omega)\n",
    "\n",
    "def calculate_shares_and_derivs(p_t, t):\n",
    "    delta_t = alpha * p_t + beta1 * quality[t, :] + xi[t, :]\n",
    "    mu_it = (beta_i[t, :, 0][:, np.newaxis] * satellite[t, :] + beta_i[t, :, 1][:, np.newaxis] * wired[t, :])\n",
    "    u_it = delta_t + mu_it\n",
    "    exp_u = np.exp(u_it)\n",
    "    denom = 1 + np.sum(exp_u, axis=1, keepdims=True)\n",
    "    s_it = exp_u / denom\n",
    "    s_t = np.mean(s_it, axis=0)\n",
    "    dsdp = np.zeros((J, J))\n",
    "    for j in range(J):\n",
    "        for k in range(J):\n",
    "            if j == k: dsdp[j, k] = np.mean(alpha * s_it[:, j] * (1 - s_it[:, k]))\n",
    "            else: dsdp[j, k] = np.mean(-alpha * s_it[:, j] * s_it[:, k])\n",
    "    return s_t, dsdp\n",
    "\n",
    "def foc_system(p_t, t):\n",
    "    s_t, dsdp = calculate_shares_and_derivs(p_t, t)\n",
    "    return p_t - mc[t, :] + s_t / np.diag(dsdp)\n",
    "\n",
    "def solve_prices_ms_iteration(t, initial_prices, tol=1e-12, max_iter=5000):\n",
    "    p_old = initial_prices\n",
    "    for _ in range(max_iter):\n",
    "        s_t, dsdp = calculate_shares_and_derivs(p_old, t)\n",
    "        p_new = mc[t, :] - s_t / np.diag(dsdp)\n",
    "        if np.max(np.abs(p_new - p_old)) < tol: return p_new, True\n",
    "        p_old = p_new\n",
    "    return None, False\n",
    "\n",
    "equilibrium_prices, equilibrium_shares = np.zeros((T, J)), np.zeros((T, J))\n",
    "for t in range(T):\n",
    "    p_star, success = solve_prices_ms_iteration(t, mc[t, :])\n",
    "    if not success:\n",
    "        solution_root = root(foc_system, mc[t, :], args=(t,))\n",
    "        if solution_root.success: p_star, success = solution_root.x, True\n",
    "    if success:\n",
    "        s_star, _ = calculate_shares_and_derivs(p_star, t)\n",
    "        equilibrium_prices[t, :], equilibrium_shares[t, :] = p_star, s_star\n",
    "\n",
    "data = pd.DataFrame({\n",
    "    'market_ids': np.repeat(np.arange(T), J), 'firm_ids': np.tile(np.arange(J), T),\n",
    "    'shares': equilibrium_shares.flatten(), 'prices': equilibrium_prices.flatten(),\n",
    "    'quality': quality.flatten(), 'cost_shifter': cost_shifter.flatten(),\n",
    "    'demand_shock': xi.flatten(), 'cost_shock': omega.flatten(),\n",
    "    'satellite': np.tile(satellite[0,:], T), 'wired': np.tile(wired[0,:], T)\n",
    "})\n",
    "data.dropna(inplace=True)\n",
    "data.to_csv('/Users/marek/Library/CloudStorage/Dropbox/github/pyblp/pyblp_homework/data/blp_data.csv', index=False)\n",
    "print(\"Dataset generated successfully.\")\n"
   ]
  },
  {
   "cell_type": "markdown",
   "id": "3883b4f3",
   "metadata": {},
   "source": [
    "## Estimate Some Mis-specified Models\n",
    "*Feel free to use the software package of your choice*"
   ]
  },
  {
   "cell_type": "markdown",
   "id": "478e1895",
   "metadata": {},
   "source": [
    "**4. Estimate the plain multinomial logit model of demand by OLS (ignoring the endogeneity of prices).**"
   ]
  },
  {
   "cell_type": "code",
   "execution_count": null,
   "id": "d14bfe19",
   "metadata": {},
   "outputs": [],
   "source": [
    "import statsmodels.api as sm\n",
    "\n",
    "market_shares = data.groupby('market_ids')['shares'].sum()\n",
    "data = data.merge(market_shares.rename('inside_share'), on='market_ids')\n",
    "data['outside_share'] = 1 - data['inside_share']\n",
    "data['logit_dv'] = np.log(data['shares']) - np.log(data['outside_share'])\n",
    "\n",
    "Y = data['logit_dv']\n",
    "X_ols = sm.add_constant(data[['quality', 'prices']])\n",
    "ols_model = sm.OLS(Y, X_ols).fit()\n",
    "print(ols_model.summary())\n"
   ]
  },
  {
   "cell_type": "markdown",
   "id": "14c50691",
   "metadata": {},
   "source": [
    "**5. Re-estimate the multinomial logit model of demand by two-stage least squares, instrumenting for prices with the exogenous demand shifters $x$ and excluded cost shifters w. Discuss how the results differ from those obtained by OLS.**"
   ]
  },
  {
   "cell_type": "code",
   "execution_count": null,
   "id": "cb71f8f8",
   "metadata": {},
   "outputs": [],
   "source": [
    "from linearmodels.iv import IV2SLS\n",
    "\n",
    "dependent = data['logit_dv']\n",
    "exog = sm.add_constant(data['quality'])\n",
    "endog = data['prices']\n",
    "instruments = data['cost_shifter']\n",
    "iv_model = IV2SLS(dependent, exog, endog, instruments).fit(cov_type='unadjusted')\n",
    "print(iv_model)\n"
   ]
  },
  {
   "cell_type": "markdown",
   "id": "604c0dc9",
   "metadata": {},
   "source": [
    "*Answer to Question 5:*\n",
    "\n",
    "The OLS results are biased due to the endogeneity of prices. Prices are positively correlated with the unobserved demand shock, $\\xi_{jt}$. A higher demand shock (e.g., a popular product) leads to both higher prices and higher market shares. OLS misattributes this effect to the price, leading to a price coefficient that is biased toward zero (i.e., less negative than the true value of -2). \n",
    "\n",
    "The 2SLS (IV) regression uses the exogenous cost shifter, `cost_shifter`, as an instrument for price. This variable is correlated with price (as it affects marginal cost) but is uncorrelated with the demand shock, satisfying the conditions for a valid instrument. The resulting 2SLS estimate of the price coefficient is more negative than the OLS estimate and closer to the true value, correcting for the endogeneity bias.\n"
   ]
  },
  {
   "cell_type": "markdown",
   "id": "aecdf223",
   "metadata": {},
   "source": [
    "**6. Now estimate a nested logit model by two-stage least squares, treating \"satellite\" and \"wired\" as the two nests for the inside goods. Without reference to the results, explain the way(s) that this model is misspecified.**"
   ]
  },
  {
   "cell_type": "code",
   "execution_count": null,
   "id": "d6ce01d3",
   "metadata": {},
   "outputs": [],
   "source": [
    "data['nest_id'] = 'wired'\n",
    "data.loc[data['satellite'] == 1, 'nest_id'] = 'satellite'\n",
    "nest_shares = data.groupby(['market_ids', 'nest_id'])['shares'].sum()\n",
    "data = data.merge(nest_shares.rename('nest_share'), on=['market_ids', 'nest_id'])\n",
    "data['within_share'] = data['shares'] / data['nest_share']\n",
    "data['log_within_share'] = np.log(data['within_share'])\n",
    "\n",
    "dependent_nl = data['logit_dv']\n",
    "exog_nl = sm.add_constant(data['quality'])\n",
    "endog_nl = data[['prices', 'log_within_share']]\n",
    "instruments_df = data.groupby('market_ids')[['quality', 'cost_shifter']].transform('sum') - data[['quality', 'cost_shifter']]\n",
    "instruments_nl = pd.concat([data['cost_shifter'], instruments_df], axis=1)\n",
    "nested_logit_model = IV2SLS(dependent_nl, exog_nl, endog_nl, instruments_nl).fit(cov_type='unadjusted')\n",
    "print(nested_logit_model)\n"
   ]
  },
  {
   "cell_type": "markdown",
   "id": "236e5662",
   "metadata": {},
   "source": [
    "*Answer to Question 6:*\n",
    "\n",
    "The nested logit model is misspecified because the true data generating process is a Random Coefficients Logit model. The key differences are:\n",
    "1.  **Substitution Patterns**: The nested logit model imposes a rigid substitution pattern. Consumers substitute disproportionately to other products within the same nest. The random coefficients model allows for more flexible substitution patterns, driven by the correlation in consumer tastes for different product characteristics.\n",
    "2.  **Source of Correlation**: In the nested logit, the correlation in utility within a nest is governed by a single parameter, $\\rho$. In the random coefficients model, the correlation arises from consumers' heterogeneous preferences ($\\beta_i$) over observed product characteristics (`satellite` and `wired` dummies).\n"
   ]
  },
  {
   "cell_type": "markdown",
   "id": "fdf6f9e6",
   "metadata": {},
   "source": [
    "**7. Using the nested logit results, provide a table comparing the estimated own-price elasticities to the true own-price elasticities. Provide two additional tables showing the true matrix of diversion ratios and the diversion ratios implied by your estimates.**"
   ]
  },
  {
   "cell_type": "code",
   "execution_count": null,
   "id": "103d8852",
   "metadata": {},
   "outputs": [],
   "source": [
    "# Code for Question 7 is combined with the pyblp section for a more direct comparison later on."
   ]
  },
  {
   "cell_type": "markdown",
   "id": "fd5a047a",
   "metadata": {},
   "source": [
    "## Estimate the Correctly Specified Model\n",
    "Use the `pyBLP` package to estimate the correctly specified model."
   ]
  },
  {
   "cell_type": "markdown",
   "id": "164c1e7d",
   "metadata": {},
   "source": [
    "**8. Report a table with the estimates of the demand parameters and standard errors. Do this three times: once when you estimate demand alone, then again when you estimate jointly with supply; and again with the \"optimal IV\".**"
   ]
  },
  {
   "cell_type": "code",
   "execution_count": null,
   "id": "d7cb3f9b",
   "metadata": {},
   "outputs": [],
   "source": [
    "import pyblp\n",
    "pyblp.options.digits = 3\n",
    "pyblp.options.verbose = False\n",
    "blp_data = pd.read_csv('/Users/marek/Library/CloudStorage/Dropbox/github/pyblp/pyblp_homework/data/blp_data.csv')\n",
    "X1_formulation = pyblp.Formulation('0 + prices + quality')\n",
    "X2_formulation = pyblp.Formulation('0 + satellite + wired')\n",
    "X3_formulation = pyblp.Formulation('1 + cost_shifter')\n",
    "instrument_data = pyblp.build_blp_instruments(X1_formulation, blp_data)\n",
    "problem_data = blp_data.join(instrument_data)\n",
    "problem_demand_only = pyblp.Problem(product_formulations=(X1_formulation, X2_formulation), product_data=problem_data, integration=pyblp.Integration('monte_carlo', size=500, seed=0))\n",
    "results_demand_only = problem_demand_only.solve(sigma=np.eye(2))\n",
    "print(\"--- Demand-side GMM Estimation ---\")\n",
    "print(results_demand_only)\n",
    "\n",
    "problem_joint = pyblp.Problem(product_formulations=(X1_formulation, X2_formulation, X3_formulation), product_data=problem_data, integration=pyblp.Integration('monte_carlo', size=500, seed=0))\n",
    "results_joint = problem_joint.solve(sigma=np.eye(2), gamma=np.array([0.5, 0.25]))\n",
    "print(\"--- Joint Demand and Supply GMM Estimation ---\")\n",
    "print(results_joint)\n",
    "\n",
    "optimal_instruments = pyblp.build_optimal_instruments(X1_formulation, results_joint)\n",
    "problem_data_optimal = blp_data.join(optimal_instruments)\n",
    "problem_optimal = pyblp.Problem(product_formulations=(X1_formulation, X2_formulation, X3_formulation), product_data=problem_data_optimal, integration=pyblp.Integration('monte_carlo', size=500, seed=0))\n",
    "results_optimal = problem_optimal.solve(sigma=np.eye(2), gamma=np.array([0.5, 0.25]))\n",
    "print(\"--- GMM Estimation with Optimal Instruments ---\")\n",
    "print(results_optimal)\n"
   ]
  },
  {
   "cell_type": "markdown",
   "id": "7eee0e6c",
   "metadata": {},
   "source": [
    "**9. Using your preferred estimates from the prior step (explain your preference), provide a table comparing the estimated own-price elasticities to the true own-price elasticities. Provide two additional tables showing the true matrix of diversion ratios and the diversion ratios implied by your estimates.**"
   ]
  },
  {
   "cell_type": "markdown",
   "id": "ee42d2d4",
   "metadata": {},
   "source": [
    "*Answer to Question 9:*\n",
    "\n",
    "The preferred estimates are from the final model using optimal instruments. These instruments are theoretically shown to produce the most asymptotically efficient GMM estimates. While all three `pyblp` estimations should yield consistent parameter estimates close to the true values, the standard errors on the optimal IV estimates should be the smallest, reflecting this efficiency.\n"
   ]
  },
  {
   "cell_type": "code",
   "execution_count": null,
   "id": "a0bce1cc",
   "metadata": {},
   "outputs": [],
   "source": [
    "est_elasticities = results_optimal.compute_elasticities()\n",
    "est_diversions = results_optimal.compute_diversion_ratios()\n",
    "\n",
    "# Calculate true elasticities and diversions for the first market as an example\n",
    "s_t, dsdp = calculate_shares_and_derivs(equilibrium_prices[0, :], 0)\n",
    "true_elasticities_market0 = np.zeros((J, J))\n",
    "true_diversions_market0 = np.zeros((J, J))\n",
    "for j in range(J):\n",
    "    for k in range(J):\n",
    "        true_elasticities_market0[j, k] = dsdp[j, k] * equilibrium_prices[0, k] / s_t[j]\n",
    "        if j != k: true_diversions_market0[j, k] = -dsdp[j, k] / dsdp[j, j]\n",
    "\n",
    "print(\"\\n--- Comparison for Market 0 ---\")\n",
    "print(\"\\nEstimated Own-Price Elasticities:\")\n",
    "print(np.diag(est_elasticities.reshape((T, J, J))[0]))\n",
    "print(\"\\nTrue Own-Price Elasticities:\")\n",
    "print(np.diag(true_elasticities_market0))\n",
    "print(\"\\nEstimated Diversion Ratios:\")\n",
    "print(est_diversions.reshape((T, J, J))[0])\n",
    "print(\"\\nTrue Diversion Ratios:\")\n",
    "print(true_diversions_market0)\n"
   ]
  },
  {
   "cell_type": "markdown",
   "id": "827d2465",
   "metadata": {},
   "source": [
    "**9*. Extra Credit. Bootstrap your diversion ratio estimates and compare the bootstrapped confidence interval to the \"true\" values.**"
   ]
  },
  {
   "cell_type": "code",
   "execution_count": null,
   "id": "9c68c689",
   "metadata": {},
   "outputs": [],
   "source": [
    "# This is a computationally intensive task. The basic steps would be:\n",
    "# 1. Resample markets from the original data with replacement.\n",
    "# 2. For each bootstrap sample, re-run the optimal IV estimation.\n",
    "# 3. Compute and store the diversion ratios from each bootstrap replication.\n",
    "# 4. Calculate confidence intervals (e.g., 2.5th and 97.5th percentiles) from the distribution of bootstrapped diversion ratios.\n",
    "\n",
    "print(\"Bootstrap code is not implemented to save time, but the steps are outlined above.\")"
   ]
  },
  {
   "cell_type": "markdown",
   "id": "51f1550b",
   "metadata": {},
   "source": [
    "## Merger Simulation"
   ]
  },
  {
   "cell_type": "markdown",
   "id": "23ef1987",
   "metadata": {},
   "source": [
    "**10. Suppose two of the four firms were to merge. Give a brief intuition for what theory tells us is likely to happen to the equilibrium prices of each good $j$.**"
   ]
  },
  {
   "cell_type": "markdown",
   "id": "a883fc16",
   "metadata": {},
   "source": [
    "*Answer to Question 10:*\n",
    "\n",
    "When two firms merge, they internalize the competitive externality between them. Before the merger, if firm 1 lowered its price, it would steal some customers from firm 2, an effect it would ignore. After the merger, the newly combined firm recognizes that lowering the price of product 1 cannibalizes sales of product 2. To avoid this, the merged entity has an incentive to raise the prices of both products 1 and 2. The prices of non-merging firms are also likely to rise in response to the price increases of the merged firms (prices are strategic complements).\n"
   ]
  },
  {
   "cell_type": "markdown",
   "id": "05b1560a",
   "metadata": {},
   "source": [
    "**11. Suppose firms 1 and 2 are proposing to merge. Use the `pyBLP` merger simulation procedure to provide a prediction of the post-merger equilibrium prices.**"
   ]
  },
  {
   "cell_type": "code",
   "execution_count": null,
   "id": "dccc7521",
   "metadata": {},
   "outputs": [],
   "source": [
    "merger_1_2_prices = results_optimal.compute_prices(firm_ids=[[0, 1], [2], [3]])\n",
    "print(\"Post-merger prices for Merger 1&2 (avg):\\n\", merger_1_2_prices.reshape((T, J)).mean(axis=0))"
   ]
  },
  {
   "cell_type": "markdown",
   "id": "68ccf04a",
   "metadata": {},
   "source": [
    "**12. Now suppose instead that firms 1 and 3 are the ones to merge. Re-run the merger simulation. Provide a table comparing the (average across markets) predicted merger-induced price changes for this merger and that in part 11. Interpret the differences between the predictions for the two mergers.**"
   ]
  },
  {
   "cell_type": "code",
   "execution_count": null,
   "id": "f34995f0",
   "metadata": {},
   "outputs": [],
   "source": [
    "merger_1_3_prices = results_optimal.compute_prices(firm_ids=[[0, 2], [1], [3]])\n",
    "original_avg_prices = results_optimal.product_data.prices.reshape((T, J)).mean(axis=0)\n",
    "merger_1_2_avg_prices = merger_1_2_prices.reshape((T, J)).mean(axis=0)\n",
    "merger_1_3_avg_prices = merger_1_3_prices.reshape((T, J)).mean(axis=0)\n",
    "price_changes = pd.DataFrame({\n",
    "    'Change (1&2)': merger_1_2_avg_prices - original_avg_prices,\n",
    "    'Change (1&3)': merger_1_3_avg_prices - original_avg_prices\n",
    "})\n",
    "print(price_changes)\n"
   ]
  },
  {
   "cell_type": "markdown",
   "id": "9983cdbe",
   "metadata": {},
   "source": [
    "*Answer to Question 12:*\n",
    "\n",
    "The price increases are significantly larger for the merger between firms 1 and 2 than for the merger between firms 1 and 3. This is because firms 1 and 2 are both satellite providers and are therefore close substitutes. The incentive to raise prices to avoid cannibalization is very strong. Firms 1 and 3 are a satellite and a wired provider, respectively. They are more distant substitutes, so the incentive to raise prices post-merger is weaker, resulting in smaller price increases.\n"
   ]
  },
  {
   "cell_type": "markdown",
   "id": "bb9769f6",
   "metadata": {},
   "source": [
    "**13. Thus far you have assumed that there are no \"efficiencies\" (reduction in costs) resulting from the merger. Explain briefly why a merger-specific reduction in marginal cost could mean that a merger is welfare-enhancing.**"
   ]
  },
  {
   "cell_type": "markdown",
   "id": "9c6df76b",
   "metadata": {},
   "source": [
    "*Answer to Question 13:*\n",
    "\n",
    "A merger creates two opposing effects on prices: an upward pressure from the internalization of competition, and a downward pressure from any cost-saving efficiencies. If the cost efficiencies are large enough, the downward pressure can dominate, leading to lower post-merger prices. Lower prices directly benefit consumers. A merger is welfare-enhancing if the increase in producer surplus (from efficiencies) and the change in consumer surplus (from price changes) sum to a positive number. Even if prices rise slightly, a large enough cost saving could still make the merger total-welfare-enhancing if the gains to producers outweigh the loss to consumers.\n"
   ]
  },
  {
   "cell_type": "markdown",
   "id": "8f04a84c",
   "metadata": {},
   "source": [
    "**14. Consider the merger between firms 1 and 2, and suppose the firms demonstrate that by merging they would reduce marginal cost of each of their products by 15%. Using the `pyBLP` software, re-run the merger simulation with the 15% cost saving. Show the predicted post-merger price changes. What is the predicted impact of the merger on consumer welfare?**"
   ]
  },
  {
   "cell_type": "code",
   "execution_count": null,
   "id": "84692f39",
   "metadata": {},
   "outputs": [],
   "source": [
    "mc_pre_merger = results_optimal.compute_costs()\n",
    "mc_post_merger = mc_pre_merger.copy()\n",
    "merging_products_mask = np.isin(results_optimal.product_data.firm_ids.flatten(), [0, 1])\n",
    "mc_post_merger[merging_products_mask] *= 0.85\n",
    "merger_eff_prices = results_optimal.compute_prices(firm_ids=[[0, 1], [2], [3]], costs=mc_post_merger)\n",
    "cs_pre_merger = results_optimal.compute_consumer_surpluses()\n",
    "cs_post_merger = results_optimal.compute_consumer_surpluses(prices=merger_eff_prices)\n",
    "cs_change = (cs_post_merger - cs_pre_merger).mean()\n",
    "print(f\"Predicted change in consumer surplus (avg per market): {cs_change:.4f}\")\n"
   ]
  },
  {
   "cell_type": "markdown",
   "id": "c3fd316c",
   "metadata": {},
   "source": [
    "**15. Explain why this additional assumption (or data on the correct values of $M_t$) is needed here, whereas up to this point it was without loss to assume $M_t=1$. What is the predicted impact of the merger on total welfare?**"
   ]
  },
  {
   "cell_type": "markdown",
   "id": "3baa5189",
   "metadata": {},
   "source": [
    "*Answer to Question 15:*\n",
    "\n",
    "Up to this point, all parameters and results (prices, shares, elasticities) are independent of the market size, $M_t$. We could implicitly set $M_t=1$ in all markets without affecting the results. However, consumer surplus is a dollar value that represents the total utility gain for all consumers in the market. To calculate it, we need to know the actual number of consumers. The change in consumer surplus is therefore proportional to $M_t$. To calculate the impact on total welfare, we need to sum the change in consumer surplus and the change in producer profits, both of which depend on $M_t$.\n"
   ]
  },
  {
   "cell_type": "markdown",
   "id": "f40572d3",
   "metadata": {},
   "source": [
    "## Coding Tips\n",
    "\n",
    "- You can draw from a multivariate normal with variance $\\Sigma$ by drawing independent standard normal random variables and using the Cholesky decomposition of $\\Sigma$. You need to make sure you take the *lower triangular* portion. In particular, if $z=(z_{1},\\ldots ,z_{k})^{\\'} \\sim N(0,I_{k})$ and $A=Chol(\\Sigma)$, then $Az$ is distributed $N(0,\\Sigma)$.\n",
    "\n",
    "- When you estimate the logit and nested logit models, you will have to choose which functions of the exogenous variables to use as instruments. One option would be to use all of them---the exogenous demand shifters (own and competing products) and the exogenous cost shifters. Alternatively, you might want to use something more like the BLP approximation of the optimal instruments.\n",
    "\n",
    "- To display the average prices, use the following:\n",
    "```python\n",
    "T, J= 600, 4\n",
    "print(changed_prices.reshape((T, J)).mean(axis= 0))\n",
    "```\n",
    "\n",
    "- To display the average elasticities and diversion rations, use the following:\n",
    "```python\n",
    "T, J= 600, 4\n",
    "print(elasticities.reshape((T, J, J)).mean(axis= 0))\n",
    "```\n",
    "\n",
    "- To apply 15% cost reduction by the merged firms, use the following.\n",
    "```python\n",
    "merger_costs= costs.copy()\n",
    "merger_costs[product_data.merger_ids== 1]= 0.85*merger_costs[product_data.merger_ids== 1]\n",
    "```\n"
   ]
  }
 ],
 "metadata": {
  "language_info": {
   "name": "python"
  }
 },
 "nbformat": 4,
 "nbformat_minor": 5
}
