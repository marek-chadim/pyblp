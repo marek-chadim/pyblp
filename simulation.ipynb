{
 "cells": [
  {
   "cell_type": "markdown",
   "metadata": {},
   "source": [
    "# Problem Simulation Tutorial"
   ]
  },
  {
   "cell_type": "code",
   "execution_count": 20,
   "metadata": {},
   "outputs": [
    {
     "data": {
      "text/plain": [
       "'1.1.2'"
      ]
     },
     "execution_count": 20,
     "metadata": {},
     "output_type": "execute_result"
    }
   ],
   "source": [
    "import pyblp\n",
    "import numpy as np\n",
    "import pandas as pd\n",
    "\n",
    "pyblp.options.digits = 2\n",
    "pyblp.options.verbose = False\n",
    "pyblp.__version__"
   ]
  },
  {
   "cell_type": "markdown",
   "metadata": {},
   "source": [
    "Before configuring and solving a problem with real data, it may be a good idea to perform Monte Carlo analysis on simulated data to verify that it is possible to accurately estimate model parameters. For example, before configuring and solving the example problems in the prior tutorials, it may have been a good idea to simulate data according to the assumed models of supply and demand. During such Monte Carlo anaysis, the data would only be used to determine sample sizes and perhaps to choose reasonable true parameters.\n",
    "\n",
    "Simulations are configured with the :class:`Simulation` class, which requires many of the same inputs as :class:`Problem`. The two main differences are:\n",
    "\n",
    "1. Variables in formulations that cannot be loaded from `product_data` or `agent_data` will be drawn from independent uniform distributions.\n",
    "2. True parameters and the distribution of product unobservables are specified.\n",
    "\n",
    "First, we'll use :func:`build_id_data` to build market and firm IDs for a model in which there are $T = 50$ markets, and in each market $t$, a total of $J_t = 20$ products produced by $F = 10$ firms."
   ]
  },
  {
   "cell_type": "code",
   "execution_count": 21,
   "metadata": {},
   "outputs": [
    {
     "data": {
      "text/plain": [
       "rec.array([([0], [0]), ([0], [1]), ([0], [2]), ..., ([599], [1]),\n",
       "           ([599], [2]), ([599], [3])],\n",
       "          dtype=[('market_ids', 'O', (1,)), ('firm_ids', 'O', (1,))])"
      ]
     },
     "execution_count": 21,
     "metadata": {},
     "output_type": "execute_result"
    }
   ],
   "source": [
    "id_data = pyblp.build_id_data(T=600, J=4, F=4)\n",
    "id_data"
   ]
  },
  {
   "cell_type": "markdown",
   "metadata": {},
   "source": [
    "Next, we'll create an :class:`Integration` configuration to build agent data according to a Gauss-Hermite product rule that exactly integrates polynomials of degree $2 \\times 9 - 1 = 17$ or less."
   ]
  },
  {
   "cell_type": "code",
   "execution_count": 22,
   "metadata": {},
   "outputs": [
    {
     "data": {
      "text/plain": [
       "Configured to construct nodes and weights according to the level-9 Gauss-Hermite product rule with options {}."
      ]
     },
     "execution_count": 22,
     "metadata": {},
     "output_type": "execute_result"
    }
   ],
   "source": [
    "integration = pyblp.Integration('product', 9)\n",
    "integration"
   ]
  },
  {
   "cell_type": "markdown",
   "metadata": {},
   "source": [
    "We'll then pass these data to :class:`Simulation`. We'll use :class:`Formulation` configurations to create an $X_1$ that consists of a constant, prices, and an exogenous characteristic; an $X_2$ that consists only of the same exogenous characteristic; and an $X_3$ that consists of the common exogenous characteristic and a cost-shifter."
   ]
  },
  {
   "cell_type": "code",
   "execution_count": 23,
   "metadata": {},
   "outputs": [
    {
     "data": {
      "text/plain": [
       "Dimensions:\n",
       "=======================================\n",
       " T    N     F     I     K1    K2    K3 \n",
       "---  ----  ---  -----  ----  ----  ----\n",
       "600  2400   4   48600   4     2     2  \n",
       "=======================================\n",
       "\n",
       "Formulations:\n",
       "===================================================================\n",
       "        Column Indices:              0        1        2        3  \n",
       "-------------------------------  ---------  -----  ---------  -----\n",
       "  X1: Linear Characteristics      prices      x    satellite  wired\n",
       " X2: Nonlinear Characteristics   satellite  wired                  \n",
       "X3: Linear Cost Characteristics      1        w                    \n",
       "===================================================================\n",
       "\n",
       "Nonlinear Coefficient True Values:\n",
       "==============================\n",
       " Sigma:    satellite   wired  \n",
       "---------  ---------  --------\n",
       "satellite  +1.0E+00           \n",
       "  wired    +0.0E+00   +1.0E+00\n",
       "==============================\n",
       "\n",
       "Beta True Values:\n",
       "=======================================\n",
       " prices      x      satellite   wired  \n",
       "--------  --------  ---------  --------\n",
       "-2.0E+00  +1.0E+00  +4.0E+00   +4.0E+00\n",
       "=======================================\n",
       "\n",
       "Gamma True Values:\n",
       "==================\n",
       "   1         w    \n",
       "--------  --------\n",
       "+5.0E-01  +2.5E-01\n",
       "=================="
      ]
     },
     "execution_count": 23,
     "metadata": {},
     "output_type": "execute_result"
    }
   ],
   "source": [
    "simulation = pyblp.Simulation(\n",
    "   product_formulations=(\n",
    "       pyblp.Formulation('0 + prices + x + satellite + wired'),\n",
    "       pyblp.Formulation('0 + satellite + wired'),\n",
    "       pyblp.Formulation('1 + w')\n",
    "   ),\n",
    "   beta=[-2, 1, 4, 4],\n",
    "   sigma=np.eye(2),\n",
    "   gamma=[1/2, 1/4],\n",
    "   product_data=id_data,\n",
    "   integration=integration,\n",
    "   seed=1995\n",
    ")\n",
    "simulation"
   ]
  },
  {
   "cell_type": "markdown",
   "metadata": {},
   "source": [
    "When :class:`Simulation` is initialized, it constructs :attr:`Simulation.agent_data` and simulates :attr:`Simulation.product_data`.\n",
    "\n",
    "The :class:`Simulation` can be further configured with other arguments that determine how product unobservables are simulated and how marginal costs are specified.\n",
    "\n",
    "At this stage, simulated variables are not consistent with true parameters, so we still need to solve the simulation with :meth:`Simulation.replace_endogenous`. This method replaced simulated prices and market shares with values that are consistent with the true parameters. Just like :meth:`ProblemResults.compute_prices`, to do so it iterates over the $\\zeta$-markup equation from :ref:`references:Morrow and Skerlos (2011)`."
   ]
  },
  {
   "cell_type": "code",
   "execution_count": 24,
   "metadata": {},
   "outputs": [
    {
     "data": {
      "text/plain": [
       "Simulation Results Summary:\n",
       "======================================================================================================\n",
       "Computation  Fixed Point  Fixed Point  Contraction  Profit Gradients  Profit Hessians  Profit Hessians\n",
       "   Time       Failures    Iterations   Evaluations      Max Norm      Min Eigenvalue   Max Eigenvalue \n",
       "-----------  -----------  -----------  -----------  ----------------  ---------------  ---------------\n",
       " 00:00:01         0          15713        15713         +4.5E-13         -1.5E+00         -1.2E-03    \n",
       "======================================================================================================"
      ]
     },
     "execution_count": 24,
     "metadata": {},
     "output_type": "execute_result"
    }
   ],
   "source": [
    "simulation_results = simulation.replace_endogenous()\n",
    "simulation_results"
   ]
  },
  {
   "cell_type": "markdown",
   "metadata": {},
   "source": [
    "Now, we can try to recover the true parameters by creating and solving a :class:`Problem`. \n",
    "\n",
    "The convenience method :meth:`SimulationResults.to_problem` constructs some basic \"sums of characteristics\" BLP instruments that are functions of all exogenous numerical variables in the problem. In this example, excluded demand-side instruments are the cost-shifter `z` and traditional BLP instruments constructed from `x`. Excluded supply-side instruments are traditional BLP instruments constructed from `x` and `z`."
   ]
  },
  {
   "cell_type": "code",
   "execution_count": 25,
   "metadata": {},
   "outputs": [],
   "source": [
    "problem = simulation_results.to_problem()"
   ]
  },
  {
   "cell_type": "code",
   "execution_count": 26,
   "metadata": {},
   "outputs": [
    {
     "data": {
      "text/plain": [
       "Dimensions:\n",
       "===================================================\n",
       " T    N     F     I     K1    K2    K3    MD    MS \n",
       "---  ----  ---  -----  ----  ----  ----  ----  ----\n",
       "600  2400   4   48600   4     2     2     7     6  \n",
       "===================================================\n",
       "\n",
       "Formulations:\n",
       "===================================================================\n",
       "        Column Indices:              0        1        2        3  \n",
       "-------------------------------  ---------  -----  ---------  -----\n",
       "  X1: Linear Characteristics      prices      x    satellite  wired\n",
       " X2: Nonlinear Characteristics   satellite  wired                  \n",
       "X3: Linear Cost Characteristics      1        w                    \n",
       "==================================================================="
      ]
     },
     "execution_count": 26,
     "metadata": {},
     "output_type": "execute_result"
    }
   ],
   "source": [
    "problem"
   ]
  },
  {
   "cell_type": "code",
   "execution_count": 27,
   "metadata": {},
   "outputs": [
    {
     "data": {
      "text/plain": [
       "array([[1.33027006, 1.20997016, 1.40970248, ..., 0.75298194, 0.61986679,\n",
       "        0.90327761],\n",
       "       [1.92380124, 1.98061237, 1.8859878 , ..., 0.27669662, 0.02633561,\n",
       "        0.13263541],\n",
       "       [1.50223858, 1.14521282, 1.37692797, ..., 0.78575645, 0.44789827,\n",
       "        0.96803496],\n",
       "       ...,\n",
       "       [1.32571638, 2.17032115, 2.37319543, ..., 0.87353479, 0.21796982,\n",
       "        0.15147787],\n",
       "       [1.19834391, 1.71110727, 2.27920326, ..., 0.96752697, 0.3453423 ,\n",
       "        0.61069175],\n",
       "       [1.43161993, 1.51121454, 2.71221748, ..., 0.53451274, 0.11206628,\n",
       "        0.81058448]], shape=(2400, 7))"
      ]
     },
     "execution_count": 27,
     "metadata": {},
     "output_type": "execute_result"
    }
   ],
   "source": [
    "problem.products.ZD"
   ]
  },
  {
   "cell_type": "code",
   "execution_count": 37,
   "metadata": {},
   "outputs": [
    {
     "data": {
      "text/plain": [
       "array([[0.61530516, 0.61986679, 0.90327761, 0.75298194, 1.        ,\n",
       "        0.57585458],\n",
       "       [1.16439555, 0.02633561, 0.13263541, 0.27669662, 1.        ,\n",
       "        0.02676419],\n",
       "       [1.00067827, 0.44789827, 0.96803496, 0.78575645, 1.        ,\n",
       "        0.19048147],\n",
       "       ...,\n",
       "       [1.23537468, 0.21796982, 0.15147787, 0.87353479, 1.        ,\n",
       "        0.13528654],\n",
       "       [0.5384475 , 0.3453423 , 0.61069175, 0.96752697, 1.        ,\n",
       "        0.83221372],\n",
       "       [1.25052367, 0.11206628, 0.81058448, 0.53451274, 1.        ,\n",
       "        0.12013755]], shape=(2400, 6))"
      ]
     },
     "execution_count": 37,
     "metadata": {},
     "output_type": "execute_result"
    }
   ],
   "source": [
    "problem.products.ZS"
   ]
  },
  {
   "cell_type": "markdown",
   "metadata": {},
   "source": [
    "We'll choose starting values that are half the true parameters so that the optimization routine has to do some work. Note that since we're jointly estimating the supply side, we need to provide an initial value for the linear coefficient on prices because this parameter cannot be concentrated out of the problem (unlike linear coefficients on exogenous characteristics)."
   ]
  },
  {
   "cell_type": "code",
   "execution_count": 38,
   "metadata": {},
   "outputs": [
    {
     "data": {
      "text/plain": [
       "Problem Results Summary:\n",
       "==============================================================================================================\n",
       "GMM   Objective    Projected    Reduced Hessian  Reduced Hessian  Clipped  Weighting Matrix  Covariance Matrix\n",
       "Step    Value    Gradient Norm  Min Eigenvalue   Max Eigenvalue   Shares   Condition Number  Condition Number \n",
       "----  ---------  -------------  ---------------  ---------------  -------  ----------------  -----------------\n",
       " 2    +1.4E+01     +1.3E-05        +2.1E+01         +8.5E+02         0         +1.2E+03          +4.0E+03     \n",
       "==============================================================================================================\n",
       "\n",
       "Cumulative Statistics:\n",
       "===========================================================================\n",
       "Computation  Optimizer  Optimization   Objective   Fixed Point  Contraction\n",
       "   Time      Converged   Iterations   Evaluations  Iterations   Evaluations\n",
       "-----------  ---------  ------------  -----------  -----------  -----------\n",
       " 00:01:29       Yes          19           26         160757       500504   \n",
       "===========================================================================\n",
       "\n",
       "Nonlinear Coefficient Estimates (Robust SEs in Parentheses):\n",
       "=================================\n",
       " Sigma:    satellite     wired   \n",
       "---------  ----------  ----------\n",
       "satellite   +8.3E-01             \n",
       "           (+2.7E-01)            \n",
       "                                 \n",
       "  wired     +0.0E+00    +8.4E-01 \n",
       "                       (+2.7E-01)\n",
       "=================================\n",
       "\n",
       "Beta Estimates (Robust SEs in Parentheses):\n",
       "==============================================\n",
       "  prices        x       satellite     wired   \n",
       "----------  ----------  ----------  ----------\n",
       " -1.9E+00    +9.5E-01    +3.9E+00    +3.8E+00 \n",
       "(+5.4E-02)  (+4.6E-02)  (+1.1E-01)  (+1.0E-01)\n",
       "==============================================\n",
       "\n",
       "Gamma Estimates (Robust SEs in Parentheses):\n",
       "======================\n",
       "    1           w     \n",
       "----------  ----------\n",
       " +4.7E-01    +2.6E-01 \n",
       "(+5.2E-02)  (+5.4E-02)\n",
       "======================"
      ]
     },
     "execution_count": 38,
     "metadata": {},
     "output_type": "execute_result"
    }
   ],
   "source": [
    "results = problem.solve(\n",
    "    sigma=0.5 * simulation.sigma, \n",
    "    beta=[0.5 * simulation.beta[0, 0], None, None, None],\n",
    "    optimization=pyblp.Optimization('l-bfgs-b', {'gtol': 1e-5})\n",
    ")\n",
    "results"
   ]
  },
  {
   "cell_type": "markdown",
   "metadata": {},
   "source": [
    "The parameters seem to have been estimated reasonably well."
   ]
  },
  {
   "cell_type": "code",
   "execution_count": 39,
   "metadata": {},
   "outputs": [
    {
     "data": {
      "text/plain": [
       "array([[-2.        , -1.93527134],\n",
       "       [ 1.        ,  0.9462575 ],\n",
       "       [ 4.        ,  3.90220011],\n",
       "       [ 4.        ,  3.82957091]])"
      ]
     },
     "execution_count": 39,
     "metadata": {},
     "output_type": "execute_result"
    }
   ],
   "source": [
    "np.c_[simulation.beta, results.beta]"
   ]
  },
  {
   "cell_type": "code",
   "execution_count": 40,
   "metadata": {},
   "outputs": [
    {
     "data": {
      "text/plain": [
       "array([[0.5       , 0.4704242 ],\n",
       "       [0.25      , 0.26426238]])"
      ]
     },
     "execution_count": 40,
     "metadata": {},
     "output_type": "execute_result"
    }
   ],
   "source": [
    "np.c_[simulation.gamma, results.gamma]"
   ]
  },
  {
   "cell_type": "code",
   "execution_count": 41,
   "metadata": {},
   "outputs": [
    {
     "data": {
      "text/plain": [
       "array([[1.        , 0.        , 0.82865619, 0.        ],\n",
       "       [0.        , 1.        , 0.        , 0.8427668 ]])"
      ]
     },
     "execution_count": 41,
     "metadata": {},
     "output_type": "execute_result"
    }
   ],
   "source": [
    "np.c_[simulation.sigma, results.sigma]"
   ]
  },
  {
   "cell_type": "markdown",
   "metadata": {},
   "source": [
    "In addition to checking that the configuration for a model based on actual data makes sense, the :class:`Simulation` class can also be a helpful tool for better understanding under what general conditions BLP models can be accurately estimated. Simulations are also used extensively in pyblp's test suite."
   ]
  }
 ],
 "metadata": {
  "kernelspec": {
   "display_name": "base",
   "language": "python",
   "name": "python3"
  },
  "language_info": {
   "codemirror_mode": {
    "name": "ipython",
    "version": 3
   },
   "file_extension": ".py",
   "mimetype": "text/x-python",
   "name": "python",
   "nbconvert_exporter": "python",
   "pygments_lexer": "ipython3",
   "version": "3.13.5"
  }
 },
 "nbformat": 4,
 "nbformat_minor": 4
}
