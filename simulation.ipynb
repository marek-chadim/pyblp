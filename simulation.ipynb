{
 "cells": [
  {
   "cell_type": "markdown",
   "metadata": {},
   "source": [
    "# Problem Simulation Tutorial"
   ]
  },
  {
   "cell_type": "code",
   "execution_count": 10,
   "metadata": {},
   "outputs": [
    {
     "data": {
      "text/plain": [
       "'1.1.2'"
      ]
     },
     "execution_count": 10,
     "metadata": {},
     "output_type": "execute_result"
    }
   ],
   "source": [
    "import pyblp\n",
    "import numpy as np\n",
    "import pandas as pd\n",
    "\n",
    "pyblp.options.digits = 2\n",
    "pyblp.options.verbose = False\n",
    "pyblp.__version__"
   ]
  },
  {
   "cell_type": "markdown",
   "metadata": {},
   "source": [
    "Before configuring and solving a problem with real data, it may be a good idea to perform Monte Carlo analysis on simulated data to verify that it is possible to accurately estimate model parameters. For example, before configuring and solving the example problems in the prior tutorials, it may have been a good idea to simulate data according to the assumed models of supply and demand. During such Monte Carlo anaysis, the data would only be used to determine sample sizes and perhaps to choose reasonable true parameters.\n",
    "\n",
    "Simulations are configured with the :class:`Simulation` class, which requires many of the same inputs as :class:`Problem`. The two main differences are:\n",
    "\n",
    "1. Variables in formulations that cannot be loaded from `product_data` or `agent_data` will be drawn from independent uniform distributions.\n",
    "2. True parameters and the distribution of product unobservables are specified.\n",
    "\n",
    "First, we'll use :func:`build_id_data` to build market and firm IDs for a model in which there are $T = 50$ markets, and in each market $t$, a total of $J_t = 20$ products produced by $F = 10$ firms."
   ]
  },
  {
   "cell_type": "code",
   "execution_count": 11,
   "metadata": {},
   "outputs": [
    {
     "data": {
      "text/plain": [
       "rec.array([([0], [0]), ([0], [1]), ([0], [2]), ..., ([599], [1]),\n",
       "           ([599], [2]), ([599], [3])],\n",
       "          dtype=[('market_ids', 'O', (1,)), ('firm_ids', 'O', (1,))])"
      ]
     },
     "execution_count": 11,
     "metadata": {},
     "output_type": "execute_result"
    }
   ],
   "source": [
    "id_data = pyblp.build_id_data(T=600, J=4, F=4)\n",
    "id_data"
   ]
  },
  {
   "cell_type": "markdown",
   "metadata": {},
   "source": [
    "Next, we'll create an :class:`Integration` configuration to build agent data according to a Gauss-Hermite product rule that exactly integrates polynomials of degree $2 \\times 9 - 1 = 17$ or less."
   ]
  },
  {
   "cell_type": "code",
   "execution_count": 12,
   "metadata": {},
   "outputs": [
    {
     "data": {
      "text/plain": [
       "Configured to construct nodes and weights according to the level-9 Gauss-Hermite product rule with options {}."
      ]
     },
     "execution_count": 12,
     "metadata": {},
     "output_type": "execute_result"
    }
   ],
   "source": [
    "integration = pyblp.Integration('product', 9)\n",
    "integration"
   ]
  },
  {
   "cell_type": "markdown",
   "metadata": {},
   "source": [
    "We'll then pass these data to :class:`Simulation`. We'll use :class:`Formulation` configurations to create an $X_1$ that consists of a constant, prices, and an exogenous characteristic; an $X_2$ that consists only of the same exogenous characteristic; and an $X_3$ that consists of the common exogenous characteristic and a cost-shifter."
   ]
  },
  {
   "cell_type": "code",
   "execution_count": 13,
   "metadata": {},
   "outputs": [
    {
     "data": {
      "text/plain": [
       "Dimensions:\n",
       "=======================================\n",
       " T    N     F     I     K1    K2    K3 \n",
       "---  ----  ---  -----  ----  ----  ----\n",
       "600  2400   4   48600   4     2     2  \n",
       "=======================================\n",
       "\n",
       "Formulations:\n",
       "===================================================================\n",
       "        Column Indices:              0        1        2        3  \n",
       "-------------------------------  ---------  -----  ---------  -----\n",
       "  X1: Linear Characteristics      prices      x    satellite  wired\n",
       " X2: Nonlinear Characteristics   satellite  wired                  \n",
       "X3: Linear Cost Characteristics      1        w                    \n",
       "===================================================================\n",
       "\n",
       "Nonlinear Coefficient True Values:\n",
       "==============================\n",
       " Sigma:    satellite   wired  \n",
       "---------  ---------  --------\n",
       "satellite  +1.0E+00           \n",
       "  wired    +0.0E+00   +1.0E+00\n",
       "==============================\n",
       "\n",
       "Beta True Values:\n",
       "=======================================\n",
       " prices      x      satellite   wired  \n",
       "--------  --------  ---------  --------\n",
       "-2.0E+00  +1.0E+00  +4.0E+00   +4.0E+00\n",
       "=======================================\n",
       "\n",
       "Gamma True Values:\n",
       "==================\n",
       "   1         w    \n",
       "--------  --------\n",
       "+5.0E-01  +2.5E-01\n",
       "=================="
      ]
     },
     "execution_count": 13,
     "metadata": {},
     "output_type": "execute_result"
    }
   ],
   "source": [
    "simulation = pyblp.Simulation(\n",
    "   product_formulations=(\n",
    "       pyblp.Formulation('0 + prices + x + satellite + wired'),\n",
    "       pyblp.Formulation('0 + satellite + wired'),\n",
    "       pyblp.Formulation('1 + w')\n",
    "   ),\n",
    "   beta=[-2, 1, 4, 4],\n",
    "   sigma=np.eye(2),\n",
    "   gamma=[1/2, 1/4],\n",
    "   product_data=id_data,\n",
    "   integration=integration,\n",
    "   seed=1995\n",
    ")\n",
    "simulation"
   ]
  },
  {
   "cell_type": "markdown",
   "metadata": {},
   "source": [
    "When :class:`Simulation` is initialized, it constructs :attr:`Simulation.agent_data` and simulates :attr:`Simulation.product_data`.\n",
    "\n",
    "The :class:`Simulation` can be further configured with other arguments that determine how product unobservables are simulated and how marginal costs are specified.\n",
    "\n",
    "At this stage, simulated variables are not consistent with true parameters, so we still need to solve the simulation with :meth:`Simulation.replace_endogenous`. This method replaced simulated prices and market shares with values that are consistent with the true parameters. Just like :meth:`ProblemResults.compute_prices`, to do so it iterates over the $\\zeta$-markup equation from :ref:`references:Morrow and Skerlos (2011)`."
   ]
  },
  {
   "cell_type": "code",
   "execution_count": 14,
   "metadata": {},
   "outputs": [
    {
     "data": {
      "text/plain": [
       "Simulation Results Summary:\n",
       "======================================================================================================\n",
       "Computation  Fixed Point  Fixed Point  Contraction  Profit Gradients  Profit Hessians  Profit Hessians\n",
       "   Time       Failures    Iterations   Evaluations      Max Norm      Min Eigenvalue   Max Eigenvalue \n",
       "-----------  -----------  -----------  -----------  ----------------  ---------------  ---------------\n",
       " 00:00:02         0          15713        15713         +4.5E-13         -1.5E+00         -1.2E-03    \n",
       "======================================================================================================"
      ]
     },
     "execution_count": 14,
     "metadata": {},
     "output_type": "execute_result"
    }
   ],
   "source": [
    "simulation_results = simulation.replace_endogenous()\n",
    "simulation_results"
   ]
  },
  {
   "cell_type": "markdown",
   "metadata": {},
   "source": [
    "Now, we can try to recover the true parameters by creating and solving a :class:`Problem`. \n",
    "\n",
    "The convenience method :meth:`SimulationResults.to_problem` constructs some basic \"sums of characteristics\" BLP instruments that are functions of all exogenous numerical variables in the problem. In this example, excluded demand-side instruments are the cost-shifter `z` and traditional BLP instruments constructed from `x`. Excluded supply-side instruments are traditional BLP instruments constructed from `x` and `z`."
   ]
  },
  {
   "cell_type": "code",
   "execution_count": 15,
   "metadata": {},
   "outputs": [],
   "source": [
    "problem = simulation_results.to_problem()"
   ]
  },
  {
   "cell_type": "code",
   "execution_count": null,
   "metadata": {},
   "outputs": [
    {
     "data": {
      "application/vnd.microsoft.datawrangler.viewer.v0+json": {
       "columns": [
        {
         "name": "index",
         "rawType": "int64",
         "type": "integer"
        },
        {
         "name": "satellite_same_firm_sum",
         "rawType": "float64",
         "type": "float"
        },
        {
         "name": "wired_same_firm_sum",
         "rawType": "float64",
         "type": "float"
        },
        {
         "name": "x_same_firm_sum",
         "rawType": "float64",
         "type": "float"
        },
        {
         "name": "satellite_rival_sum",
         "rawType": "float64",
         "type": "float"
        },
        {
         "name": "wired_rival_sum",
         "rawType": "float64",
         "type": "float"
        },
        {
         "name": "x_rival_sum",
         "rawType": "float64",
         "type": "float"
        },
        {
         "name": "w_supply_shifter",
         "rawType": "float64",
         "type": "float"
        }
       ],
       "ref": "2353a3aa-128e-42b0-bbac-31f03ecdc4e8",
       "rows": [
        [
         "0",
         "1.3302700556565488",
         "1.2099701630453439",
         "1.4097024783112087",
         "0.5758545811798635",
         "0.7529819434556076",
         "0.6198667948146342",
         "0.9032776135350937"
        ],
        [
         "1",
         "1.9238012362597536",
         "1.9806123690651583",
         "1.885987798369546",
         "0.026764187453246713",
         "0.27669662339726997",
         "0.02633561421142938",
         "0.13263540751527947"
        ],
        [
         "2",
         "1.5022385759649517",
         "1.145212815199971",
         "1.3769279726449895",
         "0.19048147211457545",
         "0.7857564491218267",
         "0.4478982745062312",
         "0.9680349613804666"
        ],
        [
         "3",
         "1.0941006835322948",
         "2.00394798243084",
         "1.8154350159747044",
         "0.3980594979965765",
         "0.34724940579211183",
         "0.856036166938888",
         "0.10929979414959756"
        ],
        [
         "4",
         "0.8104987916059552",
         "1.7815919329763128",
         "2.232316835542955",
         "0.6036716020404037",
         "0.32889585530674725",
         "0.6754644367868534",
         "0.26339457906469654"
        ]
       ],
       "shape": {
        "columns": 7,
        "rows": 5
       }
      },
      "text/html": [
       "<div>\n",
       "<style scoped>\n",
       "    .dataframe tbody tr th:only-of-type {\n",
       "        vertical-align: middle;\n",
       "    }\n",
       "\n",
       "    .dataframe tbody tr th {\n",
       "        vertical-align: top;\n",
       "    }\n",
       "\n",
       "    .dataframe thead th {\n",
       "        text-align: right;\n",
       "    }\n",
       "</style>\n",
       "<table border=\"1\" class=\"dataframe\">\n",
       "  <thead>\n",
       "    <tr style=\"text-align: right;\">\n",
       "      <th></th>\n",
       "      <th>satellite_same_firm_sum</th>\n",
       "      <th>wired_same_firm_sum</th>\n",
       "      <th>x_same_firm_sum</th>\n",
       "      <th>satellite_rival_sum</th>\n",
       "      <th>wired_rival_sum</th>\n",
       "      <th>x_rival_sum</th>\n",
       "      <th>w_supply_shifter</th>\n",
       "    </tr>\n",
       "  </thead>\n",
       "  <tbody>\n",
       "    <tr>\n",
       "      <th>0</th>\n",
       "      <td>1.330270</td>\n",
       "      <td>1.209970</td>\n",
       "      <td>1.409702</td>\n",
       "      <td>0.575855</td>\n",
       "      <td>0.752982</td>\n",
       "      <td>0.619867</td>\n",
       "      <td>0.903278</td>\n",
       "    </tr>\n",
       "    <tr>\n",
       "      <th>1</th>\n",
       "      <td>1.923801</td>\n",
       "      <td>1.980612</td>\n",
       "      <td>1.885988</td>\n",
       "      <td>0.026764</td>\n",
       "      <td>0.276697</td>\n",
       "      <td>0.026336</td>\n",
       "      <td>0.132635</td>\n",
       "    </tr>\n",
       "    <tr>\n",
       "      <th>2</th>\n",
       "      <td>1.502239</td>\n",
       "      <td>1.145213</td>\n",
       "      <td>1.376928</td>\n",
       "      <td>0.190481</td>\n",
       "      <td>0.785756</td>\n",
       "      <td>0.447898</td>\n",
       "      <td>0.968035</td>\n",
       "    </tr>\n",
       "    <tr>\n",
       "      <th>3</th>\n",
       "      <td>1.094101</td>\n",
       "      <td>2.003948</td>\n",
       "      <td>1.815435</td>\n",
       "      <td>0.398059</td>\n",
       "      <td>0.347249</td>\n",
       "      <td>0.856036</td>\n",
       "      <td>0.109300</td>\n",
       "    </tr>\n",
       "    <tr>\n",
       "      <th>4</th>\n",
       "      <td>0.810499</td>\n",
       "      <td>1.781592</td>\n",
       "      <td>2.232317</td>\n",
       "      <td>0.603672</td>\n",
       "      <td>0.328896</td>\n",
       "      <td>0.675464</td>\n",
       "      <td>0.263395</td>\n",
       "    </tr>\n",
       "  </tbody>\n",
       "</table>\n",
       "</div>"
      ],
      "text/plain": [
       "   satellite_same_firm_sum  wired_same_firm_sum  x_same_firm_sum  \\\n",
       "0                 1.330270             1.209970         1.409702   \n",
       "1                 1.923801             1.980612         1.885988   \n",
       "2                 1.502239             1.145213         1.376928   \n",
       "3                 1.094101             2.003948         1.815435   \n",
       "4                 0.810499             1.781592         2.232317   \n",
       "\n",
       "   satellite_rival_sum  wired_rival_sum  x_rival_sum  w_supply_shifter  \n",
       "0             0.575855         0.752982     0.619867          0.903278  \n",
       "1             0.026764         0.276697     0.026336          0.132635  \n",
       "2             0.190481         0.785756     0.447898          0.968035  \n",
       "3             0.398059         0.347249     0.856036          0.109300  \n",
       "4             0.603672         0.328896     0.675464          0.263395  "
      ]
     },
     "execution_count": 21,
     "metadata": {},
     "output_type": "execute_result"
    }
   ],
   "source": [
    "X1_names = sorted(simulation.product_formulations[0]._names - {'prices'})\n",
    "J_variation = any(indices.size < simulation._max_J for indices in simulation._product_market_indices.values())\n",
    "demand_labels_full = [f'{name}_same_firm_sum' for name in X1_names] + [f'{name}_rival_sum' for name in X1_names]\n",
    "manual_demand = np.zeros((simulation.N, 0), pyblp.options.dtype)\n",
    "demand_labels = []\n",
    "if X1_names:\n",
    "    demand_formula = ' + '.join(['1' if J_variation else '0'] + X1_names)\n",
    "    demand_raw = pyblp.build_blp_instruments(pyblp.Formulation(demand_formula), simulation.product_data)\n",
    "    demand_mask = (demand_raw != demand_raw[0]).any(axis=0)\n",
    "    manual_demand = demand_raw[:, demand_mask]\n",
    "    demand_labels = [label for label, keep in zip(demand_labels_full, demand_mask) if keep]\n",
    "manual_ZD = manual_demand\n",
    "supply_shifter_labels = []\n",
    "if simulation.product_formulations[2] is not None:\n",
    "    X3_names = simulation.product_formulations[2]._names - {'shares'}\n",
    "    supply_shifter_names = sorted(X3_names - set(X1_names))\n",
    "    if supply_shifter_names:\n",
    "        supply_shifter_formula = ' + '.join(['0'] + supply_shifter_names)\n",
    "        supply_shifters = pyblp.build_matrix(pyblp.Formulation(supply_shifter_formula), simulation.product_data)\n",
    "        manual_ZD = np.c_[manual_ZD, supply_shifters]\n",
    "        supply_shifter_labels = [f'{name}_supply_shifter' for name in supply_shifter_names]\n",
    "manual_ZD = manual_ZD.astype(pyblp.options.dtype, copy=False)\n",
    "instrument_labels = demand_labels + supply_shifter_labels\n",
    "pd.DataFrame(problem.products.ZD, columns=instrument_labels).head()"
   ]
  },
  {
   "cell_type": "code",
   "execution_count": null,
   "metadata": {},
   "outputs": [
    {
     "ename": "ValueError",
     "evalue": "Shape of passed values is (2400, 4), indices imply (2400, 7)",
     "output_type": "error",
     "traceback": [
      "\u001b[0;31m---------------------------------------------------------------------------\u001b[0m",
      "\u001b[0;31mValueError\u001b[0m                                Traceback (most recent call last)",
      "Cell \u001b[0;32mIn[22], line 23\u001b[0m\n\u001b[1;32m     21\u001b[0m         manual_ZD \u001b[38;5;241m=\u001b[39m np\u001b[38;5;241m.\u001b[39mc_[manual_ZD, supply_shifters]\n\u001b[1;32m     22\u001b[0m manual_ZD \u001b[38;5;241m=\u001b[39m manual_ZD\u001b[38;5;241m.\u001b[39mastype(pyblp\u001b[38;5;241m.\u001b[39moptions\u001b[38;5;241m.\u001b[39mdtype, copy\u001b[38;5;241m=\u001b[39m\u001b[38;5;28;01mFalse\u001b[39;00m)\n\u001b[0;32m---> 23\u001b[0m \u001b[43mpd\u001b[49m\u001b[38;5;241;43m.\u001b[39;49m\u001b[43mDataFrame\u001b[49m\u001b[43m(\u001b[49m\u001b[43mmanual_ZD\u001b[49m\u001b[43m,\u001b[49m\u001b[43m \u001b[49m\u001b[43mcolumns\u001b[49m\u001b[38;5;241;43m=\u001b[39;49m\u001b[43minstrument_labels\u001b[49m\u001b[43m)\u001b[49m\u001b[38;5;241m.\u001b[39mhead()\n",
      "File \u001b[0;32m/opt/anaconda3/lib/python3.13/site-packages/pandas/core/frame.py:827\u001b[0m, in \u001b[0;36mDataFrame.__init__\u001b[0;34m(self, data, index, columns, dtype, copy)\u001b[0m\n\u001b[1;32m    816\u001b[0m         mgr \u001b[38;5;241m=\u001b[39m dict_to_mgr(\n\u001b[1;32m    817\u001b[0m             \u001b[38;5;66;03m# error: Item \"ndarray\" of \"Union[ndarray, Series, Index]\" has no\u001b[39;00m\n\u001b[1;32m    818\u001b[0m             \u001b[38;5;66;03m# attribute \"name\"\u001b[39;00m\n\u001b[0;32m   (...)\u001b[0m\n\u001b[1;32m    824\u001b[0m             copy\u001b[38;5;241m=\u001b[39m_copy,\n\u001b[1;32m    825\u001b[0m         )\n\u001b[1;32m    826\u001b[0m     \u001b[38;5;28;01melse\u001b[39;00m:\n\u001b[0;32m--> 827\u001b[0m         mgr \u001b[38;5;241m=\u001b[39m \u001b[43mndarray_to_mgr\u001b[49m\u001b[43m(\u001b[49m\n\u001b[1;32m    828\u001b[0m \u001b[43m            \u001b[49m\u001b[43mdata\u001b[49m\u001b[43m,\u001b[49m\n\u001b[1;32m    829\u001b[0m \u001b[43m            \u001b[49m\u001b[43mindex\u001b[49m\u001b[43m,\u001b[49m\n\u001b[1;32m    830\u001b[0m \u001b[43m            \u001b[49m\u001b[43mcolumns\u001b[49m\u001b[43m,\u001b[49m\n\u001b[1;32m    831\u001b[0m \u001b[43m            \u001b[49m\u001b[43mdtype\u001b[49m\u001b[38;5;241;43m=\u001b[39;49m\u001b[43mdtype\u001b[49m\u001b[43m,\u001b[49m\n\u001b[1;32m    832\u001b[0m \u001b[43m            \u001b[49m\u001b[43mcopy\u001b[49m\u001b[38;5;241;43m=\u001b[39;49m\u001b[43mcopy\u001b[49m\u001b[43m,\u001b[49m\n\u001b[1;32m    833\u001b[0m \u001b[43m            \u001b[49m\u001b[43mtyp\u001b[49m\u001b[38;5;241;43m=\u001b[39;49m\u001b[43mmanager\u001b[49m\u001b[43m,\u001b[49m\n\u001b[1;32m    834\u001b[0m \u001b[43m        \u001b[49m\u001b[43m)\u001b[49m\n\u001b[1;32m    836\u001b[0m \u001b[38;5;66;03m# For data is list-like, or Iterable (will consume into list)\u001b[39;00m\n\u001b[1;32m    837\u001b[0m \u001b[38;5;28;01melif\u001b[39;00m is_list_like(data):\n",
      "File \u001b[0;32m/opt/anaconda3/lib/python3.13/site-packages/pandas/core/internals/construction.py:336\u001b[0m, in \u001b[0;36mndarray_to_mgr\u001b[0;34m(values, index, columns, dtype, copy, typ)\u001b[0m\n\u001b[1;32m    331\u001b[0m \u001b[38;5;66;03m# _prep_ndarraylike ensures that values.ndim == 2 at this point\u001b[39;00m\n\u001b[1;32m    332\u001b[0m index, columns \u001b[38;5;241m=\u001b[39m _get_axes(\n\u001b[1;32m    333\u001b[0m     values\u001b[38;5;241m.\u001b[39mshape[\u001b[38;5;241m0\u001b[39m], values\u001b[38;5;241m.\u001b[39mshape[\u001b[38;5;241m1\u001b[39m], index\u001b[38;5;241m=\u001b[39mindex, columns\u001b[38;5;241m=\u001b[39mcolumns\n\u001b[1;32m    334\u001b[0m )\n\u001b[0;32m--> 336\u001b[0m \u001b[43m_check_values_indices_shape_match\u001b[49m\u001b[43m(\u001b[49m\u001b[43mvalues\u001b[49m\u001b[43m,\u001b[49m\u001b[43m \u001b[49m\u001b[43mindex\u001b[49m\u001b[43m,\u001b[49m\u001b[43m \u001b[49m\u001b[43mcolumns\u001b[49m\u001b[43m)\u001b[49m\n\u001b[1;32m    338\u001b[0m \u001b[38;5;28;01mif\u001b[39;00m typ \u001b[38;5;241m==\u001b[39m \u001b[38;5;124m\"\u001b[39m\u001b[38;5;124marray\u001b[39m\u001b[38;5;124m\"\u001b[39m:\n\u001b[1;32m    339\u001b[0m     \u001b[38;5;28;01mif\u001b[39;00m \u001b[38;5;28missubclass\u001b[39m(values\u001b[38;5;241m.\u001b[39mdtype\u001b[38;5;241m.\u001b[39mtype, \u001b[38;5;28mstr\u001b[39m):\n",
      "File \u001b[0;32m/opt/anaconda3/lib/python3.13/site-packages/pandas/core/internals/construction.py:420\u001b[0m, in \u001b[0;36m_check_values_indices_shape_match\u001b[0;34m(values, index, columns)\u001b[0m\n\u001b[1;32m    418\u001b[0m passed \u001b[38;5;241m=\u001b[39m values\u001b[38;5;241m.\u001b[39mshape\n\u001b[1;32m    419\u001b[0m implied \u001b[38;5;241m=\u001b[39m (\u001b[38;5;28mlen\u001b[39m(index), \u001b[38;5;28mlen\u001b[39m(columns))\n\u001b[0;32m--> 420\u001b[0m \u001b[38;5;28;01mraise\u001b[39;00m \u001b[38;5;167;01mValueError\u001b[39;00m(\u001b[38;5;124mf\u001b[39m\u001b[38;5;124m\"\u001b[39m\u001b[38;5;124mShape of passed values is \u001b[39m\u001b[38;5;132;01m{\u001b[39;00mpassed\u001b[38;5;132;01m}\u001b[39;00m\u001b[38;5;124m, indices imply \u001b[39m\u001b[38;5;132;01m{\u001b[39;00mimplied\u001b[38;5;132;01m}\u001b[39;00m\u001b[38;5;124m\"\u001b[39m)\n",
      "\u001b[0;31mValueError\u001b[0m: Shape of passed values is (2400, 4), indices imply (2400, 7)"
     ]
    }
   ],
   "source": [
    "pd.DataFrame(manual_ZD, columns=instrument_labels).head()"
   ]
  },
  {
   "cell_type": "code",
   "execution_count": null,
   "metadata": {},
   "outputs": [],
   "source": [
    "np.allclose(manual_ZD, problem.products.ZD), np.abs(manual_ZD - problem.products.ZD).max()"
   ]
  },
  {
   "cell_type": "markdown",
   "metadata": {},
   "source": [
    "We'll choose starting values that are half the true parameters so that the optimization routine has to do some work. Note that since we're jointly estimating the supply side, we need to provide an initial value for the linear coefficient on prices because this parameter cannot be concentrated out of the problem (unlike linear coefficients on exogenous characteristics)."
   ]
  },
  {
   "cell_type": "code",
   "execution_count": 15,
   "metadata": {},
   "outputs": [
    {
     "data": {
      "text/plain": [
       "Problem Results Summary:\n",
       "==============================================================================================================\n",
       "GMM   Objective    Projected    Reduced Hessian  Reduced Hessian  Clipped  Weighting Matrix  Covariance Matrix\n",
       "Step    Value    Gradient Norm  Min Eigenvalue   Max Eigenvalue   Shares   Condition Number  Condition Number \n",
       "----  ---------  -------------  ---------------  ---------------  -------  ----------------  -----------------\n",
       " 2    +1.4E+01     +1.3E-05        +2.1E+01         +8.5E+02         0         +1.2E+03          +4.0E+03     \n",
       "==============================================================================================================\n",
       "\n",
       "Cumulative Statistics:\n",
       "===========================================================================\n",
       "Computation  Optimizer  Optimization   Objective   Fixed Point  Contraction\n",
       "   Time      Converged   Iterations   Evaluations  Iterations   Evaluations\n",
       "-----------  ---------  ------------  -----------  -----------  -----------\n",
       " 00:02:09       Yes          19           26         160757       500504   \n",
       "===========================================================================\n",
       "\n",
       "Nonlinear Coefficient Estimates (Robust SEs in Parentheses):\n",
       "=================================\n",
       " Sigma:    satellite     wired   \n",
       "---------  ----------  ----------\n",
       "satellite   +8.3E-01             \n",
       "           (+2.7E-01)            \n",
       "                                 \n",
       "  wired     +0.0E+00    +8.4E-01 \n",
       "                       (+2.7E-01)\n",
       "=================================\n",
       "\n",
       "Beta Estimates (Robust SEs in Parentheses):\n",
       "==============================================\n",
       "  prices        x       satellite     wired   \n",
       "----------  ----------  ----------  ----------\n",
       " -1.9E+00    +9.5E-01    +3.9E+00    +3.8E+00 \n",
       "(+5.4E-02)  (+4.6E-02)  (+1.1E-01)  (+1.0E-01)\n",
       "==============================================\n",
       "\n",
       "Gamma Estimates (Robust SEs in Parentheses):\n",
       "======================\n",
       "    1           w     \n",
       "----------  ----------\n",
       " +4.7E-01    +2.6E-01 \n",
       "(+5.2E-02)  (+5.4E-02)\n",
       "======================"
      ]
     },
     "execution_count": 15,
     "metadata": {},
     "output_type": "execute_result"
    }
   ],
   "source": [
    "results = problem.solve(\n",
    "    sigma=0.5 * simulation.sigma, \n",
    "    beta=[0.5 * simulation.beta[0, 0], None, None, None],\n",
    "    optimization=pyblp.Optimization('l-bfgs-b', {'gtol': 1e-5})\n",
    ")\n",
    "results"
   ]
  },
  {
   "cell_type": "markdown",
   "metadata": {},
   "source": [
    "The parameters seem to have been estimated reasonably well."
   ]
  },
  {
   "cell_type": "code",
   "execution_count": 16,
   "metadata": {},
   "outputs": [
    {
     "data": {
      "text/plain": [
       "array([[-2.        , -1.93527134],\n",
       "       [ 1.        ,  0.9462575 ],\n",
       "       [ 4.        ,  3.90220011],\n",
       "       [ 4.        ,  3.82957091]])"
      ]
     },
     "execution_count": 16,
     "metadata": {},
     "output_type": "execute_result"
    }
   ],
   "source": [
    "np.c_[simulation.beta, results.beta]"
   ]
  },
  {
   "cell_type": "code",
   "execution_count": 17,
   "metadata": {},
   "outputs": [
    {
     "data": {
      "text/plain": [
       "array([[0.5       , 0.4704242 ],\n",
       "       [0.25      , 0.26426238]])"
      ]
     },
     "execution_count": 17,
     "metadata": {},
     "output_type": "execute_result"
    }
   ],
   "source": [
    "np.c_[simulation.gamma, results.gamma]"
   ]
  },
  {
   "cell_type": "code",
   "execution_count": 18,
   "metadata": {},
   "outputs": [
    {
     "data": {
      "text/plain": [
       "array([[1.        , 0.        , 0.82865619, 0.        ],\n",
       "       [0.        , 1.        , 0.        , 0.8427668 ]])"
      ]
     },
     "execution_count": 18,
     "metadata": {},
     "output_type": "execute_result"
    }
   ],
   "source": [
    "np.c_[simulation.sigma, results.sigma]"
   ]
  },
  {
   "cell_type": "markdown",
   "metadata": {},
   "source": [
    "In addition to checking that the configuration for a model based on actual data makes sense, the :class:`Simulation` class can also be a helpful tool for better understanding under what general conditions BLP models can be accurately estimated. Simulations are also used extensively in pyblp's test suite."
   ]
  }
 ],
 "metadata": {
  "kernelspec": {
   "display_name": "base",
   "language": "python",
   "name": "python3"
  },
  "language_info": {
   "codemirror_mode": {
    "name": "ipython",
    "version": 3
   },
   "file_extension": ".py",
   "mimetype": "text/x-python",
   "name": "python",
   "nbconvert_exporter": "python",
   "pygments_lexer": "ipython3",
   "version": "3.13.5"
  }
 },
 "nbformat": 4,
 "nbformat_minor": 4
}
